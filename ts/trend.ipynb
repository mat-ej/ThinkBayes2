{
 "cells": [
  {
   "attachments": {},
   "cell_type": "markdown",
   "metadata": {},
   "source": [
    "# Trend"
   ]
  },
  {
   "cell_type": "code",
   "execution_count": 2,
   "metadata": {},
   "outputs": [],
   "source": [
    "import numpy as np\n",
    "import pandas as pd\n",
    "from plotnine import *\n"
   ]
  },
  {
   "attachments": {},
   "cell_type": "markdown",
   "metadata": {},
   "source": [
    "## Deterministic trend\n",
    "- able to define it using a well defined math function \n",
    "\n",
    "#### linear\n",
    "$$ trend = a + b \\cdot time $$\n",
    "- a - intercept\n",
    "- b - expected change in consecutive period \n",
    "\n",
    "#### exponential\n",
    "$$ trend = e^{a + b \\cdot time} $$\n",
    "\n",
    "- can be made linear by taking log on both sides\n",
    "$$ log(trend) = log(e^{...}) = a + b \\cdot time $$\n",
    "\n",
    "- several measures that increase exponentially -> GDP, hence log(GDP)\n",
    "\n",
    "#### trend stationary ts\n",
    "- trend stationary: if timeseries has deterministic trend\n"
   ]
  },
  {
   "cell_type": "code",
   "execution_count": 3,
   "metadata": {},
   "outputs": [
    {
     "data": {
      "text/plain": [
       "'/Users/matejuhrin/repo/ThinkBayes2/ts'"
      ]
     },
     "execution_count": 3,
     "metadata": {},
     "output_type": "execute_result"
    }
   ],
   "source": [
    "import os\n",
    "os.getcwd()"
   ]
  },
  {
   "cell_type": "code",
   "execution_count": 4,
   "metadata": {},
   "outputs": [],
   "source": [
    "import numpy as np\n",
    "import pandas as pd\n",
    "\n",
    "\n",
    "# https://github.com/vcerqueira/blog/blob/main/data/gdp-countries.csv\n",
    "series = pd.read_csv('data/gdp-countries.csv')['United States']\n",
    "series.index = pd.date_range(start='12/31/1959', periods=len(series), freq='Y')\n"
   ]
  },
  {
   "cell_type": "code",
   "execution_count": 23,
   "metadata": {},
   "outputs": [],
   "source": [
    "gdp = series.dropna()\n",
    "log_gdp = np.log(gdp).dropna()"
   ]
  },
  {
   "cell_type": "code",
   "execution_count": 24,
   "metadata": {},
   "outputs": [],
   "source": [
    "linear_trend = np.arange(1, len(log_gdp) + 1)"
   ]
  },
  {
   "cell_type": "code",
   "execution_count": 25,
   "metadata": {},
   "outputs": [
    {
     "data": {
      "text/plain": [
       "array([ 1,  2,  3,  4,  5,  6,  7,  8,  9, 10, 11, 12, 13, 14, 15, 16, 17,\n",
       "       18, 19, 20, 21, 22, 23, 24, 25, 26, 27, 28, 29, 30, 31, 32, 33, 34,\n",
       "       35, 36, 37, 38, 39, 40, 41, 42, 43, 44, 45, 46, 47, 48, 49, 50, 51,\n",
       "       52, 53, 54, 55, 56, 57, 58, 59, 60, 61])"
      ]
     },
     "execution_count": 25,
     "metadata": {},
     "output_type": "execute_result"
    }
   ],
   "source": [
    "linear_trend"
   ]
  },
  {
   "attachments": {},
   "cell_type": "markdown",
   "metadata": {},
   "source": [
    "endog - endogenous vars\n",
    "exog -"
   ]
  },
  {
   "cell_type": "code",
   "execution_count": 26,
   "metadata": {},
   "outputs": [
    {
     "name": "stderr",
     "output_type": "stream",
     "text": [
      "/Users/matejuhrin/repo/ThinkBayes2/.venv/lib/python3.10/site-packages/statsmodels/base/model.py:607: ConvergenceWarning: Maximum Likelihood optimization failed to converge. Check mle_retvals\n"
     ]
    },
    {
     "data": {
      "text/html": [
       "<table class=\"simpletable\">\n",
       "<caption>SARIMAX Results</caption>\n",
       "<tr>\n",
       "  <th>Dep. Variable:</th>     <td>United States</td>  <th>  No. Observations:  </th>    <td>61</td>   \n",
       "</tr>\n",
       "<tr>\n",
       "  <th>Model:</th>            <td>ARIMA(2, 0, 1)</td>  <th>  Log Likelihood     </th>  <td>148.405</td>\n",
       "</tr>\n",
       "<tr>\n",
       "  <th>Date:</th>            <td>Fri, 11 Aug 2023</td> <th>  AIC                </th> <td>-284.810</td>\n",
       "</tr>\n",
       "<tr>\n",
       "  <th>Time:</th>                <td>23:04:26</td>     <th>  BIC                </th> <td>-272.145</td>\n",
       "</tr>\n",
       "<tr>\n",
       "  <th>Sample:</th>             <td>12-31-1959</td>    <th>  HQIC               </th> <td>-279.846</td>\n",
       "</tr>\n",
       "<tr>\n",
       "  <th></th>                   <td>- 12-31-2019</td>   <th>                     </th>     <td> </td>   \n",
       "</tr>\n",
       "<tr>\n",
       "  <th>Covariance Type:</th>        <td>opg</td>       <th>                     </th>     <td> </td>   \n",
       "</tr>\n",
       "</table>\n",
       "<table class=\"simpletable\">\n",
       "<tr>\n",
       "     <td></td>       <th>coef</th>     <th>std err</th>      <th>z</th>      <th>P>|z|</th>  <th>[0.025</th>    <th>0.975]</th>  \n",
       "</tr>\n",
       "<tr>\n",
       "  <th>const</th>  <td>   27.4105</td> <td>    0.287</td> <td>   95.651</td> <td> 0.000</td> <td>   26.849</td> <td>   27.972</td>\n",
       "</tr>\n",
       "<tr>\n",
       "  <th>x1</th>     <td>    0.0502</td> <td>    0.013</td> <td>    3.970</td> <td> 0.000</td> <td>    0.025</td> <td>    0.075</td>\n",
       "</tr>\n",
       "<tr>\n",
       "  <th>ar.L1</th>  <td>    1.9835</td> <td>    0.025</td> <td>   78.386</td> <td> 0.000</td> <td>    1.934</td> <td>    2.033</td>\n",
       "</tr>\n",
       "<tr>\n",
       "  <th>ar.L2</th>  <td>   -0.9868</td> <td>    0.026</td> <td>  -38.161</td> <td> 0.000</td> <td>   -1.037</td> <td>   -0.936</td>\n",
       "</tr>\n",
       "<tr>\n",
       "  <th>ma.L1</th>  <td>   -0.8343</td> <td>    0.125</td> <td>   -6.668</td> <td> 0.000</td> <td>   -1.080</td> <td>   -0.589</td>\n",
       "</tr>\n",
       "<tr>\n",
       "  <th>sigma2</th> <td>    0.0004</td> <td> 9.17e-05</td> <td>    4.321</td> <td> 0.000</td> <td>    0.000</td> <td>    0.001</td>\n",
       "</tr>\n",
       "</table>\n",
       "<table class=\"simpletable\">\n",
       "<tr>\n",
       "  <th>Ljung-Box (L1) (Q):</th>     <td>1.47</td> <th>  Jarque-Bera (JB):  </th> <td>14.62</td>\n",
       "</tr>\n",
       "<tr>\n",
       "  <th>Prob(Q):</th>                <td>0.23</td> <th>  Prob(JB):          </th> <td>0.00</td> \n",
       "</tr>\n",
       "<tr>\n",
       "  <th>Heteroskedasticity (H):</th> <td>1.32</td> <th>  Skew:              </th> <td>-1.07</td>\n",
       "</tr>\n",
       "<tr>\n",
       "  <th>Prob(H) (two-sided):</th>    <td>0.55</td> <th>  Kurtosis:          </th> <td>4.09</td> \n",
       "</tr>\n",
       "</table><br/><br/>Warnings:<br/>[1] Covariance matrix calculated using the outer product of gradients (complex-step)."
      ],
      "text/latex": [
       "\\begin{center}\n",
       "\\begin{tabular}{lclc}\n",
       "\\toprule\n",
       "\\textbf{Dep. Variable:}          &  United States   & \\textbf{  No. Observations:  } &     61      \\\\\n",
       "\\textbf{Model:}                  &  ARIMA(2, 0, 1)  & \\textbf{  Log Likelihood     } &  148.405    \\\\\n",
       "\\textbf{Date:}                   & Fri, 11 Aug 2023 & \\textbf{  AIC                } &  -284.810   \\\\\n",
       "\\textbf{Time:}                   &     23:04:26     & \\textbf{  BIC                } &  -272.145   \\\\\n",
       "\\textbf{Sample:}                 &    12-31-1959    & \\textbf{  HQIC               } &  -279.846   \\\\\n",
       "\\textbf{}                        &   - 12-31-2019   & \\textbf{                     } &             \\\\\n",
       "\\textbf{Covariance Type:}        &       opg        & \\textbf{                     } &             \\\\\n",
       "\\bottomrule\n",
       "\\end{tabular}\n",
       "\\begin{tabular}{lcccccc}\n",
       "                & \\textbf{coef} & \\textbf{std err} & \\textbf{z} & \\textbf{P$> |$z$|$} & \\textbf{[0.025} & \\textbf{0.975]}  \\\\\n",
       "\\midrule\n",
       "\\textbf{const}  &      27.4105  &        0.287     &    95.651  &         0.000        &       26.849    &       27.972     \\\\\n",
       "\\textbf{x1}     &       0.0502  &        0.013     &     3.970  &         0.000        &        0.025    &        0.075     \\\\\n",
       "\\textbf{ar.L1}  &       1.9835  &        0.025     &    78.386  &         0.000        &        1.934    &        2.033     \\\\\n",
       "\\textbf{ar.L2}  &      -0.9868  &        0.026     &   -38.161  &         0.000        &       -1.037    &       -0.936     \\\\\n",
       "\\textbf{ma.L1}  &      -0.8343  &        0.125     &    -6.668  &         0.000        &       -1.080    &       -0.589     \\\\\n",
       "\\textbf{sigma2} &       0.0004  &     9.17e-05     &     4.321  &         0.000        &        0.000    &        0.001     \\\\\n",
       "\\bottomrule\n",
       "\\end{tabular}\n",
       "\\begin{tabular}{lclc}\n",
       "\\textbf{Ljung-Box (L1) (Q):}     & 1.47 & \\textbf{  Jarque-Bera (JB):  } & 14.62  \\\\\n",
       "\\textbf{Prob(Q):}                & 0.23 & \\textbf{  Prob(JB):          } &  0.00  \\\\\n",
       "\\textbf{Heteroskedasticity (H):} & 1.32 & \\textbf{  Skew:              } & -1.07  \\\\\n",
       "\\textbf{Prob(H) (two-sided):}    & 0.55 & \\textbf{  Kurtosis:          } &  4.09  \\\\\n",
       "\\bottomrule\n",
       "\\end{tabular}\n",
       "%\\caption{SARIMAX Results}\n",
       "\\end{center}\n",
       "\n",
       "Warnings: \\newline\n",
       " [1] Covariance matrix calculated using the outer product of gradients (complex-step)."
      ],
      "text/plain": [
       "<class 'statsmodels.iolib.summary.Summary'>\n",
       "\"\"\"\n",
       "                               SARIMAX Results                                \n",
       "==============================================================================\n",
       "Dep. Variable:          United States   No. Observations:                   61\n",
       "Model:                 ARIMA(2, 0, 1)   Log Likelihood                 148.405\n",
       "Date:                Fri, 11 Aug 2023   AIC                           -284.810\n",
       "Time:                        23:04:26   BIC                           -272.145\n",
       "Sample:                    12-31-1959   HQIC                          -279.846\n",
       "                         - 12-31-2019                                         \n",
       "Covariance Type:                  opg                                         \n",
       "==============================================================================\n",
       "                 coef    std err          z      P>|z|      [0.025      0.975]\n",
       "------------------------------------------------------------------------------\n",
       "const         27.4105      0.287     95.651      0.000      26.849      27.972\n",
       "x1             0.0502      0.013      3.970      0.000       0.025       0.075\n",
       "ar.L1          1.9835      0.025     78.386      0.000       1.934       2.033\n",
       "ar.L2         -0.9868      0.026    -38.161      0.000      -1.037      -0.936\n",
       "ma.L1         -0.8343      0.125     -6.668      0.000      -1.080      -0.589\n",
       "sigma2         0.0004   9.17e-05      4.321      0.000       0.000       0.001\n",
       "===================================================================================\n",
       "Ljung-Box (L1) (Q):                   1.47   Jarque-Bera (JB):                14.62\n",
       "Prob(Q):                              0.23   Prob(JB):                         0.00\n",
       "Heteroskedasticity (H):               1.32   Skew:                            -1.07\n",
       "Prob(H) (two-sided):                  0.55   Kurtosis:                         4.09\n",
       "===================================================================================\n",
       "\n",
       "Warnings:\n",
       "[1] Covariance matrix calculated using the outer product of gradients (complex-step).\n",
       "\"\"\""
      ]
     },
     "execution_count": 26,
     "metadata": {},
     "output_type": "execute_result"
    }
   ],
   "source": [
    "from statsmodels.tsa.arima.model import ARIMA\n",
    "\n",
    "arima = ARIMA(endog=log_gdp, order = (2, 0, 1), exog=linear_trend)\n",
    "result = arima.fit()\n",
    "result.summary()"
   ]
  },
  {
   "attachments": {},
   "cell_type": "markdown",
   "metadata": {},
   "source": [
    "## Stochastic trends\n",
    "- can change randomly\n",
    "- ts with stoch trends are diff stationary"
   ]
  },
  {
   "cell_type": "code",
   "execution_count": 27,
   "metadata": {},
   "outputs": [],
   "source": [
    "# random walk\n",
    "rw = np.cumsum(np.random.choice([-1, 1], size=1000))"
   ]
  },
  {
   "attachments": {},
   "cell_type": "markdown",
   "metadata": {},
   "source": [
    "### Test stochastic trend\n",
    "- ad fuller test \n",
    "- H0: There is unit root - ts non stationary\n",
    "- H1: There is no unit root - ts stationary"
   ]
  },
  {
   "cell_type": "code",
   "execution_count": 38,
   "metadata": {},
   "outputs": [
    {
     "data": {
      "text/plain": [
       "1.0"
      ]
     },
     "execution_count": 38,
     "metadata": {},
     "output_type": "execute_result"
    }
   ],
   "source": [
    "from statsmodels.tsa.stattools import adfuller\n",
    "\n",
    "p_adfuller = adfuller(x=log_gdp.dropna(), regression='ct')[1] # ct constant and trend\n",
    "p_adfuller"
   ]
  },
  {
   "cell_type": "code",
   "execution_count": 29,
   "metadata": {},
   "outputs": [
    {
     "name": "stdout",
     "output_type": "stream",
     "text": [
      "Help on function adfuller in module statsmodels.tsa.stattools:\n",
      "\n",
      "adfuller(x, maxlag: 'int | None' = None, regression='c', autolag='AIC', store=False, regresults=False)\n",
      "    Augmented Dickey-Fuller unit root test.\n",
      "    \n",
      "    The Augmented Dickey-Fuller test can be used to test for a unit root in a\n",
      "    univariate process in the presence of serial correlation.\n",
      "    \n",
      "    Parameters\n",
      "    ----------\n",
      "    x : array_like, 1d\n",
      "        The data series to test.\n",
      "    maxlag : {None, int}\n",
      "        Maximum lag which is included in test, default value of\n",
      "        12*(nobs/100)^{1/4} is used when ``None``.\n",
      "    regression : {\"c\",\"ct\",\"ctt\",\"n\"}\n",
      "        Constant and trend order to include in regression.\n",
      "    \n",
      "        * \"c\" : constant only (default).\n",
      "        * \"ct\" : constant and trend.\n",
      "        * \"ctt\" : constant, and linear and quadratic trend.\n",
      "        * \"n\" : no constant, no trend.\n",
      "    \n",
      "    autolag : {\"AIC\", \"BIC\", \"t-stat\", None}\n",
      "        Method to use when automatically determining the lag length among the\n",
      "        values 0, 1, ..., maxlag.\n",
      "    \n",
      "        * If \"AIC\" (default) or \"BIC\", then the number of lags is chosen\n",
      "          to minimize the corresponding information criterion.\n",
      "        * \"t-stat\" based choice of maxlag.  Starts with maxlag and drops a\n",
      "          lag until the t-statistic on the last lag length is significant\n",
      "          using a 5%-sized test.\n",
      "        * If None, then the number of included lags is set to maxlag.\n",
      "    store : bool\n",
      "        If True, then a result instance is returned additionally to\n",
      "        the adf statistic. Default is False.\n",
      "    regresults : bool, optional\n",
      "        If True, the full regression results are returned. Default is False.\n",
      "    \n",
      "    Returns\n",
      "    -------\n",
      "    adf : float\n",
      "        The test statistic.\n",
      "    pvalue : float\n",
      "        MacKinnon's approximate p-value based on MacKinnon (1994, 2010).\n",
      "    usedlag : int\n",
      "        The number of lags used.\n",
      "    nobs : int\n",
      "        The number of observations used for the ADF regression and calculation\n",
      "        of the critical values.\n",
      "    critical values : dict\n",
      "        Critical values for the test statistic at the 1 %, 5 %, and 10 %\n",
      "        levels. Based on MacKinnon (2010).\n",
      "    icbest : float\n",
      "        The maximized information criterion if autolag is not None.\n",
      "    resstore : ResultStore, optional\n",
      "        A dummy class with results attached as attributes.\n",
      "    \n",
      "    Notes\n",
      "    -----\n",
      "    The null hypothesis of the Augmented Dickey-Fuller is that there is a unit\n",
      "    root, with the alternative that there is no unit root. If the pvalue is\n",
      "    above a critical size, then we cannot reject that there is a unit root.\n",
      "    \n",
      "    The p-values are obtained through regression surface approximation from\n",
      "    MacKinnon 1994, but using the updated 2010 tables. If the p-value is close\n",
      "    to significant, then the critical values should be used to judge whether\n",
      "    to reject the null.\n",
      "    \n",
      "    The autolag option and maxlag for it are described in Greene.\n",
      "    \n",
      "    See the notebook `Stationarity and detrending (ADF/KPSS)\n",
      "    <../examples/notebooks/generated/stationarity_detrending_adf_kpss.html>`__\n",
      "    for an overview.\n",
      "    \n",
      "    References\n",
      "    ----------\n",
      "    .. [1] W. Green.  \"Econometric Analysis,\" 5th ed., Pearson, 2003.\n",
      "    \n",
      "    .. [2] Hamilton, J.D.  \"Time Series Analysis\".  Princeton, 1994.\n",
      "    \n",
      "    .. [3] MacKinnon, J.G. 1994.  \"Approximate asymptotic distribution functions for\n",
      "        unit-root and cointegration tests.  `Journal of Business and Economic\n",
      "        Statistics` 12, 167-76.\n",
      "    \n",
      "    .. [4] MacKinnon, J.G. 2010. \"Critical Values for Cointegration Tests.\"  Queen\"s\n",
      "        University, Dept of Economics, Working Papers.  Available at\n",
      "        http://ideas.repec.org/p/qed/wpaper/1227.html\n",
      "\n"
     ]
    }
   ],
   "source": [
    "help(adfuller)"
   ]
  },
  {
   "attachments": {},
   "cell_type": "markdown",
   "metadata": {},
   "source": [
    "## KPSS test\n",
    "- has reversed hypotheses compared to adfuller"
   ]
  },
  {
   "cell_type": "code",
   "execution_count": 30,
   "metadata": {},
   "outputs": [
    {
     "name": "stderr",
     "output_type": "stream",
     "text": [
      "/var/folders/j6/g_drng0x4rj_s56xlv5_7jkh0000gn/T/ipykernel_47932/2401001084.py:3: InterpolationWarning: The test statistic is outside of the range of p-values available in the\n",
      "look-up table. The actual p-value is smaller than the p-value returned.\n",
      "\n"
     ]
    },
    {
     "data": {
      "text/plain": [
       "0.01"
      ]
     },
     "execution_count": 30,
     "metadata": {},
     "output_type": "execute_result"
    }
   ],
   "source": [
    "from statsmodels.tsa.stattools import kpss\n",
    "\n",
    "pval_kpss = kpss(log_gdp.dropna(), regression = 'ct')[1]\n",
    "\n",
    "pval_kpss"
   ]
  },
  {
   "attachments": {},
   "cell_type": "markdown",
   "metadata": {},
   "source": [
    "### How many diffs to make series stationary\n",
    "- ndfiss functions"
   ]
  },
  {
   "cell_type": "code",
   "execution_count": 32,
   "metadata": {},
   "outputs": [
    {
     "data": {
      "text/plain": [
       "2"
      ]
     },
     "execution_count": 32,
     "metadata": {},
     "output_type": "execute_result"
    }
   ],
   "source": [
    "from pmdarima.arima import ndiffs\n",
    "\n",
    "# how many differencing steps are needed for stationarity?\n",
    "diffs_required = ndiffs(log_gdp, test='adf')\n",
    "\n",
    "diffs_required"
   ]
  },
  {
   "cell_type": "code",
   "execution_count": 39,
   "metadata": {},
   "outputs": [
    {
     "data": {
      "text/plain": [
       "2.060913767697398e-05"
      ]
     },
     "execution_count": 39,
     "metadata": {},
     "output_type": "execute_result"
    }
   ],
   "source": [
    "log_gdp_diff2 = log_gdp.diff().diff().dropna()\n",
    "\n",
    "p_adfuller_diff2 = adfuller(log_gdp_diff2, regression='ct')[1]\n",
    "\n",
    "p_adfuller_diff2"
   ]
  },
  {
   "cell_type": "code",
   "execution_count": null,
   "metadata": {},
   "outputs": [],
   "source": []
  }
 ],
 "metadata": {
  "kernelspec": {
   "display_name": "thinkbayes2",
   "language": "python",
   "name": "thinkbayes2"
  },
  "language_info": {
   "codemirror_mode": {
    "name": "ipython",
    "version": 3
   },
   "file_extension": ".py",
   "mimetype": "text/x-python",
   "name": "python",
   "nbconvert_exporter": "python",
   "pygments_lexer": "ipython3",
   "version": "3.10.11"
  },
  "orig_nbformat": 4
 },
 "nbformat": 4,
 "nbformat_minor": 2
}
