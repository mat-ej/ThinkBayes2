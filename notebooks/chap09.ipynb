{
 "cells": [
  {
   "cell_type": "markdown",
   "metadata": {},
   "source": [
    "# Decision Analysis"
   ]
  },
  {
   "cell_type": "markdown",
   "metadata": {
    "tags": []
   },
   "source": [
    "Think Bayes, Second Edition\n",
    "\n",
    "Copyright 2020 Allen B. Downey\n",
    "\n",
    "License: [Attribution-NonCommercial-ShareAlike 4.0 International (CC BY-NC-SA 4.0)](https://creativecommons.org/licenses/by-nc-sa/4.0/)"
   ]
  },
  {
   "cell_type": "code",
   "execution_count": 2,
   "metadata": {
    "execution": {
     "iopub.execute_input": "2021-04-16T19:35:41.807708Z",
     "iopub.status.busy": "2021-04-16T19:35:41.807149Z",
     "iopub.status.idle": "2021-04-16T19:35:41.810352Z",
     "shell.execute_reply": "2021-04-16T19:35:41.809718Z"
    },
    "tags": []
   },
   "outputs": [],
   "source": [
    "# If we're running on Colab, install empiricaldist\n",
    "# https://pypi.org/project/empiricaldist/\n",
    "\n",
    "import sys\n",
    "IN_COLAB = 'google.colab' in sys.modules\n",
    "\n",
    "if IN_COLAB:\n",
    "    !pip install empiricaldist"
   ]
  },
  {
   "cell_type": "code",
   "execution_count": 3,
   "metadata": {
    "execution": {
     "iopub.execute_input": "2021-04-16T19:35:41.814888Z",
     "iopub.status.busy": "2021-04-16T19:35:41.814343Z",
     "iopub.status.idle": "2021-04-16T19:35:41.816295Z",
     "shell.execute_reply": "2021-04-16T19:35:41.816736Z"
    },
    "tags": []
   },
   "outputs": [],
   "source": [
    "# Get utils.py\n",
    "\n",
    "from os.path import basename, exists\n",
    "\n",
    "def download(url):\n",
    "    filename = basename(url)\n",
    "    if not exists(filename):\n",
    "        from urllib.request import urlretrieve\n",
    "        local, _ = urlretrieve(url, filename)\n",
    "        print('Downloaded ' + local)\n",
    "    \n",
    "download('https://github.com/AllenDowney/ThinkBayes2/raw/master/soln/utils.py')"
   ]
  },
  {
   "cell_type": "code",
   "execution_count": 4,
   "metadata": {
    "execution": {
     "iopub.execute_input": "2021-04-16T19:35:41.820085Z",
     "iopub.status.busy": "2021-04-16T19:35:41.819538Z",
     "iopub.status.idle": "2021-04-16T19:35:42.501987Z",
     "shell.execute_reply": "2021-04-16T19:35:42.501513Z"
    },
    "tags": []
   },
   "outputs": [],
   "source": [
    "from utils import set_pyplot_params\n",
    "set_pyplot_params()"
   ]
  },
  {
   "cell_type": "markdown",
   "metadata": {},
   "source": [
    "This chapter presents a problem inspired by the game show *The Price is Right*.\n",
    "It is a silly example, but it demonstrates a useful process called Bayesian [decision analysis](https://en.wikipedia.org/wiki/Decision_analysis).\n",
    "\n",
    "As in previous examples, we'll use data and prior distribution to compute a posterior distribution; then we'll use the posterior distribution to choose an optimal strategy in a game that involves bidding.\n",
    "\n",
    "As part of the solution, we will use kernel density estimation (KDE) to estimate the prior distribution, and a normal distribution to compute the likelihood of the data.\n",
    "\n",
    "And at the end of the chapter, I pose a related problem you can solve as an exercise."
   ]
  },
  {
   "cell_type": "markdown",
   "metadata": {},
   "source": [
    "## The Price Is Right Problem\n",
    "\n",
    "On November 1, 2007, contestants named Letia and Nathaniel appeared on *The Price is Right*, an American television game show. They competed in a game called \"The Showcase\", where the objective is to guess the price of a collection of prizes. The contestant who comes closest to the actual price, without going over, wins the prizes.\n",
    "\n",
    "Nathaniel went first. His showcase included a dishwasher, a wine cabinet, a laptop computer, and a car. He bid \\\\$26,000.\n",
    "\n",
    "Letia's showcase included a pinball machine, a video arcade game, a pool table, and a cruise of the Bahamas. She bid \\\\$21,500.\n",
    "\n",
    "The actual price of Nathaniel's showcase was \\\\$25,347. His bid was too high, so he lost.\n",
    "\n",
    "The actual price of Letia's showcase was \\\\$21,578. \n",
    "\n",
    "She was only off by \\\\$78, so she won her showcase and, because her bid was off by less than 250, she also won Nathaniel's showcase."
   ]
  },
  {
   "cell_type": "markdown",
   "metadata": {},
   "source": [
    "For a Bayesian thinker, this scenario suggests several questions:\n",
    "\n",
    "1. Before seeing the prizes, what prior beliefs should the contestants have about the price of the showcase?\n",
    "\n",
    "2. After seeing the prizes, how should the contestants update those beliefs?\n",
    "\n",
    "3. Based on the posterior distribution, what should the contestants bid?\n",
    "\n",
    "The third question demonstrates a common use of Bayesian methods: decision analysis.\n",
    "\n",
    "This problem is inspired by [an example](https://nbviewer.jupyter.org/github/CamDavidsonPilon/Probabilistic-Programming-and-Bayesian-Methods-for-Hackers/blob/master/Chapter5_LossFunctions/Ch5_LossFunctions_PyMC3.ipynb) in Cameron Davidson-Pilon's book, [*Probablistic Programming and Bayesian Methods for Hackers*](http://camdavidsonpilon.github.io/Probabilistic-Programming-and-Bayesian-Methods-for-Hackers)."
   ]
  },
  {
   "cell_type": "markdown",
   "metadata": {},
   "source": [
    "## The Prior\n",
    "\n",
    "To choose a prior distribution of prices, we can take advantage of data from previous episodes. Fortunately, [fans of the show keep detailed records](https://web.archive.org/web/20121107204942/http://www.tpirsummaries.8m.com/). \n",
    "\n",
    "For this example, I downloaded files containing the price of each showcase from the 2011 and 2012 seasons and the bids offered by the contestants."
   ]
  },
  {
   "cell_type": "markdown",
   "metadata": {
    "tags": []
   },
   "source": [
    "The following cells load the data files."
   ]
  },
  {
   "cell_type": "code",
   "execution_count": 5,
   "metadata": {
    "execution": {
     "iopub.execute_input": "2021-04-16T19:35:42.507523Z",
     "iopub.status.busy": "2021-04-16T19:35:42.506995Z",
     "iopub.status.idle": "2021-04-16T19:35:42.508609Z",
     "shell.execute_reply": "2021-04-16T19:35:42.509016Z"
    },
    "tags": []
   },
   "outputs": [],
   "source": [
    "# Load the data files\n",
    "\n",
    "download('https://raw.githubusercontent.com/AllenDowney/ThinkBayes2/master/data/showcases.2011.csv')\n",
    "download('https://raw.githubusercontent.com/AllenDowney/ThinkBayes2/master/data/showcases.2012.csv')"
   ]
  },
  {
   "cell_type": "markdown",
   "metadata": {},
   "source": [
    "The following function reads the data and cleans it up a little."
   ]
  },
  {
   "cell_type": "code",
   "execution_count": 6,
   "metadata": {
    "execution": {
     "iopub.execute_input": "2021-04-16T19:35:42.513237Z",
     "iopub.status.busy": "2021-04-16T19:35:42.512673Z",
     "iopub.status.idle": "2021-04-16T19:35:42.515256Z",
     "shell.execute_reply": "2021-04-16T19:35:42.514810Z"
    }
   },
   "outputs": [],
   "source": [
    "import pandas as pd\n",
    "\n",
    "def read_data(filename):\n",
    "    \"\"\"Read the showcase price data.\"\"\"\n",
    "    df = pd.read_csv(filename, index_col=0, skiprows=[1])\n",
    "    return df.dropna().transpose()"
   ]
  },
  {
   "cell_type": "markdown",
   "metadata": {},
   "source": [
    "I'll read both files and concatenate them."
   ]
  },
  {
   "cell_type": "code",
   "execution_count": 7,
   "metadata": {
    "execution": {
     "iopub.execute_input": "2021-04-16T19:35:42.519025Z",
     "iopub.status.busy": "2021-04-16T19:35:42.518583Z",
     "iopub.status.idle": "2021-04-16T19:35:42.547366Z",
     "shell.execute_reply": "2021-04-16T19:35:42.546804Z"
    }
   },
   "outputs": [],
   "source": [
    "df2011 = read_data('showcases.2011.csv')\n",
    "df2012 = read_data('showcases.2012.csv')\n",
    "\n",
    "df = pd.concat([df2011, df2012], ignore_index=True)"
   ]
  },
  {
   "cell_type": "code",
   "execution_count": 8,
   "metadata": {
    "execution": {
     "iopub.execute_input": "2021-04-16T19:35:42.550926Z",
     "iopub.status.busy": "2021-04-16T19:35:42.550422Z",
     "iopub.status.idle": "2021-04-16T19:35:42.553032Z",
     "shell.execute_reply": "2021-04-16T19:35:42.552623Z"
    },
    "tags": []
   },
   "outputs": [
    {
     "name": "stdout",
     "output_type": "stream",
     "text": [
      "(191, 6) (122, 6) (313, 6)\n"
     ]
    }
   ],
   "source": [
    "print(df2011.shape, df2012.shape, df.shape)\n"
   ]
  },
  {
   "cell_type": "code",
   "execution_count": 9,
   "metadata": {},
   "outputs": [
    {
     "data": {
      "text/html": [
       "<div>\n",
       "<style scoped>\n",
       "    .dataframe tbody tr th:only-of-type {\n",
       "        vertical-align: middle;\n",
       "    }\n",
       "\n",
       "    .dataframe tbody tr th {\n",
       "        vertical-align: top;\n",
       "    }\n",
       "\n",
       "    .dataframe thead th {\n",
       "        text-align: right;\n",
       "    }\n",
       "</style>\n",
       "<table border=\"1\" class=\"dataframe\">\n",
       "  <thead>\n",
       "    <tr style=\"text-align: right;\">\n",
       "      <th></th>\n",
       "      <th>Showcase 1</th>\n",
       "      <th>Showcase 2</th>\n",
       "      <th>Bid 1</th>\n",
       "      <th>Bid 2</th>\n",
       "      <th>Difference 1</th>\n",
       "      <th>Difference 2</th>\n",
       "    </tr>\n",
       "  </thead>\n",
       "  <tbody>\n",
       "    <tr>\n",
       "      <th>Sep. 19</th>\n",
       "      <td>50969.0</td>\n",
       "      <td>45429.0</td>\n",
       "      <td>42000.0</td>\n",
       "      <td>34000.0</td>\n",
       "      <td>8969.0</td>\n",
       "      <td>11429.0</td>\n",
       "    </tr>\n",
       "    <tr>\n",
       "      <th>Sep. 20</th>\n",
       "      <td>21901.0</td>\n",
       "      <td>34061.0</td>\n",
       "      <td>14000.0</td>\n",
       "      <td>59900.0</td>\n",
       "      <td>7901.0</td>\n",
       "      <td>-25839.0</td>\n",
       "    </tr>\n",
       "    <tr>\n",
       "      <th>Sep. 21</th>\n",
       "      <td>32815.0</td>\n",
       "      <td>53186.0</td>\n",
       "      <td>32000.0</td>\n",
       "      <td>45000.0</td>\n",
       "      <td>815.0</td>\n",
       "      <td>8186.0</td>\n",
       "    </tr>\n",
       "    <tr>\n",
       "      <th>Sep. 22</th>\n",
       "      <td>44432.0</td>\n",
       "      <td>31428.0</td>\n",
       "      <td>27000.0</td>\n",
       "      <td>38000.0</td>\n",
       "      <td>17432.0</td>\n",
       "      <td>-6572.0</td>\n",
       "    </tr>\n",
       "    <tr>\n",
       "      <th>Sep. 23</th>\n",
       "      <td>24273.0</td>\n",
       "      <td>22320.0</td>\n",
       "      <td>18750.0</td>\n",
       "      <td>23000.0</td>\n",
       "      <td>5523.0</td>\n",
       "      <td>-680.0</td>\n",
       "    </tr>\n",
       "  </tbody>\n",
       "</table>\n",
       "</div>"
      ],
      "text/plain": [
       "         Showcase 1  Showcase 2    Bid 1    Bid 2  Difference 1  Difference 2\n",
       "Sep. 19     50969.0     45429.0  42000.0  34000.0        8969.0       11429.0\n",
       "Sep. 20     21901.0     34061.0  14000.0  59900.0        7901.0      -25839.0\n",
       "Sep. 21     32815.0     53186.0  32000.0  45000.0         815.0        8186.0\n",
       "Sep. 22     44432.0     31428.0  27000.0  38000.0       17432.0       -6572.0\n",
       "Sep. 23     24273.0     22320.0  18750.0  23000.0        5523.0        -680.0"
      ]
     },
     "execution_count": 9,
     "metadata": {},
     "output_type": "execute_result"
    }
   ],
   "source": [
    "df2011.head()"
   ]
  },
  {
   "cell_type": "markdown",
   "metadata": {},
   "source": [
    "Here's what the dataset looks like:"
   ]
  },
  {
   "cell_type": "code",
   "execution_count": 10,
   "metadata": {
    "execution": {
     "iopub.execute_input": "2021-04-16T19:35:42.558946Z",
     "iopub.status.busy": "2021-04-16T19:35:42.557889Z",
     "iopub.status.idle": "2021-04-16T19:35:42.570199Z",
     "shell.execute_reply": "2021-04-16T19:35:42.570579Z"
    }
   },
   "outputs": [
    {
     "data": {
      "text/html": [
       "<div>\n",
       "<style scoped>\n",
       "    .dataframe tbody tr th:only-of-type {\n",
       "        vertical-align: middle;\n",
       "    }\n",
       "\n",
       "    .dataframe tbody tr th {\n",
       "        vertical-align: top;\n",
       "    }\n",
       "\n",
       "    .dataframe thead th {\n",
       "        text-align: right;\n",
       "    }\n",
       "</style>\n",
       "<table border=\"1\" class=\"dataframe\">\n",
       "  <thead>\n",
       "    <tr style=\"text-align: right;\">\n",
       "      <th></th>\n",
       "      <th>Showcase 1</th>\n",
       "      <th>Showcase 2</th>\n",
       "      <th>Bid 1</th>\n",
       "      <th>Bid 2</th>\n",
       "      <th>Difference 1</th>\n",
       "      <th>Difference 2</th>\n",
       "    </tr>\n",
       "  </thead>\n",
       "  <tbody>\n",
       "    <tr>\n",
       "      <th>0</th>\n",
       "      <td>50969.0</td>\n",
       "      <td>45429.0</td>\n",
       "      <td>42000.0</td>\n",
       "      <td>34000.0</td>\n",
       "      <td>8969.0</td>\n",
       "      <td>11429.0</td>\n",
       "    </tr>\n",
       "    <tr>\n",
       "      <th>1</th>\n",
       "      <td>21901.0</td>\n",
       "      <td>34061.0</td>\n",
       "      <td>14000.0</td>\n",
       "      <td>59900.0</td>\n",
       "      <td>7901.0</td>\n",
       "      <td>-25839.0</td>\n",
       "    </tr>\n",
       "    <tr>\n",
       "      <th>2</th>\n",
       "      <td>32815.0</td>\n",
       "      <td>53186.0</td>\n",
       "      <td>32000.0</td>\n",
       "      <td>45000.0</td>\n",
       "      <td>815.0</td>\n",
       "      <td>8186.0</td>\n",
       "    </tr>\n",
       "    <tr>\n",
       "      <th>3</th>\n",
       "      <td>44432.0</td>\n",
       "      <td>31428.0</td>\n",
       "      <td>27000.0</td>\n",
       "      <td>38000.0</td>\n",
       "      <td>17432.0</td>\n",
       "      <td>-6572.0</td>\n",
       "    </tr>\n",
       "    <tr>\n",
       "      <th>4</th>\n",
       "      <td>24273.0</td>\n",
       "      <td>22320.0</td>\n",
       "      <td>18750.0</td>\n",
       "      <td>23000.0</td>\n",
       "      <td>5523.0</td>\n",
       "      <td>-680.0</td>\n",
       "    </tr>\n",
       "  </tbody>\n",
       "</table>\n",
       "</div>"
      ],
      "text/plain": [
       "   Showcase 1  Showcase 2    Bid 1    Bid 2  Difference 1  Difference 2\n",
       "0     50969.0     45429.0  42000.0  34000.0        8969.0       11429.0\n",
       "1     21901.0     34061.0  14000.0  59900.0        7901.0      -25839.0\n",
       "2     32815.0     53186.0  32000.0  45000.0         815.0        8186.0\n",
       "3     44432.0     31428.0  27000.0  38000.0       17432.0       -6572.0\n",
       "4     24273.0     22320.0  18750.0  23000.0        5523.0        -680.0"
      ]
     },
     "execution_count": 10,
     "metadata": {},
     "output_type": "execute_result"
    }
   ],
   "source": [
    "df.head()"
   ]
  },
  {
   "cell_type": "code",
   "execution_count": 11,
   "metadata": {},
   "outputs": [
    {
     "data": {
      "text/html": [
       "<div>\n",
       "<style scoped>\n",
       "    .dataframe tbody tr th:only-of-type {\n",
       "        vertical-align: middle;\n",
       "    }\n",
       "\n",
       "    .dataframe tbody tr th {\n",
       "        vertical-align: top;\n",
       "    }\n",
       "\n",
       "    .dataframe thead th {\n",
       "        text-align: right;\n",
       "    }\n",
       "</style>\n",
       "<table border=\"1\" class=\"dataframe\">\n",
       "  <thead>\n",
       "    <tr style=\"text-align: right;\">\n",
       "      <th></th>\n",
       "      <th>Showcase 1</th>\n",
       "      <th>Showcase 2</th>\n",
       "      <th>Bid 1</th>\n",
       "      <th>Bid 2</th>\n",
       "      <th>Difference 1</th>\n",
       "      <th>Difference 2</th>\n",
       "    </tr>\n",
       "  </thead>\n",
       "  <tbody>\n",
       "    <tr>\n",
       "      <th>count</th>\n",
       "      <td>313.000000</td>\n",
       "      <td>313.000000</td>\n",
       "      <td>313.000000</td>\n",
       "      <td>313.000000</td>\n",
       "      <td>313.000000</td>\n",
       "      <td>313.000000</td>\n",
       "    </tr>\n",
       "    <tr>\n",
       "      <th>mean</th>\n",
       "      <td>30299.488818</td>\n",
       "      <td>31047.680511</td>\n",
       "      <td>26183.092652</td>\n",
       "      <td>27371.789137</td>\n",
       "      <td>4116.396166</td>\n",
       "      <td>3675.891374</td>\n",
       "    </tr>\n",
       "    <tr>\n",
       "      <th>std</th>\n",
       "      <td>7145.705405</td>\n",
       "      <td>8293.059002</td>\n",
       "      <td>6470.507122</td>\n",
       "      <td>6303.572665</td>\n",
       "      <td>6899.909806</td>\n",
       "      <td>6886.260711</td>\n",
       "    </tr>\n",
       "    <tr>\n",
       "      <th>min</th>\n",
       "      <td>19563.000000</td>\n",
       "      <td>18349.000000</td>\n",
       "      <td>5500.000000</td>\n",
       "      <td>15000.000000</td>\n",
       "      <td>-14187.000000</td>\n",
       "      <td>-25839.000000</td>\n",
       "    </tr>\n",
       "    <tr>\n",
       "      <th>25%</th>\n",
       "      <td>24866.000000</td>\n",
       "      <td>25264.000000</td>\n",
       "      <td>22000.000000</td>\n",
       "      <td>23000.000000</td>\n",
       "      <td>26.000000</td>\n",
       "      <td>-587.000000</td>\n",
       "    </tr>\n",
       "    <tr>\n",
       "      <th>50%</th>\n",
       "      <td>28958.000000</td>\n",
       "      <td>29488.000000</td>\n",
       "      <td>25620.000000</td>\n",
       "      <td>27000.000000</td>\n",
       "      <td>3902.000000</td>\n",
       "      <td>3136.000000</td>\n",
       "    </tr>\n",
       "    <tr>\n",
       "      <th>75%</th>\n",
       "      <td>34428.000000</td>\n",
       "      <td>34665.000000</td>\n",
       "      <td>29900.000000</td>\n",
       "      <td>30777.000000</td>\n",
       "      <td>7800.000000</td>\n",
       "      <td>7829.000000</td>\n",
       "    </tr>\n",
       "    <tr>\n",
       "      <th>max</th>\n",
       "      <td>58342.000000</td>\n",
       "      <td>71628.000000</td>\n",
       "      <td>50972.000000</td>\n",
       "      <td>59900.000000</td>\n",
       "      <td>31374.000000</td>\n",
       "      <td>43628.000000</td>\n",
       "    </tr>\n",
       "  </tbody>\n",
       "</table>\n",
       "</div>"
      ],
      "text/plain": [
       "         Showcase 1    Showcase 2         Bid 1         Bid 2  Difference 1  \\\n",
       "count    313.000000    313.000000    313.000000    313.000000    313.000000   \n",
       "mean   30299.488818  31047.680511  26183.092652  27371.789137   4116.396166   \n",
       "std     7145.705405   8293.059002   6470.507122   6303.572665   6899.909806   \n",
       "min    19563.000000  18349.000000   5500.000000  15000.000000 -14187.000000   \n",
       "25%    24866.000000  25264.000000  22000.000000  23000.000000     26.000000   \n",
       "50%    28958.000000  29488.000000  25620.000000  27000.000000   3902.000000   \n",
       "75%    34428.000000  34665.000000  29900.000000  30777.000000   7800.000000   \n",
       "max    58342.000000  71628.000000  50972.000000  59900.000000  31374.000000   \n",
       "\n",
       "       Difference 2  \n",
       "count    313.000000  \n",
       "mean    3675.891374  \n",
       "std     6886.260711  \n",
       "min   -25839.000000  \n",
       "25%     -587.000000  \n",
       "50%     3136.000000  \n",
       "75%     7829.000000  \n",
       "max    43628.000000  "
      ]
     },
     "execution_count": 11,
     "metadata": {},
     "output_type": "execute_result"
    }
   ],
   "source": [
    "df.describe()"
   ]
  },
  {
   "cell_type": "markdown",
   "metadata": {},
   "source": [
    "The first two columns, `Showcase 1` and `Showcase 2`, are the values of the showcases in dollars.\n",
    "The next two columns are the bids the contestants made.\n",
    "The last two columns are the differences between the actual values and the bids."
   ]
  },
  {
   "cell_type": "markdown",
   "metadata": {},
   "source": [
    "## Kernel Density Estimation\n",
    "\n",
    "This dataset contains the prices for 313 previous showcases, which we can think of as a sample from the population of possible prices.\n",
    "\n",
    "We can use this sample to estimate the prior distribution of showcase prices.  One way to do that is kernel density estimation (KDE), which uses the sample to estimate a smooth distribution.  If you are not familiar with KDE, you can [read about it here](https://mathisonian.github.io/kde).\n",
    "\n",
    "SciPy provides `gaussian_kde`, which takes a sample and returns an object that represents the estimated distribution.\n",
    "\n",
    "The following function takes `sample`, makes a KDE, evaluates it at a given sequence of quantities, `qs`, and returns the result as a normalized PMF."
   ]
  },
  {
   "cell_type": "code",
   "execution_count": 12,
   "metadata": {
    "execution": {
     "iopub.execute_input": "2021-04-16T19:35:42.574533Z",
     "iopub.status.busy": "2021-04-16T19:35:42.574043Z",
     "iopub.status.idle": "2021-04-16T19:35:42.576062Z",
     "shell.execute_reply": "2021-04-16T19:35:42.575582Z"
    }
   },
   "outputs": [],
   "source": [
    "from scipy.stats import gaussian_kde\n",
    "from empiricaldist import Pmf\n",
    "import numpy as np\n",
    "\n",
    "def kde_from_sample(sample, qs):\n",
    "    \"\"\"Make a kernel density estimate from a sample.\"\"\"\n",
    "    kde = gaussian_kde(sample)\n",
    "    ps = kde(qs)\n",
    "    pmf = Pmf(ps, qs)\n",
    "    pmf.normalize()\n",
    "    return pmf"
   ]
  },
  {
   "cell_type": "markdown",
   "metadata": {},
   "source": [
    "We can use it to estimate the distribution of values for Showcase 1:"
   ]
  },
  {
   "cell_type": "code",
   "execution_count": 13,
   "metadata": {
    "execution": {
     "iopub.execute_input": "2021-04-16T19:35:42.584733Z",
     "iopub.status.busy": "2021-04-16T19:35:42.580411Z",
     "iopub.status.idle": "2021-04-16T19:35:42.587005Z",
     "shell.execute_reply": "2021-04-16T19:35:42.586599Z"
    }
   },
   "outputs": [
    {
     "data": {
      "text/plain": [
       "count    8.100000e+01\n",
       "mean     3.029949e+04\n",
       "std      7.484990e+03\n",
       "min      7.657003e-24\n",
       "25%      2.500000e+04\n",
       "50%      2.900000e+04\n",
       "75%      3.500000e+04\n",
       "max      6.007076e-02\n",
       "Name: , dtype: float64"
      ]
     },
     "execution_count": 13,
     "metadata": {},
     "output_type": "execute_result"
    }
   ],
   "source": [
    "import numpy as np\n",
    "\n",
    "qs = np.linspace(0, 80000, 81)\n",
    "prior1 = kde_from_sample(df['Showcase 1'], qs)\n",
    "prior1.describe()\n"
   ]
  },
  {
   "cell_type": "markdown",
   "metadata": {},
   "source": [
    "Here's what it looks like:"
   ]
  },
  {
   "cell_type": "code",
   "execution_count": 14,
   "metadata": {
    "execution": {
     "iopub.execute_input": "2021-04-16T19:35:42.590496Z",
     "iopub.status.busy": "2021-04-16T19:35:42.590066Z",
     "iopub.status.idle": "2021-04-16T19:35:42.592375Z",
     "shell.execute_reply": "2021-04-16T19:35:42.591868Z"
    },
    "tags": []
   },
   "outputs": [],
   "source": [
    "from utils import decorate\n",
    "\n",
    "def decorate_value(title=''):\n",
    "    decorate(\n",
    "        xlabel='Showcase value ($)',\n",
    "        ylabel='PMF',\n",
    "        title=title\n",
    "        )"
   ]
  },
  {
   "cell_type": "code",
   "execution_count": 15,
   "metadata": {
    "execution": {
     "iopub.execute_input": "2021-04-16T19:35:42.596416Z",
     "iopub.status.busy": "2021-04-16T19:35:42.595823Z",
     "iopub.status.idle": "2021-04-16T19:35:42.800967Z",
     "shell.execute_reply": "2021-04-16T19:35:42.801311Z"
    },
    "tags": []
   },
   "outputs": [
    {
     "data": {
      "image/png": "[encoded data removed]",
      "text/plain": [
       "<Figure size 640x480 with 1 Axes>"
      ]
     },
     "metadata": {},
     "output_type": "display_data"
    }
   ],
   "source": [
    "prior1.plot(label='Prior 1')\n",
    "decorate_value('Prior distribution of showcase value')"
   ]
  },
  {
   "cell_type": "markdown",
   "metadata": {},
   "source": [
    "**Exercise:** Use this function to make a `Pmf` that represents the prior distribution for Showcase 2, and plot it."
   ]
  },
  {
   "cell_type": "code",
   "execution_count": 16,
   "metadata": {
    "execution": {
     "iopub.execute_input": "2021-04-16T19:35:42.807216Z",
     "iopub.status.busy": "2021-04-16T19:35:42.806692Z",
     "iopub.status.idle": "2021-04-16T19:35:42.809224Z",
     "shell.execute_reply": "2021-04-16T19:35:42.808685Z"
    }
   },
   "outputs": [
    {
     "data": {
      "image/png": "[encoded data removed]",
      "text/plain": [
       "<Figure size 640x480 with 1 Axes>"
      ]
     },
     "metadata": {},
     "output_type": "display_data"
    }
   ],
   "source": [
    "# Solution goes here\n",
    "qs = np.linspace(0, 80000, 81) # different values of showcase value\n",
    "prior2 = kde_from_sample(df['Showcase 2'],qs)\n",
    "prior2.plot(label=\"prior showcase 2\")\n",
    "decorate(title = \"KDE from showcase 2\")"
   ]
  },
  {
   "cell_type": "markdown",
   "metadata": {},
   "source": [
    "## Distribution of Error\n",
    "\n",
    "To update these priors, we have to answer these questions:\n",
    "\n",
    "* What data should we consider and how should we quantify it?\n",
    "\n",
    "* Can we compute a likelihood function; that is, for each hypothetical price, can we compute the conditional likelihood of the data?\n",
    "\n",
    "To answer these questions, I will model each contestant as a price-guessing instrument with known error characteristics. \n",
    "In this model, when the contestant sees the prizes, they guess the price of each prize and add up the prices.\n",
    "Let's call this total `guess`.\n",
    "\n",
    "Now the question we have to answer is, \"If the actual price is `price`, what is the likelihood that the contestant's guess would be `guess`?\"\n",
    "\n",
    "Equivalently, if we define `error = guess - price`, we can ask, \"What is the likelihood that the contestant's guess is off by `error`?\"\n",
    "\n",
    "To answer this question, I'll use the historical data again. \n",
    "For each showcase in the dataset, let's look at the difference between the contestant's bid and the actual price:"
   ]
  },
  {
   "cell_type": "code",
   "execution_count": 17,
   "metadata": {
    "execution": {
     "iopub.execute_input": "2021-04-16T19:35:43.018111Z",
     "iopub.status.busy": "2021-04-16T19:35:43.017611Z",
     "iopub.status.idle": "2021-04-16T19:35:43.019631Z",
     "shell.execute_reply": "2021-04-16T19:35:43.019982Z"
    }
   },
   "outputs": [],
   "source": [
    "# The below code calculates the difference between the bids and the actual showcase values for two different showcases. \n",
    "# The difference is the error of the bid. negative value signifies underbid and positive value signifies overbid\n",
    "sample_diff1 = df['Bid 1'] - df['Showcase 1']\n",
    "sample_diff2 = df['Bid 2'] - df['Showcase 2']"
   ]
  },
  {
   "cell_type": "markdown",
   "metadata": {},
   "source": [
    "To visualize the distribution of these differences, we can use KDE again."
   ]
  },
  {
   "cell_type": "code",
   "execution_count": 18,
   "metadata": {
    "execution": {
     "iopub.execute_input": "2021-04-16T19:35:43.027071Z",
     "iopub.status.busy": "2021-04-16T19:35:43.026529Z",
     "iopub.status.idle": "2021-04-16T19:35:43.028680Z",
     "shell.execute_reply": "2021-04-16T19:35:43.029157Z"
    }
   },
   "outputs": [],
   "source": [
    "qs = np.linspace(-40000, 20000, 61)\n",
    "kde_diff1 = kde_from_sample(sample_diff1, qs)\n",
    "kde_diff2 = kde_from_sample(sample_diff2, qs)"
   ]
  },
  {
   "cell_type": "markdown",
   "metadata": {},
   "source": [
    "Here's what these distributions look like:"
   ]
  },
  {
   "cell_type": "code",
   "execution_count": 19,
   "metadata": {
    "execution": {
     "iopub.execute_input": "2021-04-16T19:35:43.075959Z",
     "iopub.status.busy": "2021-04-16T19:35:43.048711Z",
     "iopub.status.idle": "2021-04-16T19:35:43.205035Z",
     "shell.execute_reply": "2021-04-16T19:35:43.205620Z"
    },
    "tags": []
   },
   "outputs": [
    {
     "data": {
      "image/png": "[encoded data removed]",
      "text/plain": [
       "<Figure size 640x480 with 1 Axes>"
      ]
     },
     "metadata": {},
     "output_type": "display_data"
    }
   ],
   "source": [
    "kde_diff1.plot(label='Diff 1', color='C8')\n",
    "kde_diff2.plot(label='Diff 2', color='C4')\n",
    "\n",
    "decorate(xlabel='Difference in value ($)',\n",
    "        ylabel='PMF',\n",
    "        title='Difference between bid and actual value')"
   ]
  },
  {
   "cell_type": "markdown",
   "metadata": {},
   "source": [
    "It looks like the bids are too low more often than too high, which makes sense.  Remember that under the rules of the game, you lose if you overbid, so contestants probably underbid to some degree deliberately.\n",
    "\n",
    "For example, if they guess that the value of the showcase is \\\\$40,000, they might bid \\\\$36,000 to avoid going over."
   ]
  },
  {
   "cell_type": "markdown",
   "metadata": {},
   "source": [
    "It looks like these distributions are well modeled by a normal distribution, so we can summarize them with their mean and standard deviation.\n",
    "\n",
    "For example, here is the mean and standard deviation of `Diff` for Player 1."
   ]
  },
  {
   "cell_type": "code",
   "execution_count": 20,
   "metadata": {
    "execution": {
     "iopub.execute_input": "2021-04-16T19:35:43.209840Z",
     "iopub.status.busy": "2021-04-16T19:35:43.209325Z",
     "iopub.status.idle": "2021-04-16T19:35:43.211530Z",
     "shell.execute_reply": "2021-04-16T19:35:43.211881Z"
    }
   },
   "outputs": [
    {
     "data": {
      "text/plain": [
       "(-4116.3961661341855, 6899.909806377117)"
      ]
     },
     "execution_count": 20,
     "metadata": {},
     "output_type": "execute_result"
    }
   ],
   "source": [
    "mean_diff1 = sample_diff1.mean()\n",
    "std_diff1 = sample_diff1.std()\n",
    "\n",
    "# the bid of a contestant is on average an underbid of 4k, \n",
    "# we assume this is deliberate underbid and that their guess is on avg accurate.\n",
    "# hence we use the normal distribution centered in 0 and the std of the sample as a prior\n",
    "mean_diff1, std_diff1"
   ]
  },
  {
   "cell_type": "code",
   "execution_count": 21,
   "metadata": {},
   "outputs": [
    {
     "data": {
      "text/plain": [
       "5.7818477573825315e-05"
      ]
     },
     "execution_count": 21,
     "metadata": {},
     "output_type": "execute_result"
    }
   ],
   "source": [
    "from scipy.stats import norm\n",
    "\n",
    "# hence we use the normal distribution centered in 0 and the std of the sample as a prior\n",
    "error_dist1 = norm(0, std_diff1)\n",
    "error_dist1.mean(), error_dist1.std()\n",
    "error_dist1.pdf(0) # probability density of 0"
   ]
  },
  {
   "cell_type": "markdown",
   "metadata": {},
   "source": [
    "Now we can use these differences to model the contestant's distribution of errors.\n",
    "This step is a little tricky because we don't actually know the contestant's guesses; we only know what they bid.\n",
    "\n",
    "So we have to make some assumptions:\n",
    "\n",
    "* I'll assume that contestants underbid because they are being strategic, and that on average their guesses are accurate.  In other words, the mean of their errors is 0.\n",
    "\n",
    "* But I'll assume that the spread of the differences reflects the actual spread of their errors.  So, I'll use the standard deviation of the differences as the standard deviation of their errors.\n",
    "\n",
    "Based on these assumptions, I'll make a normal distribution with parameters 0 and `std_diff1`.\n",
    "\n",
    "SciPy provides an object called `norm` that represents a normal distribution with the given mean and standard deviation."
   ]
  },
  {
   "cell_type": "code",
   "execution_count": 22,
   "metadata": {
    "execution": {
     "iopub.execute_input": "2021-04-16T19:35:43.215986Z",
     "iopub.status.busy": "2021-04-16T19:35:43.215405Z",
     "iopub.status.idle": "2021-04-16T19:35:43.217589Z",
     "shell.execute_reply": "2021-04-16T19:35:43.217195Z"
    }
   },
   "outputs": [],
   "source": [
    "from scipy.stats import norm\n",
    "\n",
    "error_dist1 = norm(0, std_diff1)"
   ]
  },
  {
   "cell_type": "markdown",
   "metadata": {},
   "source": [
    "The result is an object that provides `pdf`, which evaluates the probability density function of the normal distribution.\n",
    "\n",
    "For example, here is the probability density of `error=-100`, based on the distribution of errors for Player 1."
   ]
  },
  {
   "cell_type": "code",
   "execution_count": 23,
   "metadata": {
    "execution": {
     "iopub.execute_input": "2021-04-16T19:35:43.221442Z",
     "iopub.status.busy": "2021-04-16T19:35:43.220947Z",
     "iopub.status.idle": "2021-04-16T19:35:43.223380Z",
     "shell.execute_reply": "2021-04-16T19:35:43.223743Z"
    }
   },
   "outputs": [
    {
     "data": {
      "text/plain": [
       "5.781240564008691e-05"
      ]
     },
     "execution_count": 23,
     "metadata": {},
     "output_type": "execute_result"
    }
   ],
   "source": [
    "error = -100\n",
    "#NOTE:  probability densities are not probabilities but are proportional, so we can use them as likelihoods.\n",
    "error_dist1.pdf(error)"
   ]
  },
  {
   "cell_type": "markdown",
   "metadata": {},
   "source": [
    "By itself, this number doesn't mean very much, because probability densities are not probabilities. But they are proportional to probabilities, so we can use them as likelihoods in a Bayesian update, as we'll see in the next section."
   ]
  },
  {
   "cell_type": "markdown",
   "metadata": {},
   "source": [
    "## Update\n",
    "\n",
    "Suppose you are Player 1.  You see the prizes in your showcase and your guess for the total price is \\\\$23,000.\n",
    "\n",
    "From your guess I will subtract away each hypothetical price in the prior distribution; the result is your error under each hypothesis."
   ]
  },
  {
   "cell_type": "code",
   "execution_count": 24,
   "metadata": {
    "execution": {
     "iopub.execute_input": "2021-04-16T19:35:43.226913Z",
     "iopub.status.busy": "2021-04-16T19:35:43.226469Z",
     "iopub.status.idle": "2021-04-16T19:35:43.228074Z",
     "shell.execute_reply": "2021-04-16T19:35:43.228429Z"
    }
   },
   "outputs": [
    {
     "name": "stdout",
     "output_type": "stream",
     "text": [
      "guess 23000,hypothetical_price 0.0, error under hypothesis 23000.0\n",
      "guess 23000,hypothetical_price 1000.0, error under hypothesis 22000.0\n",
      "guess 23000,hypothetical_price 2000.0, error under hypothesis 21000.0\n",
      "guess 23000,hypothetical_price 3000.0, error under hypothesis 20000.0\n",
      "guess 23000,hypothetical_price 4000.0, error under hypothesis 19000.0\n",
      "guess 23000,hypothetical_price 5000.0, error under hypothesis 18000.0\n",
      "guess 23000,hypothetical_price 6000.0, error under hypothesis 17000.0\n",
      "guess 23000,hypothetical_price 7000.0, error under hypothesis 16000.0\n",
      "guess 23000,hypothetical_price 8000.0, error under hypothesis 15000.0\n",
      "guess 23000,hypothetical_price 9000.0, error under hypothesis 14000.0\n",
      "guess 23000,hypothetical_price 10000.0, error under hypothesis 13000.0\n",
      "guess 23000,hypothetical_price 11000.0, error under hypothesis 12000.0\n",
      "guess 23000,hypothetical_price 12000.0, error under hypothesis 11000.0\n",
      "guess 23000,hypothetical_price 13000.0, error under hypothesis 10000.0\n",
      "guess 23000,hypothetical_price 14000.0, error under hypothesis 9000.0\n",
      "guess 23000,hypothetical_price 15000.0, error under hypothesis 8000.0\n",
      "guess 23000,hypothetical_price 16000.0, error under hypothesis 7000.0\n",
      "guess 23000,hypothetical_price 17000.0, error under hypothesis 6000.0\n",
      "guess 23000,hypothetical_price 18000.0, error under hypothesis 5000.0\n",
      "guess 23000,hypothetical_price 19000.0, error under hypothesis 4000.0\n",
      "guess 23000,hypothetical_price 20000.0, error under hypothesis 3000.0\n",
      "guess 23000,hypothetical_price 21000.0, error under hypothesis 2000.0\n",
      "guess 23000,hypothetical_price 22000.0, error under hypothesis 1000.0\n",
      "guess 23000,hypothetical_price 23000.0, error under hypothesis 0.0\n",
      "guess 23000,hypothetical_price 24000.0, error under hypothesis -1000.0\n",
      "guess 23000,hypothetical_price 25000.0, error under hypothesis -2000.0\n",
      "guess 23000,hypothetical_price 26000.0, error under hypothesis -3000.0\n",
      "guess 23000,hypothetical_price 27000.0, error under hypothesis -4000.0\n",
      "guess 23000,hypothetical_price 28000.0, error under hypothesis -5000.0\n",
      "guess 23000,hypothetical_price 29000.0, error under hypothesis -6000.0\n",
      "guess 23000,hypothetical_price 30000.0, error under hypothesis -7000.0\n",
      "guess 23000,hypothetical_price 31000.0, error under hypothesis -8000.0\n",
      "guess 23000,hypothetical_price 32000.0, error under hypothesis -9000.0\n",
      "guess 23000,hypothetical_price 33000.0, error under hypothesis -10000.0\n",
      "guess 23000,hypothetical_price 34000.0, error under hypothesis -11000.0\n",
      "guess 23000,hypothetical_price 35000.0, error under hypothesis -12000.0\n",
      "guess 23000,hypothetical_price 36000.0, error under hypothesis -13000.0\n",
      "guess 23000,hypothetical_price 37000.0, error under hypothesis -14000.0\n",
      "guess 23000,hypothetical_price 38000.0, error under hypothesis -15000.0\n",
      "guess 23000,hypothetical_price 39000.0, error under hypothesis -16000.0\n",
      "guess 23000,hypothetical_price 40000.0, error under hypothesis -17000.0\n",
      "guess 23000,hypothetical_price 41000.0, error under hypothesis -18000.0\n",
      "guess 23000,hypothetical_price 42000.0, error under hypothesis -19000.0\n",
      "guess 23000,hypothetical_price 43000.0, error under hypothesis -20000.0\n",
      "guess 23000,hypothetical_price 44000.0, error under hypothesis -21000.0\n",
      "guess 23000,hypothetical_price 45000.0, error under hypothesis -22000.0\n",
      "guess 23000,hypothetical_price 46000.0, error under hypothesis -23000.0\n",
      "guess 23000,hypothetical_price 47000.0, error under hypothesis -24000.0\n",
      "guess 23000,hypothetical_price 48000.0, error under hypothesis -25000.0\n",
      "guess 23000,hypothetical_price 49000.0, error under hypothesis -26000.0\n",
      "guess 23000,hypothetical_price 50000.0, error under hypothesis -27000.0\n",
      "guess 23000,hypothetical_price 51000.0, error under hypothesis -28000.0\n",
      "guess 23000,hypothetical_price 52000.0, error under hypothesis -29000.0\n",
      "guess 23000,hypothetical_price 53000.0, error under hypothesis -30000.0\n",
      "guess 23000,hypothetical_price 54000.0, error under hypothesis -31000.0\n",
      "guess 23000,hypothetical_price 55000.0, error under hypothesis -32000.0\n",
      "guess 23000,hypothetical_price 56000.0, error under hypothesis -33000.0\n",
      "guess 23000,hypothetical_price 57000.0, error under hypothesis -34000.0\n",
      "guess 23000,hypothetical_price 58000.0, error under hypothesis -35000.0\n",
      "guess 23000,hypothetical_price 59000.0, error under hypothesis -36000.0\n",
      "guess 23000,hypothetical_price 60000.0, error under hypothesis -37000.0\n",
      "guess 23000,hypothetical_price 61000.0, error under hypothesis -38000.0\n",
      "guess 23000,hypothetical_price 62000.0, error under hypothesis -39000.0\n",
      "guess 23000,hypothetical_price 63000.0, error under hypothesis -40000.0\n",
      "guess 23000,hypothetical_price 64000.0, error under hypothesis -41000.0\n",
      "guess 23000,hypothetical_price 65000.0, error under hypothesis -42000.0\n",
      "guess 23000,hypothetical_price 66000.0, error under hypothesis -43000.0\n",
      "guess 23000,hypothetical_price 67000.0, error under hypothesis -44000.0\n",
      "guess 23000,hypothetical_price 68000.0, error under hypothesis -45000.0\n",
      "guess 23000,hypothetical_price 69000.0, error under hypothesis -46000.0\n",
      "guess 23000,hypothetical_price 70000.0, error under hypothesis -47000.0\n",
      "guess 23000,hypothetical_price 71000.0, error under hypothesis -48000.0\n",
      "guess 23000,hypothetical_price 72000.0, error under hypothesis -49000.0\n",
      "guess 23000,hypothetical_price 73000.0, error under hypothesis -50000.0\n",
      "guess 23000,hypothetical_price 74000.0, error under hypothesis -51000.0\n",
      "guess 23000,hypothetical_price 75000.0, error under hypothesis -52000.0\n",
      "guess 23000,hypothetical_price 76000.0, error under hypothesis -53000.0\n",
      "guess 23000,hypothetical_price 77000.0, error under hypothesis -54000.0\n",
      "guess 23000,hypothetical_price 78000.0, error under hypothesis -55000.0\n",
      "guess 23000,hypothetical_price 79000.0, error under hypothesis -56000.0\n",
      "guess 23000,hypothetical_price 80000.0, error under hypothesis -57000.0\n"
     ]
    }
   ],
   "source": [
    "# IF our data was a simple guess.\n",
    "# D = 23000\n",
    "# P(D) = prior1.pdf(D)\n",
    "# P(D|H) = showcase1.pdf(D)\n",
    "# Now instead we transform the guess into a possible error\n",
    "# Err = D - Hypothesis \n",
    "\n",
    "guess1 = 23000\n",
    "error1 = guess1 - prior1.qs # error under each hypothesis\n",
    "\n",
    "for error,hypothethical_price in zip(error1, prior1.qs):\n",
    "    print(f'guess {guess1},hypothetical_price {hypothethical_price}, error under hypothesis {error}')\n"
   ]
  },
  {
   "cell_type": "code",
   "execution_count": 25,
   "metadata": {},
   "outputs": [
    {
     "data": {
      "text/plain": [
       "<Axes: >"
      ]
     },
     "execution_count": 25,
     "metadata": {},
     "output_type": "execute_result"
    },
    {
     "data": {
      "image/png": "[encoded data removed]",
      "text/plain": [
       "<Figure size 640x480 with 1 Axes>"
      ]
     },
     "metadata": {},
     "output_type": "display_data"
    }
   ],
   "source": [
    "# likelihood function P(D|H) ~Norm(0, sample_std(diff1))\n",
    "# P(D|H) - generates pdfs but they can be used in likelihood as they are proportional to probabilities\n",
    "likelihood1 = error_dist1.pdf(error1)\n",
    "posterior1 = prior1 * likelihood1\n",
    "posterior1.normalize()\n",
    "prior1.plot(label='Prior 1') \n",
    "posterior1.plot(label='Posterior 1')\n",
    "\n",
    "\n",
    "\n",
    "\n"
   ]
  },
  {
   "cell_type": "markdown",
   "metadata": {},
   "source": [
    "Now suppose we know, based on past performance, that your estimation error is well modeled by `error_dist1`.\n",
    "Under that assumption we can compute the likelihood of your error under each hypothesis."
   ]
  },
  {
   "cell_type": "code",
   "execution_count": 26,
   "metadata": {
    "execution": {
     "iopub.execute_input": "2021-04-16T19:35:43.231953Z",
     "iopub.status.busy": "2021-04-16T19:35:43.231397Z",
     "iopub.status.idle": "2021-04-16T19:35:43.233519Z",
     "shell.execute_reply": "2021-04-16T19:35:43.233990Z"
    }
   },
   "outputs": [],
   "source": [
    "likelihood1 = error_dist1.pdf(error1)"
   ]
  },
  {
   "cell_type": "markdown",
   "metadata": {},
   "source": [
    "The result is an array of likelihoods, which we can use to update the prior."
   ]
  },
  {
   "cell_type": "code",
   "execution_count": 27,
   "metadata": {
    "execution": {
     "iopub.execute_input": "2021-04-16T19:35:43.239353Z",
     "iopub.status.busy": "2021-04-16T19:35:43.238671Z",
     "iopub.status.idle": "2021-04-16T19:35:43.241477Z",
     "shell.execute_reply": "2021-04-16T19:35:43.241931Z"
    },
    "tags": []
   },
   "outputs": [
    {
     "data": {
      "text/plain": [
       "3.3889812097254624e-05"
      ]
     },
     "execution_count": 27,
     "metadata": {},
     "output_type": "execute_result"
    }
   ],
   "source": [
    "posterior1 = prior1 * likelihood1\n",
    "posterior1.normalize()"
   ]
  },
  {
   "cell_type": "markdown",
   "metadata": {},
   "source": [
    "Here's what the posterior distribution looks like:"
   ]
  },
  {
   "cell_type": "code",
   "execution_count": 28,
   "metadata": {
    "execution": {
     "iopub.execute_input": "2021-04-16T19:35:43.288160Z",
     "iopub.status.busy": "2021-04-16T19:35:43.287654Z",
     "iopub.status.idle": "2021-04-16T19:35:43.431834Z",
     "shell.execute_reply": "2021-04-16T19:35:43.432442Z"
    },
    "tags": []
   },
   "outputs": [
    {
     "data": {
      "text/plain": [
       "Text(26192.024002392536, 0, '$\\\\mu_{posterior}$')"
      ]
     },
     "execution_count": 28,
     "metadata": {},
     "output_type": "execute_result"
    },
    {
     "data": {
      "image/png": "[encoded data removed]",
      "text/plain": [
       "<Figure size 640x480 with 1 Axes>"
      ]
     },
     "metadata": {},
     "output_type": "display_data"
    }
   ],
   "source": [
    "import matplotlib.pyplot as plt\n",
    "\n",
    "\n",
    "prior1.plot(color='C5', label=r'Prior 1, $\\mu$={:.0f}'.format(prior1.mean()))\n",
    "posterior1.plot(color='C4', label=r'Posterior 1, $\\mu$={:.0f}'.format(posterior1.mean()))\n",
    "\n",
    "plt.xlabel('Value of Showcase ($)')\n",
    "plt.ylabel('PMF')\n",
    "plt.title(f'Prior and posterior distribution of showcase value with guess {guess1}')\n",
    "plt.legend()\n",
    "\n",
    "plt.text(prior1.mean(), 0, r'$\\mu_{prior}$', fontsize=12, va='bottom', ha='center', color='C5')\n",
    "plt.text(posterior1.mean(), 0, r'$\\mu_{posterior}$', fontsize=12, va='bottom', ha='center', color='C4')\n",
    "\n",
    "\n",
    "\n"
   ]
  },
  {
   "cell_type": "markdown",
   "metadata": {},
   "source": [
    "Because your initial guess is in the lower end of the range, the posterior distribution has shifted to the left.  We can compute the posterior mean to see by how much."
   ]
  },
  {
   "cell_type": "code",
   "execution_count": 29,
   "metadata": {
    "execution": {
     "iopub.execute_input": "2021-04-16T19:35:43.436831Z",
     "iopub.status.busy": "2021-04-16T19:35:43.436115Z",
     "iopub.status.idle": "2021-04-16T19:35:43.440717Z",
     "shell.execute_reply": "2021-04-16T19:35:43.441327Z"
    }
   },
   "outputs": [
    {
     "data": {
      "text/plain": [
       "(30299.488817891375, 26192.024002392536)"
      ]
     },
     "execution_count": 29,
     "metadata": {},
     "output_type": "execute_result"
    }
   ],
   "source": [
    "# Apriori, from observing the price is right game I believe the value of showcase is around 30k, after my initial guess of 23k I believe the actual value is around 26k. \n",
    "prior1.mean(), posterior1.mean()\n",
    "\n",
    "# posterior1.max_prob()"
   ]
  },
  {
   "cell_type": "markdown",
   "metadata": {},
   "source": [
    "Before you saw the prizes, you expected to see a showcase with a value close to \\\\$30,000.\n",
    "After making a guess of \\\\$23,000, you updated the prior distribution.\n",
    "Based on the combination of the prior and your guess, you now expect the actual price to be about \\\\$26,000."
   ]
  },
  {
   "cell_type": "markdown",
   "metadata": {},
   "source": [
    "**Exercise:** Now suppose you are Player 2.  When you see your showcase, you guess that the total price is \\\\$38,000.\n",
    "\n",
    "Use `diff2` to construct a normal distribution that represents the distribution of your estimation errors.\n",
    "\n",
    "Compute the likelihood of your guess for each actual price and use it to update `prior2`.\n",
    "\n",
    "Plot the posterior distribution and compute the posterior mean.  Based on the prior and your guess, what do you expect the actual price of the showcase to be?"
   ]
  },
  {
   "cell_type": "code",
   "execution_count": 30,
   "metadata": {
    "execution": {
     "iopub.execute_input": "2021-04-16T19:35:43.446313Z",
     "iopub.status.busy": "2021-04-16T19:35:43.445597Z",
     "iopub.status.idle": "2021-04-16T19:35:43.448186Z",
     "shell.execute_reply": "2021-04-16T19:35:43.448776Z"
    }
   },
   "outputs": [
    {
     "data": {
      "text/plain": [
       "5.7926970106314996e-05"
      ]
     },
     "execution_count": 30,
     "metadata": {},
     "output_type": "execute_result"
    }
   ],
   "source": [
    "# Solution goes here\n",
    "\n",
    "# Calculate the difference between Bid 2 and Showcase 2\n",
    "sample_diff2 = df['Bid 2'] - df['Showcase 2']\n",
    "\n",
    "# Calculate the mean and standard deviation of the difference\n",
    "mean_diff2, std_diff2 = sample_diff2.mean(), sample_diff2.std()\n",
    "\n",
    "# Create a normal distribution with mean 0 and standard deviation equal to the standard deviation of the difference\n",
    "error_dist2 = norm(0, std_diff2)\n",
    "\n",
    "# Calculate the probability density function of making an underestimation error of 100 usd\n",
    "error_dist2.pdf(-100)\n"
   ]
  },
  {
   "cell_type": "code",
   "execution_count": 31,
   "metadata": {},
   "outputs": [
    {
     "data": {
      "image/png": "[encoded data removed]",
      "text/plain": [
       "<Figure size 640x480 with 1 Axes>"
      ]
     },
     "metadata": {},
     "output_type": "display_data"
    }
   ],
   "source": [
    "\n",
    "# Set the guess for Showcase 2\n",
    "guess2 = 38000\n",
    "\n",
    "# Calculate the error between the guess and the quantities of the prior distribution\n",
    "error2 = guess2 - prior2.qs\n",
    "\n",
    "# Calculate the likelihood of the error given the normal distribution\n",
    "likelihood2 = error_dist2.pdf(error2)\n",
    "\n",
    "# Calculate the posterior distribution by multiplying the prior and likelihood and normalizing\n",
    "posterior2 = prior2 * likelihood2\n",
    "posterior2.normalize()\n",
    "\n",
    "# Plot the prior and posterior distributions\n",
    "prior2.plot(color='C5', label=f'Prior 2, $\\mu$ = {prior2.mean():.0f}')\n",
    "posterior2.plot(color='C3', label=f'Posterior 2, $\\mu$ = {posterior2.mean():.0f}')\n",
    "\n",
    "\n",
    "decorate(title = f\"Prior and posterior distribution of showcase 2 after guess {guess2}\")\n",
    "\n",
    "# Calculate the mean of the prior and posterior distributions\n",
    "prior2_mean, posterior2_mean = prior2.mean(), posterior2.mean()\n",
    "\n",
    "\n",
    "\n"
   ]
  },
  {
   "cell_type": "code",
   "execution_count": 32,
   "metadata": {},
   "outputs": [
    {
     "data": {
      "text/plain": [
       "(31047.62371912251, 38000, 34305.20161642469)"
      ]
     },
     "execution_count": 32,
     "metadata": {},
     "output_type": "execute_result"
    }
   ],
   "source": [
    "# Apriori - from watching previous games I expect the showcase to be worth 31k, after my initial guess of 38k I updated my belief to 34k\n",
    "prior2_mean, guess2, posterior2_mean"
   ]
  },
  {
   "cell_type": "code",
   "execution_count": 33,
   "metadata": {},
   "outputs": [],
   "source": [
    "def prob_overbid(sample_diff):\n",
    "    return mean(sample_diff > 0)"
   ]
  },
  {
   "cell_type": "markdown",
   "metadata": {},
   "source": [
    "## Probability of Winning\n",
    "\n",
    "Now that we have a posterior distribution for each player, let's think about strategy.\n",
    "\n",
    "First, from the point of view of Player 1, let's compute the probability that Player 2 overbids.  To keep it simple, I'll use only the performance of past players, ignoring the value of the showcase. \n",
    "\n",
    "The following function takes a sequence of past bids and returns the fraction that overbid."
   ]
  },
  {
   "cell_type": "code",
   "execution_count": 34,
   "metadata": {
    "execution": {
     "iopub.execute_input": "2021-04-16T19:35:43.782090Z",
     "iopub.status.busy": "2021-04-16T19:35:43.781438Z",
     "iopub.status.idle": "2021-04-16T19:35:43.785129Z",
     "shell.execute_reply": "2021-04-16T19:35:43.785964Z"
    }
   },
   "outputs": [],
   "source": [
    "#NOTE: diff = bid - actual_value\n",
    "# diff > 0 signifies overbid\n",
    "# diff < 0 signifies underbid\n",
    "def prob_overbid(sample_diff):\n",
    "    \"\"\"Compute the probability of an overbid.\"\"\"\n",
    "    return np.mean(sample_diff > 0)"
   ]
  },
  {
   "cell_type": "markdown",
   "metadata": {},
   "source": [
    "Here's an estimate for the probability that Player 2 overbids."
   ]
  },
  {
   "cell_type": "code",
   "execution_count": 35,
   "metadata": {
    "execution": {
     "iopub.execute_input": "2021-04-16T19:35:43.791906Z",
     "iopub.status.busy": "2021-04-16T19:35:43.791267Z",
     "iopub.status.idle": "2021-04-16T19:35:43.798095Z",
     "shell.execute_reply": "2021-04-16T19:35:43.797335Z"
    }
   },
   "outputs": [
    {
     "data": {
      "text/plain": [
       "0.29073482428115016"
      ]
     },
     "execution_count": 35,
     "metadata": {},
     "output_type": "execute_result"
    }
   ],
   "source": [
    "# sample estimate of the probability of overbidding\n",
    "prob_overbid(sample_diff2)"
   ]
  },
  {
   "cell_type": "markdown",
   "metadata": {},
   "source": [
    "Now suppose Player 1 underbids by \\\\$5000.\n",
    "What is the probability that Player 2 underbids by more?\n",
    "\n",
    "The following function uses past performance to estimate the probability that a player underbids by more than a given amount, `diff`:"
   ]
  },
  {
   "cell_type": "code",
   "execution_count": 36,
   "metadata": {
    "execution": {
     "iopub.execute_input": "2021-04-16T19:35:43.803290Z",
     "iopub.status.busy": "2021-04-16T19:35:43.802451Z",
     "iopub.status.idle": "2021-04-16T19:35:43.807092Z",
     "shell.execute_reply": "2021-04-16T19:35:43.806213Z"
    }
   },
   "outputs": [],
   "source": [
    "# NOTE: diff = bid - actual_value \n",
    "# example: diff = -1000, means bid was 1000 less than actual value\n",
    "# What is the probability that sample_diff is even lower than -1000\n",
    "def prob_worse_than(diff, sample_diff):\n",
    "    \"\"\"Probability opponent diff is worse than given diff.\"\"\"\n",
    "    return np.mean(sample_diff < diff)"
   ]
  },
  {
   "cell_type": "markdown",
   "metadata": {},
   "source": [
    "Here's the probability that Player 2 underbids by more than \\\\$5000."
   ]
  },
  {
   "cell_type": "code",
   "execution_count": 37,
   "metadata": {
    "execution": {
     "iopub.execute_input": "2021-04-16T19:35:43.812801Z",
     "iopub.status.busy": "2021-04-16T19:35:43.812084Z",
     "iopub.status.idle": "2021-04-16T19:35:43.820076Z",
     "shell.execute_reply": "2021-04-16T19:35:43.819320Z"
    }
   },
   "outputs": [
    {
     "data": {
      "text/plain": [
       "0.38338658146964855"
      ]
     },
     "execution_count": 37,
     "metadata": {},
     "output_type": "execute_result"
    }
   ],
   "source": [
    "# from the perspective of Player1, Player2 has to underbid worse than x=-5000\n",
    "prob_worse_than(-5000, sample_diff2)    "
   ]
  },
  {
   "cell_type": "markdown",
   "metadata": {},
   "source": [
    "And here's the probability they underbid by more than \\\\$10,000."
   ]
  },
  {
   "cell_type": "code",
   "execution_count": 38,
   "metadata": {
    "execution": {
     "iopub.execute_input": "2021-04-16T19:35:43.826928Z",
     "iopub.status.busy": "2021-04-16T19:35:43.826246Z",
     "iopub.status.idle": "2021-04-16T19:35:43.830095Z",
     "shell.execute_reply": "2021-04-16T19:35:43.830762Z"
    }
   },
   "outputs": [
    {
     "data": {
      "text/plain": [
       "0.14376996805111822"
      ]
     },
     "execution_count": 38,
     "metadata": {},
     "output_type": "execute_result"
    }
   ],
   "source": [
    "prob_worse_than(-10000, sample_diff2)"
   ]
  },
  {
   "cell_type": "markdown",
   "metadata": {},
   "source": [
    "We can combine these functions to compute the probability that Player 1 wins, given the difference between their bid and the actual price:"
   ]
  },
  {
   "cell_type": "code",
   "execution_count": 39,
   "metadata": {
    "execution": {
     "iopub.execute_input": "2021-04-16T19:35:43.837850Z",
     "iopub.status.busy": "2021-04-16T19:35:43.837006Z",
     "iopub.status.idle": "2021-04-16T19:35:43.840521Z",
     "shell.execute_reply": "2021-04-16T19:35:43.839477Z"
    }
   },
   "outputs": [],
   "source": [
    "def compute_prob_win(diff, sample_diff):\n",
    "    \"\"\"Probability of winning for a given diff.\"\"\"\n",
    "    # if you overbid you lose\n",
    "    if diff > 0:\n",
    "        return 0\n",
    "    \n",
    "    # if the opponent overbids, you win\n",
    "    p1 = prob_overbid(sample_diff)\n",
    "    \n",
    "    # or of their bid is worse than yours, you win\n",
    "    p2 = prob_worse_than(diff, sample_diff)\n",
    "    \n",
    "    # p1 and p2 are mutually exclusive, so we can add them\n",
    "    return p1 + p2"
   ]
  },
  {
   "cell_type": "markdown",
   "metadata": {},
   "source": [
    "Here's the probability that you win, given that you underbid by \\\\$5000."
   ]
  },
  {
   "cell_type": "code",
   "execution_count": 40,
   "metadata": {
    "execution": {
     "iopub.execute_input": "2021-04-16T19:35:43.846964Z",
     "iopub.status.busy": "2021-04-16T19:35:43.846152Z",
     "iopub.status.idle": "2021-04-16T19:35:43.848940Z",
     "shell.execute_reply": "2021-04-16T19:35:43.849568Z"
    }
   },
   "outputs": [
    {
     "data": {
      "text/plain": [
       "0.6741214057507987"
      ]
     },
     "execution_count": 40,
     "metadata": {},
     "output_type": "execute_result"
    }
   ],
   "source": [
    "compute_prob_win(-5000, sample_diff2)"
   ]
  },
  {
   "cell_type": "markdown",
   "metadata": {},
   "source": [
    "Now let's look at the probability of winning for a range of possible differences."
   ]
  },
  {
   "cell_type": "code",
   "execution_count": 41,
   "metadata": {},
   "outputs": [
    {
     "data": {
      "image/png": "[encoded data removed]",
      "text/plain": [
       "<Figure size 640x480 with 1 Axes>"
      ]
     },
     "metadata": {},
     "output_type": "display_data"
    }
   ],
   "source": [
    "import matplotlib.pyplot as plt\n",
    "\n",
    "# from the perspective of Player1, Player2 is the sample_diff\n",
    "errors1 = np.linspace(-30000, 1000, 101)\n",
    "ys = [compute_prob_win(error, sample_diff2) for error in errors1]\n",
    "\n",
    "plt.plot(errors1, ys, color='C0')\n",
    "decorate(\n",
    "    xlabel='Error (usd) - difference between the bid and the actual value of the showcase',\n",
    "    ylabel='Probability of winning',\n",
    "    title='Probability of winning for different errors'\n",
    ")"
   ]
  },
  {
   "cell_type": "markdown",
   "metadata": {},
   "source": [
    "If you underbid by \\\\$30,000, the chance of winning is about 30%, which is mostly the chance your opponent overbids.\n",
    "\n",
    "As your bids gets closer to the actual price, your chance of winning approaches 1.\n",
    "\n",
    "And, of course, if you overbid, you lose (even if your opponent also overbids)."
   ]
  },
  {
   "cell_type": "markdown",
   "metadata": {},
   "source": [
    "**Exercise:** Run the same analysis from the point of view of Player 2.  Using the sample of differences from Player 1, compute:\n",
    "\n",
    "1. The probability that Player 1 overbids.\n",
    "\n",
    "2. The probability that Player 1 underbids by more than \\\\$5000.\n",
    "\n",
    "3. The probability that Player 2 wins, given that they underbid by \\\\$5000.\n",
    "\n",
    "Then plot the probability that Player 2 wins for a range of possible differences between their bid and the actual price."
   ]
  },
  {
   "cell_type": "code",
   "execution_count": 42,
   "metadata": {
    "execution": {
     "iopub.execute_input": "2021-04-16T19:35:44.207596Z",
     "iopub.status.busy": "2021-04-16T19:35:44.206660Z",
     "iopub.status.idle": "2021-04-16T19:35:44.210043Z",
     "shell.execute_reply": "2021-04-16T19:35:44.210868Z"
    }
   },
   "outputs": [
    {
     "data": {
      "text/plain": [
       "0.6453674121405751"
      ]
     },
     "execution_count": 42,
     "metadata": {},
     "output_type": "execute_result"
    }
   ],
   "source": [
    "# Solution goes here\n",
    "def prob_overbid(sample_diff):\n",
    "    \"\"\"Compute the probability of an overbid.\"\"\"\n",
    "    return np.mean(sample_diff > 0)\n",
    "\n",
    "p1 = prob_overbid(sample_diff1)\n",
    "\n",
    "def prob_worse_than(diff, sample_diff):\n",
    "    \"\"\"Probability opponent diff is worse than given diff.\"\"\"\n",
    "    return np.mean(sample_diff < diff)\n",
    "\n",
    "# from the perspective of player2, player 2 is the sample_diff\n",
    "p2 = prob_worse_than(-5000, sample_diff1)\n",
    "\n",
    "win_p2 = p1 + p2\n",
    "win_p2"
   ]
  },
  {
   "cell_type": "code",
   "execution_count": 43,
   "metadata": {
    "execution": {
     "iopub.execute_input": "2021-04-16T19:35:44.218842Z",
     "iopub.status.busy": "2021-04-16T19:35:44.217621Z",
     "iopub.status.idle": "2021-04-16T19:35:44.221106Z",
     "shell.execute_reply": "2021-04-16T19:35:44.222054Z"
    }
   },
   "outputs": [
    {
     "data": {
      "image/png": "[encoded data removed]",
      "text/plain": [
       "<Figure size 640x480 with 1 Axes>"
      ]
     },
     "metadata": {},
     "output_type": "display_data"
    }
   ],
   "source": [
    "# Solution goes here\n",
    "errors2 = np.linspace(-30000, 1000, 101)\n",
    "probs = [compute_prob_win(error, sample_diff1) for error in errors2]\n",
    "\n",
    "plt.plot(errors2, probs, color='C0')\n",
    "decorate(\n",
    "    xlabel='Error (usd) - difference between the bid and the actual value of the showcase',\n",
    "    ylabel='Probability of winning',\n",
    "    title='Probability of winning for different errors for player 2'\n",
    ")"
   ]
  },
  {
   "cell_type": "code",
   "execution_count": 109,
   "metadata": {},
   "outputs": [
    {
     "data": {
      "text/plain": [
       "(21000.0, 0.6136807192359474)"
      ]
     },
     "execution_count": 109,
     "metadata": {},
     "output_type": "execute_result"
    },
    {
     "data": {
      "image/png": "[encoded data removed]",
      "text/plain": [
       "<Figure size 640x480 with 1 Axes>"
      ]
     },
     "metadata": {},
     "output_type": "display_data"
    }
   ],
   "source": [
    "# Player1 and Player2 each have their estimate of showcase value which they use to update the prior from data and build posterior\n",
    "chosen_action = 35000\n",
    "\n",
    "def calc_prob_win(chosen_action, posterior, sample_diff_other_player):\n",
    "    \"\"\"Compute the probability of winning for a given action.\"\"\"\n",
    "    total = 0\n",
    "    for q, p in posterior.items():\n",
    "        my_diff = chosen_action - q\n",
    "        total += p * compute_prob_win(my_diff, sample_diff_other_player)\n",
    "\n",
    "    return total\n",
    "\n",
    "ys = [calc_prob_win(action, posterior1, sample_diff2) for action in posterior1.qs]\n",
    "\n",
    "prob_win_series = pd.Series(ys, index=posterior1.qs)\n",
    "prob_win_series.plot(color='C0')\n",
    "prob_win_series.idxmax(), prob_win_series.max()\n"
   ]
  },
  {
   "cell_type": "code",
   "execution_count": 126,
   "metadata": {},
   "outputs": [
    {
     "data": {
      "text/plain": [
       "16923.599338565116"
      ]
     },
     "execution_count": 126,
     "metadata": {},
     "output_type": "execute_result"
    }
   ],
   "source": [
    "def calc_exp_return(chosen_action, posterior, sample_diff_other_player):\n",
    "    \"\"\"Compute the expected return for a given action.\"\"\"\n",
    "    total = 0\n",
    "    for q, p in posterior.items():\n",
    "        my_diff = chosen_action - q\n",
    "        if my_diff >= -250:\n",
    "            total += p * compute_prob_win(my_diff, sample_diff_other_player) * q * 2\n",
    "        else:\n",
    "            total += p * compute_prob_win(my_diff, sample_diff_other_player) * q\n",
    "\n",
    "    return total\n",
    "\n",
    "calc_exp_return(21000, posterior1, sample_diff2)"
   ]
  },
  {
   "cell_type": "code",
   "execution_count": null,
   "metadata": {},
   "outputs": [],
   "source": [
    "\n",
    "ys = [calc_exp_return(action, posterior1, sample_diff2) for action in posterior1.qs]\n",
    "\n",
    "exp_return_series = pd.Series(ys, index=posterior1.qs)\n",
    "exp_return_series.plot(color='C0')\n",
    "exp_return_series.idxmax(), exp_return_series.max()"
   ]
  },
  {
   "cell_type": "markdown",
   "metadata": {},
   "source": [
    "## Decision Analysis\n",
    "\n",
    "In the previous section we computed the probability of winning, given that we have underbid by a particular amount.\n",
    "\n",
    "In reality the contestants don't know how much they have underbid by, because they don't know the actual price.\n",
    "\n",
    "But they do have a posterior distribution that represents their beliefs about the actual price, and they can use that to estimate their probability of winning with a given bid.\n",
    "\n",
    "The following function takes a possible bid, a posterior distribution of actual prices, and a sample of differences for the opponent.\n",
    "\n",
    "It loops through the hypothetical prices in the posterior distribution and, for each price,\n",
    "\n",
    "1. Computes the difference between the bid and the hypothetical price,\n",
    "\n",
    "2. Computes the probability that the player wins, given that difference, and\n",
    "\n",
    "3. Adds up the weighted sum of the probabilities, where the weights are the probabilities in the posterior distribution. "
   ]
  },
  {
   "cell_type": "code",
   "execution_count": 45,
   "metadata": {
    "execution": {
     "iopub.execute_input": "2021-04-16T19:35:44.570768Z",
     "iopub.status.busy": "2021-04-16T19:35:44.570139Z",
     "iopub.status.idle": "2021-04-16T19:35:44.574093Z",
     "shell.execute_reply": "2021-04-16T19:35:44.573672Z"
    }
   },
   "outputs": [],
   "source": [
    "# NOTE: why is posterior here?\n",
    "\n",
    "def total_prob_win(bid, posterior, sample_diff):\n",
    "    \"\"\"Computes the total probability of winning with a given bid.\n",
    "\n",
    "    bid: your bid\n",
    "    posterior: Pmf of showcase value\n",
    "    sample_diff: sequence of differences for the opponent\n",
    "    \n",
    "    returns: probability of winning\n",
    "    \"\"\"\n",
    "    total = 0\n",
    "    for price, prob in posterior.items():\n",
    "        diff = bid - price\n",
    "        total += prob * compute_prob_win(diff, sample_diff)\n",
    "    return total"
   ]
  },
  {
   "cell_type": "markdown",
   "metadata": {},
   "source": [
    "This loop implements the law of total probability:\n",
    "\n",
    "$$P(win) = \\sum_{price} P(price) ~ P(win ~|~ price)$$\n",
    "\n",
    "Here's the probability that Player 1 wins, based on a bid of \\\\$25,000 and the posterior distribution `posterior1`."
   ]
  },
  {
   "cell_type": "code",
   "execution_count": 46,
   "metadata": {
    "execution": {
     "iopub.execute_input": "2021-04-16T19:35:44.628806Z",
     "iopub.status.busy": "2021-04-16T19:35:44.612939Z",
     "iopub.status.idle": "2021-04-16T19:35:44.632948Z",
     "shell.execute_reply": "2021-04-16T19:35:44.633353Z"
    }
   },
   "outputs": [
    {
     "data": {
      "text/plain": [
       "0.4842210945439812"
      ]
     },
     "execution_count": 46,
     "metadata": {},
     "output_type": "execute_result"
    }
   ],
   "source": [
    "total_prob_win(25000, posterior1, sample_diff2)"
   ]
  },
  {
   "cell_type": "markdown",
   "metadata": {},
   "source": [
    "Now we can loop through a series of possible bids and compute the probability of winning for each one."
   ]
  },
  {
   "cell_type": "code",
   "execution_count": 47,
   "metadata": {
    "execution": {
     "iopub.execute_input": "2021-04-16T19:35:44.708685Z",
     "iopub.status.busy": "2021-04-16T19:35:44.672661Z",
     "iopub.status.idle": "2021-04-16T19:35:46.270662Z",
     "shell.execute_reply": "2021-04-16T19:35:46.270147Z"
    }
   },
   "outputs": [],
   "source": [
    "bids = posterior1.qs\n",
    "\n",
    "probs = [total_prob_win(bid, posterior1, sample_diff2) \n",
    "         for bid in bids]\n",
    "\n",
    "prob_win_series = pd.Series(probs, index=bids)"
   ]
  },
  {
   "cell_type": "markdown",
   "metadata": {},
   "source": [
    "Here are the results."
   ]
  },
  {
   "cell_type": "code",
   "execution_count": 48,
   "metadata": {
    "execution": {
     "iopub.execute_input": "2021-04-16T19:35:46.306239Z",
     "iopub.status.busy": "2021-04-16T19:35:46.291839Z",
     "iopub.status.idle": "2021-04-16T19:35:46.422364Z",
     "shell.execute_reply": "2021-04-16T19:35:46.421956Z"
    },
    "tags": []
   },
   "outputs": [
    {
     "data": {
      "image/png": "[encoded data removed]",
      "text/plain": [
       "<Figure size 640x480 with 1 Axes>"
      ]
     },
     "metadata": {},
     "output_type": "display_data"
    }
   ],
   "source": [
    "prob_win_series.plot(label='Player 1', color='C1')\n",
    "\n",
    "decorate(xlabel='Bid ($)',\n",
    "         ylabel='Probability of winning',\n",
    "         title='Optimal bid: probability of winning')"
   ]
  },
  {
   "cell_type": "markdown",
   "metadata": {},
   "source": [
    "And here's the bid that maximizes Player 1's chance of winning."
   ]
  },
  {
   "cell_type": "code",
   "execution_count": 49,
   "metadata": {
    "execution": {
     "iopub.execute_input": "2021-04-16T19:35:46.425882Z",
     "iopub.status.busy": "2021-04-16T19:35:46.425408Z",
     "iopub.status.idle": "2021-04-16T19:35:46.430103Z",
     "shell.execute_reply": "2021-04-16T19:35:46.429712Z"
    }
   },
   "outputs": [
    {
     "data": {
      "text/plain": [
       "21000.0"
      ]
     },
     "execution_count": 49,
     "metadata": {},
     "output_type": "execute_result"
    }
   ],
   "source": [
    "prob_win_series.idxmax()"
   ]
  },
  {
   "cell_type": "code",
   "execution_count": 50,
   "metadata": {
    "execution": {
     "iopub.execute_input": "2021-04-16T19:35:46.433880Z",
     "iopub.status.busy": "2021-04-16T19:35:46.433042Z",
     "iopub.status.idle": "2021-04-16T19:35:46.437889Z",
     "shell.execute_reply": "2021-04-16T19:35:46.437462Z"
    }
   },
   "outputs": [
    {
     "data": {
      "text/plain": [
       "0.6136807192359474"
      ]
     },
     "execution_count": 50,
     "metadata": {},
     "output_type": "execute_result"
    }
   ],
   "source": [
    "prob_win_series.max()"
   ]
  },
  {
   "cell_type": "markdown",
   "metadata": {},
   "source": [
    "Recall that your guess was \\\\$23,000.\n",
    "Using your guess to compute the posterior distribution, the posterior mean is about \\\\$26,000.\n",
    "But the bid that maximizes your chance of winning is \\\\$21,000."
   ]
  },
  {
   "cell_type": "markdown",
   "metadata": {},
   "source": [
    "**Exercise:** Do the same analysis for Player 2."
   ]
  },
  {
   "cell_type": "code",
   "execution_count": 114,
   "metadata": {
    "execution": {
     "iopub.execute_input": "2021-04-16T19:35:46.495866Z",
     "iopub.status.busy": "2021-04-16T19:35:46.460137Z",
     "iopub.status.idle": "2021-04-16T19:35:47.898014Z",
     "shell.execute_reply": "2021-04-16T19:35:47.897569Z"
    }
   },
   "outputs": [
    {
     "data": {
      "text/plain": [
       "0.4732547273935544"
      ]
     },
     "execution_count": 114,
     "metadata": {},
     "output_type": "execute_result"
    },
    {
     "data": {
      "image/png": "[encoded data removed]",
      "text/plain": [
       "<Figure size 640x480 with 1 Axes>"
      ]
     },
     "metadata": {},
     "output_type": "display_data"
    }
   ],
   "source": [
    "# Solution goes here\n",
    "posterior2.plot()\n",
    "\n",
    "total_prob_win(25000, posterior2, sample_diff1)"
   ]
  },
  {
   "cell_type": "code",
   "execution_count": 119,
   "metadata": {
    "execution": {
     "iopub.execute_input": "2021-04-16T19:35:47.916760Z",
     "iopub.status.busy": "2021-04-16T19:35:47.915987Z",
     "iopub.status.idle": "2021-04-16T19:35:48.073976Z",
     "shell.execute_reply": "2021-04-16T19:35:48.073607Z"
    }
   },
   "outputs": [
    {
     "data": {
      "text/plain": [
       "34305.20161642469"
      ]
     },
     "execution_count": 119,
     "metadata": {},
     "output_type": "execute_result"
    }
   ],
   "source": [
    "# Solution goes here\n",
    "# Player 2 has a guess of 38000, hence posterior2.mean() = 34k\n",
    "posterior2.mean()\n"
   ]
  },
  {
   "cell_type": "code",
   "execution_count": 120,
   "metadata": {},
   "outputs": [
    {
     "data": {
      "text/plain": [
       "(29000.0, 0.5171370053364229)"
      ]
     },
     "execution_count": 120,
     "metadata": {},
     "output_type": "execute_result"
    },
    {
     "data": {
      "image/png": "[encoded data removed]",
      "text/plain": [
       "<Figure size 640x480 with 1 Axes>"
      ]
     },
     "metadata": {},
     "output_type": "display_data"
    }
   ],
   "source": [
    "\n",
    "bids = posterior2.qs\n",
    "probs_win = [total_prob_win(bid, posterior2, sample_diff1) for bid in bids]\n",
    "total_prob_win_series = pd.Series(probs_win, index=bids)\n",
    "total_prob_win_series.plot(label='Player 2', color='C2')\n",
    "total_prob_win_series.idxmax(), total_prob_win_series.max()"
   ]
  },
  {
   "cell_type": "code",
   "execution_count": 124,
   "metadata": {
    "execution": {
     "iopub.execute_input": "2021-04-16T19:35:48.077656Z",
     "iopub.status.busy": "2021-04-16T19:35:48.077009Z",
     "iopub.status.idle": "2021-04-16T19:35:48.079401Z",
     "shell.execute_reply": "2021-04-16T19:35:48.079754Z"
    }
   },
   "outputs": [
    {
     "data": {
      "text/plain": [
       "(30000.0, 19404.164188501607)"
      ]
     },
     "execution_count": 124,
     "metadata": {},
     "output_type": "execute_result"
    },
    {
     "data": {
      "image/png": "[encoded data removed]",
      "text/plain": [
       "<Figure size 640x480 with 1 Axes>"
      ]
     },
     "metadata": {},
     "output_type": "display_data"
    }
   ],
   "source": [
    "# Solution goes here\n",
    "bids = posterior2.qs\n",
    "exp_returns = [calc_exp_return(bid, posterior2, sample_diff1) for bid in bids]\n",
    "exp_return_series = pd.Series(exp_returns, index=bids)\n",
    "exp_return_series.plot(label='Player 2', color='C2')\n",
    "exp_return_series.idxmax(), exp_return_series.max()"
   ]
  },
  {
   "cell_type": "code",
   "execution_count": 54,
   "metadata": {
    "execution": {
     "iopub.execute_input": "2021-04-16T19:35:48.083673Z",
     "iopub.status.busy": "2021-04-16T19:35:48.082935Z",
     "iopub.status.idle": "2021-04-16T19:35:48.086036Z",
     "shell.execute_reply": "2021-04-16T19:35:48.085566Z"
    }
   },
   "outputs": [],
   "source": [
    "# Solution goes here"
   ]
  },
  {
   "cell_type": "markdown",
   "metadata": {},
   "source": [
    "## Maximizing Expected Gain\n",
    "\n",
    "In the previous section we computed the bid that maximizes your chance of winning.\n",
    "And if that's your goal, the bid we computed is optimal.\n",
    "\n",
    "But winning isn't everything.\n",
    "Remember that if your bid is off by \\\\$250 or less, you win both showcases.\n",
    "So it might be a good idea to increase your bid a little: it increases the chance you overbid and lose, but it also increases the chance of winning both showcases.\n",
    "\n",
    "Let's see how that works out.\n",
    "The following function computes how much you will win, on average, given your bid, the actual price, and a sample of errors for your opponent."
   ]
  },
  {
   "cell_type": "code",
   "execution_count": 55,
   "metadata": {
    "execution": {
     "iopub.execute_input": "2021-04-16T19:35:48.089830Z",
     "iopub.status.busy": "2021-04-16T19:35:48.089389Z",
     "iopub.status.idle": "2021-04-16T19:35:48.091415Z",
     "shell.execute_reply": "2021-04-16T19:35:48.091026Z"
    }
   },
   "outputs": [],
   "source": [
    "def compute_gain(bid, price, sample_diff):\n",
    "    \"\"\"Compute expected gain given a bid and actual price.\"\"\"\n",
    "    diff = bid - price\n",
    "    prob = compute_prob_win(diff, sample_diff)\n",
    "\n",
    "    # if you are within 250 dollars, you win both showcases\n",
    "    if -250 <= diff <= 0:\n",
    "        return 2 * price * prob\n",
    "    else:\n",
    "        return price * prob"
   ]
  },
  {
   "cell_type": "markdown",
   "metadata": {},
   "source": [
    "For example, if the actual price is \\\\$35000 \n",
    "and you bid \\\\$30000, \n",
    "you will win about \\\\$23,600 worth of prizes on average, taking into account your probability of losing, winning one showcase, or winning both."
   ]
  },
  {
   "cell_type": "code",
   "execution_count": 56,
   "metadata": {
    "execution": {
     "iopub.execute_input": "2021-04-16T19:35:48.095957Z",
     "iopub.status.busy": "2021-04-16T19:35:48.095151Z",
     "iopub.status.idle": "2021-04-16T19:35:48.098364Z",
     "shell.execute_reply": "2021-04-16T19:35:48.097922Z"
    }
   },
   "outputs": [
    {
     "data": {
      "text/plain": [
       "23594.249201277955"
      ]
     },
     "execution_count": 56,
     "metadata": {},
     "output_type": "execute_result"
    }
   ],
   "source": [
    "compute_gain(30000, 35000, sample_diff2)"
   ]
  },
  {
   "cell_type": "markdown",
   "metadata": {},
   "source": [
    "In reality we don't know the actual price, but we have a posterior distribution that represents what we know about it.\n",
    "By averaging over the prices and probabilities in the posterior distribution, we can compute the expected gain for a particular bid.\n",
    "\n",
    "In this context, \"expected\" means the average over the possible showcase values, weighted by their probabilities."
   ]
  },
  {
   "cell_type": "code",
   "execution_count": 57,
   "metadata": {
    "execution": {
     "iopub.execute_input": "2021-04-16T19:35:48.102421Z",
     "iopub.status.busy": "2021-04-16T19:35:48.101903Z",
     "iopub.status.idle": "2021-04-16T19:35:48.104181Z",
     "shell.execute_reply": "2021-04-16T19:35:48.103665Z"
    }
   },
   "outputs": [],
   "source": [
    "def expected_gain(bid, posterior, sample_diff):\n",
    "    \"\"\"Compute the expected gain of a given bid.\"\"\"\n",
    "    total = 0\n",
    "    for price, prob in posterior.items():\n",
    "        total += prob * compute_gain(bid, price, sample_diff)\n",
    "    return total"
   ]
  },
  {
   "cell_type": "markdown",
   "metadata": {},
   "source": [
    "For the posterior we computed earlier, based on a guess of \\\\$23,000, the expected gain for a bid of \\\\$21,000 is about \\\\$16,900."
   ]
  },
  {
   "cell_type": "code",
   "execution_count": 58,
   "metadata": {
    "execution": {
     "iopub.execute_input": "2021-04-16T19:35:48.137026Z",
     "iopub.status.busy": "2021-04-16T19:35:48.136553Z",
     "iopub.status.idle": "2021-04-16T19:35:48.139335Z",
     "shell.execute_reply": "2021-04-16T19:35:48.138880Z"
    }
   },
   "outputs": [
    {
     "data": {
      "text/plain": [
       "16923.59933856512"
      ]
     },
     "execution_count": 58,
     "metadata": {},
     "output_type": "execute_result"
    }
   ],
   "source": [
    "expected_gain(21000, posterior1, sample_diff2)"
   ]
  },
  {
   "cell_type": "markdown",
   "metadata": {},
   "source": [
    "But can we do any better? \n",
    "\n",
    "To find out, we can loop through a range of bids and find the one that maximizes expected gain."
   ]
  },
  {
   "cell_type": "code",
   "execution_count": 59,
   "metadata": {
    "execution": {
     "iopub.execute_input": "2021-04-16T19:35:48.212459Z",
     "iopub.status.busy": "2021-04-16T19:35:48.176771Z",
     "iopub.status.idle": "2021-04-16T19:35:49.578032Z",
     "shell.execute_reply": "2021-04-16T19:35:49.577538Z"
    }
   },
   "outputs": [],
   "source": [
    "bids = posterior1.qs\n",
    "\n",
    "gains = [expected_gain(bid, posterior1, sample_diff2) for bid in bids]\n",
    "\n",
    "expected_gain_series = pd.Series(gains, index=bids)"
   ]
  },
  {
   "cell_type": "markdown",
   "metadata": {},
   "source": [
    "Here are the results."
   ]
  },
  {
   "cell_type": "code",
   "execution_count": 60,
   "metadata": {
    "execution": {
     "iopub.execute_input": "2021-04-16T19:35:49.595312Z",
     "iopub.status.busy": "2021-04-16T19:35:49.594806Z",
     "iopub.status.idle": "2021-04-16T19:35:49.758820Z",
     "shell.execute_reply": "2021-04-16T19:35:49.759161Z"
    },
    "tags": []
   },
   "outputs": [
    {
     "data": {
      "image/png": "[encoded data removed]",
      "text/plain": [
       "<Figure size 640x480 with 1 Axes>"
      ]
     },
     "metadata": {},
     "output_type": "display_data"
    }
   ],
   "source": [
    "expected_gain_series.plot(label='Player 1', color='C2')\n",
    "\n",
    "decorate(xlabel='Bid ($)',\n",
    "         ylabel='Expected gain ($)',\n",
    "         title='Optimal bid: expected gain')"
   ]
  },
  {
   "cell_type": "markdown",
   "metadata": {},
   "source": [
    "Here is the optimal bid."
   ]
  },
  {
   "cell_type": "code",
   "execution_count": 61,
   "metadata": {
    "execution": {
     "iopub.execute_input": "2021-04-16T19:35:49.763145Z",
     "iopub.status.busy": "2021-04-16T19:35:49.762475Z",
     "iopub.status.idle": "2021-04-16T19:35:49.764913Z",
     "shell.execute_reply": "2021-04-16T19:35:49.765309Z"
    }
   },
   "outputs": [
    {
     "data": {
      "text/plain": [
       "22000.0"
      ]
     },
     "execution_count": 61,
     "metadata": {},
     "output_type": "execute_result"
    }
   ],
   "source": [
    "expected_gain_series.idxmax()"
   ]
  },
  {
   "cell_type": "markdown",
   "metadata": {},
   "source": [
    "With that bid, the expected gain is about \\\\$17,400."
   ]
  },
  {
   "cell_type": "code",
   "execution_count": 62,
   "metadata": {
    "execution": {
     "iopub.execute_input": "2021-04-16T19:35:49.768943Z",
     "iopub.status.busy": "2021-04-16T19:35:49.768405Z",
     "iopub.status.idle": "2021-04-16T19:35:49.771158Z",
     "shell.execute_reply": "2021-04-16T19:35:49.770667Z"
    }
   },
   "outputs": [
    {
     "data": {
      "text/plain": [
       "17384.899584430797"
      ]
     },
     "execution_count": 62,
     "metadata": {},
     "output_type": "execute_result"
    }
   ],
   "source": [
    "expected_gain_series.max()"
   ]
  },
  {
   "cell_type": "markdown",
   "metadata": {},
   "source": [
    "Recall that your initial guess was \\\\$23,000.\n",
    "The bid that maximizes the chance of winning is \\\\$21,000.\n",
    "And the bid that maximizes your expected gain is \\\\$22,000."
   ]
  },
  {
   "cell_type": "markdown",
   "metadata": {},
   "source": [
    "**Exercise:** Do the same analysis for Player 2."
   ]
  },
  {
   "cell_type": "code",
   "execution_count": 63,
   "metadata": {
    "execution": {
     "iopub.execute_input": "2021-04-16T19:35:49.833753Z",
     "iopub.status.busy": "2021-04-16T19:35:49.808430Z",
     "iopub.status.idle": "2021-04-16T19:35:51.251753Z",
     "shell.execute_reply": "2021-04-16T19:35:51.252169Z"
    }
   },
   "outputs": [],
   "source": [
    "# Solution goes here"
   ]
  },
  {
   "cell_type": "code",
   "execution_count": 64,
   "metadata": {
    "execution": {
     "iopub.execute_input": "2021-04-16T19:35:51.336820Z",
     "iopub.status.busy": "2021-04-16T19:35:51.336306Z",
     "iopub.status.idle": "2021-04-16T19:35:51.527770Z",
     "shell.execute_reply": "2021-04-16T19:35:51.528265Z"
    }
   },
   "outputs": [],
   "source": [
    "# Solution goes here"
   ]
  },
  {
   "cell_type": "code",
   "execution_count": 65,
   "metadata": {
    "execution": {
     "iopub.execute_input": "2021-04-16T19:35:51.532762Z",
     "iopub.status.busy": "2021-04-16T19:35:51.532102Z",
     "iopub.status.idle": "2021-04-16T19:35:51.535667Z",
     "shell.execute_reply": "2021-04-16T19:35:51.535248Z"
    }
   },
   "outputs": [],
   "source": [
    "# Solution goes here"
   ]
  },
  {
   "cell_type": "code",
   "execution_count": 66,
   "metadata": {
    "execution": {
     "iopub.execute_input": "2021-04-16T19:35:51.555414Z",
     "iopub.status.busy": "2021-04-16T19:35:51.554109Z",
     "iopub.status.idle": "2021-04-16T19:35:51.557359Z",
     "shell.execute_reply": "2021-04-16T19:35:51.554778Z"
    }
   },
   "outputs": [],
   "source": [
    "# Solution goes here"
   ]
  },
  {
   "cell_type": "markdown",
   "metadata": {},
   "source": [
    "## Summary\n",
    "\n",
    "There's a lot going on this this chapter, so let's review the steps:\n",
    "\n",
    "1. First we used KDE and data from past shows to estimate prior distributions for the values of the showcases.\n",
    "\n",
    "2. Then we used bids from past shows to model the distribution of errors as a normal distribution.\n",
    "\n",
    "3. We did a Bayesian update using the distribution of errors to compute the likelihood of the data.\n",
    "\n",
    "4. We used the posterior distribution for the value of the showcase to compute the probability of winning for each possible bid, and identified the bid that maximizes the chance of winning.\n",
    "\n",
    "5. Finally, we used probability of winning to compute the expected gain for each possible bid, and identified the bid that maximizes expected gain.\n",
    "\n",
    "Incidentally, this example demonstrates the hazard of using the word \"optimal\" without specifying what you are optimizing.\n",
    "The bid that maximizes the chance of winning is not generally the same as the bid that maximizes expected gain."
   ]
  },
  {
   "cell_type": "markdown",
   "metadata": {},
   "source": [
    "## Discussion\n",
    "\n",
    "When people discuss the pros and cons of Bayesian estimation, as contrasted with classical methods sometimes called \"frequentist\", they often claim that in many cases Bayesian methods and frequentist methods produce the same results.\n",
    "\n",
    "In my opinion, this claim is mistaken because Bayesian and frequentist method produce different *kinds* of results:\n",
    "\n",
    "* The result of frequentist methods is usually a single value that is considered to be the best estimate (by one of several criteria) or an interval that quantifies the precision of the estimate.\n",
    "\n",
    "* The result of Bayesian methods is a posterior distribution that represents all possible outcomes and their probabilities."
   ]
  },
  {
   "cell_type": "markdown",
   "metadata": {},
   "source": [
    "Granted, you can use the posterior distribution to choose a \"best\" estimate or compute an interval.\n",
    "And in that case the result might be the same as the frequentist estimate.\n",
    "\n",
    "But doing so discards useful information and, in my opinion, eliminates the primary benefit of Bayesian methods: the posterior distribution is more useful than a single estimate, or even an interval."
   ]
  },
  {
   "cell_type": "markdown",
   "metadata": {},
   "source": [
    "The example in this chapter demonstrates the point.\n",
    "Using the entire posterior distribution, we can compute the bid that maximizes the probability of winning, or the bid that maximizes expected gain, even if the rules for computing the gain are complicated (and nonlinear).\n",
    "\n",
    "With a single estimate or an interval, we can't do that, even if they are \"optimal\" in some sense.\n",
    "In general, frequentist estimation provides little guidance for decision-making.\n",
    "\n",
    "If you hear someone say that Bayesian and frequentist methods produce the same results, you can be confident that they don't understand Bayesian methods."
   ]
  },
  {
   "cell_type": "markdown",
   "metadata": {},
   "source": [
    "## Exercises"
   ]
  },
  {
   "cell_type": "markdown",
   "metadata": {},
   "source": [
    "**Exercise:** When I worked in Cambridge, Massachusetts, I usually took the subway to South Station and then a commuter train home to Needham.  Because the subway was unpredictable, I left the office early enough that I could wait up to 15 minutes and still catch the commuter train.\n",
    "\n",
    "When I got to the subway stop, there were usually about 10 people waiting on the platform.  If there were fewer than that, I figured I just missed a train, so I expected to wait a little longer than usual.  And if there there more than that, I expected another train soon.\n",
    "\n",
    "But if there were a *lot* more than 10 passengers waiting, I inferred that something was wrong, and I expected a long wait.  In that case, I might leave and take a taxi.\n",
    "\n",
    "We can use Bayesian decision analysis to quantify the analysis I did intuitively.  Given the number of passengers on the platform, how long should we expect to wait?  And when should we give up and take a taxi?\n",
    "\n",
    "My analysis of this problem is in `redline.ipynb`, which is in the repository for this book.  [Click here to run this notebook on Colab](https://colab.research.google.com/github/AllenDowney/ThinkBayes2/blob/master/notebooks/redline.ipynb)."
   ]
  },
  {
   "cell_type": "markdown",
   "metadata": {},
   "source": [
    "**Exercise:**  This exercise is inspired by a true story.  In 2001 I created [Green Tea Press](https://greenteapress.com) to publish my books, starting with *Think Python*.  I ordered 100 copies from a short run printer and made the book available for sale through a distributor.  \n",
    "\n",
    "After the first week, the distributor reported that 12 copies were sold.  Based that report, I thought I would run out of copies in about 8 weeks, so I got ready to order more.  My printer offered me a discount if I ordered more than 1000 copies, so I went a little crazy and ordered 2000.  \n",
    "\n",
    "A few days later, my mother called to tell me that her *copies* of the book had arrived.  Surprised, I asked how many.  She said ten.\n",
    "\n",
    "It turned out I had sold only two books to non-relatives.  And it took a lot longer than I expected to sell 2000 copies."
   ]
  },
  {
   "cell_type": "markdown",
   "metadata": {},
   "source": [
    "The details of this story are unique, but the general problem is something almost every retailer has to figure out.  Based on past sales, how do you predict future sales?  And based on those predictions, how do you decide how much to order and when?\n",
    "\n",
    "Often the cost of a bad decision is complicated.  If you place a lot of small orders rather than one big one, your costs are likely to be higher.  If you run out of inventory, you might lose customers.  And if you order too much, you have to pay the various costs of holding inventory.\n",
    "\n",
    "So, let's solve a version of the problem I faced.  It will take some work to set up the problem; the details are in the notebook for this chapter."
   ]
  },
  {
   "cell_type": "markdown",
   "metadata": {
    "tags": []
   },
   "source": [
    "Suppose you start selling books online.  During the first week you sell 10 copies (and let's assume that none of the customers are your mother).  During the second week you sell 9 copies.\n",
    "\n",
    "Assuming that the arrival of orders is a Poisson process, we can think of the weekly orders as samples from a Poisson distribution with an unknown rate.\n",
    "We can use orders from past weeks to estimate the parameter of this distribution, generate a predictive distribution for future weeks, and compute the order size that maximized expected profit.\n",
    "\n",
    "* Suppose the cost of printing the book is \\\\$5 per copy, \n",
    "\n",
    "* But if you order 100 or more, it's \\\\$4.50 per copy.\n",
    "\n",
    "* For every book you sell, you get \\\\$10.\n",
    "\n",
    "* But if you run out of books before the end of 8 weeks, you lose \\\\$50 in future sales for every week you are out of stock.\n",
    "\n",
    "* If you have books left over at the end of 8 weeks, you lose \\\\$2 in inventory costs per extra book.\n",
    "\n",
    "For example, suppose you get orders for 10 books per week, every week. If you order 60 books, \n",
    "\n",
    "* The total cost is \\\\$300.  \n",
    "\n",
    "* You sell all 60 books, so you make \\\\$600.  \n",
    "\n",
    "* But the book is out of stock for two weeks, so you lose \\\\$100 in future sales.\n",
    "\n",
    "In total, your profit is \\\\$200.\n",
    "\n",
    "If you order 100 books,\n",
    "\n",
    "* The total cost is \\\\$450.\n",
    "\n",
    "* You sell 80 books, so you make \\\\$800.\n",
    "\n",
    "* But you have 20 books left over at the end, so you lose \\\\$40.\n",
    "\n",
    "In total, your profit is \\\\$310.\n",
    "\n",
    "Combining these costs with your predictive distribution, how many books should you order to maximize your expected profit?"
   ]
  },
  {
   "cell_type": "markdown",
   "metadata": {
    "tags": []
   },
   "source": [
    "To get you started, the following functions compute profits and costs according to the specification of the problem:"
   ]
  },
  {
   "cell_type": "code",
   "execution_count": 67,
   "metadata": {
    "execution": {
     "iopub.execute_input": "2021-04-16T19:35:51.562554Z",
     "iopub.status.busy": "2021-04-16T19:35:51.561855Z",
     "iopub.status.idle": "2021-04-16T19:35:51.565805Z",
     "shell.execute_reply": "2021-04-16T19:35:51.566720Z"
    },
    "tags": []
   },
   "outputs": [],
   "source": [
    "def print_cost(printed):\n",
    "    \"\"\"Compute print costs.\n",
    "    \n",
    "    printed: integer number printed\n",
    "    \"\"\"\n",
    "    if printed < 100:\n",
    "        return printed * 5\n",
    "    else:\n",
    "        return printed * 4.5"
   ]
  },
  {
   "cell_type": "code",
   "execution_count": 68,
   "metadata": {
    "execution": {
     "iopub.execute_input": "2021-04-16T19:35:51.572879Z",
     "iopub.status.busy": "2021-04-16T19:35:51.572142Z",
     "iopub.status.idle": "2021-04-16T19:35:51.582185Z",
     "shell.execute_reply": "2021-04-16T19:35:51.582596Z"
    },
    "tags": []
   },
   "outputs": [],
   "source": [
    "def total_income(printed, orders):\n",
    "    \"\"\"Compute income.\n",
    "    \n",
    "    printed: integer number printed\n",
    "    orders: sequence of integer number of books ordered\n",
    "    \"\"\"\n",
    "    sold = min(printed, np.sum(orders))\n",
    "    return sold * 10"
   ]
  },
  {
   "cell_type": "code",
   "execution_count": 69,
   "metadata": {
    "execution": {
     "iopub.execute_input": "2021-04-16T19:35:51.587177Z",
     "iopub.status.busy": "2021-04-16T19:35:51.586735Z",
     "iopub.status.idle": "2021-04-16T19:35:51.588667Z",
     "shell.execute_reply": "2021-04-16T19:35:51.589058Z"
    },
    "tags": []
   },
   "outputs": [],
   "source": [
    "def inventory_cost(printed, orders):\n",
    "    \"\"\"Compute inventory costs.\n",
    "    \n",
    "    printed: integer number printed\n",
    "    orders: sequence of integer number of books ordered\n",
    "    \"\"\"\n",
    "    excess = printed - np.sum(orders)\n",
    "    if excess > 0:\n",
    "        return excess * 2\n",
    "    else:\n",
    "        return 0"
   ]
  },
  {
   "cell_type": "code",
   "execution_count": 70,
   "metadata": {
    "execution": {
     "iopub.execute_input": "2021-04-16T19:35:51.594274Z",
     "iopub.status.busy": "2021-04-16T19:35:51.593740Z",
     "iopub.status.idle": "2021-04-16T19:35:51.597400Z",
     "shell.execute_reply": "2021-04-16T19:35:51.596976Z"
    },
    "tags": []
   },
   "outputs": [],
   "source": [
    "def out_of_stock_cost(printed, orders):\n",
    "    \"\"\"Compute out of stock costs.\n",
    "    \n",
    "    printed: integer number printed\n",
    "    orders: sequence of integer number of books ordered\n",
    "    \"\"\"\n",
    "    weeks = len(orders)\n",
    "    total_orders = np.cumsum(orders)\n",
    "    for i, total in enumerate(total_orders):\n",
    "        if total > printed:\n",
    "            return (weeks-i) * 50\n",
    "    return 0"
   ]
  },
  {
   "cell_type": "code",
   "execution_count": 71,
   "metadata": {
    "execution": {
     "iopub.execute_input": "2021-04-16T19:35:51.601347Z",
     "iopub.status.busy": "2021-04-16T19:35:51.600787Z",
     "iopub.status.idle": "2021-04-16T19:35:51.604170Z",
     "shell.execute_reply": "2021-04-16T19:35:51.604606Z"
    },
    "tags": []
   },
   "outputs": [],
   "source": [
    "def compute_profit(printed, orders):\n",
    "    \"\"\"Compute profit.\n",
    "    \n",
    "    printed: integer number printed\n",
    "    orders: sequence of integer number of books ordered\n",
    "    \"\"\"\n",
    "    return (total_income(printed, orders) -\n",
    "            print_cost(printed)-\n",
    "            out_of_stock_cost(printed, orders) -\n",
    "            inventory_cost(printed, orders))"
   ]
  },
  {
   "cell_type": "markdown",
   "metadata": {
    "tags": []
   },
   "source": [
    "To test these functions, suppose we get exactly 10 orders per week for eight weeks:"
   ]
  },
  {
   "cell_type": "code",
   "execution_count": 72,
   "metadata": {
    "execution": {
     "iopub.execute_input": "2021-04-16T19:35:51.611079Z",
     "iopub.status.busy": "2021-04-16T19:35:51.610241Z",
     "iopub.status.idle": "2021-04-16T19:35:51.616176Z",
     "shell.execute_reply": "2021-04-16T19:35:51.616554Z"
    },
    "tags": []
   },
   "outputs": [
    {
     "data": {
      "text/plain": [
       "[10, 10, 10, 10, 10, 10, 10, 10]"
      ]
     },
     "execution_count": 72,
     "metadata": {},
     "output_type": "execute_result"
    }
   ],
   "source": [
    "always_10 = [10] * 8\n",
    "always_10"
   ]
  },
  {
   "cell_type": "markdown",
   "metadata": {
    "tags": []
   },
   "source": [
    "If you print 60 books, your net profit is \\\\$200, as in the example."
   ]
  },
  {
   "cell_type": "code",
   "execution_count": 73,
   "metadata": {
    "execution": {
     "iopub.execute_input": "2021-04-16T19:35:51.620756Z",
     "iopub.status.busy": "2021-04-16T19:35:51.620229Z",
     "iopub.status.idle": "2021-04-16T19:35:51.622764Z",
     "shell.execute_reply": "2021-04-16T19:35:51.623275Z"
    },
    "tags": []
   },
   "outputs": [
    {
     "data": {
      "text/plain": [
       "200"
      ]
     },
     "execution_count": 73,
     "metadata": {},
     "output_type": "execute_result"
    }
   ],
   "source": [
    "compute_profit(60, always_10)"
   ]
  },
  {
   "cell_type": "markdown",
   "metadata": {
    "tags": []
   },
   "source": [
    "If you print 100 books, your net profit is \\\\$310."
   ]
  },
  {
   "cell_type": "code",
   "execution_count": 74,
   "metadata": {
    "execution": {
     "iopub.execute_input": "2021-04-16T19:35:51.628975Z",
     "iopub.status.busy": "2021-04-16T19:35:51.628140Z",
     "iopub.status.idle": "2021-04-16T19:35:51.631017Z",
     "shell.execute_reply": "2021-04-16T19:35:51.631678Z"
    },
    "tags": []
   },
   "outputs": [
    {
     "data": {
      "text/plain": [
       "310.0"
      ]
     },
     "execution_count": 74,
     "metadata": {},
     "output_type": "execute_result"
    }
   ],
   "source": [
    "compute_profit(100, always_10)"
   ]
  },
  {
   "cell_type": "markdown",
   "metadata": {
    "tags": []
   },
   "source": [
    "Of course, in the context of the problem you don't know how many books will be ordered in any given week.  You don't even know the average rate of orders.  However, given the data and some assumptions about the prior, you can compute the distribution of the rate of orders.\n",
    "\n",
    "You'll have a chance to do that, but to demonstrate the decision analysis part of the problem, I'll start with the arbitrary assumption that order rates come from a gamma distribution with mean 9.\n",
    "\n",
    "Here's a `Pmf` that represents this distribution."
   ]
  },
  {
   "cell_type": "code",
   "execution_count": 75,
   "metadata": {
    "execution": {
     "iopub.execute_input": "2021-04-16T19:35:51.638252Z",
     "iopub.status.busy": "2021-04-16T19:35:51.637600Z",
     "iopub.status.idle": "2021-04-16T19:35:51.640800Z",
     "shell.execute_reply": "2021-04-16T19:35:51.641451Z"
    },
    "tags": []
   },
   "outputs": [
    {
     "data": {
      "text/plain": [
       "8.998788382371902"
      ]
     },
     "execution_count": 75,
     "metadata": {},
     "output_type": "execute_result"
    }
   ],
   "source": [
    "from scipy.stats import gamma\n",
    "\n",
    "alpha = 9\n",
    "qs = np.linspace(0, 25, 101)\n",
    "ps = gamma.pdf(qs, alpha)\n",
    "pmf = Pmf(ps, qs)\n",
    "pmf.normalize()\n",
    "pmf.mean()"
   ]
  },
  {
   "cell_type": "markdown",
   "metadata": {
    "tags": []
   },
   "source": [
    "And here's what it looks like:"
   ]
  },
  {
   "cell_type": "code",
   "execution_count": 76,
   "metadata": {
    "execution": {
     "iopub.execute_input": "2021-04-16T19:35:51.658650Z",
     "iopub.status.busy": "2021-04-16T19:35:51.658221Z",
     "iopub.status.idle": "2021-04-16T19:35:51.986329Z",
     "shell.execute_reply": "2021-04-16T19:35:51.985935Z"
    },
    "tags": []
   },
   "outputs": [
    {
     "data": {
      "image/png": "[encoded data removed]",
      "text/plain": [
       "<Figure size 640x480 with 1 Axes>"
      ]
     },
     "metadata": {},
     "output_type": "display_data"
    }
   ],
   "source": [
    "pmf.plot(color='C1')\n",
    "decorate(xlabel=r'Book ordering rate ($\\lambda$)',\n",
    "        ylabel='PMF')"
   ]
  },
  {
   "cell_type": "markdown",
   "metadata": {
    "tags": []
   },
   "source": [
    "Now, we *could* generate a predictive distribution for the number of books ordered in a given week, but in this example we have to deal with a complicated cost function.  In particular, `out_of_stock_cost` depends on the sequence of orders.\n",
    "\n",
    "So, rather than generate a predictive distribution, I suggest we run simulations.  I'll demonstrate the steps.\n",
    "\n",
    "First, from our hypothetical distribution of rates, we can draw a random sample of 1000 values. "
   ]
  },
  {
   "cell_type": "code",
   "execution_count": 77,
   "metadata": {
    "execution": {
     "iopub.execute_input": "2021-04-16T19:35:51.990537Z",
     "iopub.status.busy": "2021-04-16T19:35:51.989846Z",
     "iopub.status.idle": "2021-04-16T19:35:51.993533Z",
     "shell.execute_reply": "2021-04-16T19:35:51.993896Z"
    },
    "tags": []
   },
   "outputs": [
    {
     "data": {
      "text/plain": [
       "9.0405"
      ]
     },
     "execution_count": 77,
     "metadata": {},
     "output_type": "execute_result"
    }
   ],
   "source": [
    "rates = pmf.choice(1000)\n",
    "np.mean(rates)"
   ]
  },
  {
   "cell_type": "markdown",
   "metadata": {
    "tags": []
   },
   "source": [
    "For each possible rate, we can generate a sequence of 8 orders."
   ]
  },
  {
   "cell_type": "code",
   "execution_count": 78,
   "metadata": {
    "execution": {
     "iopub.execute_input": "2021-04-16T19:35:51.998261Z",
     "iopub.status.busy": "2021-04-16T19:35:51.997702Z",
     "iopub.status.idle": "2021-04-16T19:35:52.002977Z",
     "shell.execute_reply": "2021-04-16T19:35:52.003508Z"
    },
    "tags": []
   },
   "outputs": [
    {
     "data": {
      "text/plain": [
       "array([[ 8,  8,  5,  8,  6,  5,  8,  7],\n",
       "       [ 5,  6,  7,  8, 13, 10,  4,  7],\n",
       "       [10,  7, 11, 12,  8,  9, 10,  7],\n",
       "       [ 6,  9,  5,  7, 13, 10,  8, 11],\n",
       "       [ 5,  7, 15,  7,  8,  5,  3,  5]])"
      ]
     },
     "execution_count": 78,
     "metadata": {},
     "output_type": "execute_result"
    }
   ],
   "source": [
    "np.random.seed(17)\n",
    "order_array = np.random.poisson(rates, size=(8, 1000)).transpose()\n",
    "order_array[:5, :]"
   ]
  },
  {
   "cell_type": "markdown",
   "metadata": {
    "tags": []
   },
   "source": [
    "Each row of this array is a hypothetical sequence of orders based on a different hypothetical order rate.\n",
    "\n",
    "Now, if you tell me how many books you printed, I can compute your expected profits, averaged over these 1000 possible sequences."
   ]
  },
  {
   "cell_type": "code",
   "execution_count": 79,
   "metadata": {
    "execution": {
     "iopub.execute_input": "2021-04-16T19:35:52.007370Z",
     "iopub.status.busy": "2021-04-16T19:35:52.006916Z",
     "iopub.status.idle": "2021-04-16T19:35:52.008586Z",
     "shell.execute_reply": "2021-04-16T19:35:52.008935Z"
    },
    "tags": []
   },
   "outputs": [],
   "source": [
    "def compute_expected_profits(printed, order_array):\n",
    "    \"\"\"Compute profits averaged over a sample of orders.\n",
    "    \n",
    "    printed: number printed\n",
    "    order_array: one row per sample, one column per week\n",
    "    \"\"\"\n",
    "    profits = [compute_profit(printed, orders)\n",
    "               for orders in order_array]\n",
    "    return np.mean(profits)"
   ]
  },
  {
   "cell_type": "markdown",
   "metadata": {
    "tags": []
   },
   "source": [
    "For example, here are the expected profits if you order 70, 80, or 90 books."
   ]
  },
  {
   "cell_type": "code",
   "execution_count": 80,
   "metadata": {
    "execution": {
     "iopub.execute_input": "2021-04-16T19:35:52.016373Z",
     "iopub.status.busy": "2021-04-16T19:35:52.015963Z",
     "iopub.status.idle": "2021-04-16T19:35:52.035494Z",
     "shell.execute_reply": "2021-04-16T19:35:52.035057Z"
    },
    "tags": []
   },
   "outputs": [
    {
     "data": {
      "text/plain": [
       "187.912"
      ]
     },
     "execution_count": 80,
     "metadata": {},
     "output_type": "execute_result"
    }
   ],
   "source": [
    "compute_expected_profits(70, order_array)"
   ]
  },
  {
   "cell_type": "code",
   "execution_count": 81,
   "metadata": {
    "execution": {
     "iopub.execute_input": "2021-04-16T19:35:52.073335Z",
     "iopub.status.busy": "2021-04-16T19:35:52.072683Z",
     "iopub.status.idle": "2021-04-16T19:35:52.076415Z",
     "shell.execute_reply": "2021-04-16T19:35:52.076779Z"
    },
    "tags": []
   },
   "outputs": [
    {
     "data": {
      "text/plain": [
       "187.856"
      ]
     },
     "execution_count": 81,
     "metadata": {},
     "output_type": "execute_result"
    }
   ],
   "source": [
    "compute_expected_profits(80, order_array)"
   ]
  },
  {
   "cell_type": "code",
   "execution_count": 82,
   "metadata": {
    "execution": {
     "iopub.execute_input": "2021-04-16T19:35:52.098735Z",
     "iopub.status.busy": "2021-04-16T19:35:52.098012Z",
     "iopub.status.idle": "2021-04-16T19:35:52.100689Z",
     "shell.execute_reply": "2021-04-16T19:35:52.100277Z"
    },
    "tags": []
   },
   "outputs": [
    {
     "data": {
      "text/plain": [
       "164.164"
      ]
     },
     "execution_count": 82,
     "metadata": {},
     "output_type": "execute_result"
    }
   ],
   "source": [
    "compute_expected_profits(90, order_array)"
   ]
  },
  {
   "cell_type": "markdown",
   "metadata": {
    "tags": []
   },
   "source": [
    "Now, let's sweep through a range of values and compute expected profits as a function of the number of books you print."
   ]
  },
  {
   "cell_type": "code",
   "execution_count": 83,
   "metadata": {
    "execution": {
     "iopub.execute_input": "2021-04-16T19:35:52.151466Z",
     "iopub.status.busy": "2021-04-16T19:35:52.110313Z",
     "iopub.status.idle": "2021-04-16T19:35:53.044324Z",
     "shell.execute_reply": "2021-04-16T19:35:53.043782Z"
    },
    "tags": []
   },
   "outputs": [],
   "source": [
    "printed_array = np.arange(70, 110)\n",
    "t = [compute_expected_profits(printed, order_array)\n",
    "                    for printed in printed_array]\n",
    "expected_profits = pd.Series(t, printed_array)"
   ]
  },
  {
   "cell_type": "code",
   "execution_count": 84,
   "metadata": {
    "execution": {
     "iopub.execute_input": "2021-04-16T19:35:53.067959Z",
     "iopub.status.busy": "2021-04-16T19:35:53.061574Z",
     "iopub.status.idle": "2021-04-16T19:35:53.181791Z",
     "shell.execute_reply": "2021-04-16T19:35:53.181406Z"
    },
    "tags": []
   },
   "outputs": [
    {
     "data": {
      "image/png": "[encoded data removed]",
      "text/plain": [
       "<Figure size 640x480 with 1 Axes>"
      ]
     },
     "metadata": {},
     "output_type": "display_data"
    }
   ],
   "source": [
    "expected_profits.plot(label='')\n",
    "\n",
    "decorate(xlabel='Number of books printed',\n",
    "         ylabel='Expected profit ($)')"
   ]
  },
  {
   "cell_type": "markdown",
   "metadata": {
    "tags": []
   },
   "source": [
    "Here is the optimal order and the expected profit."
   ]
  },
  {
   "cell_type": "code",
   "execution_count": 85,
   "metadata": {
    "execution": {
     "iopub.execute_input": "2021-04-16T19:35:53.185628Z",
     "iopub.status.busy": "2021-04-16T19:35:53.185129Z",
     "iopub.status.idle": "2021-04-16T19:35:53.189282Z",
     "shell.execute_reply": "2021-04-16T19:35:53.189626Z"
    },
    "tags": []
   },
   "outputs": [
    {
     "data": {
      "text/plain": [
       "(75, 191.206)"
      ]
     },
     "execution_count": 85,
     "metadata": {},
     "output_type": "execute_result"
    }
   ],
   "source": [
    "expected_profits.idxmax(), expected_profits.max()"
   ]
  },
  {
   "cell_type": "markdown",
   "metadata": {
    "tags": []
   },
   "source": [
    "Now it's your turn.  Choose a prior that you think is reasonable, update it with the data you are given, and then use the posterior distribution to do the analysis I just demonstrated."
   ]
  },
  {
   "cell_type": "code",
   "execution_count": 86,
   "metadata": {
    "execution": {
     "iopub.execute_input": "2021-04-16T19:35:53.194510Z",
     "iopub.status.busy": "2021-04-16T19:35:53.194020Z",
     "iopub.status.idle": "2021-04-16T19:35:53.198181Z",
     "shell.execute_reply": "2021-04-16T19:35:53.198701Z"
    }
   },
   "outputs": [],
   "source": [
    "# Solution goes here"
   ]
  },
  {
   "cell_type": "code",
   "execution_count": 87,
   "metadata": {
    "execution": {
     "iopub.execute_input": "2021-04-16T19:35:53.216932Z",
     "iopub.status.busy": "2021-04-16T19:35:53.213964Z",
     "iopub.status.idle": "2021-04-16T19:35:53.323589Z",
     "shell.execute_reply": "2021-04-16T19:35:53.324119Z"
    }
   },
   "outputs": [],
   "source": [
    "# Solution goes here"
   ]
  },
  {
   "cell_type": "code",
   "execution_count": 88,
   "metadata": {
    "execution": {
     "iopub.execute_input": "2021-04-16T19:35:53.327897Z",
     "iopub.status.busy": "2021-04-16T19:35:53.327424Z",
     "iopub.status.idle": "2021-04-16T19:35:53.330290Z",
     "shell.execute_reply": "2021-04-16T19:35:53.330803Z"
    }
   },
   "outputs": [],
   "source": [
    "# Solution goes here"
   ]
  },
  {
   "cell_type": "code",
   "execution_count": 89,
   "metadata": {
    "execution": {
     "iopub.execute_input": "2021-04-16T19:35:53.335171Z",
     "iopub.status.busy": "2021-04-16T19:35:53.334695Z",
     "iopub.status.idle": "2021-04-16T19:35:53.338131Z",
     "shell.execute_reply": "2021-04-16T19:35:53.337723Z"
    }
   },
   "outputs": [],
   "source": [
    "# Solution goes here"
   ]
  },
  {
   "cell_type": "code",
   "execution_count": 90,
   "metadata": {
    "execution": {
     "iopub.execute_input": "2021-04-16T19:35:53.342520Z",
     "iopub.status.busy": "2021-04-16T19:35:53.342028Z",
     "iopub.status.idle": "2021-04-16T19:35:53.344891Z",
     "shell.execute_reply": "2021-04-16T19:35:53.345436Z"
    }
   },
   "outputs": [],
   "source": [
    "# Solution goes here"
   ]
  },
  {
   "cell_type": "code",
   "execution_count": 91,
   "metadata": {
    "execution": {
     "iopub.execute_input": "2021-04-16T19:35:53.348958Z",
     "iopub.status.busy": "2021-04-16T19:35:53.348514Z",
     "iopub.status.idle": "2021-04-16T19:35:53.352690Z",
     "shell.execute_reply": "2021-04-16T19:35:53.353204Z"
    }
   },
   "outputs": [],
   "source": [
    "# Solution goes here"
   ]
  },
  {
   "cell_type": "code",
   "execution_count": 92,
   "metadata": {
    "execution": {
     "iopub.execute_input": "2021-04-16T19:35:53.356962Z",
     "iopub.status.busy": "2021-04-16T19:35:53.356103Z",
     "iopub.status.idle": "2021-04-16T19:35:53.359918Z",
     "shell.execute_reply": "2021-04-16T19:35:53.359487Z"
    }
   },
   "outputs": [],
   "source": [
    "# Solution goes here"
   ]
  },
  {
   "cell_type": "code",
   "execution_count": 93,
   "metadata": {
    "execution": {
     "iopub.execute_input": "2021-04-16T19:35:53.363099Z",
     "iopub.status.busy": "2021-04-16T19:35:53.362692Z",
     "iopub.status.idle": "2021-04-16T19:35:53.368315Z",
     "shell.execute_reply": "2021-04-16T19:35:53.367822Z"
    }
   },
   "outputs": [],
   "source": [
    "# Solution goes here"
   ]
  },
  {
   "cell_type": "code",
   "execution_count": 94,
   "metadata": {
    "execution": {
     "iopub.execute_input": "2021-04-16T19:35:53.428215Z",
     "iopub.status.busy": "2021-04-16T19:35:53.402097Z",
     "iopub.status.idle": "2021-04-16T19:35:54.443135Z",
     "shell.execute_reply": "2021-04-16T19:35:54.444074Z"
    }
   },
   "outputs": [],
   "source": [
    "# Solution goes here"
   ]
  },
  {
   "cell_type": "code",
   "execution_count": 95,
   "metadata": {
    "execution": {
     "iopub.execute_input": "2021-04-16T19:35:54.467573Z",
     "iopub.status.busy": "2021-04-16T19:35:54.463557Z",
     "iopub.status.idle": "2021-04-16T19:35:54.727439Z",
     "shell.execute_reply": "2021-04-16T19:35:54.728002Z"
    }
   },
   "outputs": [],
   "source": [
    "# Solution goes here"
   ]
  },
  {
   "cell_type": "code",
   "execution_count": 96,
   "metadata": {
    "execution": {
     "iopub.execute_input": "2021-04-16T19:35:54.734792Z",
     "iopub.status.busy": "2021-04-16T19:35:54.733641Z",
     "iopub.status.idle": "2021-04-16T19:35:54.738456Z",
     "shell.execute_reply": "2021-04-16T19:35:54.739144Z"
    }
   },
   "outputs": [],
   "source": [
    "# Solution goes here"
   ]
  },
  {
   "cell_type": "code",
   "execution_count": null,
   "metadata": {},
   "outputs": [],
   "source": []
  }
 ],
 "metadata": {
  "celltoolbar": "Tags",
  "kernelspec": {
   "display_name": "Python 3",
   "language": "python",
   "name": "python3"
  },
  "language_info": {
   "codemirror_mode": {
    "name": "ipython",
    "version": 3
   },
   "file_extension": ".py",
   "mimetype": "text/x-python",
   "name": "python",
   "nbconvert_exporter": "python",
   "pygments_lexer": "ipython3",
   "version": "3.8.16"
  }
 },
 "nbformat": 4,
 "nbformat_minor": 4
}
