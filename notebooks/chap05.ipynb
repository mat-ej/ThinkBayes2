{
 "cells": [
  {
   "cell_type": "markdown",
   "metadata": {},
   "source": [
    "# Estimating Counts"
   ]
  },
  {
   "cell_type": "markdown",
   "metadata": {
    "tags": []
   },
   "source": [
    "Think Bayes, Second Edition\n",
    "\n",
    "Copyright 2020 Allen B. Downey\n",
    "\n",
    "License: [Attribution-NonCommercial-ShareAlike 4.0 International (CC BY-NC-SA 4.0)](https://creativecommons.org/licenses/by-nc-sa/4.0/)"
   ]
  },
  {
   "cell_type": "code",
   "execution_count": 97,
   "metadata": {
    "execution": {
     "iopub.execute_input": "2021-04-16T19:35:19.989007Z",
     "iopub.status.busy": "2021-04-16T19:35:19.988518Z",
     "iopub.status.idle": "2021-04-16T19:35:19.991079Z",
     "shell.execute_reply": "2021-04-16T19:35:19.990545Z"
    },
    "tags": []
   },
   "outputs": [],
   "source": [
    "# If we're running on Colab, install empiricaldist\n",
    "# https://pypi.org/project/empiricaldist/\n",
    "\n",
    "import sys\n",
    "IN_COLAB = 'google.colab' in sys.modules\n",
    "\n",
    "if IN_COLAB:\n",
    "    !pip install empiricaldist"
   ]
  },
  {
   "cell_type": "code",
   "execution_count": 98,
   "metadata": {
    "execution": {
     "iopub.execute_input": "2021-04-16T19:35:19.994541Z",
     "iopub.status.busy": "2021-04-16T19:35:19.994130Z",
     "iopub.status.idle": "2021-04-16T19:35:19.995904Z",
     "shell.execute_reply": "2021-04-16T19:35:19.996257Z"
    },
    "tags": []
   },
   "outputs": [],
   "source": [
    "# Get utils.py\n",
    "\n",
    "from os.path import basename, exists\n",
    "\n",
    "def download(url):\n",
    "    filename = basename(url)\n",
    "    if not exists(filename):\n",
    "        from urllib.request import urlretrieve\n",
    "        local, _ = urlretrieve(url, filename)\n",
    "        print('Downloaded ' + local)\n",
    "    \n",
    "download('https://github.com/AllenDowney/ThinkBayes2/raw/master/soln/utils.py')"
   ]
  },
  {
   "cell_type": "code",
   "execution_count": 99,
   "metadata": {
    "execution": {
     "iopub.execute_input": "2021-04-16T19:35:19.998961Z",
     "iopub.status.busy": "2021-04-16T19:35:19.998546Z",
     "iopub.status.idle": "2021-04-16T19:35:20.677236Z",
     "shell.execute_reply": "2021-04-16T19:35:20.677597Z"
    },
    "tags": []
   },
   "outputs": [],
   "source": [
    "from utils import set_pyplot_params\n",
    "set_pyplot_params()"
   ]
  },
  {
   "cell_type": "markdown",
   "metadata": {},
   "source": [
    "In the previous chapter we solved problems that involve estimating proportions.\n",
    "In the Euro problem, we estimated the probability that a coin lands heads up, and in the exercises, you estimated a batting average, the fraction of people who cheat on their taxes, and the chance of shooting down an invading alien.\n",
    "\n",
    "Clearly, some of these problems are more realistic than others, and some are more useful than others.\n",
    "\n",
    "In this chapter, we'll work on problems related to counting, or estimating the size of a population.\n",
    "Again, some of the examples will seem silly, but some of them, like the German Tank problem, have real applications, sometimes in life and death situations."
   ]
  },
  {
   "cell_type": "markdown",
   "metadata": {},
   "source": [
    "## The Train Problem\n",
    "\n",
    "I found the train problem \n",
    "in Frederick Mosteller's, [*Fifty Challenging Problems in\n",
    "  Probability with Solutions*](https://store.doverpublications.com/0486653552.html):\n",
    "\n",
    "> \"A railroad numbers its locomotives in order 1..N.  One day you see a locomotive with the number 60.  Estimate how many locomotives the railroad has.\"\n",
    "\n",
    "Based on this observation, we know the railroad has 60 or more\n",
    "locomotives.  But how many more?  To apply Bayesian reasoning, we\n",
    "can break this problem into two steps:\n",
    "\n",
    "* What did we know about $N$ before we saw the data?\n",
    "\n",
    "* For any given value of $N$, what is the likelihood of seeing the data (a locomotive with number 60)?\n",
    "\n",
    "The answer to the first question is the prior.  The answer to the\n",
    "second is the likelihood.\n",
    "\n",
    "We don't have much basis to choose a prior, so we'll start with\n",
    "something simple and then consider alternatives.\n",
    "Let's assume that $N$ is equally likely to be any value from 1 to 1000.\n",
    "\n",
    "Here's the prior distribution:"
   ]
  },
  {
   "cell_type": "code",
   "execution_count": 100,
   "metadata": {
    "execution": {
     "iopub.execute_input": "2021-04-16T19:35:20.681706Z",
     "iopub.status.busy": "2021-04-16T19:35:20.681246Z",
     "iopub.status.idle": "2021-04-16T19:35:20.682954Z",
     "shell.execute_reply": "2021-04-16T19:35:20.683296Z"
    }
   },
   "outputs": [
    {
     "data": {
      "text/html": [
       "<div>\n",
       "<style scoped>\n",
       "    .dataframe tbody tr th:only-of-type {\n",
       "        vertical-align: middle;\n",
       "    }\n",
       "\n",
       "    .dataframe tbody tr th {\n",
       "        vertical-align: top;\n",
       "    }\n",
       "\n",
       "    .dataframe thead th {\n",
       "        text-align: right;\n",
       "    }\n",
       "</style>\n",
       "<table border=\"1\" class=\"dataframe\">\n",
       "  <thead>\n",
       "    <tr style=\"text-align: right;\">\n",
       "      <th></th>\n",
       "      <th>probs</th>\n",
       "    </tr>\n",
       "  </thead>\n",
       "  <tbody>\n",
       "    <tr>\n",
       "      <th>1</th>\n",
       "      <td>1</td>\n",
       "    </tr>\n",
       "    <tr>\n",
       "      <th>2</th>\n",
       "      <td>1</td>\n",
       "    </tr>\n",
       "    <tr>\n",
       "      <th>3</th>\n",
       "      <td>1</td>\n",
       "    </tr>\n",
       "    <tr>\n",
       "      <th>4</th>\n",
       "      <td>1</td>\n",
       "    </tr>\n",
       "    <tr>\n",
       "      <th>5</th>\n",
       "      <td>1</td>\n",
       "    </tr>\n",
       "    <tr>\n",
       "      <th>...</th>\n",
       "      <td>...</td>\n",
       "    </tr>\n",
       "    <tr>\n",
       "      <th>996</th>\n",
       "      <td>1</td>\n",
       "    </tr>\n",
       "    <tr>\n",
       "      <th>997</th>\n",
       "      <td>1</td>\n",
       "    </tr>\n",
       "    <tr>\n",
       "      <th>998</th>\n",
       "      <td>1</td>\n",
       "    </tr>\n",
       "    <tr>\n",
       "      <th>999</th>\n",
       "      <td>1</td>\n",
       "    </tr>\n",
       "    <tr>\n",
       "      <th>1000</th>\n",
       "      <td>1</td>\n",
       "    </tr>\n",
       "  </tbody>\n",
       "</table>\n",
       "<p>1000 rows × 1 columns</p>\n",
       "</div>"
      ],
      "text/plain": [
       "1       1\n",
       "2       1\n",
       "3       1\n",
       "4       1\n",
       "5       1\n",
       "       ..\n",
       "996     1\n",
       "997     1\n",
       "998     1\n",
       "999     1\n",
       "1000    1\n",
       "Name: , Length: 1000, dtype: int64"
      ]
     },
     "execution_count": 100,
     "metadata": {},
     "output_type": "execute_result"
    }
   ],
   "source": [
    "import numpy as np\n",
    "from empiricaldist import Pmf\n",
    "\n",
    "hypos = np.arange(1, 1001)\n",
    "prior = Pmf(1, hypos)\n",
    "prior"
   ]
  },
  {
   "cell_type": "code",
   "execution_count": 101,
   "metadata": {},
   "outputs": [
    {
     "data": {
      "text/plain": [
       "array([1.        , 0.5       , 0.33333333, 0.25      , 0.2       ,\n",
       "       0.16666667, 0.14285714, 0.125     , 0.11111111, 0.1       ,\n",
       "       0.09090909, 0.08333333, 0.07692308, 0.07142857, 0.06666667,\n",
       "       0.0625    , 0.05882353, 0.05555556, 0.05263158, 0.05      ,\n",
       "       0.04761905, 0.04545455, 0.04347826, 0.04166667, 0.04      ,\n",
       "       0.03846154, 0.03703704, 0.03571429, 0.03448276, 0.03333333,\n",
       "       0.03225806, 0.03125   , 0.03030303, 0.02941176, 0.02857143,\n",
       "       0.02777778, 0.02702703, 0.02631579, 0.02564103, 0.025     ,\n",
       "       0.02439024, 0.02380952, 0.02325581, 0.02272727, 0.02222222,\n",
       "       0.02173913, 0.0212766 , 0.02083333, 0.02040816, 0.02      ,\n",
       "       0.01960784, 0.01923077, 0.01886792, 0.01851852, 0.01818182,\n",
       "       0.01785714, 0.01754386, 0.01724138, 0.01694915, 0.01666667,\n",
       "       0.01639344, 0.01612903, 0.01587302, 0.015625  , 0.01538462,\n",
       "       0.01515152, 0.01492537, 0.01470588, 0.01449275, 0.01428571,\n",
       "       0.01408451, 0.01388889, 0.01369863, 0.01351351, 0.01333333,\n",
       "       0.01315789, 0.01298701, 0.01282051, 0.01265823, 0.0125    ,\n",
       "       0.01234568, 0.01219512, 0.01204819, 0.01190476, 0.01176471,\n",
       "       0.01162791, 0.01149425, 0.01136364, 0.01123596, 0.01111111,\n",
       "       0.01098901, 0.01086957, 0.01075269, 0.0106383 , 0.01052632,\n",
       "       0.01041667, 0.01030928, 0.01020408, 0.01010101, 0.01      ,\n",
       "       0.00990099, 0.00980392, 0.00970874, 0.00961538, 0.00952381,\n",
       "       0.00943396, 0.00934579, 0.00925926, 0.00917431, 0.00909091,\n",
       "       0.00900901, 0.00892857, 0.00884956, 0.00877193, 0.00869565,\n",
       "       0.00862069, 0.00854701, 0.00847458, 0.00840336, 0.00833333,\n",
       "       0.00826446, 0.00819672, 0.00813008, 0.00806452, 0.008     ,\n",
       "       0.00793651, 0.00787402, 0.0078125 , 0.00775194, 0.00769231,\n",
       "       0.00763359, 0.00757576, 0.0075188 , 0.00746269, 0.00740741,\n",
       "       0.00735294, 0.00729927, 0.00724638, 0.00719424, 0.00714286,\n",
       "       0.0070922 , 0.00704225, 0.00699301, 0.00694444, 0.00689655,\n",
       "       0.00684932, 0.00680272, 0.00675676, 0.00671141, 0.00666667,\n",
       "       0.00662252, 0.00657895, 0.00653595, 0.00649351, 0.00645161,\n",
       "       0.00641026, 0.00636943, 0.00632911, 0.00628931, 0.00625   ,\n",
       "       0.00621118, 0.00617284, 0.00613497, 0.00609756, 0.00606061,\n",
       "       0.0060241 , 0.00598802, 0.00595238, 0.00591716, 0.00588235,\n",
       "       0.00584795, 0.00581395, 0.00578035, 0.00574713, 0.00571429,\n",
       "       0.00568182, 0.00564972, 0.00561798, 0.00558659, 0.00555556,\n",
       "       0.00552486, 0.00549451, 0.00546448, 0.00543478, 0.00540541,\n",
       "       0.00537634, 0.00534759, 0.00531915, 0.00529101, 0.00526316,\n",
       "       0.0052356 , 0.00520833, 0.00518135, 0.00515464, 0.00512821,\n",
       "       0.00510204, 0.00507614, 0.00505051, 0.00502513, 0.005     ,\n",
       "       0.00497512, 0.0049505 , 0.00492611, 0.00490196, 0.00487805,\n",
       "       0.00485437, 0.00483092, 0.00480769, 0.00478469, 0.0047619 ,\n",
       "       0.00473934, 0.00471698, 0.00469484, 0.0046729 , 0.00465116,\n",
       "       0.00462963, 0.00460829, 0.00458716, 0.00456621, 0.00454545,\n",
       "       0.00452489, 0.0045045 , 0.0044843 , 0.00446429, 0.00444444,\n",
       "       0.00442478, 0.00440529, 0.00438596, 0.00436681, 0.00434783,\n",
       "       0.004329  , 0.00431034, 0.00429185, 0.0042735 , 0.00425532,\n",
       "       0.00423729, 0.00421941, 0.00420168, 0.0041841 , 0.00416667,\n",
       "       0.00414938, 0.00413223, 0.00411523, 0.00409836, 0.00408163,\n",
       "       0.00406504, 0.00404858, 0.00403226, 0.00401606, 0.004     ,\n",
       "       0.00398406, 0.00396825, 0.00395257, 0.00393701, 0.00392157,\n",
       "       0.00390625, 0.00389105, 0.00387597, 0.003861  , 0.00384615,\n",
       "       0.00383142, 0.00381679, 0.00380228, 0.00378788, 0.00377358,\n",
       "       0.0037594 , 0.00374532, 0.00373134, 0.00371747, 0.0037037 ,\n",
       "       0.00369004, 0.00367647, 0.003663  , 0.00364964, 0.00363636,\n",
       "       0.00362319, 0.00361011, 0.00359712, 0.00358423, 0.00357143,\n",
       "       0.00355872, 0.0035461 , 0.00353357, 0.00352113, 0.00350877,\n",
       "       0.0034965 , 0.00348432, 0.00347222, 0.00346021, 0.00344828,\n",
       "       0.00343643, 0.00342466, 0.00341297, 0.00340136, 0.00338983,\n",
       "       0.00337838, 0.003367  , 0.0033557 , 0.00334448, 0.00333333,\n",
       "       0.00332226, 0.00331126, 0.00330033, 0.00328947, 0.00327869,\n",
       "       0.00326797, 0.00325733, 0.00324675, 0.00323625, 0.00322581,\n",
       "       0.00321543, 0.00320513, 0.00319489, 0.00318471, 0.0031746 ,\n",
       "       0.00316456, 0.00315457, 0.00314465, 0.0031348 , 0.003125  ,\n",
       "       0.00311526, 0.00310559, 0.00309598, 0.00308642, 0.00307692,\n",
       "       0.00306748, 0.0030581 , 0.00304878, 0.00303951, 0.0030303 ,\n",
       "       0.00302115, 0.00301205, 0.003003  , 0.00299401, 0.00298507,\n",
       "       0.00297619, 0.00296736, 0.00295858, 0.00294985, 0.00294118,\n",
       "       0.00293255, 0.00292398, 0.00291545, 0.00290698, 0.00289855,\n",
       "       0.00289017, 0.00288184, 0.00287356, 0.00286533, 0.00285714,\n",
       "       0.002849  , 0.00284091, 0.00283286, 0.00282486, 0.0028169 ,\n",
       "       0.00280899, 0.00280112, 0.0027933 , 0.00278552, 0.00277778,\n",
       "       0.00277008, 0.00276243, 0.00275482, 0.00274725, 0.00273973,\n",
       "       0.00273224, 0.0027248 , 0.00271739, 0.00271003, 0.0027027 ,\n",
       "       0.00269542, 0.00268817, 0.00268097, 0.0026738 , 0.00266667,\n",
       "       0.00265957, 0.00265252, 0.0026455 , 0.00263852, 0.00263158,\n",
       "       0.00262467, 0.0026178 , 0.00261097, 0.00260417, 0.0025974 ,\n",
       "       0.00259067, 0.00258398, 0.00257732, 0.00257069, 0.0025641 ,\n",
       "       0.00255754, 0.00255102, 0.00254453, 0.00253807, 0.00253165,\n",
       "       0.00252525, 0.00251889, 0.00251256, 0.00250627, 0.0025    ,\n",
       "       0.00249377, 0.00248756, 0.00248139, 0.00247525, 0.00246914,\n",
       "       0.00246305, 0.002457  , 0.00245098, 0.00244499, 0.00243902,\n",
       "       0.00243309, 0.00242718, 0.00242131, 0.00241546, 0.00240964,\n",
       "       0.00240385, 0.00239808, 0.00239234, 0.00238663, 0.00238095,\n",
       "       0.0023753 , 0.00236967, 0.00236407, 0.00235849, 0.00235294,\n",
       "       0.00234742, 0.00234192, 0.00233645, 0.002331  , 0.00232558,\n",
       "       0.00232019, 0.00231481, 0.00230947, 0.00230415, 0.00229885,\n",
       "       0.00229358, 0.00228833, 0.00228311, 0.0022779 , 0.00227273,\n",
       "       0.00226757, 0.00226244, 0.00225734, 0.00225225, 0.00224719,\n",
       "       0.00224215, 0.00223714, 0.00223214, 0.00222717, 0.00222222,\n",
       "       0.00221729, 0.00221239, 0.00220751, 0.00220264, 0.0021978 ,\n",
       "       0.00219298, 0.00218818, 0.00218341, 0.00217865, 0.00217391,\n",
       "       0.0021692 , 0.0021645 , 0.00215983, 0.00215517, 0.00215054,\n",
       "       0.00214592, 0.00214133, 0.00213675, 0.0021322 , 0.00212766,\n",
       "       0.00212314, 0.00211864, 0.00211416, 0.0021097 , 0.00210526,\n",
       "       0.00210084, 0.00209644, 0.00209205, 0.00208768, 0.00208333,\n",
       "       0.002079  , 0.00207469, 0.00207039, 0.00206612, 0.00206186,\n",
       "       0.00205761, 0.00205339, 0.00204918, 0.00204499, 0.00204082,\n",
       "       0.00203666, 0.00203252, 0.0020284 , 0.00202429, 0.0020202 ,\n",
       "       0.00201613, 0.00201207, 0.00200803, 0.00200401, 0.002     ,\n",
       "       0.00199601, 0.00199203, 0.00198807, 0.00198413, 0.0019802 ,\n",
       "       0.00197628, 0.00197239, 0.0019685 , 0.00196464, 0.00196078,\n",
       "       0.00195695, 0.00195312, 0.00194932, 0.00194553, 0.00194175,\n",
       "       0.00193798, 0.00193424, 0.0019305 , 0.00192678, 0.00192308,\n",
       "       0.00191939, 0.00191571, 0.00191205, 0.0019084 , 0.00190476,\n",
       "       0.00190114, 0.00189753, 0.00189394, 0.00189036, 0.00188679,\n",
       "       0.00188324, 0.0018797 , 0.00187617, 0.00187266, 0.00186916,\n",
       "       0.00186567, 0.0018622 , 0.00185874, 0.00185529, 0.00185185,\n",
       "       0.00184843, 0.00184502, 0.00184162, 0.00183824, 0.00183486,\n",
       "       0.0018315 , 0.00182815, 0.00182482, 0.00182149, 0.00181818,\n",
       "       0.00181488, 0.00181159, 0.00180832, 0.00180505, 0.0018018 ,\n",
       "       0.00179856, 0.00179533, 0.00179211, 0.00178891, 0.00178571,\n",
       "       0.00178253, 0.00177936, 0.0017762 , 0.00177305, 0.00176991,\n",
       "       0.00176678, 0.00176367, 0.00176056, 0.00175747, 0.00175439,\n",
       "       0.00175131, 0.00174825, 0.0017452 , 0.00174216, 0.00173913,\n",
       "       0.00173611, 0.0017331 , 0.0017301 , 0.00172712, 0.00172414,\n",
       "       0.00172117, 0.00171821, 0.00171527, 0.00171233, 0.0017094 ,\n",
       "       0.00170648, 0.00170358, 0.00170068, 0.00169779, 0.00169492,\n",
       "       0.00169205, 0.00168919, 0.00168634, 0.0016835 , 0.00168067,\n",
       "       0.00167785, 0.00167504, 0.00167224, 0.00166945, 0.00166667,\n",
       "       0.00166389, 0.00166113, 0.00165837, 0.00165563, 0.00165289,\n",
       "       0.00165017, 0.00164745, 0.00164474, 0.00164204, 0.00163934,\n",
       "       0.00163666, 0.00163399, 0.00163132, 0.00162866, 0.00162602,\n",
       "       0.00162338, 0.00162075, 0.00161812, 0.00161551, 0.0016129 ,\n",
       "       0.00161031, 0.00160772, 0.00160514, 0.00160256, 0.0016    ,\n",
       "       0.00159744, 0.0015949 , 0.00159236, 0.00158983, 0.0015873 ,\n",
       "       0.00158479, 0.00158228, 0.00157978, 0.00157729, 0.0015748 ,\n",
       "       0.00157233, 0.00156986, 0.0015674 , 0.00156495, 0.0015625 ,\n",
       "       0.00156006, 0.00155763, 0.00155521, 0.0015528 , 0.00155039,\n",
       "       0.00154799, 0.0015456 , 0.00154321, 0.00154083, 0.00153846,\n",
       "       0.0015361 , 0.00153374, 0.00153139, 0.00152905, 0.00152672,\n",
       "       0.00152439, 0.00152207, 0.00151976, 0.00151745, 0.00151515,\n",
       "       0.00151286, 0.00151057, 0.0015083 , 0.00150602, 0.00150376,\n",
       "       0.0015015 , 0.00149925, 0.00149701, 0.00149477, 0.00149254,\n",
       "       0.00149031, 0.0014881 , 0.00148588, 0.00148368, 0.00148148,\n",
       "       0.00147929, 0.0014771 , 0.00147493, 0.00147275, 0.00147059,\n",
       "       0.00146843, 0.00146628, 0.00146413, 0.00146199, 0.00145985,\n",
       "       0.00145773, 0.0014556 , 0.00145349, 0.00145138, 0.00144928,\n",
       "       0.00144718, 0.00144509, 0.001443  , 0.00144092, 0.00143885,\n",
       "       0.00143678, 0.00143472, 0.00143266, 0.00143062, 0.00142857,\n",
       "       0.00142653, 0.0014245 , 0.00142248, 0.00142045, 0.00141844,\n",
       "       0.00141643, 0.00141443, 0.00141243, 0.00141044, 0.00140845,\n",
       "       0.00140647, 0.00140449, 0.00140252, 0.00140056, 0.0013986 ,\n",
       "       0.00139665, 0.0013947 , 0.00139276, 0.00139082, 0.00138889,\n",
       "       0.00138696, 0.00138504, 0.00138313, 0.00138122, 0.00137931,\n",
       "       0.00137741, 0.00137552, 0.00137363, 0.00137174, 0.00136986,\n",
       "       0.00136799, 0.00136612, 0.00136426, 0.0013624 , 0.00136054,\n",
       "       0.0013587 , 0.00135685, 0.00135501, 0.00135318, 0.00135135,\n",
       "       0.00134953, 0.00134771, 0.0013459 , 0.00134409, 0.00134228,\n",
       "       0.00134048, 0.00133869, 0.0013369 , 0.00133511, 0.00133333,\n",
       "       0.00133156, 0.00132979, 0.00132802, 0.00132626, 0.0013245 ,\n",
       "       0.00132275, 0.001321  , 0.00131926, 0.00131752, 0.00131579,\n",
       "       0.00131406, 0.00131234, 0.00131062, 0.0013089 , 0.00130719,\n",
       "       0.00130548, 0.00130378, 0.00130208, 0.00130039, 0.0012987 ,\n",
       "       0.00129702, 0.00129534, 0.00129366, 0.00129199, 0.00129032,\n",
       "       0.00128866, 0.001287  , 0.00128535, 0.0012837 , 0.00128205,\n",
       "       0.00128041, 0.00127877, 0.00127714, 0.00127551, 0.00127389,\n",
       "       0.00127226, 0.00127065, 0.00126904, 0.00126743, 0.00126582,\n",
       "       0.00126422, 0.00126263, 0.00126103, 0.00125945, 0.00125786,\n",
       "       0.00125628, 0.00125471, 0.00125313, 0.00125156, 0.00125   ,\n",
       "       0.00124844, 0.00124688, 0.00124533, 0.00124378, 0.00124224,\n",
       "       0.00124069, 0.00123916, 0.00123762, 0.00123609, 0.00123457,\n",
       "       0.00123305, 0.00123153, 0.00123001, 0.0012285 , 0.00122699,\n",
       "       0.00122549, 0.00122399, 0.00122249, 0.001221  , 0.00121951,\n",
       "       0.00121803, 0.00121655, 0.00121507, 0.00121359, 0.00121212,\n",
       "       0.00121065, 0.00120919, 0.00120773, 0.00120627, 0.00120482,\n",
       "       0.00120337, 0.00120192, 0.00120048, 0.00119904, 0.0011976 ,\n",
       "       0.00119617, 0.00119474, 0.00119332, 0.0011919 , 0.00119048,\n",
       "       0.00118906, 0.00118765, 0.00118624, 0.00118483, 0.00118343,\n",
       "       0.00118203, 0.00118064, 0.00117925, 0.00117786, 0.00117647,\n",
       "       0.00117509, 0.00117371, 0.00117233, 0.00117096, 0.00116959,\n",
       "       0.00116822, 0.00116686, 0.0011655 , 0.00116414, 0.00116279,\n",
       "       0.00116144, 0.00116009, 0.00115875, 0.00115741, 0.00115607,\n",
       "       0.00115473, 0.0011534 , 0.00115207, 0.00115075, 0.00114943,\n",
       "       0.00114811, 0.00114679, 0.00114548, 0.00114416, 0.00114286,\n",
       "       0.00114155, 0.00114025, 0.00113895, 0.00113766, 0.00113636,\n",
       "       0.00113507, 0.00113379, 0.0011325 , 0.00113122, 0.00112994,\n",
       "       0.00112867, 0.0011274 , 0.00112613, 0.00112486, 0.0011236 ,\n",
       "       0.00112233, 0.00112108, 0.00111982, 0.00111857, 0.00111732,\n",
       "       0.00111607, 0.00111483, 0.00111359, 0.00111235, 0.00111111,\n",
       "       0.00110988, 0.00110865, 0.00110742, 0.00110619, 0.00110497,\n",
       "       0.00110375, 0.00110254, 0.00110132, 0.00110011, 0.0010989 ,\n",
       "       0.00109769, 0.00109649, 0.00109529, 0.00109409, 0.0010929 ,\n",
       "       0.0010917 , 0.00109051, 0.00108932, 0.00108814, 0.00108696,\n",
       "       0.00108578, 0.0010846 , 0.00108342, 0.00108225, 0.00108108,\n",
       "       0.00107991, 0.00107875, 0.00107759, 0.00107643, 0.00107527,\n",
       "       0.00107411, 0.00107296, 0.00107181, 0.00107066, 0.00106952,\n",
       "       0.00106838, 0.00106724, 0.0010661 , 0.00106496, 0.00106383,\n",
       "       0.0010627 , 0.00106157, 0.00106045, 0.00105932, 0.0010582 ,\n",
       "       0.00105708, 0.00105597, 0.00105485, 0.00105374, 0.00105263,\n",
       "       0.00105152, 0.00105042, 0.00104932, 0.00104822, 0.00104712,\n",
       "       0.00104603, 0.00104493, 0.00104384, 0.00104275, 0.00104167,\n",
       "       0.00104058, 0.0010395 , 0.00103842, 0.00103734, 0.00103627,\n",
       "       0.0010352 , 0.00103413, 0.00103306, 0.00103199, 0.00103093,\n",
       "       0.00102987, 0.00102881, 0.00102775, 0.00102669, 0.00102564,\n",
       "       0.00102459, 0.00102354, 0.00102249, 0.00102145, 0.00102041,\n",
       "       0.00101937, 0.00101833, 0.00101729, 0.00101626, 0.00101523,\n",
       "       0.0010142 , 0.00101317, 0.00101215, 0.00101112, 0.0010101 ,\n",
       "       0.00100908, 0.00100806, 0.00100705, 0.00100604, 0.00100503,\n",
       "       0.00100402, 0.00100301, 0.001002  , 0.001001  , 0.001     ])"
      ]
     },
     "execution_count": 101,
     "metadata": {},
     "output_type": "execute_result"
    }
   ],
   "source": [
    "1/hypos"
   ]
  },
  {
   "cell_type": "markdown",
   "metadata": {},
   "source": [
    "\n",
    "Now let's figure out the likelihood of the data.\n",
    "In a hypothetical fleet of $N$ locomotives, what is the probability that we would see number 60?\n",
    "If we assume that we are equally likely to see any locomotive, the chance of seeing any particular one is $1/N$.\n",
    "\n",
    "Here's the function that does the update:"
   ]
  },
  {
   "cell_type": "code",
   "execution_count": 102,
   "metadata": {
    "execution": {
     "iopub.execute_input": "2021-04-16T19:35:20.687062Z",
     "iopub.status.busy": "2021-04-16T19:35:20.686637Z",
     "iopub.status.idle": "2021-04-16T19:35:20.688814Z",
     "shell.execute_reply": "2021-04-16T19:35:20.688368Z"
    }
   },
   "outputs": [],
   "source": [
    "def update_train(pmf, data):\n",
    "    \"\"\"Update pmf based on new data.\"\"\"\n",
    "    hypos = pmf.qs\n",
    "    likelihood = 1 / hypos\n",
    "    impossible = (data > hypos)\n",
    "    likelihood[impossible] = 0\n",
    "    pmf *= likelihood\n",
    "    pmf.normalize()\n",
    "\n",
    "def update_train(pmf, data):\n",
    "    hypos = pmf.qs\n",
    "    impossible = (hypos < data)\n",
    "    likelihood = 1 / hypos\n",
    "    likelihood[impossible] = 0.0\n",
    "    pmf *= likelihood\n",
    "    pmf.normalize()\n",
    "    return(pmf)"
   ]
  },
  {
   "cell_type": "code",
   "execution_count": 103,
   "metadata": {},
   "outputs": [
    {
     "data": {
      "text/html": [
       "<div>\n",
       "<style scoped>\n",
       "    .dataframe tbody tr th:only-of-type {\n",
       "        vertical-align: middle;\n",
       "    }\n",
       "\n",
       "    .dataframe tbody tr th {\n",
       "        vertical-align: top;\n",
       "    }\n",
       "\n",
       "    .dataframe thead th {\n",
       "        text-align: right;\n",
       "    }\n",
       "</style>\n",
       "<table border=\"1\" class=\"dataframe\">\n",
       "  <thead>\n",
       "    <tr style=\"text-align: right;\">\n",
       "      <th></th>\n",
       "      <th>probs</th>\n",
       "    </tr>\n",
       "  </thead>\n",
       "  <tbody>\n",
       "    <tr>\n",
       "      <th>1</th>\n",
       "      <td>0.000000</td>\n",
       "    </tr>\n",
       "    <tr>\n",
       "      <th>2</th>\n",
       "      <td>0.000000</td>\n",
       "    </tr>\n",
       "    <tr>\n",
       "      <th>3</th>\n",
       "      <td>0.000000</td>\n",
       "    </tr>\n",
       "    <tr>\n",
       "      <th>4</th>\n",
       "      <td>0.000000</td>\n",
       "    </tr>\n",
       "    <tr>\n",
       "      <th>5</th>\n",
       "      <td>0.000000</td>\n",
       "    </tr>\n",
       "    <tr>\n",
       "      <th>...</th>\n",
       "      <td>...</td>\n",
       "    </tr>\n",
       "    <tr>\n",
       "      <th>996</th>\n",
       "      <td>0.000356</td>\n",
       "    </tr>\n",
       "    <tr>\n",
       "      <th>997</th>\n",
       "      <td>0.000355</td>\n",
       "    </tr>\n",
       "    <tr>\n",
       "      <th>998</th>\n",
       "      <td>0.000355</td>\n",
       "    </tr>\n",
       "    <tr>\n",
       "      <th>999</th>\n",
       "      <td>0.000355</td>\n",
       "    </tr>\n",
       "    <tr>\n",
       "      <th>1000</th>\n",
       "      <td>0.000354</td>\n",
       "    </tr>\n",
       "  </tbody>\n",
       "</table>\n",
       "<p>1000 rows × 1 columns</p>\n",
       "</div>"
      ],
      "text/plain": [
       "1       0.000000\n",
       "2       0.000000\n",
       "3       0.000000\n",
       "4       0.000000\n",
       "5       0.000000\n",
       "          ...   \n",
       "996     0.000356\n",
       "997     0.000355\n",
       "998     0.000355\n",
       "999     0.000355\n",
       "1000    0.000354\n",
       "Name: , Length: 1000, dtype: float64"
      ]
     },
     "execution_count": 103,
     "metadata": {},
     "output_type": "execute_result"
    }
   ],
   "source": [
    "data = 60\n",
    "posterior = prior.copy()\n",
    "update_train(posterior, data)"
   ]
  },
  {
   "cell_type": "markdown",
   "metadata": {},
   "source": [
    "This function might look familiar; it is the same as the update function for the dice problem in the previous chapter.\n",
    "In terms of likelihood, the train problem is the same as the dice problem.\n",
    "\n",
    "Here's the update:"
   ]
  },
  {
   "cell_type": "code",
   "execution_count": 104,
   "metadata": {
    "execution": {
     "iopub.execute_input": "2021-04-16T19:35:20.692485Z",
     "iopub.status.busy": "2021-04-16T19:35:20.692048Z",
     "iopub.status.idle": "2021-04-16T19:35:20.698353Z",
     "shell.execute_reply": "2021-04-16T19:35:20.698751Z"
    }
   },
   "outputs": [
    {
     "data": {
      "text/html": [
       "<div>\n",
       "<style scoped>\n",
       "    .dataframe tbody tr th:only-of-type {\n",
       "        vertical-align: middle;\n",
       "    }\n",
       "\n",
       "    .dataframe tbody tr th {\n",
       "        vertical-align: top;\n",
       "    }\n",
       "\n",
       "    .dataframe thead th {\n",
       "        text-align: right;\n",
       "    }\n",
       "</style>\n",
       "<table border=\"1\" class=\"dataframe\">\n",
       "  <thead>\n",
       "    <tr style=\"text-align: right;\">\n",
       "      <th></th>\n",
       "      <th>probs</th>\n",
       "    </tr>\n",
       "  </thead>\n",
       "  <tbody>\n",
       "    <tr>\n",
       "      <th>1</th>\n",
       "      <td>0.000000</td>\n",
       "    </tr>\n",
       "    <tr>\n",
       "      <th>2</th>\n",
       "      <td>0.000000</td>\n",
       "    </tr>\n",
       "    <tr>\n",
       "      <th>3</th>\n",
       "      <td>0.000000</td>\n",
       "    </tr>\n",
       "    <tr>\n",
       "      <th>4</th>\n",
       "      <td>0.000000</td>\n",
       "    </tr>\n",
       "    <tr>\n",
       "      <th>5</th>\n",
       "      <td>0.000000</td>\n",
       "    </tr>\n",
       "    <tr>\n",
       "      <th>...</th>\n",
       "      <td>...</td>\n",
       "    </tr>\n",
       "    <tr>\n",
       "      <th>996</th>\n",
       "      <td>0.000356</td>\n",
       "    </tr>\n",
       "    <tr>\n",
       "      <th>997</th>\n",
       "      <td>0.000355</td>\n",
       "    </tr>\n",
       "    <tr>\n",
       "      <th>998</th>\n",
       "      <td>0.000355</td>\n",
       "    </tr>\n",
       "    <tr>\n",
       "      <th>999</th>\n",
       "      <td>0.000355</td>\n",
       "    </tr>\n",
       "    <tr>\n",
       "      <th>1000</th>\n",
       "      <td>0.000354</td>\n",
       "    </tr>\n",
       "  </tbody>\n",
       "</table>\n",
       "<p>1000 rows × 1 columns</p>\n",
       "</div>"
      ],
      "text/plain": [
       "1       0.000000\n",
       "2       0.000000\n",
       "3       0.000000\n",
       "4       0.000000\n",
       "5       0.000000\n",
       "          ...   \n",
       "996     0.000356\n",
       "997     0.000355\n",
       "998     0.000355\n",
       "999     0.000355\n",
       "1000    0.000354\n",
       "Name: , Length: 1000, dtype: float64"
      ]
     },
     "execution_count": 104,
     "metadata": {},
     "output_type": "execute_result"
    }
   ],
   "source": [
    "data = 60\n",
    "posterior = prior.copy()\n",
    "update_train(posterior, data)"
   ]
  },
  {
   "cell_type": "markdown",
   "metadata": {},
   "source": [
    "Here's what the posterior looks like:"
   ]
  },
  {
   "cell_type": "code",
   "execution_count": 105,
   "metadata": {
    "execution": {
     "iopub.execute_input": "2021-04-16T19:35:20.702138Z",
     "iopub.status.busy": "2021-04-16T19:35:20.701696Z",
     "iopub.status.idle": "2021-04-16T19:35:20.889486Z",
     "shell.execute_reply": "2021-04-16T19:35:20.889838Z"
    },
    "tags": []
   },
   "outputs": [
    {
     "data": {
      "image/png": "[encoded data removed]",
      "text/plain": [
       "<Figure size 640x480 with 1 Axes>"
      ]
     },
     "metadata": {},
     "output_type": "display_data"
    }
   ],
   "source": [
    "from utils import decorate\n",
    "\n",
    "posterior.plot(label='Posterior after train 60', color='C4')\n",
    "decorate(xlabel='Number of trains',\n",
    "         ylabel='PMF',\n",
    "         title='Posterior distribution')"
   ]
  },
  {
   "cell_type": "markdown",
   "metadata": {},
   "source": [
    "Not surprisingly, all values of $N$ below 60 have been eliminated.\n",
    "\n",
    "The most likely value, if you had to guess, is 60."
   ]
  },
  {
   "cell_type": "code",
   "execution_count": 106,
   "metadata": {
    "execution": {
     "iopub.execute_input": "2021-04-16T19:35:20.894441Z",
     "iopub.status.busy": "2021-04-16T19:35:20.893628Z",
     "iopub.status.idle": "2021-04-16T19:35:20.896691Z",
     "shell.execute_reply": "2021-04-16T19:35:20.896316Z"
    }
   },
   "outputs": [
    {
     "data": {
      "text/plain": [
       "60"
      ]
     },
     "execution_count": 106,
     "metadata": {},
     "output_type": "execute_result"
    }
   ],
   "source": [
    "posterior.max_prob()"
   ]
  },
  {
   "cell_type": "markdown",
   "metadata": {},
   "source": [
    "That might not seem like a very good guess; after all, what are the chances that you just happened to see the train with the highest number?\n",
    "Nevertheless, if you want to maximize the chance of getting\n",
    "the answer exactly right, you should guess 60.\n",
    "\n",
    "But maybe that's not the right goal.\n",
    "An alternative is to compute the mean of the posterior distribution.\n",
    "Given a set of possible quantities, $q_i$, and their probabilities, $p_i$, the mean of the distribution is:\n",
    "\n",
    "$$\\mathrm{mean} = \\sum_i p_i q_i$$\n",
    "\n",
    "Which we can compute like this:"
   ]
  },
  {
   "cell_type": "code",
   "execution_count": 107,
   "metadata": {},
   "outputs": [
    {
     "data": {
      "text/plain": [
       "333.41989326370776"
      ]
     },
     "execution_count": 107,
     "metadata": {},
     "output_type": "execute_result"
    }
   ],
   "source": [
    "np.sum(posterior.ps * posterior.qs)\n",
    "posterior.mean()"
   ]
  },
  {
   "cell_type": "code",
   "execution_count": 108,
   "metadata": {
    "execution": {
     "iopub.execute_input": "2021-04-16T19:35:20.900289Z",
     "iopub.status.busy": "2021-04-16T19:35:20.899837Z",
     "iopub.status.idle": "2021-04-16T19:35:20.902096Z",
     "shell.execute_reply": "2021-04-16T19:35:20.902445Z"
    }
   },
   "outputs": [
    {
     "data": {
      "text/plain": [
       "333.41989326370776"
      ]
     },
     "execution_count": 108,
     "metadata": {},
     "output_type": "execute_result"
    }
   ],
   "source": [
    "np.sum(posterior.ps * posterior.qs)"
   ]
  },
  {
   "cell_type": "markdown",
   "metadata": {},
   "source": [
    "Or we can use the method provided by `Pmf`:"
   ]
  },
  {
   "cell_type": "code",
   "execution_count": 109,
   "metadata": {
    "execution": {
     "iopub.execute_input": "2021-04-16T19:35:20.906600Z",
     "iopub.status.busy": "2021-04-16T19:35:20.905906Z",
     "iopub.status.idle": "2021-04-16T19:35:20.909638Z",
     "shell.execute_reply": "2021-04-16T19:35:20.909046Z"
    }
   },
   "outputs": [
    {
     "data": {
      "text/plain": [
       "333.41989326370776"
      ]
     },
     "execution_count": 109,
     "metadata": {},
     "output_type": "execute_result"
    }
   ],
   "source": [
    "posterior.mean()"
   ]
  },
  {
   "cell_type": "markdown",
   "metadata": {},
   "source": [
    "The mean of the posterior is 333, so that might be a good guess if you want to minimize error.\n",
    "If you played this guessing game over and over, using the mean of the posterior as your estimate would minimize the [mean squared error](http://en.wikipedia.org/wiki/Minimum_mean_square_error) over the long run."
   ]
  },
  {
   "cell_type": "markdown",
   "metadata": {},
   "source": [
    "## Sensitivity to the Prior\n",
    "\n",
    "The prior I used in the previous section is uniform from 1 to 1000, but I offered no justification for choosing a uniform distribution or that particular upper bound.\n",
    "We might wonder whether the posterior distribution is sensitive to the prior.\n",
    "With so little data---only one observation---it is.\n",
    "\n",
    "This table shows what happens as we vary the upper bound:"
   ]
  },
  {
   "cell_type": "code",
   "execution_count": 110,
   "metadata": {
    "execution": {
     "iopub.execute_input": "2021-04-16T19:35:20.921293Z",
     "iopub.status.busy": "2021-04-16T19:35:20.920199Z",
     "iopub.status.idle": "2021-04-16T19:35:20.935921Z",
     "shell.execute_reply": "2021-04-16T19:35:20.935395Z"
    },
    "tags": []
   },
   "outputs": [
    {
     "data": {
      "text/html": [
       "<div>\n",
       "<style scoped>\n",
       "    .dataframe tbody tr th:only-of-type {\n",
       "        vertical-align: middle;\n",
       "    }\n",
       "\n",
       "    .dataframe tbody tr th {\n",
       "        vertical-align: top;\n",
       "    }\n",
       "\n",
       "    .dataframe thead th {\n",
       "        text-align: right;\n",
       "    }\n",
       "</style>\n",
       "<table border=\"1\" class=\"dataframe\">\n",
       "  <thead>\n",
       "    <tr style=\"text-align: right;\">\n",
       "      <th></th>\n",
       "      <th>Posterior mean</th>\n",
       "    </tr>\n",
       "    <tr>\n",
       "      <th>Upper bound</th>\n",
       "      <th></th>\n",
       "    </tr>\n",
       "  </thead>\n",
       "  <tbody>\n",
       "    <tr>\n",
       "      <th>500</th>\n",
       "      <td>207.079228</td>\n",
       "    </tr>\n",
       "    <tr>\n",
       "      <th>1000</th>\n",
       "      <td>333.419893</td>\n",
       "    </tr>\n",
       "    <tr>\n",
       "      <th>2000</th>\n",
       "      <td>552.179017</td>\n",
       "    </tr>\n",
       "  </tbody>\n",
       "</table>\n",
       "</div>"
      ],
      "text/plain": [
       "             Posterior mean\n",
       "Upper bound                \n",
       "500              207.079228\n",
       "1000             333.419893\n",
       "2000             552.179017"
      ]
     },
     "execution_count": 110,
     "metadata": {},
     "output_type": "execute_result"
    }
   ],
   "source": [
    "import pandas as pd\n",
    "\n",
    "df = pd.DataFrame(columns=['Posterior mean'])\n",
    "df.index.name = 'Upper bound'\n",
    "\n",
    "for high in [500, 1000, 2000]:\n",
    "    hypos = np.arange(1, high+1)\n",
    "    pmf = Pmf(1, hypos)\n",
    "    update_train(pmf, data=60)\n",
    "    df.loc[high] = pmf.mean()\n",
    "    \n",
    "df"
   ]
  },
  {
   "cell_type": "markdown",
   "metadata": {},
   "source": [
    "As we vary the upper bound, the posterior mean changes substantially.\n",
    "So that's bad.  \n",
    "\n",
    "When the posterior is sensitive to the prior, there are two ways to proceed:\n",
    "\n",
    "* Get more data.\n",
    "\n",
    "* Get more background information and choose a better prior.\n",
    "\n",
    "With more data, posterior distributions based on different priors tend to converge.  \n",
    "For example, suppose that in addition to train 60 we also see trains 30 and 90.\n",
    "\n",
    "Here's how the posterior means depend on the upper bound of the prior, when we observe three trains:"
   ]
  },
  {
   "cell_type": "code",
   "execution_count": 111,
   "metadata": {},
   "outputs": [
    {
     "data": {
      "text/html": [
       "<div>\n",
       "<style scoped>\n",
       "    .dataframe tbody tr th:only-of-type {\n",
       "        vertical-align: middle;\n",
       "    }\n",
       "\n",
       "    .dataframe tbody tr th {\n",
       "        vertical-align: top;\n",
       "    }\n",
       "\n",
       "    .dataframe thead th {\n",
       "        text-align: right;\n",
       "    }\n",
       "</style>\n",
       "<table border=\"1\" class=\"dataframe\">\n",
       "  <thead>\n",
       "    <tr style=\"text-align: right;\">\n",
       "      <th></th>\n",
       "      <th>Posterior mean</th>\n",
       "    </tr>\n",
       "    <tr>\n",
       "      <th>max_train</th>\n",
       "      <th></th>\n",
       "    </tr>\n",
       "  </thead>\n",
       "  <tbody>\n",
       "    <tr>\n",
       "      <th>500</th>\n",
       "      <td>151.849588</td>\n",
       "    </tr>\n",
       "    <tr>\n",
       "      <th>1000</th>\n",
       "      <td>164.305586</td>\n",
       "    </tr>\n",
       "    <tr>\n",
       "      <th>2000</th>\n",
       "      <td>171.338181</td>\n",
       "    </tr>\n",
       "  </tbody>\n",
       "</table>\n",
       "</div>"
      ],
      "text/plain": [
       "           Posterior mean\n",
       "max_train                \n",
       "500            151.849588\n",
       "1000           164.305586\n",
       "2000           171.338181"
      ]
     },
     "execution_count": 111,
     "metadata": {},
     "output_type": "execute_result"
    }
   ],
   "source": [
    "df = pd.DataFrame(columns=['Posterior mean'])\n",
    "df.index.name = 'max_train'\n",
    "\n",
    "dataset = [60, 30, 90]\n",
    "\n",
    "for max_train in [500, 1000, 2000]:\n",
    "    hypos = np.arange(1, max_train+1)\n",
    "    pmf = Pmf(1, hypos)\n",
    "\n",
    "    for data in dataset:\n",
    "        update_train(pmf, data=data)\n",
    "\n",
    "    df.loc[max_train] = pmf.mean() # add posterior mean under specific index \n",
    "\n",
    "df"
   ]
  },
  {
   "cell_type": "markdown",
   "metadata": {},
   "source": [
    "The differences are smaller, but apparently three trains are not enough for the posteriors to converge."
   ]
  },
  {
   "cell_type": "markdown",
   "metadata": {},
   "source": [
    "## Power Law Prior\n",
    "\n",
    "If more data are not available, another option is to improve the\n",
    "priors by gathering more background information.\n",
    "It is probably not reasonable to assume that a train-operating company with 1000 locomotives is just as likely as a company with only 1.\n",
    "\n",
    "With some effort, we could probably find a list of companies that\n",
    "operate locomotives in the area of observation.\n",
    "Or we could interview an expert in rail shipping to gather information about the typical size of companies.\n",
    "\n",
    "But even without getting into the specifics of railroad economics, we\n",
    "can make some educated guesses.\n",
    "In most fields, there are many small companies, fewer medium-sized companies, and only one or two very large companies.\n",
    "\n",
    "In fact, the distribution of company sizes tends to follow a power law, as Robert Axtell reports in *Science* (<http://www.sciencemag.org/content/293/5536/1818.full.pdf>).\n",
    "\n",
    "This law suggests that if there are 1000 companies with fewer than\n",
    "10 locomotives, there might be 100 companies with 100 locomotives,\n",
    "10 companies with 1000, and possibly one company with 10,000 locomotives.\n",
    "\n",
    "Mathematically, a power law means that the number of companies with a given size, $N$, is proportional to $(1/N)^{\\alpha}$, where $\\alpha$ is a parameter that is often near 1.\n",
    "\n",
    "We can construct a power law prior like this:"
   ]
  },
  {
   "cell_type": "code",
   "execution_count": 112,
   "metadata": {
    "execution": {
     "iopub.execute_input": "2021-04-16T19:35:20.963600Z",
     "iopub.status.busy": "2021-04-16T19:35:20.963012Z",
     "iopub.status.idle": "2021-04-16T19:35:20.965471Z",
     "shell.execute_reply": "2021-04-16T19:35:20.965831Z"
    },
    "tags": []
   },
   "outputs": [
    {
     "data": {
      "text/plain": [
       "7.485470860550345"
      ]
     },
     "execution_count": 112,
     "metadata": {},
     "output_type": "execute_result"
    }
   ],
   "source": [
    "alpha = 1.0\n",
    "hypos = np.arange(1, 1001)\n",
    "ps = hypos**(-alpha)\n",
    "power = Pmf(ps, hypos, name='power law')\n",
    "power.normalize()"
   ]
  },
  {
   "cell_type": "markdown",
   "metadata": {},
   "source": [
    "For comparison, here's the uniform prior again."
   ]
  },
  {
   "cell_type": "code",
   "execution_count": 113,
   "metadata": {
    "execution": {
     "iopub.execute_input": "2021-04-16T19:35:20.970595Z",
     "iopub.status.busy": "2021-04-16T19:35:20.969882Z",
     "iopub.status.idle": "2021-04-16T19:35:20.972668Z",
     "shell.execute_reply": "2021-04-16T19:35:20.972223Z"
    }
   },
   "outputs": [
    {
     "data": {
      "text/plain": [
       "1000"
      ]
     },
     "execution_count": 113,
     "metadata": {},
     "output_type": "execute_result"
    }
   ],
   "source": [
    "hypos = np.arange(1, 1001)\n",
    "uniform = Pmf(1, hypos, name='uniform')\n",
    "uniform.normalize()"
   ]
  },
  {
   "cell_type": "markdown",
   "metadata": {},
   "source": [
    "Here's what a power law prior looks like, compared to the uniform prior:"
   ]
  },
  {
   "cell_type": "code",
   "execution_count": 114,
   "metadata": {
    "execution": {
     "iopub.execute_input": "2021-04-16T19:35:20.993580Z",
     "iopub.status.busy": "2021-04-16T19:35:20.987921Z",
     "iopub.status.idle": "2021-04-16T19:35:21.145573Z",
     "shell.execute_reply": "2021-04-16T19:35:21.145133Z"
    },
    "tags": []
   },
   "outputs": [
    {
     "data": {
      "image/png": "[encoded data removed]",
      "text/plain": [
       "<Figure size 640x480 with 1 Axes>"
      ]
     },
     "metadata": {},
     "output_type": "display_data"
    }
   ],
   "source": [
    "uniform.plot(color='C4')\n",
    "power.plot(color='C1')\n",
    "\n",
    "decorate(xlabel='Number of trains',\n",
    "         ylabel='PMF',\n",
    "         title='Prior distributions')"
   ]
  },
  {
   "cell_type": "markdown",
   "metadata": {},
   "source": [
    "Here's the update for both priors."
   ]
  },
  {
   "cell_type": "code",
   "execution_count": 115,
   "metadata": {
    "execution": {
     "iopub.execute_input": "2021-04-16T19:35:21.149556Z",
     "iopub.status.busy": "2021-04-16T19:35:21.148612Z",
     "iopub.status.idle": "2021-04-16T19:35:21.152684Z",
     "shell.execute_reply": "2021-04-16T19:35:21.152290Z"
    }
   },
   "outputs": [],
   "source": [
    "dataset = [60]\n",
    "uniform_posterior = update_train(uniform.copy(), dataset)\n",
    "power_posterior = update_train(power.copy(), dataset)"
   ]
  },
  {
   "cell_type": "markdown",
   "metadata": {},
   "source": [
    "And here are the posterior distributions."
   ]
  },
  {
   "cell_type": "code",
   "execution_count": 116,
   "metadata": {
    "execution": {
     "iopub.execute_input": "2021-04-16T19:35:21.168591Z",
     "iopub.status.busy": "2021-04-16T19:35:21.168151Z",
     "iopub.status.idle": "2021-04-16T19:35:21.299407Z",
     "shell.execute_reply": "2021-04-16T19:35:21.299044Z"
    },
    "tags": []
   },
   "outputs": [
    {
     "data": {
      "image/png": "[encoded data removed]",
      "text/plain": [
       "<Figure size 640x480 with 1 Axes>"
      ]
     },
     "metadata": {},
     "output_type": "display_data"
    }
   ],
   "source": [
    "uniform_posterior.plot(color='C4')\n",
    "power_posterior.plot(color='C1')\n",
    "\n",
    "decorate(xlabel='Number of trains',\n",
    "         ylabel='PMF',\n",
    "         title='Posterior distributions')"
   ]
  },
  {
   "cell_type": "markdown",
   "metadata": {},
   "source": [
    "The power law gives less prior probability to high values, which yields lower posterior means, and less sensitivity to the upper bound.\n",
    "\n",
    "Here's how the posterior means depend on the upper bound when we use a power law prior and observe three trains:"
   ]
  },
  {
   "cell_type": "code",
   "execution_count": 117,
   "metadata": {
    "execution": {
     "iopub.execute_input": "2021-04-16T19:35:21.310454Z",
     "iopub.status.busy": "2021-04-16T19:35:21.308708Z",
     "iopub.status.idle": "2021-04-16T19:35:21.322722Z",
     "shell.execute_reply": "2021-04-16T19:35:21.323129Z"
    },
    "tags": []
   },
   "outputs": [
    {
     "data": {
      "text/html": [
       "<div>\n",
       "<style scoped>\n",
       "    .dataframe tbody tr th:only-of-type {\n",
       "        vertical-align: middle;\n",
       "    }\n",
       "\n",
       "    .dataframe tbody tr th {\n",
       "        vertical-align: top;\n",
       "    }\n",
       "\n",
       "    .dataframe thead th {\n",
       "        text-align: right;\n",
       "    }\n",
       "</style>\n",
       "<table border=\"1\" class=\"dataframe\">\n",
       "  <thead>\n",
       "    <tr style=\"text-align: right;\">\n",
       "      <th></th>\n",
       "      <th>Posterior mean</th>\n",
       "    </tr>\n",
       "    <tr>\n",
       "      <th>Upper bound</th>\n",
       "      <th></th>\n",
       "    </tr>\n",
       "  </thead>\n",
       "  <tbody>\n",
       "    <tr>\n",
       "      <th>500</th>\n",
       "      <td>130.708470</td>\n",
       "    </tr>\n",
       "    <tr>\n",
       "      <th>1000</th>\n",
       "      <td>133.275231</td>\n",
       "    </tr>\n",
       "    <tr>\n",
       "      <th>2000</th>\n",
       "      <td>133.997463</td>\n",
       "    </tr>\n",
       "  </tbody>\n",
       "</table>\n",
       "</div>"
      ],
      "text/plain": [
       "             Posterior mean\n",
       "Upper bound                \n",
       "500              130.708470\n",
       "1000             133.275231\n",
       "2000             133.997463"
      ]
     },
     "execution_count": 117,
     "metadata": {},
     "output_type": "execute_result"
    }
   ],
   "source": [
    "df = pd.DataFrame(columns=['Posterior mean'])\n",
    "df.index.name = 'Upper bound'\n",
    "\n",
    "alpha = 1.0\n",
    "dataset = [30, 60, 90]\n",
    "\n",
    "for high in [500, 1000, 2000]:\n",
    "    hypos = np.arange(1, high+1)\n",
    "    ps = hypos**(-alpha)\n",
    "    power = Pmf(ps, hypos)\n",
    "    for data in dataset:\n",
    "        update_train(power, data)\n",
    "    df.loc[high] = power.mean()\n",
    "    \n",
    "df"
   ]
  },
  {
   "cell_type": "markdown",
   "metadata": {},
   "source": [
    "Now the differences are much smaller.  In fact,\n",
    "with an arbitrarily large upper bound, the mean converges on 134.\n",
    "\n",
    "So the power law prior is more realistic, because it is based on\n",
    "general information about the size of companies, and it behaves better in practice."
   ]
  },
  {
   "cell_type": "markdown",
   "metadata": {},
   "source": [
    "## Credible Intervals\n",
    "\n",
    "So far we have seen two ways to summarize a posterior distribution: the value with the highest posterior probability (the MAP) and the posterior mean.\n",
    "These are both **point estimates**, that is, single values that estimate the quantity we are interested in.\n",
    "\n",
    "Another way to summarize a posterior distribution is with percentiles.\n",
    "If you have taken a standardized test, you might be familiar with percentiles.\n",
    "For example, if your score is the 90th percentile, that means you did as well as or better than 90\\% of the people who took the test.\n",
    "\n",
    "If we are given a value, `x`, we can compute its **percentile rank** by finding all values less than or equal to `x` and adding up their probabilities.\n",
    "\n",
    "`Pmf` provides a method that does this computation.\n",
    "So, for example, we can compute the probability that the company has less than or equal to 100 trains:"
   ]
  },
  {
   "cell_type": "code",
   "execution_count": 118,
   "metadata": {
    "execution": {
     "iopub.execute_input": "2021-04-16T19:35:21.326884Z",
     "iopub.status.busy": "2021-04-16T19:35:21.326371Z",
     "iopub.status.idle": "2021-04-16T19:35:21.329117Z",
     "shell.execute_reply": "2021-04-16T19:35:21.328729Z"
    }
   },
   "outputs": [
    {
     "data": {
      "text/plain": [
       "0.2937469222495771"
      ]
     },
     "execution_count": 118,
     "metadata": {},
     "output_type": "execute_result"
    }
   ],
   "source": [
    "power.prob_le(100)"
   ]
  },
  {
   "cell_type": "code",
   "execution_count": 119,
   "metadata": {},
   "outputs": [],
   "source": [
    "# def quantile(pmf, prob):\n",
    "#     total = 0\n",
    "#     for q, p in pmf.items():\n",
    "#         total += p\n",
    "#         if total >= prob:\n",
    "#             return q\n",
    "        \n",
    "#     return np.nan\n"
   ]
  },
  {
   "cell_type": "markdown",
   "metadata": {},
   "source": [
    "With a power law prior and a dataset of three trains, the result is about 29%.\n",
    "So 100 trains is the 29th percentile.\n",
    "\n",
    "Going the other way, suppose we want to compute a particular percentile; for example, the median of a distribution is the 50th percentile.\n",
    "We can compute it by adding up probabilities until the total exceeds 0.5.\n",
    "Here's a function that does it:"
   ]
  },
  {
   "cell_type": "code",
   "execution_count": 120,
   "metadata": {
    "execution": {
     "iopub.execute_input": "2021-04-16T19:35:21.332553Z",
     "iopub.status.busy": "2021-04-16T19:35:21.332041Z",
     "iopub.status.idle": "2021-04-16T19:35:21.334402Z",
     "shell.execute_reply": "2021-04-16T19:35:21.333955Z"
    }
   },
   "outputs": [],
   "source": [
    "def quantile(pmf, prob):\n",
    "    \"\"\"Compute a quantile with the given prob.\"\"\"\n",
    "    total = 0\n",
    "    for q, p in pmf.items():\n",
    "        total += p\n",
    "        if total >= prob:\n",
    "            return q\n",
    "    return np.nan"
   ]
  },
  {
   "cell_type": "markdown",
   "metadata": {},
   "source": [
    "The loop uses `items`, which iterates the quantities and probabilities in the distribution.\n",
    "Inside the loop we add up the probabilities of the quantities in order.\n",
    "When the total equals or exceeds `prob`, we return the corresponding quantity.\n",
    "\n",
    "This function is called `quantile` because it computes a quantile rather than a percentile.\n",
    "The difference is the way we specify `prob`.\n",
    "If `prob` is a percentage between 0 and 100, we call the corresponding quantity a percentile.\n",
    "If `prob` is a probability between 0 and 1, we call the corresponding quantity a **quantile**.\n",
    "\n",
    "Here's how we can use this function to compute the 50th percentile of the posterior distribution:"
   ]
  },
  {
   "cell_type": "code",
   "execution_count": 121,
   "metadata": {},
   "outputs": [
    {
     "data": {
      "text/plain": [
       "[(1, 0.0),\n",
       " (2, 0.0),\n",
       " (3, 0.0),\n",
       " (4, 0.0),\n",
       " (5, 0.0),\n",
       " (6, 0.0),\n",
       " (7, 0.0),\n",
       " (8, 0.0),\n",
       " (9, 0.0),\n",
       " (10, 0.0),\n",
       " (11, 0.0),\n",
       " (12, 0.0),\n",
       " (13, 0.0),\n",
       " (14, 0.0),\n",
       " (15, 0.0),\n",
       " (16, 0.0),\n",
       " (17, 0.0),\n",
       " (18, 0.0),\n",
       " (19, 0.0),\n",
       " (20, 0.0),\n",
       " (21, 0.0),\n",
       " (22, 0.0),\n",
       " (23, 0.0),\n",
       " (24, 0.0),\n",
       " (25, 0.0),\n",
       " (26, 0.0),\n",
       " (27, 0.0),\n",
       " (28, 0.0),\n",
       " (29, 0.0),\n",
       " (30, 0.0),\n",
       " (31, 0.0),\n",
       " (32, 0.0),\n",
       " (33, 0.0),\n",
       " (34, 0.0),\n",
       " (35, 0.0),\n",
       " (36, 0.0),\n",
       " (37, 0.0),\n",
       " (38, 0.0),\n",
       " (39, 0.0),\n",
       " (40, 0.0),\n",
       " (41, 0.0),\n",
       " (42, 0.0),\n",
       " (43, 0.0),\n",
       " (44, 0.0),\n",
       " (45, 0.0),\n",
       " (46, 0.0),\n",
       " (47, 0.0),\n",
       " (48, 0.0),\n",
       " (49, 0.0),\n",
       " (50, 0.0),\n",
       " (51, 0.0),\n",
       " (52, 0.0),\n",
       " (53, 0.0),\n",
       " (54, 0.0),\n",
       " (55, 0.0),\n",
       " (56, 0.0),\n",
       " (57, 0.0),\n",
       " (58, 0.0),\n",
       " (59, 0.0),\n",
       " (60, 0.0),\n",
       " (61, 0.0),\n",
       " (62, 0.0),\n",
       " (63, 0.0),\n",
       " (64, 0.0),\n",
       " (65, 0.0),\n",
       " (66, 0.0),\n",
       " (67, 0.0),\n",
       " (68, 0.0),\n",
       " (69, 0.0),\n",
       " (70, 0.0),\n",
       " (71, 0.0),\n",
       " (72, 0.0),\n",
       " (73, 0.0),\n",
       " (74, 0.0),\n",
       " (75, 0.0),\n",
       " (76, 0.0),\n",
       " (77, 0.0),\n",
       " (78, 0.0),\n",
       " (79, 0.0),\n",
       " (80, 0.0),\n",
       " (81, 0.0),\n",
       " (82, 0.0),\n",
       " (83, 0.0),\n",
       " (84, 0.0),\n",
       " (85, 0.0),\n",
       " (86, 0.0),\n",
       " (87, 0.0),\n",
       " (88, 0.0),\n",
       " (89, 0.0),\n",
       " (90, 0.022020757631097135),\n",
       " (91, 0.02130274693833735),\n",
       " (92, 0.020615615385198963),\n",
       " (93, 0.01995772065521878),\n",
       " (94, 0.01932752414333747),\n",
       " (95, 0.018723583394745367),\n",
       " (96, 0.01814454516722481),\n",
       " (97, 0.017589139059739696),\n",
       " (98, 0.017056171655804354),\n",
       " (99, 0.01654452113530965),\n",
       " (100, 0.01605313231306981),\n",
       " (101, 0.015581012066444478),\n",
       " (102, 0.015127225118044542),\n",
       " (103, 0.014690890142798525),\n",
       " (104, 0.014271176171581466),\n",
       " (105, 0.013867299266230268),\n",
       " (106, 0.013478519443122351),\n",
       " (107, 0.013104137824606819),\n",
       " (108, 0.012743493999477506),\n",
       " (109, 0.012395963575386972),\n",
       " (110, 0.012060955907640728),\n",
       " (111, 0.011737911990200436),\n",
       " (112, 0.011426302495978305),\n",
       " (113, 0.01112562595463835),\n",
       " (114, 0.010835407057144308),\n",
       " (115, 0.010555195077221871),\n",
       " (116, 0.010284562400742785),\n",
       " (117, 0.010023103154800702),\n",
       " (118, 0.009770431928939796),\n",
       " (119, 0.009526182581625716),\n",
       " (120, 0.009290007125619101),\n",
       " (121, 0.009061574686431803),\n",
       " (122, 0.008840570528518806),\n",
       " (123, 0.008626695144290169),\n",
       " (124, 0.008419663401420422),\n",
       " (125, 0.008219203744291746),\n",
       " (126, 0.008025057445735105),\n",
       " (127, 0.007836977905533199),\n",
       " (128, 0.0076547299924229675),\n",
       " (129, 0.007478089426586622),\n",
       " (130, 0.007306842199849711),\n",
       " (131, 0.007140784031015563),\n",
       " (132, 0.006979719853958756),\n",
       " (133, 0.006823463336277466),\n",
       " (134, 0.006671836426467771),\n",
       " (135, 0.006524668927732485),\n",
       " (136, 0.0063817980966750405),\n",
       " (137, 0.00624306826525561),\n",
       " (138, 0.006108330484503397),\n",
       " (139, 0.0059774421885866215),\n",
       " (140, 0.0058502668779408925),\n",
       " (141, 0.00572667382024814),\n",
       " (142, 0.005606537768142713),\n",
       " (143, 0.00548973869259933),\n",
       " (144, 0.005376161531029573),\n",
       " (145, 0.005265695949180306),\n",
       " (146, 0.005158236115989085),\n",
       " (147, 0.005053680490608697),\n",
       " (148, 0.00495193162086581),\n",
       " (149, 0.00485289595246777),\n",
       " (150, 0.004756483648316981),\n",
       " (151, 0.004662608417334376),\n",
       " (152, 0.004571187352232755),\n",
       " (153, 0.004482140775716902),\n",
       " (154, 0.004395392094621258),\n",
       " (155, 0.004310867661527255),\n",
       " (156, 0.004228496643431544),\n",
       " (157, 0.004148210897063514),\n",
       " (158, 0.0040699448504757756),\n",
       " (159, 0.003993635390554771),\n",
       " (160, 0.00391922175612056),\n",
       " (161, 0.003846645436305346),\n",
       " (162, 0.0037758500739192608),\n",
       " (163, 0.0037067813735297424),\n",
       " (164, 0.0036393870139974143),\n",
       " (165, 0.003573616565226883),\n",
       " (166, 0.003509421408905286),\n",
       " (167, 0.0034467546630149964),\n",
       " (168, 0.0033855711099194975),\n",
       " (169, 0.0033258271278332765),\n",
       " (170, 0.0032674806254976204),\n",
       " (171, 0.00321049097989461),\n",
       " (172, 0.0031548189768412314),\n",
       " (173, 0.0031004267543146545),\n",
       " (174, 0.0030472777483682325),\n",
       " (175, 0.002995336641505737),\n",
       " (176, 0.0029445693133888498),\n",
       " (177, 0.0028949427937599395),\n",
       " (178, 0.002846425217468749),\n",
       " (179, 0.0027989857814978004),\n",
       " (180, 0.002752594703887142),\n",
       " (181, 0.0027072231844645165),\n",
       " (182, 0.0026628433672921687),\n",
       " (183, 0.002619428304746312),\n",
       " (184, 0.0025769519231498704),\n",
       " (185, 0.002535388989883294),\n",
       " (186, 0.0024947150819023475),\n",
       " (187, 0.0024549065555955073),\n",
       " (188, 0.0024159405179171836),\n",
       " (189, 0.0023777947987363274),\n",
       " (190, 0.002340447924343171),\n",
       " (191, 0.0023038790920598003),\n",
       " (192, 0.002268068145903101),\n",
       " (193, 0.0022329955532512553),\n",
       " (194, 0.002198642382467462),\n",
       " (195, 0.002164990281436951),\n",
       " (196, 0.002132021456975544),\n",
       " (197, 0.002099718655070172),\n",
       " (198, 0.002068065141913706),\n",
       " (199, 0.0020370446856983605),\n",
       " (200, 0.0020066415391337264),\n",
       " (201, 0.0019768404226571173),\n",
       " (202, 0.0019476265083055598),\n",
       " (203, 0.0019189854042202283),\n",
       " (204, 0.0018909031397555678),\n",
       " (205, 0.0018633661511666762),\n",
       " (206, 0.0018363612678498156),\n",
       " (207, 0.0018098756991121172),\n",
       " (208, 0.0017838970214476833),\n",
       " (209, 0.0017584131662984003),\n",
       " (210, 0.0017334124082787835),\n",
       " (211, 0.0017088833538451383),\n",
       " (212, 0.0016848149303902939),\n",
       " (213, 0.001661196375745989),\n",
       " (214, 0.0016380172280758523),\n",
       " (215, 0.0016152673161427106),\n",
       " (216, 0.0015929367499346882),\n",
       " (217, 0.0015710159116352975),\n",
       " (218, 0.0015494954469233715),\n",
       " (219, 0.0015283662565893585),\n",
       " (220, 0.001507619488455091),\n",
       " (221, 0.0014872465295847164),\n",
       " (222, 0.0014672389987750545),\n",
       " (223, 0.001447588739314151),\n",
       " (224, 0.001428287811997288),\n",
       " (225, 0.0014093284883902166),\n",
       " (226, 0.0013907032443297937),\n",
       " (227, 0.0013724047536526683),\n",
       " (228, 0.0013544258821430386),\n",
       " (229, 0.001336759681690924),\n",
       " (230, 0.0013193993846527339),\n",
       " (231, 0.0013023383984062983),\n",
       " (232, 0.0012855703000928481),\n",
       " (233, 0.0012690888315387448),\n",
       " (234, 0.0012528878943500877),\n",
       " (235, 0.0012369615451735983),\n",
       " (236, 0.0012213039911174745),\n",
       " (237, 0.0012059095853261556),\n",
       " (238, 0.0011907728227032145),\n",
       " (239, 0.00117588833577681),\n",
       " (240, 0.0011612508907023877),\n",
       " (241, 0.0011468553833975182),\n",
       " (242, 0.0011326968358039754),\n",
       " (243, 0.0011187703922723741),\n",
       " (244, 0.0011050713160648507),\n",
       " (245, 0.0010915949859714787),\n",
       " (246, 0.001078336893036271),\n",
       " (247, 0.0010652926373887898),\n",
       " (248, 0.0010524579251775528),\n",
       " (249, 0.0010398285656015656),\n",
       " (250, 0.0010274004680364682),\n",
       " (251, 0.001015169639251904),\n",
       " (252, 0.0010031321807168882),\n",
       " (253, 0.0009912842859900327),\n",
       " (254, 0.0009796222381916499),\n",
       " (255, 0.0009681424075548506),\n",
       " (256, 0.0009568412490528709),\n",
       " (257, 0.0009457153000999677),\n",
       " (258, 0.0009347611783233278),\n",
       " (259, 0.0009239755794035329),\n",
       " (260, 0.0009133552749812138),\n",
       " (261, 0.0009028971106276243),\n",
       " (262, 0.0008925980038769454),\n",
       " (263, 0.0008824549423182119),\n",
       " (264, 0.0008724649817448445),\n",
       " (265, 0.0008626252443598305),\n",
       " (266, 0.0008529329170346833),\n",
       " (267, 0.0008433852496203702),\n",
       " (268, 0.0008339795533084714),\n",
       " (269, 0.0008247131990408997),\n",
       " (270, 0.0008155836159665607),\n",
       " (271, 0.0008065882899434051),\n",
       " (272, 0.0007977247620843801),\n",
       " (273, 0.0007889906273458275),\n",
       " (274, 0.0007803835331569513),\n",
       " (275, 0.0007719011780890068),\n",
       " (276, 0.0007635413105629246),\n",
       " (277, 0.0007553017275941263),\n",
       " (278, 0.0007471802735733277),\n",
       " (279, 0.0007391748390821769),\n",
       " (280, 0.0007312833597426116),\n",
       " (281, 0.0007235038150988547),\n",
       " (282, 0.0007158342275310175),\n",
       " (283, 0.0007082726611993013),\n",
       " (284, 0.0007008172210178391),\n",
       " (285, 0.0006934660516572358),\n",
       " (286, 0.0006862173365749163),\n",
       " (287, 0.0006790692970724039),\n",
       " (288, 0.0006720201913786966),\n",
       " (289, 0.0006650683137589297),\n",
       " (290, 0.0006582119936475383),\n",
       " (291, 0.000651449594805174),\n",
       " (292, 0.0006447795144986356),\n",
       " (293, 0.0006382001827031171),\n",
       " (294, 0.0006317100613260872),\n",
       " (295, 0.0006253076434521468),\n",
       " (296, 0.0006189914526082262),\n",
       " (297, 0.0006127600420485053),\n",
       " (298, 0.0006066119940584712),\n",
       " (299, 0.0006005459192775301),\n",
       " (300, 0.0005945604560396227),\n",
       " (301, 0.0005886542697313084),\n",
       " (302, 0.000582826052166797),\n",
       " (303, 0.0005770745209794251),\n",
       " (304, 0.0005713984190290944),\n",
       " (305, 0.0005657965138252034),\n",
       " (306, 0.0005602675969646128),\n",
       " (307, 0.0005548104835842119),\n",
       " (308, 0.0005494240118276572),\n",
       " (309, 0.0005441070423258717),\n",
       " (310, 0.0005388584576909069),\n",
       " (311, 0.0005336771620227854),\n",
       " (312, 0.000528562080428943),\n",
       " (313, 0.0005235121585559197),\n",
       " (314, 0.0005185263621329393),\n",
       " (315, 0.0005136036765270469),\n",
       " (316, 0.0005087431063094719),\n",
       " (317, 0.0005039436748329002),\n",
       " (318, 0.0004992044238193464),\n",
       " (319, 0.0004945244129583307),\n",
       " (320, 0.00048990271951507),\n",
       " (321, 0.0004853384379484006),\n",
       " (322, 0.00048083067953816826),\n",
       " (323, 0.0004763785720218138),\n",
       " (324, 0.0004719812592399076),\n",
       " (325, 0.0004676379007903814),\n",
       " (326, 0.0004633476716912178),\n",
       " (327, 0.00045910976205136924),\n",
       " (328, 0.0004549233767496768),\n",
       " (329, 0.0004507877351215737),\n",
       " (330, 0.0004467020706533604),\n",
       " (331, 0.0004426656306838465),\n",
       " (332, 0.00043867767611316074),\n",
       " (333, 0.0004347374811185346),\n",
       " (334, 0.00043084433287687455),\n",
       " (335, 0.00042699753129393737),\n",
       " (336, 0.0004231963887399372),\n",
       " (337, 0.0004194402297914083),\n",
       " (338, 0.00041572839097915956),\n",
       " (339, 0.0004120602205421611),\n",
       " (340, 0.00040843507818720255),\n",
       " (341, 0.0004048523348541751),\n",
       " (342, 0.0004013113724868263),\n",
       " (343, 0.00039781158380884787),\n",
       " (344, 0.0003943523721051539),\n",
       " (345, 0.0003909331510082174),\n",
       " (346, 0.0003875533442893318),\n",
       " (347, 0.00038421238565467187),\n",
       " (348, 0.00038090971854602907),\n",
       " (349, 0.0003776447959461004),\n",
       " (350, 0.0003744170801882171),\n",
       " (351, 0.0003712260427703963),\n",
       " (352, 0.0003680711641736062),\n",
       " (353, 0.0003649519336841405),\n",
       " (354, 0.00036186784921999243),\n",
       " (355, 0.0003588184171611336),\n",
       " (356, 0.0003558031521835936),\n",
       " (357, 0.00035282157709724875),\n",
       " (358, 0.00034987322268722505),\n",
       " (359, 0.00034695762755882517),\n",
       " (360, 0.00034407433798589273),\n",
       " (361, 0.00034122290776252684),\n",
       " (362, 0.00033840289805806456),\n",
       " (363, 0.00033561387727525197),\n",
       " (364, 0.0003328554209115211),\n",
       " (365, 0.0003301271114233015),\n",
       " (366, 0.000327428538093289),\n",
       " (367, 0.0003247592969005985),\n",
       " (368, 0.0003221189903937338),\n",
       " (369, 0.0003195072275663025),\n",
       " (370, 0.0003169236237354117),\n",
       " (371, 0.0003143678004226788),\n",
       " (372, 0.00031183938523779344),\n",
       " (373, 0.00030933801176457145),\n",
       " (374, 0.0003068633194494384),\n",
       " (375, 0.00030441495349228673),\n",
       " (376, 0.00030199256473964795),\n",
       " (377, 0.0002995958095801266),\n",
       " (378, 0.00029722434984204093),\n",
       " (379, 0.0002948778526932186),\n",
       " (380, 0.00029255599054289636),\n",
       " (381, 0.000290258440945674),\n",
       " (382, 0.00028798488650747504),\n",
       " (383, 0.00028573501479346557),\n",
       " (384, 0.00028350851823788763),\n",
       " (385, 0.0002813050940557605),\n",
       " (386, 0.0002791244441564069),\n",
       " (387, 0.00027696627505876387),\n",
       " (388, 0.00027483029780843275),\n",
       " (389, 0.0002727162278964335),\n",
       " (390, 0.00027062378517961886),\n",
       " (391, 0.00026855269380271404),\n",
       " (392, 0.000266502682121943),\n",
       " (393, 0.00026447348263020613),\n",
       " (394, 0.0002624648318837715),\n",
       " (395, 0.00026047647043044974),\n",
       " (396, 0.00025850814273921326),\n",
       " (397, 0.00025655959713123265),\n",
       " (398, 0.00025463058571229506),\n",
       " (399, 0.00025272086430657277),\n",
       " (400, 0.0002508301923917158),\n",
       " (401, 0.0002489583330352332),\n",
       " (402, 0.00024710505283213966),\n",
       " (403, 0.00024527012184383565),\n",
       " (404, 0.00024345331353819497),\n",
       " (405, 0.00024165440473083272),\n",
       " (406, 0.00023987317552752853),\n",
       " (407, 0.0002381094092677774),\n",
       " (408, 0.00023636289246944597),\n",
       " (409, 0.0002346334147745076),\n",
       " (410, 0.00023292076889583452),\n",
       " (411, 0.00023122475056502263),\n",
       " (412, 0.00022954515848122695),\n",
       " (413, 0.00022788179426098653),\n",
       " (414, 0.00022623446238901465),\n",
       " (415, 0.00022460297016993833),\n",
       " (416, 0.0002229871276809604),\n",
       " (417, 0.00022138674772543033),\n",
       " (418, 0.00021980164578730004),\n",
       " (419, 0.00021823163998644718),\n",
       " (420, 0.00021667655103484794),\n",
       " (421, 0.00021513620219358067),\n",
       " (422, 0.0002136104192306423),\n",
       " (423, 0.00021209903037956073),\n",
       " (424, 0.00021060186629878673),\n",
       " (425, 0.00020911876003184765),\n",
       " (426, 0.00020764954696824862),\n",
       " (427, 0.00020619406480510327),\n",
       " (428, 0.00020475215350948154),\n",
       " (429, 0.00020332365528145672),\n",
       " (430, 0.00020190841451783883),\n",
       " (431, 0.00020050627777657982),\n",
       " (432, 0.00019911709374183603),\n",
       " (433, 0.00019774071318967492),\n",
       " (434, 0.00019637698895441218),\n",
       " (435, 0.00019502577589556688),\n",
       " (436, 0.00019368693086542144),\n",
       " (437, 0.0001923603126771736),\n",
       " (438, 0.0001910457820736698),\n",
       " (439, 0.00018974320169670616),\n",
       " (440, 0.00018845243605688638),\n",
       " (441, 0.00018717335150402584),\n",
       " (442, 0.00018590581619808955),\n",
       " (443, 0.00018464970008065385),\n",
       " (444, 0.0001834048748468818),\n",
       " (445, 0.00018217121391799995),\n",
       " (446, 0.00018094859241426888),\n",
       " (447, 0.00017973688712843598),\n",
       " (448, 0.000178535976499661),\n",
       " (449, 0.0001773457405879057),\n",
       " (450, 0.00017616606104877707),\n",
       " (451, 0.0001749968211088163),\n",
       " (452, 0.0001738379055412242),\n",
       " (453, 0.00017268920064201398),\n",
       " (454, 0.00017155059420658354),\n",
       " (455, 0.00017042197550669878),\n",
       " (456, 0.00016930323526787982),\n",
       " (457, 0.00016819426564718235),\n",
       " (458, 0.0001670949602113655),\n",
       " (459, 0.00016600521391544083),\n",
       " (460, 0.00016492492308159174),\n",
       " (461, 0.00016385398537845975),\n",
       " (462, 0.0001627922998007873),\n",
       " (463, 0.00016173976664941224),\n",
       " (464, 0.00016069628751160602),\n",
       " (465, 0.00015966176524175022),\n",
       " (466, 0.0001586361039423431),\n",
       " (467, 0.00015761920894533153),\n",
       " (468, 0.00015661098679376097),\n",
       " (469, 0.0001556113452237381),\n",
       " (470, 0.00015462019314669979),\n",
       " (471, 0.000153637440631982),\n",
       " (472, 0.00015266299888968432),\n",
       " (473, 0.0001516967802538233),\n",
       " (474, 0.00015073869816576945),\n",
       " (475, 0.00014978866715796292),\n",
       " (476, 0.0001488466028379018),\n",
       " (477, 0.00014791242187239896),\n",
       " (478, 0.00014698604197210124),\n",
       " (479, 0.0001460673818762674),\n",
       " (480, 0.00014515636133779846),\n",
       " (481, 0.00014425290110851697),\n",
       " (482, 0.00014335692292468977),\n",
       " (483, 0.00014246834949279062),\n",
       " (484, 0.00014158710447549692),\n",
       " (485, 0.0001407131124779176),\n",
       " (486, 0.00013984629903404677),\n",
       " (487, 0.00013898659059343956),\n",
       " (488, 0.00013813391450810634),\n",
       " (489, 0.00013728819901962012),\n",
       " (490, 0.00013644937324643484),\n",
       " (491, 0.00013561736717140926),\n",
       " (492, 0.00013479211162953388),\n",
       " (493, 0.00013397353829585555),\n",
       " (494, 0.00013316157967359872),\n",
       " (495, 0.00013235616908247714),\n",
       " (496, 0.0001315572406471941),\n",
       " (497, 0.00013076472928612743),\n",
       " (498, 0.0001299785707001957),\n",
       " (499, 0.00012919870136190314),\n",
       " (500, 0.00012842505850455853),\n",
       " (501, 0.00012765758011166646),\n",
       " (502, 0.000126896204906488),\n",
       " (503, 0.00012614087234176535),\n",
       " (504, 0.00012539152258961102),\n",
       " (505, 0.00012464809653155582),\n",
       " (506, 0.0001239105357487541),\n",
       " (507, 0.00012317878251234362),\n",
       " (508, 0.00012245277977395623),\n",
       " (509, 0.00012173247115637824),\n",
       " (510, 0.00012101780094435633),\n",
       " (511, 0.00012030871407554719),\n",
       " (512, 0.00011960515613160887),\n",
       " (513, 0.00011890707332943002),\n",
       " (514, 0.00011821441251249597),\n",
       " (515, 0.00011752712114238824),\n",
       " (516, 0.00011684514729041597),\n",
       " (517, 0.00011616843962937624),\n",
       " (518, 0.00011549694742544161),\n",
       " (519, 0.0001148306205301724),\n",
       " (520, 0.00011416940937265173),\n",
       " (521, 0.00011351326495174077),\n",
       " (522, 0.00011286213882845304),\n",
       " (523, 0.00011221598311844444),\n",
       " (524, 0.00011157475048461818),\n",
       " (525, 0.0001109383941298421),\n",
       " (526, 0.00011030686778977649),\n",
       " (527, 0.00010968012572581052),\n",
       " (528, 0.00010905812271810556),\n",
       " (529, 0.00010844081405874363),\n",
       " (530, 0.00010782815554497882),\n",
       " (531, 0.00010722010347259034),\n",
       " (532, 0.00010661661462933541),\n",
       " (533, 0.00010601764628850001),\n",
       " (534, 0.00010542315620254627),\n",
       " (535, 0.00010483310259685456),\n",
       " (536, 0.00010424744416355893),\n",
       " (537, 0.00010366614005547407),\n",
       " (538, 0.00010308914988011246),\n",
       " (539, 0.00010251643369379025),\n",
       " (540, 0.00010194795199582008),\n",
       " (541, 0.00010138366572278983),\n",
       " (542, 0.00010082353624292564),\n",
       " (543, 0.00010026752535053768),\n",
       " (544, 9.971559526054751e-05),\n",
       " (545, 9.916770860309575e-05),\n",
       " (546, 9.862382841822843e-05),\n",
       " (547, 9.80839181506611e-05),\n",
       " (548, 9.754794164461891e-05),\n",
       " (549, 9.701586313875228e-05),\n",
       " (550, 9.648764726112585e-05),\n",
       " (551, 9.596325902428026e-05),\n",
       " (552, 9.544266382036558e-05),\n",
       " (553, 9.492582741634464e-05),\n",
       " (554, 9.441271594926579e-05),\n",
       " (555, 9.390329592160348e-05),\n",
       " (556, 9.339753419666596e-05),\n",
       " (557, 9.289539799406857e-05),\n",
       " (558, 9.239685488527211e-05),\n",
       " (559, 9.190187278918472e-05),\n",
       " (560, 9.141041996782645e-05),\n",
       " (561, 9.092246502205581e-05),\n",
       " (562, 9.043797688735684e-05),\n",
       " (563, 8.995692482968585e-05),\n",
       " (564, 8.947927844137719e-05),\n",
       " (565, 8.90050076371068e-05),\n",
       " (566, 8.853408264991266e-05),\n",
       " (567, 8.80664740272714e-05),\n",
       " (568, 8.760215262722988e-05),\n",
       " (569, 8.714108961459124e-05),\n",
       " (570, 8.668325645715447e-05),\n",
       " (571, 8.622862492200618e-05),\n",
       " (572, 8.577716707186454e-05),\n",
       " (573, 8.532885526147408e-05),\n",
       " (574, 8.488366213405049e-05),\n",
       " (575, 8.444156061777495e-05),\n",
       " (576, 8.400252392233707e-05),\n",
       " (577, 8.356652553552559e-05),\n",
       " (578, 8.313353921986622e-05),\n",
       " (579, 8.270353900930575e-05),\n",
       " (580, 8.227649920594229e-05),\n",
       " (581, 8.185239437679967e-05),\n",
       " (582, 8.143119935064675e-05),\n",
       " (583, 8.10128892148601e-05),\n",
       " (584, 8.059743931232945e-05),\n",
       " (585, 8.018482523840558e-05),\n",
       " (586, 7.977502283788963e-05),\n",
       " (587, 7.936800820206361e-05),\n",
       " (588, 7.89637576657609e-05),\n",
       " (589, 7.856224780447689e-05),\n",
       " (590, 7.816345543151835e-05),\n",
       " (591, 7.776735759519157e-05),\n",
       " (592, 7.737393157602828e-05),\n",
       " (593, 7.698315488404894e-05),\n",
       " (594, 7.659500525606316e-05),\n",
       " (595, 7.620946065300575e-05),\n",
       " (596, 7.58264992573089e-05),\n",
       " (597, 7.544609947030963e-05),\n",
       " (598, 7.506823990969127e-05),\n",
       " (599, 7.46928994069597e-05),\n",
       " (600, 7.432005700495283e-05),\n",
       " (601, 7.394969195538326e-05),\n",
       " (602, 7.358178371641356e-05),\n",
       " (603, 7.321631195026362e-05),\n",
       " (604, 7.285325652084962e-05),\n",
       " (605, 7.249259749145442e-05),\n",
       " (606, 7.213431512242814e-05),\n",
       " (607, 7.177838986891951e-05),\n",
       " (608, 7.14248023786368e-05),\n",
       " (609, 7.107353348963807e-05),\n",
       " (610, 7.072456422815043e-05),\n",
       " (611, 7.037787580641775e-05),\n",
       " (612, 7.00334496205766e-05),\n",
       " (613, 6.969126724855963e-05),\n",
       " (614, 6.935131044802649e-05),\n",
       " (615, 6.901356115432133e-05),\n",
       " (616, 6.867800147845715e-05),\n",
       " (617, 6.834461370512573e-05),\n",
       " (618, 6.801338029073396e-05),\n",
       " (619, 6.768428386146469e-05),\n",
       " (620, 6.735730721136336e-05),\n",
       " (621, 6.70324333004488e-05),\n",
       " (622, 6.670964525284817e-05),\n",
       " (623, 6.638892635495623e-05),\n",
       " (624, 6.607026005361788e-05),\n",
       " (625, 6.575362995433396e-05),\n",
       " (626, 6.543901981948996e-05),\n",
       " (627, 6.512641356660743e-05),\n",
       " (628, 6.48157952666174e-05),\n",
       " (629, 6.450714914215587e-05),\n",
       " (630, 6.420045956588086e-05),\n",
       " (631, 6.389571105881084e-05),\n",
       " (632, 6.359288828868399e-05),\n",
       " (633, 6.329197606833845e-05),\n",
       " (634, 6.299295935411253e-05),\n",
       " (635, 6.269582324426557e-05),\n",
       " (636, 6.24005529774183e-05),\n",
       " (637, 6.210713393101268e-05),\n",
       " (638, 6.181555161979134e-05),\n",
       " (639, 6.152579169429589e-05),\n",
       " (640, 6.123783993938375e-05),\n",
       " (641, 6.09516822727638e-05),\n",
       " (642, 6.066730474355008e-05),\n",
       " (643, 6.038469353083346e-05),\n",
       " (644, 6.010383494227103e-05),\n",
       " (645, 5.982471541269299e-05),\n",
       " (646, 5.954732150272673e-05),\n",
       " (647, 5.927163989743795e-05),\n",
       " (648, 5.899765740498845e-05),\n",
       " (649, 5.872536095531058e-05),\n",
       " (650, 5.845473759879767e-05),\n",
       " (651, 5.8185774505011014e-05),\n",
       " (652, 5.7918458961402225e-05),\n",
       " (653, 5.7652778372051495e-05),\n",
       " (654, 5.7388720256421156e-05),\n",
       " (655, 5.7126272248124525e-05),\n",
       " (656, 5.68654220937096e-05),\n",
       " (657, 5.660615765145773e-05),\n",
       " (658, 5.6348466890196714e-05),\n",
       " (659, 5.6092337888128315e-05),\n",
       " (660, 5.583775883167005e-05),\n",
       " (661, 5.558471801431089e-05),\n",
       " (662, 5.533320383548081e-05),\n",
       " (663, 5.508320479943393e-05),\n",
       " (664, 5.483470951414509e-05),\n",
       " (665, 5.458770669021974e-05),\n",
       " (666, 5.4342185139816823e-05),\n",
       " (667, 5.409813377558462e-05),\n",
       " (668, 5.385554160960932e-05),\n",
       " (669, 5.361439775237597e-05),\n",
       " (670, 5.337469141174217e-05),\n",
       " (671, 5.313641189192367e-05),\n",
       " (672, 5.289954859249215e-05),\n",
       " (673, 5.2664091007384865e-05),\n",
       " (674, 5.243002872392604e-05),\n",
       " (675, 5.219735142185987e-05),\n",
       " (676, 5.1966048872394945e-05),\n",
       " (677, 5.173611093725988e-05),\n",
       " (678, 5.150752756777014e-05),\n",
       " (679, 5.128028880390582e-05),\n",
       " (680, 5.105438477340032e-05),\n",
       " (681, 5.082980569083954e-05),\n",
       " (682, 5.0606541856771884e-05),\n",
       " (683, 5.0384583656828364e-05),\n",
       " (684, 5.0163921560853284e-05),\n",
       " (685, 4.9944546122044866e-05),\n",
       " (686, 4.972644797610598e-05),\n",
       " (687, 4.95096178404046e-05),\n",
       " (688, 4.929404651314424e-05),\n",
       " (689, 4.9079724872543834e-05),\n",
       " (690, 4.886664387602718e-05),\n",
       " (691, 4.865479455942166e-05),\n",
       " (692, 4.8444168036166476e-05),\n",
       " (693, 4.8234755496529566e-05),\n",
       " (694, 4.802654820683398e-05),\n",
       " (695, 4.7819537508692975e-05),\n",
       " (696, 4.7613714818253634e-05),\n",
       " (697, 4.740907162544974e-05),\n",
       " (698, 4.720559949326255e-05),\n",
       " (699, 4.700329005699055e-05),\n",
       " (700, 4.680213502352714e-05),\n",
       " (701, 4.660212617064688e-05),\n",
       " (702, 4.6403255346299534e-05),\n",
       " (703, 4.6205514467912494e-05),\n",
       " (704, 4.600889552170078e-05),\n",
       " (705, 4.581339056198514e-05),\n",
       " (706, 4.561899171051756e-05),\n",
       " (707, 4.5425691155814804e-05),\n",
       " (708, 4.5233481152499054e-05),\n",
       " (709, 4.504235402064626e-05),\n",
       " (710, 4.48523021451417e-05),\n",
       " (711, 4.466331797504282e-05),\n",
       " (712, 4.44753940229492e-05),\n",
       " (713, 4.428852286437963e-05),\n",
       " (714, 4.4102697137156093e-05),\n",
       " (715, 4.391790954079464e-05),\n",
       " (716, 4.373415283590313e-05),\n",
       " (717, 4.355141984358554e-05),\n",
       " (718, 4.3369703444853146e-05),\n",
       " (719, 4.3188996580041886e-05),\n",
       " (720, 4.300929224823659e-05),\n",
       " (721, 4.2830583506701265e-05),\n",
       " (722, 4.2652863470315855e-05),\n",
       " (723, 4.24761253110192e-05),\n",
       " (724, 4.230036225725807e-05),\n",
       " (725, 4.212556759344245e-05),\n",
       " (726, 4.1951734659406496e-05),\n",
       " (727, 4.177885684987578e-05),\n",
       " (728, 4.1606927613940136e-05),\n",
       " (729, 4.143594045453235e-05),\n",
       " (730, 4.126588892791269e-05),\n",
       " (731, 4.109676664315873e-05),\n",
       " (732, 4.0928567261661125e-05),\n",
       " (733, 4.0761284496624675e-05),\n",
       " (734, 4.059491211257481e-05),\n",
       " (735, 4.042944392486958e-05),\n",
       " (736, 4.0264873799216725e-05),\n",
       " (737, 4.010119565119622e-05),\n",
       " (738, 3.9938403445787814e-05),\n",
       " (739, 3.977649119690375e-05),\n",
       " (740, 3.9615452966926465e-05),\n",
       " (741, 3.945528286625148e-05),\n",
       " (742, 3.929597505283485e-05),\n",
       " (743, 3.913752373174583e-05),\n",
       " (744, 3.897992315472418e-05),\n",
       " (745, 3.882316761974217e-05),\n",
       " (746, 3.866725147057143e-05),\n",
       " (747, 3.851216909635429e-05),\n",
       " (748, 3.83579149311798e-05),\n",
       " (749, 3.8204483453664196e-05),\n",
       " (750, 3.805186918653584e-05),\n",
       " (751, 3.7900066696224715e-05),\n",
       " (752, 3.7749070592455994e-05),\n",
       " (753, 3.7598875527848295e-05),\n",
       " (754, 3.744947619751583e-05),\n",
       " (755, 3.730086733867502e-05),\n",
       " (756, 3.7153043730255116e-05),\n",
       " (757, 3.700600019251309e-05),\n",
       " (758, 3.685973158665232e-05),\n",
       " (759, 3.671423281444566e-05),\n",
       " (760, 3.6569498817862045e-05),\n",
       " (761, 3.642552457869742e-05),\n",
       " (762, 3.628230511820925e-05),\n",
       " (763, 3.613983549675501e-05),\n",
       " (764, 3.599811081343438e-05),\n",
       " (765, 3.58571262057352e-05),\n",
       " (766, 3.5716876849183196e-05),\n",
       " (767, 3.5577357956995156e-05),\n",
       " (768, 3.5438564779735954e-05),\n",
       " (769, 3.530049260497896e-05),\n",
       " (770, 3.516313675697006e-05),\n",
       " (771, 3.502649259629509e-05),\n",
       " (772, 3.4890555519550865e-05),\n",
       " (773, 3.475532095901936e-05),\n",
       " (774, 3.4620784382345484e-05),\n",
       " (775, 3.448694129221805e-05),\n",
       " (776, 3.4353787226054094e-05),\n",
       " (777, 3.422131775568639e-05),\n",
       " (778, 3.4089528487054186e-05),\n",
       " (779, 3.395841505989713e-05),\n",
       " (780, 3.382797314745236e-05),\n",
       " (781, 3.369819845615454e-05),\n",
       " (782, 3.3569086725339255e-05),\n",
       " (783, 3.3440633726949056e-05),\n",
       " (784, 3.331283526524288e-05),\n",
       " (785, 3.318568717650811e-05),\n",
       " (786, 3.3059185328775766e-05),\n",
       " (787, 3.2933325621538486e-05),\n",
       " (788, 3.280810398547144e-05),\n",
       " (789, 3.2683516382155994e-05),\n",
       " (790, 3.255955880380622e-05),\n",
       " (791, 3.2436227272998116e-05),\n",
       " (792, 3.231351784240166e-05),\n",
       " (793, 3.219142659451544e-05),\n",
       " (794, 3.206994964140408e-05),\n",
       " (795, 3.194908312443816e-05),\n",
       " (796, 3.182882321403688e-05),\n",
       " (797, 3.170916610941319e-05),\n",
       " (798, 3.1590108038321596e-05),\n",
       " (799, 3.147164525680842e-05),\n",
       " (800, 3.1353774048964474e-05),\n",
       " (801, 3.123649072668037e-05),\n",
       " (802, 3.111979162940415e-05),\n",
       " (803, 3.1003673123901346e-05),\n",
       " (804, 3.088813160401746e-05),\n",
       " (805, 3.077316349044277e-05),\n",
       " (806, 3.065876523047946e-05),\n",
       " (807, 3.05449332978111e-05),\n",
       " (808, 3.0431664192274372e-05),\n",
       " (809, 3.0318954439633e-05),\n",
       " (810, 3.020680059135409e-05),\n",
       " (811, 3.009519922438641e-05),\n",
       " (812, 2.9984146940941067e-05),\n",
       " (813, 2.9873640368274266e-05),\n",
       " (814, 2.9763676158472175e-05),\n",
       " (815, 2.9654250988237942e-05),\n",
       " (816, 2.9545361558680747e-05),\n",
       " (817, 2.943700459510698e-05),\n",
       " (818, 2.932917684681345e-05),\n",
       " (819, 2.9221875086882504e-05),\n",
       " (820, 2.9115096111979315e-05),\n",
       " (821, 2.9008836742151015e-05),\n",
       " (822, 2.890309382062783e-05),\n",
       " (823, 2.8797864213626116e-05),\n",
       " (824, 2.869314481015337e-05),\n",
       " (825, 2.8588932521815065e-05),\n",
       " (826, 2.8485224282623316e-05),\n",
       " (827, 2.838201704880754e-05),\n",
       " (828, 2.827930779862683e-05),\n",
       " (829, 2.8177093532184135e-05),\n",
       " (830, 2.807537127124229e-05),\n",
       " (831, 2.7974138059041714e-05),\n",
       " (832, 2.787339096012005e-05),\n",
       " (833, 2.777312706013328e-05),\n",
       " (834, 2.767334346567879e-05),\n",
       " (835, 2.7574037304119968e-05),\n",
       " (836, 2.7475205723412505e-05),\n",
       " (837, 2.7376845891932475e-05),\n",
       " (838, 2.7278954998305898e-05),\n",
       " (839, 2.7181530251239966e-05),\n",
       " (840, 2.7084568879355993e-05),\n",
       " (841, 2.6988068131023745e-05),\n",
       " (842, 2.6892025274197583e-05),\n",
       " (843, 2.6796437596253886e-05),\n",
       " (844, 2.6701302403830286e-05),\n",
       " (845, 2.6606617022666216e-05),\n",
       " (846, 2.651237879744509e-05),\n",
       " (847, 2.6418585091637906e-05),\n",
       " (848, 2.632523328734834e-05),\n",
       " (849, 2.623232078515931e-05),\n",
       " (850, 2.6139845003980956e-05),\n",
       " (851, 2.6047803380900118e-05),\n",
       " (852, 2.5956193371031078e-05),\n",
       " (853, 2.5865012447367875e-05),\n",
       " (854, 2.577425810063791e-05),\n",
       " (855, 2.568392783915689e-05),\n",
       " (856, 2.5594019188685193e-05),\n",
       " (857, 2.550452969228556e-05),\n",
       " (858, 2.541545691018209e-05),\n",
       " (859, 2.5326798419620506e-05),\n",
       " (860, 2.5238551814729854e-05),\n",
       " (861, 2.515071470638533e-05),\n",
       " (862, 2.5063284722072478e-05),\n",
       " (863, 2.497625950575262e-05),\n",
       " (864, 2.4889636717729504e-05),\n",
       " (865, 2.4803414034517245e-05),\n",
       " (866, 2.4717589148709365e-05),\n",
       " (867, 2.4632159768849247e-05),\n",
       " (868, 2.4547123619301523e-05),\n",
       " (869, 2.4462478440124877e-05),\n",
       " (870, 2.437822198694586e-05),\n",
       " (871, 2.4294352030833945e-05),\n",
       " (872, 2.421086635817768e-05),\n",
       " (873, 2.4127762770562002e-05),\n",
       " (874, 2.40450390846467e-05),\n",
       " (875, 2.3962693132045902e-05),\n",
       " (876, 2.3880722759208726e-05),\n",
       " (877, 2.3799125827301063e-05),\n",
       " (878, 2.371790021208827e-05),\n",
       " (879, 2.3637043803819144e-05),\n",
       " (880, 2.3556554507110797e-05),\n",
       " (881, 2.34764302408346e-05),\n",
       " (882, 2.339666893800323e-05),\n",
       " (883, 2.331726854565866e-05),\n",
       " (884, 2.3238227024761193e-05),\n",
       " (885, 2.315954235007952e-05),\n",
       " (886, 2.308121251008173e-05),\n",
       " (887, 2.3003235506827334e-05),\n",
       " (888, 2.2925609355860226e-05),\n",
       " (889, 2.284833208610263e-05),\n",
       " (890, 2.2771401739749993e-05),\n",
       " (891, 2.269481637216687e-05),\n",
       " (892, 2.261857405178361e-05),\n",
       " (893, 2.2542672859994134e-05),\n",
       " (894, 2.2467110891054497e-05),\n",
       " (895, 2.2391886251982395e-05),\n",
       " (896, 2.2316997062457626e-05),\n",
       " (897, 2.2242441454723337e-05),\n",
       " (898, 2.2168217573488213e-05),\n",
       " (899, 2.2094323575829554e-05),\n",
       " (900, 2.2020757631097134e-05),\n",
       " (901, 2.1947517920818e-05),\n",
       " (902, 2.1874602638602037e-05),\n",
       " (903, 2.180200999004846e-05),\n",
       " (904, 2.1729738192653026e-05),\n",
       " (905, 2.1657785475716143e-05),\n",
       " (906, 2.1586150080251747e-05),\n",
       " (907, 2.151483025889704e-05),\n",
       " (908, 2.1443824275822942e-05),\n",
       " (909, 2.137313040664537e-05),\n",
       " (910, 2.1302746938337347e-05),\n",
       " (911, 2.1232672169141754e-05),\n",
       " (912, 2.1162904408484977e-05),\n",
       " (913, 2.109344197689127e-05),\n",
       " (914, 2.1024283205897793e-05),\n",
       " (915, 2.0955426437970495e-05),\n",
       " (916, 2.088687002642069e-05),\n",
       " (917, 2.081861233532235e-05),\n",
       " (918, 2.0750651739430104e-05),\n",
       " (919, 2.0682986624098002e-05),\n",
       " (920, 2.0615615385198967e-05),\n",
       " (921, 2.054853642904488e-05),\n",
       " (922, 2.048174817230747e-05),\n",
       " (923, 2.0415249041939777e-05),\n",
       " (924, 2.034903747509841e-05),\n",
       " (925, 2.0283111919066353e-05),\n",
       " (926, 2.021747083117653e-05),\n",
       " (927, 2.0152112678735977e-05),\n",
       " (928, 2.0087035938950752e-05),\n",
       " (929, 2.002223909885132e-05),\n",
       " (930, 1.9957720655218777e-05),\n",
       " (931, 1.989347911451156e-05),\n",
       " (932, 1.9829512992792887e-05),\n",
       " (933, 1.976582081565872e-05),\n",
       " (934, 1.970240111816644e-05),\n",
       " (935, 1.9639252444764064e-05),\n",
       " (936, 1.957637334922012e-05),\n",
       " (937, 1.9513762394554044e-05),\n",
       " (938, 1.9451418152967263e-05),\n",
       " (939, 1.9389339205774807e-05),\n",
       " (940, 1.9327524143337473e-05),\n",
       " (941, 1.926597156499467e-05),\n",
       " (942, 1.920468007899775e-05),\n",
       " (943, 1.9143648302443873e-05),\n",
       " (944, 1.908287486121054e-05),\n",
       " (945, 1.9022358389890625e-05),\n",
       " (946, 1.8962097531727912e-05),\n",
       " (947, 1.890209093855324e-05),\n",
       " (948, 1.884233727072118e-05),\n",
       " (949, 1.8782835197047194e-05),\n",
       " (950, 1.8723583394745365e-05),\n",
       " (951, 1.8664580549366673e-05),\n",
       " (952, 1.8605825354737726e-05),\n",
       " (953, 1.8547316512900054e-05),\n",
       " (954, 1.848905273404987e-05),\n",
       " (955, 1.8431032736478408e-05),\n",
       " (956, 1.8373255246512655e-05),\n",
       " (957, 1.83157189984567e-05),\n",
       " (958, 1.8258422734533424e-05),\n",
       " (959, 1.8201365204826857e-05),\n",
       " (960, 1.8144545167224807e-05),\n",
       " (961, 1.8087961387362197e-05),\n",
       " (962, 1.8031612638564622e-05),\n",
       " (963, 1.797549770179262e-05),\n",
       " (964, 1.791961536558622e-05),\n",
       " (965, 1.7863964426010046e-05),\n",
       " (966, 1.7808543686598827e-05),\n",
       " (967, 1.77533519583034e-05),\n",
       " (968, 1.7698388059437115e-05),\n",
       " (969, 1.7643650815622724e-05),\n",
       " (970, 1.75891390597397e-05),\n",
       " (971, 1.7534851631871898e-05),\n",
       " (972, 1.7480787379255846e-05),\n",
       " (973, 1.7426945156229214e-05),\n",
       " (974, 1.7373323824179946e-05),\n",
       " (975, 1.731992225149561e-05),\n",
       " (976, 1.7266739313513293e-05),\n",
       " (977, 1.721377389246983e-05),\n",
       " (978, 1.7161024877452516e-05),\n",
       " (979, 1.7108491164350107e-05),\n",
       " (980, 1.7056171655804355e-05),\n",
       " (981, 1.7004065261161826e-05),\n",
       " (982, 1.6952170896426157e-05),\n",
       " (983, 1.6900487484210758e-05),\n",
       " (984, 1.6849013953691735e-05),\n",
       " (985, 1.6797749240561386e-05),\n",
       " (986, 1.6746692286981944e-05),\n",
       " (987, 1.669584204153977e-05),\n",
       " (988, 1.664519745919984e-05),\n",
       " (989, 1.659475750126069e-05),\n",
       " (990, 1.6544521135309642e-05),\n",
       " (991, 1.649448733517845e-05),\n",
       " (992, 1.6444655080899262e-05),\n",
       " (993, 1.639502335866098e-05),\n",
       " (994, 1.634559116076593e-05),\n",
       " (995, 1.6296357485586886e-05),\n",
       " (996, 1.6247321337524463e-05),\n",
       " (997, 1.6198481726964877e-05),\n",
       " (998, 1.6149837670237893e-05),\n",
       " (999, 1.6101388189575354e-05),\n",
       " (1000, 1.6053132313069816e-05),\n",
       " ...]"
      ]
     },
     "execution_count": 121,
     "metadata": {},
     "output_type": "execute_result"
    }
   ],
   "source": [
    "list(pmf.items())"
   ]
  },
  {
   "cell_type": "code",
   "execution_count": 122,
   "metadata": {
    "execution": {
     "iopub.execute_input": "2021-04-16T19:35:21.337871Z",
     "iopub.status.busy": "2021-04-16T19:35:21.337255Z",
     "iopub.status.idle": "2021-04-16T19:35:21.340128Z",
     "shell.execute_reply": "2021-04-16T19:35:21.339696Z"
    }
   },
   "outputs": [
    {
     "data": {
      "text/plain": [
       "113"
      ]
     },
     "execution_count": 122,
     "metadata": {},
     "output_type": "execute_result"
    }
   ],
   "source": [
    "quantile(power, 0.5)"
   ]
  },
  {
   "cell_type": "code",
   "execution_count": 123,
   "metadata": {},
   "outputs": [
    {
     "data": {
      "text/plain": [
       "133.99746308073125"
      ]
     },
     "execution_count": 123,
     "metadata": {},
     "output_type": "execute_result"
    }
   ],
   "source": [
    "power.mean()"
   ]
  },
  {
   "cell_type": "code",
   "execution_count": 124,
   "metadata": {},
   "outputs": [
    {
     "data": {
      "text/plain": [
       "array([ 93., 193.])"
      ]
     },
     "execution_count": 124,
     "metadata": {},
     "output_type": "execute_result"
    }
   ],
   "source": [
    "power.quantile([0.1, 0.9])"
   ]
  },
  {
   "cell_type": "markdown",
   "metadata": {},
   "source": [
    "The result, 113 trains, is the median of the posterior distribution.\n",
    "\n",
    "`Pmf` provides a method called `quantile` that does the same thing.\n",
    "We can call it like this to compute the 5th and 95th percentiles:"
   ]
  },
  {
   "cell_type": "code",
   "execution_count": 125,
   "metadata": {
    "execution": {
     "iopub.execute_input": "2021-04-16T19:35:21.344566Z",
     "iopub.status.busy": "2021-04-16T19:35:21.343907Z",
     "iopub.status.idle": "2021-04-16T19:35:21.346263Z",
     "shell.execute_reply": "2021-04-16T19:35:21.346610Z"
    }
   },
   "outputs": [
    {
     "data": {
      "text/plain": [
       "array([ 91., 243.])"
      ]
     },
     "execution_count": 125,
     "metadata": {},
     "output_type": "execute_result"
    }
   ],
   "source": [
    "power.quantile([0.05, 0.95])"
   ]
  },
  {
   "cell_type": "markdown",
   "metadata": {},
   "source": [
    "The result is the interval from 91 to 243 trains, which implies:\n",
    "\n",
    "* The probability is 5% that the number of trains is less than or equal to 91.\n",
    "\n",
    "* The probability is 5% that the number of trains is greater than 243.\n",
    "\n",
    "Therefore the probability is 90% that the number of trains falls between 91 and 243 (excluding 91 and including 243).\n",
    "For this reason, this interval is called a 90% **credible interval**.\n",
    "\n",
    "`Pmf` also provides `credible_interval`, which computes an interval that contains the given probability."
   ]
  },
  {
   "cell_type": "code",
   "execution_count": 126,
   "metadata": {
    "execution": {
     "iopub.execute_input": "2021-04-16T19:35:21.350591Z",
     "iopub.status.busy": "2021-04-16T19:35:21.349787Z",
     "iopub.status.idle": "2021-04-16T19:35:21.353876Z",
     "shell.execute_reply": "2021-04-16T19:35:21.353340Z"
    }
   },
   "outputs": [
    {
     "data": {
      "text/plain": [
       "array([ 91., 243.])"
      ]
     },
     "execution_count": 126,
     "metadata": {},
     "output_type": "execute_result"
    }
   ],
   "source": [
    "power.credible_interval(0.9)"
   ]
  },
  {
   "cell_type": "markdown",
   "metadata": {},
   "source": [
    "## The German Tank Problem\n",
    "\n",
    "During World War II, the Economic Warfare Division of the American\n",
    "Embassy in London used statistical analysis to estimate German\n",
    "production of tanks and other equipment.\n",
    "\n",
    "The Western Allies had captured log books, inventories, and repair\n",
    "records that included chassis and engine serial numbers for individual\n",
    "tanks.\n",
    "\n",
    "Analysis of these records indicated that serial numbers were allocated\n",
    "by manufacturer and tank type in blocks of 100 numbers, that numbers\n",
    "in each block were used sequentially, and that not all numbers in each\n",
    "block were used.  So the problem of estimating German tank production\n",
    "could be reduced, within each block of 100 numbers, to a form of the\n",
    "train problem.\n",
    "\n",
    "Based on this insight, American and British analysts produced\n",
    "estimates substantially lower than estimates from other forms\n",
    "of intelligence.  And after the war, records indicated that they were\n",
    "substantially more accurate.\n",
    "\n",
    "They performed similar analyses for tires, trucks, rockets, and other\n",
    "equipment, yielding accurate and actionable economic intelligence.\n",
    "\n",
    "The German tank problem is historically interesting; it is also a nice\n",
    "example of real-world application of statistical estimation.\n",
    "\n",
    "For more on this problem, see [this Wikipedia page](https://en.wikipedia.org/wiki/German_tank_problem) and Ruggles and Brodie, \"An Empirical Approach to Economic Intelligence in World War II\", *Journal of the American Statistical Association*, March 1947, [available here](https://web.archive.org/web/20170123132042/https://www.cia.gov/library/readingroom/docs/CIA-RDP79R01001A001300010013-3.pdf)."
   ]
  },
  {
   "cell_type": "markdown",
   "metadata": {},
   "source": [
    "## Informative Priors\n",
    "\n",
    "Among Bayesians, there are two approaches to choosing prior\n",
    "distributions.  Some recommend choosing the prior that best represents\n",
    "background information about the problem; in that case the prior\n",
    "is said to be **informative**.  The problem with using an informative\n",
    "prior is that people might have different information or\n",
    "interpret it differently.  So informative priors might seem arbitrary.\n",
    "\n",
    "The alternative is a so-called **uninformative prior**, which is\n",
    "intended to be as unrestricted as possible, in order to let the data\n",
    "speak for itself.  In some cases you can identify a unique prior\n",
    "that has some desirable property, like representing minimal prior\n",
    "information about the estimated quantity.\n",
    "\n",
    "Uninformative priors are appealing because they seem more\n",
    "objective.  But I am generally in favor of using informative priors.\n",
    "Why?  First, Bayesian analysis is always based on\n",
    "modeling decisions.  Choosing the prior is one of those decisions, but\n",
    "it is not the only one, and it might not even be the most subjective.\n",
    "So even if an uninformative prior is more objective, the entire analysis is still subjective.\n",
    "\n",
    "Also, for most practical problems, you are likely to be in one of two\n",
    "situations: either you have a lot of data or not very much.  If you have a lot of data, the choice of the prior doesn't matter;\n",
    "informative and uninformative priors yield almost the same results.\n",
    "If you don't have much data, using relevant background information (like the power law distribution) makes a big difference.\n",
    "\n",
    "And if, as in the German tank problem, you have to make life and death\n",
    "decisions based on your results, you should probably use all of the\n",
    "information at your disposal, rather than maintaining the illusion of\n",
    "objectivity by pretending to know less than you do."
   ]
  },
  {
   "cell_type": "markdown",
   "metadata": {},
   "source": [
    "## Summary\n",
    "\n",
    "This chapter introduces the train problem, which turns out to have the same likelihood function as the dice problem, and which can be applied to the German Tank problem.\n",
    "In all of these examples, the goal is to estimate a count, or the size of a population.\n",
    "\n",
    "In the next chapter, I'll introduce \"odds\" as an alternative to probabilities, and Bayes's Rule as an alternative form of Bayes's Theorem.\n",
    "We'll compute distributions of sums and products, and use them to estimate the number of Members of Congress who are corrupt, among other problems.\n",
    "\n",
    "But first, you might want to work on these exercises."
   ]
  },
  {
   "cell_type": "markdown",
   "metadata": {},
   "source": [
    "## Exercises"
   ]
  },
  {
   "cell_type": "markdown",
   "metadata": {},
   "source": [
    "**Exercise:** Suppose you are giving a talk in a large lecture hall and the fire marshal interrupts because they think the audience exceeds 1200 people, which is the safe capacity of the room. \n",
    "\n",
    "You think there are fewer then 1200 people, and you offer to prove it.\n",
    "It would take too long to count, so you try an experiment:\n",
    "\n",
    "* You ask how many people were born on May 11 and two people raise their hands.  \n",
    "\n",
    "* You ask how many were born on May 23 and 1 person raises their hand.  \n",
    "* Finally, you ask how many were born on August 1, and no one raises their hand.\n",
    "\n",
    "How many people are in the audience?  What is the probability that there are more than 1200 people.\n",
    "Hint: Remember the binomial distribution."
   ]
  },
  {
   "cell_type": "code",
   "execution_count": 127,
   "metadata": {
    "execution": {
     "iopub.execute_input": "2021-04-16T19:35:21.359329Z",
     "iopub.status.busy": "2021-04-16T19:35:21.358751Z",
     "iopub.status.idle": "2021-04-16T19:35:21.363183Z",
     "shell.execute_reply": "2021-04-16T19:35:21.363696Z"
    }
   },
   "outputs": [
    {
     "data": {
      "text/plain": [
       "0.009002440048373528"
      ]
     },
     "execution_count": 127,
     "metadata": {},
     "output_type": "execute_result"
    }
   ],
   "source": [
    "# Solution goes here\n",
    "from scipy.stats import binom\n",
    "\n",
    "# binom.pmf(k, n, p)\n",
    "\n",
    "hypos = np.arange(1, 1500)\n",
    "prior = Pmf(1, hypos)\n",
    "prior.normalize()\n",
    "\n",
    "likelihood1 = binom.pmf(2, hypos, 1/365)\n",
    "likelihood2 = binom.pmf(1, hypos, 1/365)\n",
    "likelihood3 = binom.pmf(0, hypos, 1/365)\n",
    "\n",
    "posterior = prior * likelihood1 * likelihood2 * likelihood3\n",
    "posterior.normalize()\n",
    "# ppl2may11 = binom.pmf(2, , 0.11) \n",
    "# People are already in the room\n"
   ]
  },
  {
   "cell_type": "code",
   "execution_count": 128,
   "metadata": {},
   "outputs": [
    {
     "data": {
      "image/png": "[encoded data removed]",
      "text/plain": [
       "<Figure size 640x480 with 1 Axes>"
      ]
     },
     "metadata": {},
     "output_type": "display_data"
    }
   ],
   "source": [
    "posterior.plot(label=\"posterior\")\n",
    "decorate(\n",
    "    xlabel=\"H - Number of people in the room\",\n",
    "    ylabel=\"P(H|data)\",\n",
    "    title=\"Posterior distribution\",\n",
    ")"
   ]
  },
  {
   "cell_type": "code",
   "execution_count": 129,
   "metadata": {},
   "outputs": [
    {
     "data": {
      "text/plain": [
       "365"
      ]
     },
     "execution_count": 129,
     "metadata": {},
     "output_type": "execute_result"
    }
   ],
   "source": [
    "posterior.max_prob()"
   ]
  },
  {
   "cell_type": "code",
   "execution_count": 130,
   "metadata": {},
   "outputs": [
    {
     "data": {
      "text/plain": [
       "484.2752016214596"
      ]
     },
     "execution_count": 130,
     "metadata": {},
     "output_type": "execute_result"
    }
   ],
   "source": [
    "posterior.mean()"
   ]
  },
  {
   "cell_type": "code",
   "execution_count": 131,
   "metadata": {},
   "outputs": [
    {
     "data": {
      "text/plain": [
       "0.009554647069046083"
      ]
     },
     "execution_count": 131,
     "metadata": {},
     "output_type": "execute_result"
    }
   ],
   "source": [
    "# What is the probability that there are more than 1200 ppl in the audience?\n",
    "posterior.prob_gt(1200)"
   ]
  },
  {
   "cell_type": "markdown",
   "metadata": {},
   "source": [
    "**Exercise:** I often see [rabbits](https://en.wikipedia.org/wiki/Eastern_cottontail) in the garden behind my house, but it's not easy to tell them apart, so I don't really know how many there are.\n",
    "\n",
    "Suppose I deploy a motion-sensing [camera trap](https://en.wikipedia.org/wiki/Camera_trap) that takes a picture of the first rabbit it sees each day.  After three days, I compare the pictures and conclude that two of them are the same rabbit and the other is different.\n",
    "\n",
    "How many rabbits visit my garden?\n",
    "\n",
    "To answer this question, we have to think about the prior distribution and the likelihood of the data:\n",
    "\n",
    "* I have sometimes seen four rabbits at the same time, so I know there are at least that many.  I would be surprised if there were more than 10.  So, at least as a starting place, I think a uniform prior from 4 to 10 is reasonable.\n",
    "\n",
    "* To keep things simple, let's assume that all rabbits who visit my garden are equally likely to be caught by the camera trap in a given day.  Let's also assume it is guaranteed that the camera trap gets a picture every day."
   ]
  },
  {
   "cell_type": "code",
   "execution_count": 150,
   "metadata": {},
   "outputs": [
    {
     "data": {
      "image/png": "[encoded data removed]",
      "text/plain": [
       "<Figure size 640x480 with 1 Axes>"
      ]
     },
     "metadata": {},
     "output_type": "display_data"
    }
   ],
   "source": [
    "hypos = np.arange(4, 11)\n",
    "prior = Pmf(1, hypos)\n",
    "prior.normalize()\n",
    "prior\n",
    "\n",
    "prior.bar(alpha=0.7)"
   ]
  },
  {
   "cell_type": "code",
   "execution_count": 151,
   "metadata": {
    "execution": {
     "iopub.execute_input": "2021-04-16T19:35:21.563963Z",
     "iopub.status.busy": "2021-04-16T19:35:21.563510Z",
     "iopub.status.idle": "2021-04-16T19:35:21.565271Z",
     "shell.execute_reply": "2021-04-16T19:35:21.565631Z"
    }
   },
   "outputs": [
    {
     "data": {
      "text/html": [
       "<div>\n",
       "<style scoped>\n",
       "    .dataframe tbody tr th:only-of-type {\n",
       "        vertical-align: middle;\n",
       "    }\n",
       "\n",
       "    .dataframe tbody tr th {\n",
       "        vertical-align: top;\n",
       "    }\n",
       "\n",
       "    .dataframe thead th {\n",
       "        text-align: right;\n",
       "    }\n",
       "</style>\n",
       "<table border=\"1\" class=\"dataframe\">\n",
       "  <thead>\n",
       "    <tr style=\"text-align: right;\">\n",
       "      <th></th>\n",
       "      <th>probs</th>\n",
       "    </tr>\n",
       "  </thead>\n",
       "  <tbody>\n",
       "    <tr>\n",
       "      <th>4</th>\n",
       "      <td>0.206730</td>\n",
       "    </tr>\n",
       "    <tr>\n",
       "      <th>5</th>\n",
       "      <td>0.176410</td>\n",
       "    </tr>\n",
       "    <tr>\n",
       "      <th>6</th>\n",
       "      <td>0.153134</td>\n",
       "    </tr>\n",
       "    <tr>\n",
       "      <th>7</th>\n",
       "      <td>0.135008</td>\n",
       "    </tr>\n",
       "    <tr>\n",
       "      <th>8</th>\n",
       "      <td>0.120593</td>\n",
       "    </tr>\n",
       "    <tr>\n",
       "      <th>9</th>\n",
       "      <td>0.108895</td>\n",
       "    </tr>\n",
       "    <tr>\n",
       "      <th>10</th>\n",
       "      <td>0.099231</td>\n",
       "    </tr>\n",
       "  </tbody>\n",
       "</table>\n",
       "</div>"
      ],
      "text/plain": [
       "4     0.206730\n",
       "5     0.176410\n",
       "6     0.153134\n",
       "7     0.135008\n",
       "8     0.120593\n",
       "9     0.108895\n",
       "10    0.099231\n",
       "Name: , dtype: float64"
      ]
     },
     "execution_count": 151,
     "metadata": {},
     "output_type": "execute_result"
    },
    {
     "data": {
      "image/png": "[encoded data removed]",
      "text/plain": [
       "<Figure size 640x480 with 1 Axes>"
      ]
     },
     "metadata": {},
     "output_type": "display_data"
    }
   ],
   "source": [
    "# Solution goes here\n",
    "hypos = np.arange(4, 11)\n",
    "prior = Pmf(1, hypos)\n",
    "prior.normalize()\n",
    "prior\n",
    "\n",
    "# P(D|H)\n",
    "# N * 1/N * 1/N * ((N-1)/N)\n",
    "\n",
    "N = hypos\n",
    "likelihood_specific =  (1/N)  * ((N-1)/N)\n",
    "\n",
    "# likelihood = binom.pmf(2, 3, 1/hypos) * hypos\n",
    "# likelihood\n",
    "\n",
    "posterior = prior * likelihood_specific\n",
    "posterior.normalize()\n",
    "\n",
    "# posterior.plot(label=\"posterior\")\n",
    "\n",
    "posterior.bar(alpha=0.7)\n",
    "\n",
    "posterior"
   ]
  },
  {
   "cell_type": "code",
   "execution_count": 152,
   "metadata": {},
   "outputs": [
    {
     "data": {
      "image/png": "[encoded data removed]",
      "text/plain": [
       "<Figure size 640x480 with 1 Axes>"
      ]
     },
     "metadata": {},
     "output_type": "display_data"
    }
   ],
   "source": [
    "# Same rabbit in k days out of n, N rabbits overall\n",
    "def likelihood_rabbit(N, n, k):\n",
    "    prob_specific_rabbit = binom.pmf(k, n, 1/N)\n",
    "    prob_any_rabbit = N * prob_specific_rabbit\n",
    "    return prob_any_rabbit\n",
    "\n",
    "posterior2 = prior * likelihood_rabbit(hypos, 3, 2)\n",
    "posterior2.normalize()\n",
    "\n",
    "# posterior.plot(label=\"posterior\")\n",
    "\n",
    "posterior2.bar(alpha=0.7)"
   ]
  },
  {
   "cell_type": "code",
   "execution_count": 153,
   "metadata": {
    "execution": {
     "iopub.execute_input": "2021-04-16T19:35:21.568713Z",
     "iopub.status.busy": "2021-04-16T19:35:21.568291Z",
     "iopub.status.idle": "2021-04-16T19:35:21.570022Z",
     "shell.execute_reply": "2021-04-16T19:35:21.570340Z"
    }
   },
   "outputs": [
    {
     "data": {
      "text/plain": [
       "6.509929813748172"
      ]
     },
     "execution_count": 153,
     "metadata": {},
     "output_type": "execute_result"
    }
   ],
   "source": [
    "posterior2.mean()"
   ]
  },
  {
   "cell_type": "code",
   "execution_count": 154,
   "metadata": {
    "execution": {
     "iopub.execute_input": "2021-04-16T19:35:21.594482Z",
     "iopub.status.busy": "2021-04-16T19:35:21.590147Z",
     "iopub.status.idle": "2021-04-16T19:35:21.735651Z",
     "shell.execute_reply": "2021-04-16T19:35:21.735296Z"
    }
   },
   "outputs": [
    {
     "data": {
      "text/plain": [
       "array([ 4., 10.])"
      ]
     },
     "execution_count": 154,
     "metadata": {},
     "output_type": "execute_result"
    }
   ],
   "source": [
    "# random draws from posterior would fall 5 % of times under the lower value and 5 % of times above the upper value \n",
    "posterior.quantile([0.05, 0.95])"
   ]
  },
  {
   "cell_type": "code",
   "execution_count": 155,
   "metadata": {},
   "outputs": [
    {
     "data": {
      "text/plain": [
       "array([ 4., 10.])"
      ]
     },
     "execution_count": 155,
     "metadata": {},
     "output_type": "execute_result"
    }
   ],
   "source": [
    "# Num of rabbits is in this interval with 90 % probability.\n",
    "posterior.credible_interval(0.9)"
   ]
  },
  {
   "cell_type": "markdown",
   "metadata": {},
   "source": [
    "**Exercise:** Suppose that in the criminal justice system, all prison sentences are either 1, 2, or 3 years, with an equal number of each.  One day, you visit a prison and choose a prisoner at random.  What is the probability that they are serving a 3-year sentence?  What is the average remaining sentence of the prisoners you observe?"
   ]
  },
  {
   "cell_type": "code",
   "execution_count": 156,
   "metadata": {
    "execution": {
     "iopub.execute_input": "2021-04-16T19:35:21.741573Z",
     "iopub.status.busy": "2021-04-16T19:35:21.741016Z",
     "iopub.status.idle": "2021-04-16T19:35:21.743433Z",
     "shell.execute_reply": "2021-04-16T19:35:21.743783Z"
    }
   },
   "outputs": [
    {
     "data": {
      "text/html": [
       "<div>\n",
       "<style scoped>\n",
       "    .dataframe tbody tr th:only-of-type {\n",
       "        vertical-align: middle;\n",
       "    }\n",
       "\n",
       "    .dataframe tbody tr th {\n",
       "        vertical-align: top;\n",
       "    }\n",
       "\n",
       "    .dataframe thead th {\n",
       "        text-align: right;\n",
       "    }\n",
       "</style>\n",
       "<table border=\"1\" class=\"dataframe\">\n",
       "  <thead>\n",
       "    <tr style=\"text-align: right;\">\n",
       "      <th></th>\n",
       "      <th>probs</th>\n",
       "    </tr>\n",
       "  </thead>\n",
       "  <tbody>\n",
       "    <tr>\n",
       "      <th>1</th>\n",
       "      <td>0.333333</td>\n",
       "    </tr>\n",
       "    <tr>\n",
       "      <th>2</th>\n",
       "      <td>0.333333</td>\n",
       "    </tr>\n",
       "    <tr>\n",
       "      <th>3</th>\n",
       "      <td>0.333333</td>\n",
       "    </tr>\n",
       "  </tbody>\n",
       "</table>\n",
       "</div>"
      ],
      "text/plain": [
       "1    0.333333\n",
       "2    0.333333\n",
       "3    0.333333\n",
       "Name: , dtype: float64"
      ]
     },
     "execution_count": 156,
     "metadata": {},
     "output_type": "execute_result"
    }
   ],
   "source": [
    "# Solution goes here\n",
    "hypos = [1,2,3]\n",
    "prior = Pmf(1, hypos)\n",
    "prior.normalize()\n",
    "prior"
   ]
  },
  {
   "cell_type": "code",
   "execution_count": 162,
   "metadata": {
    "execution": {
     "iopub.execute_input": "2021-04-16T19:35:21.750272Z",
     "iopub.status.busy": "2021-04-16T19:35:21.749630Z",
     "iopub.status.idle": "2021-04-16T19:35:21.752134Z",
     "shell.execute_reply": "2021-04-16T19:35:21.752482Z"
    }
   },
   "outputs": [
    {
     "data": {
      "image/png": "[encoded data removed]",
      "text/plain": [
       "<Figure size 640x480 with 1 Axes>"
      ]
     },
     "metadata": {},
     "output_type": "display_data"
    }
   ],
   "source": [
    "# Solution goes here\n",
    "likelihood = Pmf([1/6, 1/3, 1/2], hypos)\n",
    "likelihood.sum()\n",
    "\n",
    "posterior = prior * likelihood\n",
    "posterior.normalize()\n",
    "\n",
    "posterior.bar(width = 0.7)"
   ]
  },
  {
   "cell_type": "code",
   "execution_count": 164,
   "metadata": {
    "execution": {
     "iopub.execute_input": "2021-04-16T19:35:21.756049Z",
     "iopub.status.busy": "2021-04-16T19:35:21.755543Z",
     "iopub.status.idle": "2021-04-16T19:35:21.758197Z",
     "shell.execute_reply": "2021-04-16T19:35:21.757838Z"
    }
   },
   "outputs": [
    {
     "data": {
      "text/plain": [
       "1.1666666666666665"
      ]
     },
     "execution_count": 164,
     "metadata": {},
     "output_type": "execute_result"
    }
   ],
   "source": [
    "# The mean of the posterior is the average sentence.\n",
    "posterior.mean()\n",
    "\n",
    "# IF we divide by 2, we get the average REMAINING sentence\n",
    "posterior.mean()/2"
   ]
  },
  {
   "cell_type": "markdown",
   "metadata": {},
   "source": [
    "**Exercise:** If I chose a random adult in the U.S., what is the probability that they have a sibling?  To be precise, what is the probability that their mother has had at least one other child.\n",
    "\n",
    "[This article from the Pew Research Center](https://www.pewsocialtrends.org/2015/05/07/family-size-among-mothers/) provides some relevant data.  "
   ]
  },
  {
   "cell_type": "markdown",
   "metadata": {
    "tags": []
   },
   "source": [
    "From it, I extracted the following distribution of family size for mothers in the U.S. who were 40-44 years old in 2014:"
   ]
  },
  {
   "cell_type": "code",
   "execution_count": 165,
   "metadata": {
    "execution": {
     "iopub.execute_input": "2021-04-16T19:35:21.774819Z",
     "iopub.status.busy": "2021-04-16T19:35:21.773579Z",
     "iopub.status.idle": "2021-04-16T19:35:21.902764Z",
     "shell.execute_reply": "2021-04-16T19:35:21.903248Z"
    },
    "tags": []
   },
   "outputs": [
    {
     "data": {
      "image/png": "[encoded data removed]",
      "text/plain": [
       "<Figure size 640x480 with 1 Axes>"
      ]
     },
     "metadata": {},
     "output_type": "display_data"
    }
   ],
   "source": [
    "import matplotlib.pyplot as plt\n",
    "\n",
    "qs = [1, 2, 3, 4]\n",
    "ps = [22, 41, 24, 14]\n",
    "prior = Pmf(ps, qs)\n",
    "prior.bar(alpha=0.7)\n",
    "\n",
    "plt.xticks(qs, ['1 child', '2 children', '3 children', '4+ children'])\n",
    "decorate(ylabel='PMF',\n",
    "         title='Distribution of family size')"
   ]
  },
  {
   "cell_type": "markdown",
   "metadata": {
    "tags": []
   },
   "source": [
    "For simplicity, let's assume that all families in the 4+ category have exactly 4 children."
   ]
  },
  {
   "cell_type": "code",
   "execution_count": 174,
   "metadata": {
    "execution": {
     "iopub.execute_input": "2021-04-16T19:35:21.911850Z",
     "iopub.status.busy": "2021-04-16T19:35:21.911271Z",
     "iopub.status.idle": "2021-04-16T19:35:21.916004Z",
     "shell.execute_reply": "2021-04-16T19:35:21.916486Z"
    }
   },
   "outputs": [
    {
     "data": {
      "image/png": "[encoded data removed]",
      "text/plain": [
       "<Figure size 640x480 with 1 Axes>"
      ]
     },
     "metadata": {},
     "output_type": "display_data"
    }
   ],
   "source": [
    "# When choosing a person you are more likely to choose a person from bigger family. \n",
    "# Probability of choosing a person given size of the family is 1/size of the family. \n",
    "# P(\"Choosing someone\"| size of the family)\n",
    "# P(D|H) = 1/size of the family\n",
    "\n",
    "\n",
    "likelihood = Pmf(qs, qs)\n",
    "likelihood.normalize()\n",
    "\n",
    "posterior = prior * likelihood\n",
    "posterior.normalize()\n",
    "\n",
    "posterior.bar()\n"
   ]
  },
  {
   "cell_type": "code",
   "execution_count": 175,
   "metadata": {
    "execution": {
     "iopub.execute_input": "2021-04-16T19:35:21.920242Z",
     "iopub.status.busy": "2021-04-16T19:35:21.919748Z",
     "iopub.status.idle": "2021-04-16T19:35:21.922344Z",
     "shell.execute_reply": "2021-04-16T19:35:21.921990Z"
    }
   },
   "outputs": [
    {
     "data": {
      "text/html": [
       "<div>\n",
       "<style scoped>\n",
       "    .dataframe tbody tr th:only-of-type {\n",
       "        vertical-align: middle;\n",
       "    }\n",
       "\n",
       "    .dataframe tbody tr th {\n",
       "        vertical-align: top;\n",
       "    }\n",
       "\n",
       "    .dataframe thead th {\n",
       "        text-align: right;\n",
       "    }\n",
       "</style>\n",
       "<table border=\"1\" class=\"dataframe\">\n",
       "  <thead>\n",
       "    <tr style=\"text-align: right;\">\n",
       "      <th></th>\n",
       "      <th>probs</th>\n",
       "    </tr>\n",
       "  </thead>\n",
       "  <tbody>\n",
       "    <tr>\n",
       "      <th>1</th>\n",
       "      <td>0.094828</td>\n",
       "    </tr>\n",
       "    <tr>\n",
       "      <th>2</th>\n",
       "      <td>0.353448</td>\n",
       "    </tr>\n",
       "    <tr>\n",
       "      <th>3</th>\n",
       "      <td>0.310345</td>\n",
       "    </tr>\n",
       "    <tr>\n",
       "      <th>4</th>\n",
       "      <td>0.241379</td>\n",
       "    </tr>\n",
       "  </tbody>\n",
       "</table>\n",
       "</div>"
      ],
      "text/plain": [
       "1    0.094828\n",
       "2    0.353448\n",
       "3    0.310345\n",
       "4    0.241379\n",
       "Name: , dtype: float64"
      ]
     },
     "execution_count": 175,
     "metadata": {},
     "output_type": "execute_result"
    }
   ],
   "source": [
    "# Proability of having # of children given I drew random person. \n",
    "posterior\n"
   ]
  },
  {
   "cell_type": "code",
   "execution_count": 176,
   "metadata": {},
   "outputs": [
    {
     "data": {
      "text/plain": [
       "0.9051724137931034"
      ]
     },
     "execution_count": 176,
     "metadata": {},
     "output_type": "execute_result"
    }
   ],
   "source": [
    "# Q: What is the probability that random person has a sybling.\n",
    "# probability that the person does not come from a family of 1 child.\n",
    "# P(H1 | D) - probability the random person comes from a family of 1.\n",
    "1 - posterior(1)"
   ]
  },
  {
   "cell_type": "markdown",
   "metadata": {},
   "source": [
    "**Exercise:** The [Doomsday argument](https://en.wikipedia.org/wiki/Doomsday_argument) is \"a probabilistic argument that claims to predict the number of future members of the human species given an estimate of the total number of humans born so far.\"\n",
    "\n",
    "Suppose there are only two kinds of intelligent civilizations that can happen in the universe.  The \"short-lived\" kind go exinct after only 200 billion individuals are born.  The \"long-lived\" kind survive until 2,000 billion individuals are born.\n",
    "And suppose that the two kinds of civilization are equally likely.\n",
    "Which kind of civilization do you think we live in?  \n",
    "\n",
    "The Doomsday argument says we can use the total number of humans born so far as data.\n",
    "According to the [Population Reference Bureau](https://www.prb.org/howmanypeoplehaveeverlivedonearth/), the total number of people who have ever lived is about 108 billion.\n",
    "\n",
    "Since you were born quite recently, let's assume that you are, in fact, human being number 108 billion.\n",
    "If $N$ is the total number who will ever live and we consider you to be a randomly-chosen person, it is equally likely that you could have been person 1, or $N$, or any number in between.\n",
    "So what is the probability that you would be number 108 billion?\n",
    "\n",
    "Given this data and dubious prior, what is the probability that our civilization will be short-lived?"
   ]
  },
  {
   "cell_type": "code",
   "execution_count": 188,
   "metadata": {
    "execution": {
     "iopub.execute_input": "2021-04-16T19:35:21.931981Z",
     "iopub.status.busy": "2021-04-16T19:35:21.931530Z",
     "iopub.status.idle": "2021-04-16T19:35:21.933115Z",
     "shell.execute_reply": "2021-04-16T19:35:21.933463Z"
    }
   },
   "outputs": [
    {
     "data": {
      "text/html": [
       "<div>\n",
       "<style scoped>\n",
       "    .dataframe tbody tr th:only-of-type {\n",
       "        vertical-align: middle;\n",
       "    }\n",
       "\n",
       "    .dataframe tbody tr th {\n",
       "        vertical-align: top;\n",
       "    }\n",
       "\n",
       "    .dataframe thead th {\n",
       "        text-align: right;\n",
       "    }\n",
       "</style>\n",
       "<table border=\"1\" class=\"dataframe\">\n",
       "  <thead>\n",
       "    <tr style=\"text-align: right;\">\n",
       "      <th></th>\n",
       "      <th>probs</th>\n",
       "    </tr>\n",
       "  </thead>\n",
       "  <tbody>\n",
       "    <tr>\n",
       "      <th>SL</th>\n",
       "      <td>0.25</td>\n",
       "    </tr>\n",
       "    <tr>\n",
       "      <th>LL</th>\n",
       "      <td>0.75</td>\n",
       "    </tr>\n",
       "  </tbody>\n",
       "</table>\n",
       "</div>"
      ],
      "text/plain": [
       "SL    0.25\n",
       "LL    0.75\n",
       "Name: , dtype: float64"
      ]
     },
     "execution_count": 188,
     "metadata": {},
     "output_type": "execute_result"
    }
   ],
   "source": [
    "# Solution goes here\n",
    "prior = Pmf([1/4, 3/4], ['SL', 'LL'])\n",
    "prior"
   ]
  },
  {
   "cell_type": "code",
   "execution_count": 189,
   "metadata": {
    "execution": {
     "iopub.execute_input": "2021-04-16T19:35:21.940200Z",
     "iopub.status.busy": "2021-04-16T19:35:21.939749Z",
     "iopub.status.idle": "2021-04-16T19:35:21.942386Z",
     "shell.execute_reply": "2021-04-16T19:35:21.942831Z"
    }
   },
   "outputs": [
    {
     "data": {
      "text/html": [
       "<div>\n",
       "<style scoped>\n",
       "    .dataframe tbody tr th:only-of-type {\n",
       "        vertical-align: middle;\n",
       "    }\n",
       "\n",
       "    .dataframe tbody tr th {\n",
       "        vertical-align: top;\n",
       "    }\n",
       "\n",
       "    .dataframe thead th {\n",
       "        text-align: right;\n",
       "    }\n",
       "</style>\n",
       "<table border=\"1\" class=\"dataframe\">\n",
       "  <thead>\n",
       "    <tr style=\"text-align: right;\">\n",
       "      <th></th>\n",
       "      <th>probs</th>\n",
       "    </tr>\n",
       "  </thead>\n",
       "  <tbody>\n",
       "    <tr>\n",
       "      <th>SL</th>\n",
       "      <td>0.769231</td>\n",
       "    </tr>\n",
       "    <tr>\n",
       "      <th>LL</th>\n",
       "      <td>0.230769</td>\n",
       "    </tr>\n",
       "  </tbody>\n",
       "</table>\n",
       "</div>"
      ],
      "text/plain": [
       "SL    0.769231\n",
       "LL    0.230769\n",
       "Name: , dtype: float64"
      ]
     },
     "execution_count": 189,
     "metadata": {},
     "output_type": "execute_result"
    },
    {
     "data": {
      "image/png": "[encoded data removed]",
      "text/plain": [
       "<Figure size 640x480 with 1 Axes>"
      ]
     },
     "metadata": {},
     "output_type": "display_data"
    }
   ],
   "source": [
    "# likelihood  P(D|H)\n",
    "# P(D = \"I am number 108 billion, 108 billion has ever lived\"| SL)\n",
    "\n",
    "likelihood = Pmf([1/(200), 1/(2000)], ['SL', 'LL'])\n",
    "\n",
    "posterior = prior * likelihood\n",
    "posterior.normalize()\n",
    "posterior.bar()\n",
    "posterior"
   ]
  },
  {
   "cell_type": "code",
   "execution_count": 144,
   "metadata": {
    "execution": {
     "iopub.execute_input": "2021-04-16T19:35:21.946847Z",
     "iopub.status.busy": "2021-04-16T19:35:21.946057Z",
     "iopub.status.idle": "2021-04-16T19:35:21.948588Z",
     "shell.execute_reply": "2021-04-16T19:35:21.948054Z"
    }
   },
   "outputs": [],
   "source": [
    "\n",
    "# Solution\n",
    "\n",
    "# According to this analysis, the probability is about 91% that our \n",
    "# civilization will be short-lived.  \n",
    "# But this conclusion is based on a dubious prior.\n",
    "\n",
    "# And with so little data, the posterior depends strongly on the prior.  \n",
    "# To see that, run this analysis again with a different prior, \n",
    "# and see what the results look like."
   ]
  },
  {
   "cell_type": "code",
   "execution_count": null,
   "metadata": {},
   "outputs": [],
   "source": []
  }
 ],
 "metadata": {
  "celltoolbar": "Tags",
  "kernelspec": {
   "display_name": "Python 3",
   "language": "python",
   "name": "python3"
  },
  "language_info": {
   "codemirror_mode": {
    "name": "ipython",
    "version": 3
   },
   "file_extension": ".py",
   "mimetype": "text/x-python",
   "name": "python",
   "nbconvert_exporter": "python",
   "pygments_lexer": "ipython3",
   "version": "3.8.16"
  }
 },
 "nbformat": 4,
 "nbformat_minor": 2
}
