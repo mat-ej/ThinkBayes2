{
 "cells": [
  {
   "cell_type": "markdown",
   "metadata": {},
   "source": [
    "# Odds and Addends"
   ]
  },
  {
   "cell_type": "markdown",
   "metadata": {
    "tags": []
   },
   "source": [
    "Think Bayes, Second Edition\n",
    "\n",
    "Copyright 2020 Allen B. Downey\n",
    "\n",
    "License: [Attribution-NonCommercial-ShareAlike 4.0 International (CC BY-NC-SA 4.0)](https://creativecommons.org/licenses/by-nc-sa/4.0/)"
   ]
  },
  {
   "cell_type": "code",
   "execution_count": 2,
   "metadata": {
    "execution": {
     "iopub.execute_input": "2021-04-16T19:35:25.054803Z",
     "iopub.status.busy": "2021-04-16T19:35:25.054381Z",
     "iopub.status.idle": "2021-04-16T19:35:25.056675Z",
     "shell.execute_reply": "2021-04-16T19:35:25.056251Z"
    },
    "tags": []
   },
   "outputs": [],
   "source": [
    "# If we're running on Colab, install empiricaldist\n",
    "# https://pypi.org/project/empiricaldist/\n",
    "\n",
    "import sys\n",
    "IN_COLAB = 'google.colab' in sys.modules\n",
    "\n",
    "if IN_COLAB:\n",
    "    !pip install empiricaldist"
   ]
  },
  {
   "cell_type": "code",
   "execution_count": 3,
   "metadata": {
    "execution": {
     "iopub.execute_input": "2021-04-16T19:35:25.060363Z",
     "iopub.status.busy": "2021-04-16T19:35:25.059859Z",
     "iopub.status.idle": "2021-04-16T19:35:25.061547Z",
     "shell.execute_reply": "2021-04-16T19:35:25.061891Z"
    },
    "tags": []
   },
   "outputs": [],
   "source": [
    "# Get utils.py\n",
    "\n",
    "from os.path import basename, exists\n",
    "\n",
    "def download(url):\n",
    "    filename = basename(url)\n",
    "    if not exists(filename):\n",
    "        from urllib.request import urlretrieve\n",
    "        local, _ = urlretrieve(url, filename)\n",
    "        print('Downloaded ' + local)\n",
    "    \n",
    "download('https://github.com/AllenDowney/ThinkBayes2/raw/master/soln/utils.py')"
   ]
  },
  {
   "cell_type": "code",
   "execution_count": 4,
   "metadata": {
    "execution": {
     "iopub.execute_input": "2021-04-16T19:35:25.064750Z",
     "iopub.status.busy": "2021-04-16T19:35:25.064307Z",
     "iopub.status.idle": "2021-04-16T19:35:25.842409Z",
     "shell.execute_reply": "2021-04-16T19:35:25.841954Z"
    },
    "tags": []
   },
   "outputs": [],
   "source": [
    "from utils import set_pyplot_params\n",
    "set_pyplot_params()"
   ]
  },
  {
   "cell_type": "markdown",
   "metadata": {},
   "source": [
    "This chapter presents a new way to represent a degree of certainty, **odds**, and a new form of Bayes's Theorem, called **Bayes's Rule**.\n",
    "Bayes's Rule is convenient if you want to do a Bayesian update on paper or in your head.\n",
    "It also sheds light on the important idea of **evidence** and how we can quantify the strength of evidence.\n",
    "\n",
    "The second part of the chapter is about \"addends\", that is, quantities being added, and how we can compute their distributions.\n",
    "We'll define functions that compute the distribution of sums, differences, products, and other operations.\n",
    "Then we'll use those distributions as part of a Bayesian update."
   ]
  },
  {
   "cell_type": "markdown",
   "metadata": {},
   "source": [
    "## Odds\n",
    "\n",
    "One way to represent a probability is with a number between 0 and 1, but that's not the only way.\n",
    "If you have ever bet on a football game or a horse race, you have probably encountered another representation of probability, called **odds**.\n",
    "\n",
    "You might have heard expressions like \"the odds are three to one\", but you might not know what that means.\n",
    "The **odds in favor** of an event are the ratio of the probability\n",
    "it will occur to the probability that it will not.\n",
    "\n",
    "The following function does this calculation."
   ]
  },
  {
   "cell_type": "code",
   "execution_count": 5,
   "metadata": {
    "execution": {
     "iopub.execute_input": "2021-04-16T19:35:25.847175Z",
     "iopub.status.busy": "2021-04-16T19:35:25.846506Z",
     "iopub.status.idle": "2021-04-16T19:35:25.850491Z",
     "shell.execute_reply": "2021-04-16T19:35:25.850052Z"
    }
   },
   "outputs": [],
   "source": [
    "def odds(p):\n",
    "    return p / (1-p)"
   ]
  },
  {
   "cell_type": "markdown",
   "metadata": {},
   "source": [
    "For example, if my team has a 75% chance of winning, the odds in their favor are three to one, because the chance of winning is three times the chance of losing."
   ]
  },
  {
   "cell_type": "code",
   "execution_count": 6,
   "metadata": {
    "execution": {
     "iopub.execute_input": "2021-04-16T19:35:25.857515Z",
     "iopub.status.busy": "2021-04-16T19:35:25.856721Z",
     "iopub.status.idle": "2021-04-16T19:35:25.859929Z",
     "shell.execute_reply": "2021-04-16T19:35:25.860503Z"
    }
   },
   "outputs": [
    {
     "data": {
      "text/plain": [
       "3.0"
      ]
     },
     "execution_count": 6,
     "metadata": {},
     "output_type": "execute_result"
    }
   ],
   "source": [
    "odds(0.75)"
   ]
  },
  {
   "cell_type": "markdown",
   "metadata": {},
   "source": [
    "You can write odds in decimal form, but it is also common to\n",
    "write them as a ratio of integers.\n",
    "So \"three to one\" is sometimes written $3:1$.\n",
    "\n",
    "When probabilities are low, it is more common to report the\n",
    "**odds against** rather than the odds in favor.\n",
    "For example, if my horse has a 10% chance of winning, the odds in favor are $1:9$."
   ]
  },
  {
   "cell_type": "code",
   "execution_count": 7,
   "metadata": {
    "execution": {
     "iopub.execute_input": "2021-04-16T19:35:25.864570Z",
     "iopub.status.busy": "2021-04-16T19:35:25.863924Z",
     "iopub.status.idle": "2021-04-16T19:35:25.867151Z",
     "shell.execute_reply": "2021-04-16T19:35:25.866535Z"
    }
   },
   "outputs": [
    {
     "data": {
      "text/plain": [
       "0.11111111111111112"
      ]
     },
     "execution_count": 7,
     "metadata": {},
     "output_type": "execute_result"
    }
   ],
   "source": [
    "odds(0.1)"
   ]
  },
  {
   "cell_type": "markdown",
   "metadata": {},
   "source": [
    "But in that case it would be more common I to say that the odds against are $9:1$."
   ]
  },
  {
   "cell_type": "code",
   "execution_count": 8,
   "metadata": {
    "execution": {
     "iopub.execute_input": "2021-04-16T19:35:25.871386Z",
     "iopub.status.busy": "2021-04-16T19:35:25.870629Z",
     "iopub.status.idle": "2021-04-16T19:35:25.874421Z",
     "shell.execute_reply": "2021-04-16T19:35:25.873817Z"
    }
   },
   "outputs": [
    {
     "data": {
      "text/plain": [
       "9.000000000000002"
      ]
     },
     "execution_count": 8,
     "metadata": {},
     "output_type": "execute_result"
    }
   ],
   "source": [
    "odds(0.9)"
   ]
  },
  {
   "cell_type": "markdown",
   "metadata": {},
   "source": [
    "Given the odds in favor, in decimal form, you can convert to probability like this:"
   ]
  },
  {
   "cell_type": "code",
   "execution_count": 9,
   "metadata": {
    "execution": {
     "iopub.execute_input": "2021-04-16T19:35:25.878254Z",
     "iopub.status.busy": "2021-04-16T19:35:25.877499Z",
     "iopub.status.idle": "2021-04-16T19:35:25.879194Z",
     "shell.execute_reply": "2021-04-16T19:35:25.879785Z"
    }
   },
   "outputs": [],
   "source": [
    "def prob(o):\n",
    "    return o / (o+1)"
   ]
  },
  {
   "cell_type": "markdown",
   "metadata": {},
   "source": [
    "For example, if the odds are $3/2$, the corresponding probability is $3/5$:"
   ]
  },
  {
   "cell_type": "code",
   "execution_count": 10,
   "metadata": {
    "execution": {
     "iopub.execute_input": "2021-04-16T19:35:25.884222Z",
     "iopub.status.busy": "2021-04-16T19:35:25.883524Z",
     "iopub.status.idle": "2021-04-16T19:35:25.886020Z",
     "shell.execute_reply": "2021-04-16T19:35:25.886547Z"
    }
   },
   "outputs": [
    {
     "data": {
      "text/plain": [
       "0.6"
      ]
     },
     "execution_count": 10,
     "metadata": {},
     "output_type": "execute_result"
    }
   ],
   "source": [
    "prob(3/2)"
   ]
  },
  {
   "cell_type": "markdown",
   "metadata": {},
   "source": [
    "Or if you represent odds with a numerator and denominator, you can convert to probability like this:"
   ]
  },
  {
   "cell_type": "code",
   "execution_count": 11,
   "metadata": {
    "execution": {
     "iopub.execute_input": "2021-04-16T19:35:25.890280Z",
     "iopub.status.busy": "2021-04-16T19:35:25.889753Z",
     "iopub.status.idle": "2021-04-16T19:35:25.891691Z",
     "shell.execute_reply": "2021-04-16T19:35:25.892110Z"
    }
   },
   "outputs": [],
   "source": [
    "def prob2(yes, no):\n",
    "    return yes / (yes + no)"
   ]
  },
  {
   "cell_type": "code",
   "execution_count": 12,
   "metadata": {
    "execution": {
     "iopub.execute_input": "2021-04-16T19:35:25.896932Z",
     "iopub.status.busy": "2021-04-16T19:35:25.896240Z",
     "iopub.status.idle": "2021-04-16T19:35:25.899626Z",
     "shell.execute_reply": "2021-04-16T19:35:25.899181Z"
    }
   },
   "outputs": [
    {
     "data": {
      "text/plain": [
       "0.6"
      ]
     },
     "execution_count": 12,
     "metadata": {},
     "output_type": "execute_result"
    }
   ],
   "source": [
    "prob2(3, 2)"
   ]
  },
  {
   "cell_type": "markdown",
   "metadata": {},
   "source": [
    "Probabilities and odds are different representations of the\n",
    "same information; given either one, you can compute the other.\n",
    "But some computations are easier when we work with odds, as we'll see in the next section, and some computations are even easier with log odds, which we'll see later."
   ]
  },
  {
   "cell_type": "markdown",
   "metadata": {},
   "source": [
    "## Bayes's Rule\n",
    "\n",
    "So far we have worked with Bayes's theorem in the \"probability form\": \n",
    "\n",
    "$$P(H|D) = \\frac{P(H)~P(D|H)}{P(D)}$$\n",
    "\n",
    "Writing $\\mathrm{odds}(A)$ for odds in favor of $A$, we can express Bayes's Theorem in \"odds form\":\n",
    "\n",
    "$$\\mathrm{odds}(A|D) = \\mathrm{odds}(A)~\\frac{P(D|A)}{P(D|B)}$$\n",
    "\n",
    "This is Bayes's Rule, which says that the posterior odds are the prior odds times the likelihood ratio.\n",
    "Bayes's Rule is convenient for computing a Bayesian update on paper or in your head. For example, let's go back to the cookie problem:\n",
    "\n",
    "> Suppose there are two bowls of cookies. Bowl 1 contains 30 vanilla cookies and 10 chocolate cookies. Bowl 2 contains 20 of each. Now suppose you choose one of the bowls at random and, without looking, select a cookie at random. The cookie is vanilla. What is the probability that it came from Bowl 1?\n",
    "\n",
    "The prior probability is 50%, so the prior odds are 1. The likelihood ratio is $\\frac{3}{4} / \\frac{1}{2}$, or $3/2$. So the posterior odds are $3/2$, which corresponds to probability $3/5$."
   ]
  },
  {
   "cell_type": "code",
   "execution_count": 13,
   "metadata": {
    "execution": {
     "iopub.execute_input": "2021-04-16T19:35:25.903843Z",
     "iopub.status.busy": "2021-04-16T19:35:25.903087Z",
     "iopub.status.idle": "2021-04-16T19:35:25.905922Z",
     "shell.execute_reply": "2021-04-16T19:35:25.906470Z"
    }
   },
   "outputs": [
    {
     "data": {
      "text/plain": [
       "1.5"
      ]
     },
     "execution_count": 13,
     "metadata": {},
     "output_type": "execute_result"
    }
   ],
   "source": [
    "prior_odds = 1\n",
    "likelihood_ratio = (3/4) / (1/2)\n",
    "post_odds = prior_odds * likelihood_ratio\n",
    "post_odds"
   ]
  },
  {
   "cell_type": "code",
   "execution_count": 14,
   "metadata": {
    "execution": {
     "iopub.execute_input": "2021-04-16T19:35:25.911059Z",
     "iopub.status.busy": "2021-04-16T19:35:25.910422Z",
     "iopub.status.idle": "2021-04-16T19:35:25.913602Z",
     "shell.execute_reply": "2021-04-16T19:35:25.913967Z"
    }
   },
   "outputs": [
    {
     "data": {
      "text/plain": [
       "0.6"
      ]
     },
     "execution_count": 14,
     "metadata": {},
     "output_type": "execute_result"
    }
   ],
   "source": [
    "post_prob = prob(post_odds)\n",
    "post_prob"
   ]
  },
  {
   "cell_type": "markdown",
   "metadata": {},
   "source": [
    "If we draw another cookie and it's chocolate, we can do another update:"
   ]
  },
  {
   "cell_type": "code",
   "execution_count": 15,
   "metadata": {
    "execution": {
     "iopub.execute_input": "2021-04-16T19:35:25.918775Z",
     "iopub.status.busy": "2021-04-16T19:35:25.918156Z",
     "iopub.status.idle": "2021-04-16T19:35:25.922078Z",
     "shell.execute_reply": "2021-04-16T19:35:25.921279Z"
    }
   },
   "outputs": [
    {
     "data": {
      "text/plain": [
       "0.75"
      ]
     },
     "execution_count": 15,
     "metadata": {},
     "output_type": "execute_result"
    }
   ],
   "source": [
    "likelihood_ratio = (1/4) / (1/2)\n",
    "post_odds *= likelihood_ratio\n",
    "post_odds"
   ]
  },
  {
   "cell_type": "markdown",
   "metadata": {},
   "source": [
    "And convert back to probability."
   ]
  },
  {
   "cell_type": "code",
   "execution_count": 16,
   "metadata": {
    "execution": {
     "iopub.execute_input": "2021-04-16T19:35:25.926620Z",
     "iopub.status.busy": "2021-04-16T19:35:25.926000Z",
     "iopub.status.idle": "2021-04-16T19:35:25.929931Z",
     "shell.execute_reply": "2021-04-16T19:35:25.930427Z"
    }
   },
   "outputs": [
    {
     "data": {
      "text/plain": [
       "0.42857142857142855"
      ]
     },
     "execution_count": 16,
     "metadata": {},
     "output_type": "execute_result"
    }
   ],
   "source": [
    "post_prob = prob(post_odds)\n",
    "post_prob"
   ]
  },
  {
   "cell_type": "markdown",
   "metadata": {},
   "source": [
    "## Oliver's Blood\n",
    "\n",
    "I’ll use Bayes’s Rule to solve another problem from MacKay’s\n",
    "[*Information Theory, Inference, and Learning Algorithms*](https://www.inference.org.uk/mackay/itila/):\n",
    "\n",
    "> Two people have left traces of their own blood at the scene of a crime. A suspect, Oliver, is tested and found to have type ‘O’ blood. The blood groups of the two traces are found to be of type ‘O’ (a common type in the local population, having frequency 60%) and of type ‘AB’ (a rare type, with frequency 1%). Do these data \\[the traces found at the scene\\] give evidence in favor of the proposition that Oliver was one of the people \\[who left blood at the scene\\]?\n",
    "\n",
    "To answer this question, we need to think about what it means for data\n",
    "to give evidence in favor of (or against) a hypothesis. Intuitively, we might say that data favor a hypothesis if the hypothesis is more likely in light of the data than it was before.\n",
    "\n",
    "In the cookie problem, the prior odds are 1, which corresponds to probability 50%. The posterior odds are $3/2$, or probability 60%. So the vanilla cookie is evidence in favor of Bowl 1."
   ]
  },
  {
   "cell_type": "markdown",
   "metadata": {},
   "source": [
    "Bayes's Rule provides a way to make this intuition more precise. Again\n",
    "\n",
    "$$\\mathrm{odds}(A|D) = \\mathrm{odds}(A)~\\frac{P(D|A)}{P(D|B)}$$\n",
    "\n",
    "Dividing through by $\\mathrm{odds}(A)$, we get: \n",
    "\n",
    "$$\\frac{\\mathrm{odds}(A|D)}{\\mathrm{odds}(A)} = \\frac{P(D|A)}{P(D|B)}$$\n",
    "\n",
    "The term on the left is the ratio of the posterior and prior odds. The term on the right is the likelihood ratio, also called the **Bayes\n",
    "factor**.\n",
    "\n",
    "If the Bayes factor is greater than 1, that means that the data were\n",
    "more likely under $A$ than under $B$. And that means that the odds are\n",
    "greater, in light of the data, than they were before.\n",
    "\n",
    "If the Bayes factor is less than 1, that means the data were less likely under $A$ than under $B$, so the odds in favor of $A$ go down.\n",
    "\n",
    "Finally, if the Bayes factor is exactly 1, the data are equally likely\n",
    "under either hypothesis, so the odds do not change."
   ]
  },
  {
   "cell_type": "markdown",
   "metadata": {},
   "source": [
    "Let's apply that to the problem at hand. If Oliver is one of the people who left blood at the crime scene, he accounts for the ‘O’ sample; in that case, the probability of the data is the probability that a random member of the population has type ‘AB’ blood, which is 1%.\n",
    "\n",
    "If Oliver did not leave blood at the scene, we have two samples to\n",
    "account for. \n",
    "If we choose two random people from the population, what is the chance of finding one with type ‘O’ and one with type ‘AB’? \n",
    "Well, there are two ways it might happen: \n",
    "\n",
    "* The first person might have ‘O’ and the second ‘AB’, \n",
    "\n",
    "* Or the first person might have ‘AB’ and the second ‘O’.\n",
    "\n",
    "The probability of either combination is $(0.6) (0.01)$, which is 0.6%, so the total probability is twice that, or 1.2%.\n",
    "So the data are a little more likely if Oliver is *not* one of the people who left blood at the scene.\n",
    "\n",
    "We can use these probabilities to compute the likelihood ratio:"
   ]
  },
  {
   "cell_type": "code",
   "execution_count": 17,
   "metadata": {
    "execution": {
     "iopub.execute_input": "2021-04-16T19:35:25.935512Z",
     "iopub.status.busy": "2021-04-16T19:35:25.934799Z",
     "iopub.status.idle": "2021-04-16T19:35:25.940814Z",
     "shell.execute_reply": "2021-04-16T19:35:25.940217Z"
    }
   },
   "outputs": [
    {
     "data": {
      "text/plain": [
       "0.8333333333333334"
      ]
     },
     "execution_count": 17,
     "metadata": {},
     "output_type": "execute_result"
    }
   ],
   "source": [
    "like1 = 0.01\n",
    "like2 = 2 * 0.6 * 0.01\n",
    "\n",
    "likelihood_ratio = like1 / like2\n",
    "likelihood_ratio\n",
    "\n",
    "100/120"
   ]
  },
  {
   "cell_type": "markdown",
   "metadata": {},
   "source": [
    "Since the likelihood ratio is less than 1, the blood tests are evidence *against* the hypothesis that Oliver left blood at the scence.\n",
    "\n",
    "But it is weak evidence.  For example, if the prior odds were 1 (that is, 50% probability), the posterior odds would be 0.83, which corresponds to a probability of 45%:"
   ]
  },
  {
   "cell_type": "code",
   "execution_count": 18,
   "metadata": {
    "execution": {
     "iopub.execute_input": "2021-04-16T19:35:25.943890Z",
     "iopub.status.busy": "2021-04-16T19:35:25.943238Z",
     "iopub.status.idle": "2021-04-16T19:35:25.948722Z",
     "shell.execute_reply": "2021-04-16T19:35:25.949237Z"
    }
   },
   "outputs": [
    {
     "data": {
      "text/plain": [
       "0.45454545454545453"
      ]
     },
     "execution_count": 18,
     "metadata": {},
     "output_type": "execute_result"
    }
   ],
   "source": [
    "post_odds = 1 * like1 / like2\n",
    "prob(post_odds)\n",
    "5/11"
   ]
  },
  {
   "cell_type": "markdown",
   "metadata": {},
   "source": [
    "So this evidence doesn't \"move the needle\" very much.\n",
    "\n",
    "This example is a little contrived, but it demonstrates the\n",
    "counterintuitive result that data *consistent* with a hypothesis are\n",
    "not necessarily *in favor of* the hypothesis.\n",
    "\n",
    "If this result still bothers you, this way of thinking might help: the\n",
    "data consist of a common event, type ‘O’ blood, and a rare event, type\n",
    "‘AB’ blood. If Oliver accounts for the common event, that leaves the\n",
    "rare event unexplained. If Oliver doesn’t account for the ‘O’ blood, we\n",
    "have two chances to find someone in the population with ‘AB’ blood. And\n",
    "that factor of two makes the difference."
   ]
  },
  {
   "cell_type": "markdown",
   "metadata": {},
   "source": [
    "**Exercise:** Suppose that based on other evidence, you prior belief in Oliver's guilt is 90%.  How much would the blood evidence in this section change your beliefs?  What if you initially thought there was only a 10% chance of his guilt?"
   ]
  },
  {
   "cell_type": "code",
   "execution_count": 19,
   "metadata": {
    "execution": {
     "iopub.execute_input": "2021-04-16T19:35:25.953967Z",
     "iopub.status.busy": "2021-04-16T19:35:25.953380Z",
     "iopub.status.idle": "2021-04-16T19:35:25.956711Z",
     "shell.execute_reply": "2021-04-16T19:35:25.957322Z"
    }
   },
   "outputs": [
    {
     "data": {
      "text/plain": [
       "0.8823529411764706"
      ]
     },
     "execution_count": 19,
     "metadata": {},
     "output_type": "execute_result"
    }
   ],
   "source": [
    "# Solution goes here\n",
    "prior = 0.9\n",
    "\n",
    "odds_post = odds(prior) * like1/like2\n",
    "prob(odds_post)"
   ]
  },
  {
   "cell_type": "code",
   "execution_count": 20,
   "metadata": {
    "execution": {
     "iopub.execute_input": "2021-04-16T19:35:25.961924Z",
     "iopub.status.busy": "2021-04-16T19:35:25.961197Z",
     "iopub.status.idle": "2021-04-16T19:35:25.965746Z",
     "shell.execute_reply": "2021-04-16T19:35:25.965223Z"
    }
   },
   "outputs": [
    {
     "data": {
      "text/plain": [
       "0.0847457627118644"
      ]
     },
     "execution_count": 20,
     "metadata": {},
     "output_type": "execute_result"
    }
   ],
   "source": [
    "# Solution goes here\n",
    "prior = 0.1\n",
    "odds_post = odds(prior) * like1/like2\n",
    "prob(odds_post)"
   ]
  },
  {
   "cell_type": "markdown",
   "metadata": {},
   "source": [
    "## Addends\n",
    "\n",
    "The second half of this chapter is about distributions of sums and results of other operations.\n",
    "We'll start with a forward problem, where we are given the inputs and compute the distribution of the output.\n",
    "Then we'll work on inverse problems, where we are given the outputs and we compute the distribution of the inputs.\n",
    "\n",
    "As a first example, suppose you roll two dice and add them up. What is the distribution of the sum? \n",
    "I’ll use the following function to create a `Pmf` that represents the\n",
    "possible outcomes of a die:"
   ]
  },
  {
   "cell_type": "code",
   "execution_count": 25,
   "metadata": {},
   "outputs": [],
   "source": [
    "import numpy as np\n",
    "from empiricaldist import Pmf\n",
    "\n",
    "def make_die(sides):\n",
    "    outcomes = np.arange(1, sides+1)\n",
    "    return Pmf(1/sides, outcomes)"
   ]
  },
  {
   "cell_type": "markdown",
   "metadata": {},
   "source": [
    "On a six-sided die, the outcomes are 1 through 6, all\n",
    "equally likely."
   ]
  },
  {
   "cell_type": "code",
   "execution_count": 33,
   "metadata": {
    "execution": {
     "iopub.execute_input": "2021-04-16T19:35:25.977624Z",
     "iopub.status.busy": "2021-04-16T19:35:25.976820Z",
     "iopub.status.idle": "2021-04-16T19:35:25.980388Z",
     "shell.execute_reply": "2021-04-16T19:35:25.980927Z"
    }
   },
   "outputs": [
    {
     "data": {
      "image/png": "[encoded data removed]",
      "text/plain": [
       "<Figure size 640x480 with 1 Axes>"
      ]
     },
     "metadata": {},
     "output_type": "display_data"
    }
   ],
   "source": [
    "from utils import decorate\n",
    "die = make_die(6)\n",
    "die2 = make_die(6)\n",
    "\n",
    "die.bar()\n",
    "decorate(xlabel='Outcome',\n",
    "         ylabel='PMF')"
   ]
  },
  {
   "cell_type": "code",
   "execution_count": 36,
   "metadata": {},
   "outputs": [
    {
     "data": {
      "image/png": "[encoded data removed]",
      "text/plain": [
       "<Figure size 640x480 with 1 Axes>"
      ]
     },
     "metadata": {},
     "output_type": "display_data"
    }
   ],
   "source": [
    "def add_dist(pmf1, pmf2):\n",
    "    \"\"\"Compute the distribution of a sum.\"\"\"\n",
    "    res = Pmf()\n",
    "    for q1, p1 in pmf1.items():\n",
    "        for q2, p2 in pmf2.items():\n",
    "            q = q1 + q2\n",
    "            p = p1 * p2\n",
    "            res[q] = res(q) + p # q does not yet appear in res, res(q) returns 0\n",
    "    return res\n",
    "\n",
    "add_dist(die, die2).bar()"
   ]
  },
  {
   "cell_type": "markdown",
   "metadata": {},
   "source": [
    "If we roll two dice and add them up, there are 11 possible outcomes, 2\n",
    "through 12, but they are not equally likely. To compute the distribution\n",
    "of the sum, we have to enumerate the possible outcomes. \n",
    "\n",
    "And that's how this function works:"
   ]
  },
  {
   "cell_type": "markdown",
   "metadata": {},
   "source": [
    "The parameters are `Pmf` objects representing distributions.\n",
    "\n",
    "The loops iterate though the quantities and probabilities in the `Pmf` objects.\n",
    "Each time through the loop `q` gets the sum of a pair of quantities, and `p` gets the probability of the pair.\n",
    "Because the same sum might appear more than once, we have to add up the total probability for each sum."
   ]
  },
  {
   "cell_type": "markdown",
   "metadata": {},
   "source": [
    "Notice a subtle element of this line:\n",
    "\n",
    "```\n",
    "            res[q] = res(q) + p\n",
    "```\n",
    "\n",
    "I use parentheses on the right side of the assignment, which returns 0 if `q` does not appear yet in `res`.\n",
    "I use brackets on the left side of the assignment to create or update an element in `res`; using parentheses on the left side would not work.\n",
    "\n",
    "`Pmf` provides `add_dist`, which does the same thing.\n",
    "You can call it as a method, like this:"
   ]
  },
  {
   "cell_type": "code",
   "execution_count": 39,
   "metadata": {
    "execution": {
     "iopub.execute_input": "2021-04-16T19:35:26.199932Z",
     "iopub.status.busy": "2021-04-16T19:35:26.199258Z",
     "iopub.status.idle": "2021-04-16T19:35:26.200896Z",
     "shell.execute_reply": "2021-04-16T19:35:26.201275Z"
    }
   },
   "outputs": [],
   "source": [
    "twice = die.add_dist(die)\n",
    "# twice = Pmf.add_dist(die, die)"
   ]
  },
  {
   "cell_type": "markdown",
   "metadata": {},
   "source": [
    "Or as a function, like this:"
   ]
  },
  {
   "cell_type": "code",
   "execution_count": null,
   "metadata": {
    "execution": {
     "iopub.execute_input": "2021-04-16T19:35:26.205592Z",
     "iopub.status.busy": "2021-04-16T19:35:26.205163Z",
     "iopub.status.idle": "2021-04-16T19:35:26.206990Z",
     "shell.execute_reply": "2021-04-16T19:35:26.206626Z"
    }
   },
   "outputs": [],
   "source": [
    "twice = Pmf.add_dist(die, die)"
   ]
  },
  {
   "cell_type": "markdown",
   "metadata": {},
   "source": [
    "And here's what the result looks like:"
   ]
  },
  {
   "cell_type": "code",
   "execution_count": 40,
   "metadata": {
    "execution": {
     "iopub.execute_input": "2021-04-16T19:35:26.210188Z",
     "iopub.status.busy": "2021-04-16T19:35:26.209766Z",
     "iopub.status.idle": "2021-04-16T19:35:26.211302Z",
     "shell.execute_reply": "2021-04-16T19:35:26.211647Z"
    },
    "tags": []
   },
   "outputs": [],
   "source": [
    "from utils import decorate\n",
    "\n",
    "def decorate_dice(title=''):\n",
    "    decorate(xlabel='Outcome',\n",
    "             ylabel='PMF',\n",
    "             title=title)"
   ]
  },
  {
   "cell_type": "code",
   "execution_count": 41,
   "metadata": {
    "execution": {
     "iopub.execute_input": "2021-04-16T19:35:26.239441Z",
     "iopub.status.busy": "2021-04-16T19:35:26.238769Z",
     "iopub.status.idle": "2021-04-16T19:35:26.367977Z",
     "shell.execute_reply": "2021-04-16T19:35:26.368514Z"
    },
    "tags": []
   },
   "outputs": [
    {
     "data": {
      "image/png": "[encoded data removed]",
      "text/plain": [
       "<Figure size 640x480 with 1 Axes>"
      ]
     },
     "metadata": {},
     "output_type": "display_data"
    }
   ],
   "source": [
    "twice = add_dist(die, die)\n",
    "twice.bar(color='C1', alpha=0.5)\n",
    "decorate_dice()"
   ]
  },
  {
   "cell_type": "markdown",
   "metadata": {},
   "source": [
    "If we have a sequence of `Pmf` objects that represent dice, we can compute the distribution of the sum like this:\n"
   ]
  },
  {
   "cell_type": "code",
   "execution_count": 43,
   "metadata": {
    "execution": {
     "iopub.execute_input": "2021-04-16T19:35:26.371912Z",
     "iopub.status.busy": "2021-04-16T19:35:26.371501Z",
     "iopub.status.idle": "2021-04-16T19:35:26.374367Z",
     "shell.execute_reply": "2021-04-16T19:35:26.374905Z"
    }
   },
   "outputs": [],
   "source": [
    "def add_dist_seq(seq):\n",
    "    \"\"\"Compute Pmf of the sum of values from seq.\"\"\"\n",
    "    total = seq[0]\n",
    "    for other in seq[1:]:\n",
    "        total = total.add_dist(other)\n",
    "    return total"
   ]
  },
  {
   "cell_type": "markdown",
   "metadata": {},
   "source": [
    "As an example, we can make a list of three dice like this:"
   ]
  },
  {
   "cell_type": "code",
   "execution_count": 44,
   "metadata": {
    "execution": {
     "iopub.execute_input": "2021-04-16T19:35:26.378258Z",
     "iopub.status.busy": "2021-04-16T19:35:26.377654Z",
     "iopub.status.idle": "2021-04-16T19:35:26.380487Z",
     "shell.execute_reply": "2021-04-16T19:35:26.380982Z"
    }
   },
   "outputs": [
    {
     "data": {
      "text/plain": [
       "[1    0.166667\n",
       " 2    0.166667\n",
       " 3    0.166667\n",
       " 4    0.166667\n",
       " 5    0.166667\n",
       " 6    0.166667\n",
       " Name: , dtype: float64,\n",
       " 1    0.166667\n",
       " 2    0.166667\n",
       " 3    0.166667\n",
       " 4    0.166667\n",
       " 5    0.166667\n",
       " 6    0.166667\n",
       " Name: , dtype: float64,\n",
       " 1    0.166667\n",
       " 2    0.166667\n",
       " 3    0.166667\n",
       " 4    0.166667\n",
       " 5    0.166667\n",
       " 6    0.166667\n",
       " Name: , dtype: float64]"
      ]
     },
     "execution_count": 44,
     "metadata": {},
     "output_type": "execute_result"
    }
   ],
   "source": [
    "dice = [die] * 3\n",
    "dice"
   ]
  },
  {
   "cell_type": "markdown",
   "metadata": {},
   "source": [
    "And we can compute the distribution of their sum like this."
   ]
  },
  {
   "cell_type": "code",
   "execution_count": 45,
   "metadata": {
    "execution": {
     "iopub.execute_input": "2021-04-16T19:35:26.385882Z",
     "iopub.status.busy": "2021-04-16T19:35:26.385458Z",
     "iopub.status.idle": "2021-04-16T19:35:26.388695Z",
     "shell.execute_reply": "2021-04-16T19:35:26.389169Z"
    }
   },
   "outputs": [],
   "source": [
    "thrice = add_dist_seq(dice)"
   ]
  },
  {
   "cell_type": "markdown",
   "metadata": {},
   "source": [
    "The following figure shows what these three distributions look like:\n",
    "\n",
    "-   The distribution of a single die is uniform from 1 to 6.\n",
    "\n",
    "-   The sum of two dice has a triangle distribution between 2 and 12.\n",
    "\n",
    "-   The sum of three dice has a bell-shaped distribution between 3\n",
    "    and 18."
   ]
  },
  {
   "cell_type": "code",
   "execution_count": 48,
   "metadata": {
    "execution": {
     "iopub.execute_input": "2021-04-16T19:35:26.421840Z",
     "iopub.status.busy": "2021-04-16T19:35:26.406759Z",
     "iopub.status.idle": "2021-04-16T19:35:26.603342Z",
     "shell.execute_reply": "2021-04-16T19:35:26.602970Z"
    },
    "tags": []
   },
   "outputs": [
    {
     "data": {
      "image/png": "[encoded data removed]",
      "text/plain": [
       "<Figure size 640x480 with 1 Axes>"
      ]
     },
     "metadata": {},
     "output_type": "display_data"
    }
   ],
   "source": [
    "# CLT, distribution of sum converges to bell shaped normal distribution (under certain conditions)\n",
    "\n",
    "import matplotlib.pyplot as plt\n",
    "\n",
    "die.plot(label='once')\n",
    "twice.plot(label='twice', ls='--')\n",
    "thrice.plot(label='thrice', ls=':')\n",
    "\n",
    "plt.xticks([0,3,6,9,12,15,18])\n",
    "decorate_dice(title='Distributions of sums')"
   ]
  },
  {
   "cell_type": "markdown",
   "metadata": {},
   "source": [
    "As an aside, this example demonstrates the Central Limit Theorem, which says that the distribution of a sum converges on a bell-shaped normal distribution, at least under some conditions."
   ]
  },
  {
   "attachments": {},
   "cell_type": "markdown",
   "metadata": {},
   "source": [
    "## Gluten Sensitivity\n",
    "\n",
    "In 2015 I read a paper that tested whether people diagnosed with gluten sensitivity (but not celiac disease) were able to distinguish gluten flour from non-gluten flour in a blind challenge\n",
    "([you can read the paper here](https://onlinelibrary.wiley.com/doi/full/10.1111/apt.13372)).\n",
    "\n",
    "Out of 35 subjects, 12 correctly identified the gluten flour based on\n",
    "resumption of symptoms while they were eating it. Another 17 wrongly\n",
    "identified the gluten-free flour based on their symptoms, and 6 were\n",
    "unable to distinguish.\n",
    "\n",
    "The authors conclude, \"Double-blind gluten challenge induces symptom\n",
    "recurrence in just one-third of patients.\"\n",
    "\n",
    "This conclusion seems odd to me, because if none of the patients were\n",
    "sensitive to gluten, we would expect some of them to identify the gluten flour by chance. \n",
    "So here's the question: based on this data, how many of the subjects are sensitive to gluten and how many are guessing?\n",
    "\n",
    "We can use Bayes's Theorem to answer this question, but first we have to make some modeling decisions. I'll assume:\n",
    "\n",
    "-   People who are sensitive to gluten have a 95% chance of correctly\n",
    "    identifying gluten flour under the challenge conditions, and\n",
    "\n",
    "-   People who are not sensitive have a 40% chance of identifying the\n",
    "    gluten flour by chance (and a 60% chance of either choosing the\n",
    "    other flour or failing to distinguish).\n",
    "\n",
    "These particular values are arbitrary, but the results are not sensitive to these choices.\n",
    "\n",
    "I will solve this problem in two steps. First, assuming that we know how many subjects are sensitive, I will compute the distribution of the data. \n",
    "Then, using the likelihood of the data, I will compute the posterior distribution of the number of sensitive patients.\n",
    "\n",
    "The first is the **forward problem**; the second is the **inverse\n",
    "problem**.\n",
    "\n",
    "**forward problem** - assuming we know how many sensitive, compute distrib. of data\n",
    "\n",
    "**inverse problem** - using likelihood of the data, we will compute posterior distribution of the number of sensitive patients. "
   ]
  },
  {
   "cell_type": "markdown",
   "metadata": {},
   "source": [
    "## The Forward Problem\n",
    "\n",
    "Suppose we know that 10 of the 35 subjects are sensitive to gluten. That\n",
    "means that 25 are not:"
   ]
  },
  {
   "cell_type": "code",
   "execution_count": 77,
   "metadata": {},
   "outputs": [
    {
     "data": {
      "image/png": "[encoded data removed]",
      "text/plain": [
       "<Figure size 640x480 with 1 Axes>"
      ]
     },
     "metadata": {},
     "output_type": "display_data"
    }
   ],
   "source": [
    "# Forward problem - assuming that we know how many subjects are sensitive, I will compute the distribution of the data.\n",
    "\n",
    "\n",
    "from utils import make_binomial\n",
    "\n",
    "\n",
    "\n",
    "n = 35\n",
    "n_sensitive = 10\n",
    "n_insensitive = n - n_sensitive\n",
    "\n",
    "binom_sensitive = make_binomial(n_sensitive, p=0.95) # truly sensitive people correctly identify the gluten free flour with p = 0.95\n",
    "binom_insensitive = make_binomial(n_insensitive, p=0.4) # not sensitive people correctly identify the gluten free flour with p = 0.4\n",
    "\n",
    "binom_sensitive.bar(label=\"sensitive\")\n",
    "binom_insensitive.bar(label=\"insensitive\")\n",
    "\n",
    "dist_total = Pmf.add_dist(binom_sensitive, binom_insensitive)\n",
    "dist_total.plot(label = \"all\", color = \"C3\")\n",
    "\n",
    "decorate(xlabel='Number of correct identifications',\n",
    "         ylabel='PMF',\n",
    "         title='Gluten sensitivity')\n",
    "\n",
    "# NOTE: we expect 20 correct identifications when 10 ppl truly sensitive\n",
    "# Of the 25 insensitive subjects, we expect about 10 to identify the gluten flour by chance.\n",
    "# So we expect about 20 correct identifications in total.\n",
    "\n",
    "# This is the answer to the forward problem: given the number of sensitive subjects, we can compute the distribution of the data."
   ]
  },
  {
   "cell_type": "markdown",
   "metadata": {},
   "source": [
    "Each sensitive subject has a 95% chance of identifying the gluten flour,\n",
    "so the number of correct identifications follows a binomial distribution.\n",
    "\n",
    "I'll use `make_binomial`, which we defined in <<_TheBinomialDistribution>>, to make a `Pmf` that represents the binomial distribution."
   ]
  },
  {
   "cell_type": "code",
   "execution_count": 50,
   "metadata": {
    "execution": {
     "iopub.execute_input": "2021-04-16T19:35:26.612684Z",
     "iopub.status.busy": "2021-04-16T19:35:26.612204Z",
     "iopub.status.idle": "2021-04-16T19:35:26.613941Z",
     "shell.execute_reply": "2021-04-16T19:35:26.614305Z"
    }
   },
   "outputs": [],
   "source": [
    "from utils import make_binomial\n",
    "\n",
    "dist_sensitive = make_binomial(num_sensitive, 0.95)\n",
    "dist_insensitive = make_binomial(num_insensitive, 0.40)"
   ]
  },
  {
   "cell_type": "markdown",
   "metadata": {},
   "source": [
    "The results are the distributions for the number of correct identifications in each group.\n",
    "\n",
    "Now we can use `add_dist` to compute the distribution of the total number of correct identifications:"
   ]
  },
  {
   "cell_type": "code",
   "execution_count": 51,
   "metadata": {
    "execution": {
     "iopub.execute_input": "2021-04-16T19:35:26.618422Z",
     "iopub.status.busy": "2021-04-16T19:35:26.618001Z",
     "iopub.status.idle": "2021-04-16T19:35:26.620089Z",
     "shell.execute_reply": "2021-04-16T19:35:26.619662Z"
    }
   },
   "outputs": [],
   "source": [
    "dist_total = Pmf.add_dist(dist_sensitive, dist_insensitive)"
   ]
  },
  {
   "cell_type": "markdown",
   "metadata": {},
   "source": [
    "Here are the results:"
   ]
  },
  {
   "cell_type": "code",
   "execution_count": 52,
   "metadata": {
    "execution": {
     "iopub.execute_input": "2021-04-16T19:35:26.644030Z",
     "iopub.status.busy": "2021-04-16T19:35:26.631462Z",
     "iopub.status.idle": "2021-04-16T19:35:26.800922Z",
     "shell.execute_reply": "2021-04-16T19:35:26.800528Z"
    },
    "tags": []
   },
   "outputs": [
    {
     "data": {
      "image/png": "[encoded data removed]",
      "text/plain": [
       "<Figure size 640x480 with 1 Axes>"
      ]
     },
     "metadata": {},
     "output_type": "display_data"
    }
   ],
   "source": [
    "dist_sensitive.plot(label='sensitive', ls=':')\n",
    "dist_insensitive.plot(label='insensitive', ls='--')\n",
    "dist_total.plot(label='total')\n",
    "\n",
    "decorate(xlabel='Number of correct identifications',\n",
    "         ylabel='PMF',\n",
    "         title='Gluten sensitivity')"
   ]
  },
  {
   "cell_type": "markdown",
   "metadata": {},
   "source": [
    "We expect most of the sensitive subjects to identify the gluten flour correctly.\n",
    "Of the 25 insensitive subjects, we expect about 10 to identify the gluten flour by chance.\n",
    "So we expect about 20 correct identifications in total.\n",
    "\n",
    "This is the answer to the forward problem: given the number of sensitive subjects, we can compute the distribution of the data."
   ]
  },
  {
   "cell_type": "markdown",
   "metadata": {},
   "source": [
    "## The Inverse Problem\n",
    "\n",
    "Now let's solve the inverse problem: given the data, we'll compute the posterior distribution of the number of sensitive subjects.\n",
    "\n",
    "Here's how.  I'll loop through the possible values of `num_sensitive` and compute the distribution of the data for each:"
   ]
  },
  {
   "cell_type": "code",
   "execution_count": 89,
   "metadata": {},
   "outputs": [
    {
     "data": {
      "text/html": [
       "<div>\n",
       "<style scoped>\n",
       "    .dataframe tbody tr th:only-of-type {\n",
       "        vertical-align: middle;\n",
       "    }\n",
       "\n",
       "    .dataframe tbody tr th {\n",
       "        vertical-align: top;\n",
       "    }\n",
       "\n",
       "    .dataframe thead th {\n",
       "        text-align: right;\n",
       "    }\n",
       "</style>\n",
       "<table border=\"1\" class=\"dataframe\">\n",
       "  <thead>\n",
       "    <tr style=\"text-align: right;\">\n",
       "      <th></th>\n",
       "      <th>0</th>\n",
       "      <th>1</th>\n",
       "      <th>2</th>\n",
       "      <th>3</th>\n",
       "      <th>4</th>\n",
       "      <th>5</th>\n",
       "      <th>6</th>\n",
       "      <th>7</th>\n",
       "      <th>8</th>\n",
       "      <th>9</th>\n",
       "      <th>...</th>\n",
       "      <th>26</th>\n",
       "      <th>27</th>\n",
       "      <th>28</th>\n",
       "      <th>29</th>\n",
       "      <th>30</th>\n",
       "      <th>31</th>\n",
       "      <th>32</th>\n",
       "      <th>33</th>\n",
       "      <th>34</th>\n",
       "      <th>35</th>\n",
       "    </tr>\n",
       "  </thead>\n",
       "  <tbody>\n",
       "    <tr>\n",
       "      <th>0</th>\n",
       "      <td>1.719071e-08</td>\n",
       "      <td>1.432559e-09</td>\n",
       "      <td>1.193799e-10</td>\n",
       "      <td>9.948326e-12</td>\n",
       "      <td>8.290272e-13</td>\n",
       "      <td>6.908560e-14</td>\n",
       "      <td>5.757133e-15</td>\n",
       "      <td>4.797611e-16</td>\n",
       "      <td>3.998009e-17</td>\n",
       "      <td>3.331674e-18</td>\n",
       "      <td>...</td>\n",
       "      <td>1.501694e-36</td>\n",
       "      <td>1.251411e-37</td>\n",
       "      <td>1.042843e-38</td>\n",
       "      <td>8.690357e-40</td>\n",
       "      <td>7.241964e-41</td>\n",
       "      <td>6.034970e-42</td>\n",
       "      <td>5.029142e-43</td>\n",
       "      <td>4.190952e-44</td>\n",
       "      <td>3.492460e-45</td>\n",
       "      <td>2.910383e-46</td>\n",
       "    </tr>\n",
       "    <tr>\n",
       "      <th>1</th>\n",
       "      <td>4.011165e-07</td>\n",
       "      <td>5.968996e-08</td>\n",
       "      <td>7.162795e-09</td>\n",
       "      <td>7.792856e-10</td>\n",
       "      <td>8.013930e-11</td>\n",
       "      <td>7.944844e-12</td>\n",
       "      <td>7.676178e-13</td>\n",
       "      <td>7.276377e-14</td>\n",
       "      <td>6.796616e-15</td>\n",
       "      <td>6.274653e-16</td>\n",
       "      <td>...</td>\n",
       "      <td>7.508469e-34</td>\n",
       "      <td>6.486483e-35</td>\n",
       "      <td>5.596590e-36</td>\n",
       "      <td>4.823148e-37</td>\n",
       "      <td>4.152060e-38</td>\n",
       "      <td>3.570691e-39</td>\n",
       "      <td>3.067777e-40</td>\n",
       "      <td>2.633315e-41</td>\n",
       "      <td>2.258457e-42</td>\n",
       "      <td>1.935405e-43</td>\n",
       "    </tr>\n",
       "    <tr>\n",
       "      <th>2</th>\n",
       "      <td>4.545987e-06</td>\n",
       "      <td>9.741401e-07</td>\n",
       "      <td>1.709122e-07</td>\n",
       "      <td>2.506426e-08</td>\n",
       "      <td>3.269131e-09</td>\n",
       "      <td>3.940182e-10</td>\n",
       "      <td>4.490244e-11</td>\n",
       "      <td>4.908756e-12</td>\n",
       "      <td>5.197412e-13</td>\n",
       "      <td>5.365476e-14</td>\n",
       "      <td>...</td>\n",
       "      <td>1.806613e-31</td>\n",
       "      <td>1.620070e-32</td>\n",
       "      <td>1.449030e-33</td>\n",
       "      <td>1.292922e-34</td>\n",
       "      <td>1.151034e-35</td>\n",
       "      <td>1.022555e-36</td>\n",
       "      <td>9.066202e-38</td>\n",
       "      <td>8.023344e-39</td>\n",
       "      <td>7.088005e-40</td>\n",
       "      <td>6.251357e-41</td>\n",
       "    </tr>\n",
       "    <tr>\n",
       "      <th>3</th>\n",
       "      <td>3.333724e-05</td>\n",
       "      <td>9.326490e-06</td>\n",
       "      <td>2.205654e-06</td>\n",
       "      <td>4.377061e-07</td>\n",
       "      <td>7.398116e-08</td>\n",
       "      <td>1.107854e-08</td>\n",
       "      <td>1.517139e-09</td>\n",
       "      <td>1.942513e-10</td>\n",
       "      <td>2.361331e-11</td>\n",
       "      <td>2.754929e-12</td>\n",
       "      <td>...</td>\n",
       "      <td>2.784933e-29</td>\n",
       "      <td>2.596024e-30</td>\n",
       "      <td>2.410204e-31</td>\n",
       "      <td>2.229314e-32</td>\n",
       "      <td>2.054801e-33</td>\n",
       "      <td>1.887764e-34</td>\n",
       "      <td>1.728997e-35</td>\n",
       "      <td>1.579030e-36</td>\n",
       "      <td>1.438169e-37</td>\n",
       "      <td>1.306534e-38</td>\n",
       "    </tr>\n",
       "    <tr>\n",
       "      <th>4</th>\n",
       "      <td>1.777986e-04</td>\n",
       "      <td>6.138285e-05</td>\n",
       "      <td>1.841174e-05</td>\n",
       "      <td>4.734794e-06</td>\n",
       "      <td>1.038280e-06</td>\n",
       "      <td>1.962745e-07</td>\n",
       "      <td>3.288580e-08</td>\n",
       "      <td>5.013120e-09</td>\n",
       "      <td>7.095823e-10</td>\n",
       "      <td>9.468298e-11</td>\n",
       "      <td>...</td>\n",
       "      <td>3.089268e-27</td>\n",
       "      <td>2.998031e-28</td>\n",
       "      <td>2.893328e-29</td>\n",
       "      <td>2.777860e-30</td>\n",
       "      <td>2.654159e-31</td>\n",
       "      <td>2.524558e-32</td>\n",
       "      <td>2.391168e-33</td>\n",
       "      <td>2.255871e-34</td>\n",
       "      <td>2.120317e-35</td>\n",
       "      <td>1.985931e-36</td>\n",
       "    </tr>\n",
       "  </tbody>\n",
       "</table>\n",
       "<p>5 rows × 36 columns</p>\n",
       "</div>"
      ],
      "text/plain": [
       "             0             1             2             3             4   \\\n",
       "0  1.719071e-08  1.432559e-09  1.193799e-10  9.948326e-12  8.290272e-13   \n",
       "1  4.011165e-07  5.968996e-08  7.162795e-09  7.792856e-10  8.013930e-11   \n",
       "2  4.545987e-06  9.741401e-07  1.709122e-07  2.506426e-08  3.269131e-09   \n",
       "3  3.333724e-05  9.326490e-06  2.205654e-06  4.377061e-07  7.398116e-08   \n",
       "4  1.777986e-04  6.138285e-05  1.841174e-05  4.734794e-06  1.038280e-06   \n",
       "\n",
       "             5             6             7             8             9   ...  \\\n",
       "0  6.908560e-14  5.757133e-15  4.797611e-16  3.998009e-17  3.331674e-18  ...   \n",
       "1  7.944844e-12  7.676178e-13  7.276377e-14  6.796616e-15  6.274653e-16  ...   \n",
       "2  3.940182e-10  4.490244e-11  4.908756e-12  5.197412e-13  5.365476e-14  ...   \n",
       "3  1.107854e-08  1.517139e-09  1.942513e-10  2.361331e-11  2.754929e-12  ...   \n",
       "4  1.962745e-07  3.288580e-08  5.013120e-09  7.095823e-10  9.468298e-11  ...   \n",
       "\n",
       "             26            27            28            29            30  \\\n",
       "0  1.501694e-36  1.251411e-37  1.042843e-38  8.690357e-40  7.241964e-41   \n",
       "1  7.508469e-34  6.486483e-35  5.596590e-36  4.823148e-37  4.152060e-38   \n",
       "2  1.806613e-31  1.620070e-32  1.449030e-33  1.292922e-34  1.151034e-35   \n",
       "3  2.784933e-29  2.596024e-30  2.410204e-31  2.229314e-32  2.054801e-33   \n",
       "4  3.089268e-27  2.998031e-28  2.893328e-29  2.777860e-30  2.654159e-31   \n",
       "\n",
       "             31            32            33            34            35  \n",
       "0  6.034970e-42  5.029142e-43  4.190952e-44  3.492460e-45  2.910383e-46  \n",
       "1  3.570691e-39  3.067777e-40  2.633315e-41  2.258457e-42  1.935405e-43  \n",
       "2  1.022555e-36  9.066202e-38  8.023344e-39  7.088005e-40  6.251357e-41  \n",
       "3  1.887764e-34  1.728997e-35  1.579030e-36  1.438169e-37  1.306534e-38  \n",
       "4  2.524558e-32  2.391168e-33  2.255871e-34  2.120317e-35  1.985931e-36  \n",
       "\n",
       "[5 rows x 36 columns]"
      ]
     },
     "execution_count": 89,
     "metadata": {},
     "output_type": "execute_result"
    }
   ],
   "source": [
    "import pandas as pd\n",
    "\n",
    "table = pd.DataFrame()\n",
    "\n",
    "# likelihood = P(data | hypothesis)\n",
    "# P(\"n correctly \"|n_sensitive = 10)\n",
    "\n",
    "n = 35\n",
    "for n_sensitive in range(0, n+1):\n",
    "    n_insensitive = n - n_sensitive\n",
    "    dist_sensitive = make_binomial(n_sensitive, 0.95)\n",
    "    dist_insensitive = make_binomial(n_insensitive, 0.40)\n",
    "    dist_total = Pmf.add_dist(dist_sensitive, dist_insensitive)\n",
    "    table[n_sensitive] = dist_total\n",
    "\n",
    "\n",
    "# each hypothesis is represented by column of the table, each row represents possible observation of n_correctly identified\n",
    "\n",
    "table.head()\n",
    "# even 0 sensitive people makes 0 correct identifications very unlikely\n",
    "# table[0].plot()\n",
    "# table[10].plot()\n",
    "\n",
    "\n",
    "\n",
    "\n",
    "\n",
    "\n",
    "\n"
   ]
  },
  {
   "cell_type": "code",
   "execution_count": 99,
   "metadata": {},
   "outputs": [],
   "source": [
    "# likelihood of 12 correct identifications under each hypothesis n_sensitive = 0..35\n",
    "# Data = 12 correctly identified gluten free flour\n",
    "# Likelihood = P(Data| Hypothesis)\n",
    "\n",
    "likelihood1 = table.loc[12]"
   ]
  },
  {
   "cell_type": "code",
   "execution_count": 101,
   "metadata": {},
   "outputs": [
    {
     "data": {
      "image/png": "[encoded data removed]",
      "text/plain": [
       "<Figure size 640x480 with 1 Axes>"
      ]
     },
     "metadata": {},
     "output_type": "display_data"
    }
   ],
   "source": [
    "prior = Pmf(1/n, range(0, n+1))\n",
    "prior.normalize()\n",
    "\n",
    "posterior = prior * likelihood1\n",
    "posterior.normalize()\n",
    "posterior.bar()"
   ]
  },
  {
   "cell_type": "code",
   "execution_count": 102,
   "metadata": {},
   "outputs": [
    {
     "data": {
      "text/plain": [
       "0"
      ]
     },
     "execution_count": 102,
     "metadata": {},
     "output_type": "execute_result"
    }
   ],
   "source": [
    "posterior.max_prob()"
   ]
  },
  {
   "cell_type": "code",
   "execution_count": 53,
   "metadata": {
    "execution": {
     "iopub.execute_input": "2021-04-16T19:35:26.820717Z",
     "iopub.status.busy": "2021-04-16T19:35:26.819593Z",
     "iopub.status.idle": "2021-04-16T19:35:26.868275Z",
     "shell.execute_reply": "2021-04-16T19:35:26.867749Z"
    }
   },
   "outputs": [],
   "source": [
    "import pandas as pd\n",
    "\n",
    "table = pd.DataFrame()\n",
    "for num_sensitive in range(0, n+1):\n",
    "    num_insensitive = n - num_sensitive\n",
    "    dist_sensitive = make_binomial(num_sensitive, 0.95)\n",
    "    dist_insensitive = make_binomial(num_insensitive, 0.4)\n",
    "    dist_total = Pmf.add_dist(dist_sensitive, dist_insensitive)    \n",
    "    table[num_sensitive] = dist_total"
   ]
  },
  {
   "cell_type": "code",
   "execution_count": 55,
   "metadata": {},
   "outputs": [
    {
     "data": {
      "text/plain": [
       "35"
      ]
     },
     "execution_count": 55,
     "metadata": {},
     "output_type": "execute_result"
    }
   ],
   "source": [
    "n"
   ]
  },
  {
   "cell_type": "markdown",
   "metadata": {},
   "source": [
    "The loop enumerates the possible values of `num_sensitive`.\n",
    "For each value, it computes the distribution of the total number of correct identifications, and stores the result as a column in a Pandas `DataFrame`."
   ]
  },
  {
   "cell_type": "code",
   "execution_count": 56,
   "metadata": {
    "execution": {
     "iopub.execute_input": "2021-04-16T19:35:26.872557Z",
     "iopub.status.busy": "2021-04-16T19:35:26.871819Z",
     "iopub.status.idle": "2021-04-16T19:35:26.898135Z",
     "shell.execute_reply": "2021-04-16T19:35:26.897756Z"
    },
    "tags": []
   },
   "outputs": [
    {
     "data": {
      "text/plain": [
       "(36, 36)"
      ]
     },
     "execution_count": 56,
     "metadata": {},
     "output_type": "execute_result"
    }
   ],
   "source": [
    "table.shape"
   ]
  },
  {
   "cell_type": "code",
   "execution_count": 57,
   "metadata": {},
   "outputs": [
    {
     "data": {
      "text/html": [
       "<div>\n",
       "<style scoped>\n",
       "    .dataframe tbody tr th:only-of-type {\n",
       "        vertical-align: middle;\n",
       "    }\n",
       "\n",
       "    .dataframe tbody tr th {\n",
       "        vertical-align: top;\n",
       "    }\n",
       "\n",
       "    .dataframe thead th {\n",
       "        text-align: right;\n",
       "    }\n",
       "</style>\n",
       "<table border=\"1\" class=\"dataframe\">\n",
       "  <thead>\n",
       "    <tr style=\"text-align: right;\">\n",
       "      <th></th>\n",
       "      <th>0</th>\n",
       "      <th>1</th>\n",
       "      <th>2</th>\n",
       "      <th>3</th>\n",
       "      <th>4</th>\n",
       "      <th>5</th>\n",
       "      <th>6</th>\n",
       "      <th>7</th>\n",
       "      <th>8</th>\n",
       "      <th>9</th>\n",
       "      <th>...</th>\n",
       "      <th>26</th>\n",
       "      <th>27</th>\n",
       "      <th>28</th>\n",
       "      <th>29</th>\n",
       "      <th>30</th>\n",
       "      <th>31</th>\n",
       "      <th>32</th>\n",
       "      <th>33</th>\n",
       "      <th>34</th>\n",
       "      <th>35</th>\n",
       "    </tr>\n",
       "  </thead>\n",
       "  <tbody>\n",
       "    <tr>\n",
       "      <th>0</th>\n",
       "      <td>1.719071e-08</td>\n",
       "      <td>1.432559e-09</td>\n",
       "      <td>1.193799e-10</td>\n",
       "      <td>9.948326e-12</td>\n",
       "      <td>8.290272e-13</td>\n",
       "      <td>6.908560e-14</td>\n",
       "      <td>5.757133e-15</td>\n",
       "      <td>4.797611e-16</td>\n",
       "      <td>3.998009e-17</td>\n",
       "      <td>3.331674e-18</td>\n",
       "      <td>...</td>\n",
       "      <td>1.501694e-36</td>\n",
       "      <td>1.251411e-37</td>\n",
       "      <td>1.042843e-38</td>\n",
       "      <td>8.690357e-40</td>\n",
       "      <td>7.241964e-41</td>\n",
       "      <td>6.034970e-42</td>\n",
       "      <td>5.029142e-43</td>\n",
       "      <td>4.190952e-44</td>\n",
       "      <td>3.492460e-45</td>\n",
       "      <td>2.910383e-46</td>\n",
       "    </tr>\n",
       "    <tr>\n",
       "      <th>1</th>\n",
       "      <td>4.011165e-07</td>\n",
       "      <td>5.968996e-08</td>\n",
       "      <td>7.162795e-09</td>\n",
       "      <td>7.792856e-10</td>\n",
       "      <td>8.013930e-11</td>\n",
       "      <td>7.944844e-12</td>\n",
       "      <td>7.676178e-13</td>\n",
       "      <td>7.276377e-14</td>\n",
       "      <td>6.796616e-15</td>\n",
       "      <td>6.274653e-16</td>\n",
       "      <td>...</td>\n",
       "      <td>7.508469e-34</td>\n",
       "      <td>6.486483e-35</td>\n",
       "      <td>5.596590e-36</td>\n",
       "      <td>4.823148e-37</td>\n",
       "      <td>4.152060e-38</td>\n",
       "      <td>3.570691e-39</td>\n",
       "      <td>3.067777e-40</td>\n",
       "      <td>2.633315e-41</td>\n",
       "      <td>2.258457e-42</td>\n",
       "      <td>1.935405e-43</td>\n",
       "    </tr>\n",
       "    <tr>\n",
       "      <th>2</th>\n",
       "      <td>4.545987e-06</td>\n",
       "      <td>9.741401e-07</td>\n",
       "      <td>1.709122e-07</td>\n",
       "      <td>2.506426e-08</td>\n",
       "      <td>3.269131e-09</td>\n",
       "      <td>3.940182e-10</td>\n",
       "      <td>4.490244e-11</td>\n",
       "      <td>4.908756e-12</td>\n",
       "      <td>5.197412e-13</td>\n",
       "      <td>5.365476e-14</td>\n",
       "      <td>...</td>\n",
       "      <td>1.806613e-31</td>\n",
       "      <td>1.620070e-32</td>\n",
       "      <td>1.449030e-33</td>\n",
       "      <td>1.292922e-34</td>\n",
       "      <td>1.151034e-35</td>\n",
       "      <td>1.022555e-36</td>\n",
       "      <td>9.066202e-38</td>\n",
       "      <td>8.023344e-39</td>\n",
       "      <td>7.088005e-40</td>\n",
       "      <td>6.251357e-41</td>\n",
       "    </tr>\n",
       "    <tr>\n",
       "      <th>3</th>\n",
       "      <td>3.333724e-05</td>\n",
       "      <td>9.326490e-06</td>\n",
       "      <td>2.205654e-06</td>\n",
       "      <td>4.377061e-07</td>\n",
       "      <td>7.398116e-08</td>\n",
       "      <td>1.107854e-08</td>\n",
       "      <td>1.517139e-09</td>\n",
       "      <td>1.942513e-10</td>\n",
       "      <td>2.361331e-11</td>\n",
       "      <td>2.754929e-12</td>\n",
       "      <td>...</td>\n",
       "      <td>2.784933e-29</td>\n",
       "      <td>2.596024e-30</td>\n",
       "      <td>2.410204e-31</td>\n",
       "      <td>2.229314e-32</td>\n",
       "      <td>2.054801e-33</td>\n",
       "      <td>1.887764e-34</td>\n",
       "      <td>1.728997e-35</td>\n",
       "      <td>1.579030e-36</td>\n",
       "      <td>1.438169e-37</td>\n",
       "      <td>1.306534e-38</td>\n",
       "    </tr>\n",
       "    <tr>\n",
       "      <th>4</th>\n",
       "      <td>1.777986e-04</td>\n",
       "      <td>6.138285e-05</td>\n",
       "      <td>1.841174e-05</td>\n",
       "      <td>4.734794e-06</td>\n",
       "      <td>1.038280e-06</td>\n",
       "      <td>1.962745e-07</td>\n",
       "      <td>3.288580e-08</td>\n",
       "      <td>5.013120e-09</td>\n",
       "      <td>7.095823e-10</td>\n",
       "      <td>9.468298e-11</td>\n",
       "      <td>...</td>\n",
       "      <td>3.089268e-27</td>\n",
       "      <td>2.998031e-28</td>\n",
       "      <td>2.893328e-29</td>\n",
       "      <td>2.777860e-30</td>\n",
       "      <td>2.654159e-31</td>\n",
       "      <td>2.524558e-32</td>\n",
       "      <td>2.391168e-33</td>\n",
       "      <td>2.255871e-34</td>\n",
       "      <td>2.120317e-35</td>\n",
       "      <td>1.985931e-36</td>\n",
       "    </tr>\n",
       "  </tbody>\n",
       "</table>\n",
       "<p>5 rows × 36 columns</p>\n",
       "</div>"
      ],
      "text/plain": [
       "             0             1             2             3             4   \\\n",
       "0  1.719071e-08  1.432559e-09  1.193799e-10  9.948326e-12  8.290272e-13   \n",
       "1  4.011165e-07  5.968996e-08  7.162795e-09  7.792856e-10  8.013930e-11   \n",
       "2  4.545987e-06  9.741401e-07  1.709122e-07  2.506426e-08  3.269131e-09   \n",
       "3  3.333724e-05  9.326490e-06  2.205654e-06  4.377061e-07  7.398116e-08   \n",
       "4  1.777986e-04  6.138285e-05  1.841174e-05  4.734794e-06  1.038280e-06   \n",
       "\n",
       "             5             6             7             8             9   ...  \\\n",
       "0  6.908560e-14  5.757133e-15  4.797611e-16  3.998009e-17  3.331674e-18  ...   \n",
       "1  7.944844e-12  7.676178e-13  7.276377e-14  6.796616e-15  6.274653e-16  ...   \n",
       "2  3.940182e-10  4.490244e-11  4.908756e-12  5.197412e-13  5.365476e-14  ...   \n",
       "3  1.107854e-08  1.517139e-09  1.942513e-10  2.361331e-11  2.754929e-12  ...   \n",
       "4  1.962745e-07  3.288580e-08  5.013120e-09  7.095823e-10  9.468298e-11  ...   \n",
       "\n",
       "             26            27            28            29            30  \\\n",
       "0  1.501694e-36  1.251411e-37  1.042843e-38  8.690357e-40  7.241964e-41   \n",
       "1  7.508469e-34  6.486483e-35  5.596590e-36  4.823148e-37  4.152060e-38   \n",
       "2  1.806613e-31  1.620070e-32  1.449030e-33  1.292922e-34  1.151034e-35   \n",
       "3  2.784933e-29  2.596024e-30  2.410204e-31  2.229314e-32  2.054801e-33   \n",
       "4  3.089268e-27  2.998031e-28  2.893328e-29  2.777860e-30  2.654159e-31   \n",
       "\n",
       "             31            32            33            34            35  \n",
       "0  6.034970e-42  5.029142e-43  4.190952e-44  3.492460e-45  2.910383e-46  \n",
       "1  3.570691e-39  3.067777e-40  2.633315e-41  2.258457e-42  1.935405e-43  \n",
       "2  1.022555e-36  9.066202e-38  8.023344e-39  7.088005e-40  6.251357e-41  \n",
       "3  1.887764e-34  1.728997e-35  1.579030e-36  1.438169e-37  1.306534e-38  \n",
       "4  2.524558e-32  2.391168e-33  2.255871e-34  2.120317e-35  1.985931e-36  \n",
       "\n",
       "[5 rows x 36 columns]"
      ]
     },
     "execution_count": 57,
     "metadata": {},
     "output_type": "execute_result"
    }
   ],
   "source": [
    "table.head()"
   ]
  },
  {
   "cell_type": "markdown",
   "metadata": {},
   "source": [
    "The following figure shows selected columns from the `DataFrame`, corresponding to different hypothetical values of `num_sensitive`:"
   ]
  },
  {
   "cell_type": "code",
   "execution_count": 86,
   "metadata": {
    "execution": {
     "iopub.execute_input": "2021-04-16T19:35:26.936312Z",
     "iopub.status.busy": "2021-04-16T19:35:26.919136Z",
     "iopub.status.idle": "2021-04-16T19:35:27.103426Z",
     "shell.execute_reply": "2021-04-16T19:35:27.102967Z"
    },
    "tags": []
   },
   "outputs": [
    {
     "data": {
      "image/png": "[encoded data removed]",
      "text/plain": [
       "<Figure size 640x480 with 1 Axes>"
      ]
     },
     "metadata": {},
     "output_type": "display_data"
    }
   ],
   "source": [
    "table[0].plot(label='num_sensitive = 0')\n",
    "table[10].plot(label='num_sensitive = 10')\n",
    "table[20].plot(label='num_sensitive = 20', ls='--')\n",
    "table[30].plot(label='num_sensitive = 30', ls=':')\n",
    "    \n",
    "decorate(xlabel='Number of correct identifications',\n",
    "         ylabel='PMF',\n",
    "         title='Gluten sensitivity')"
   ]
  },
  {
   "cell_type": "markdown",
   "metadata": {},
   "source": [
    "Now we can use this table to compute the likelihood of the data:"
   ]
  },
  {
   "cell_type": "code",
   "execution_count": 59,
   "metadata": {
    "execution": {
     "iopub.execute_input": "2021-04-16T19:35:27.107058Z",
     "iopub.status.busy": "2021-04-16T19:35:27.106504Z",
     "iopub.status.idle": "2021-04-16T19:35:27.109131Z",
     "shell.execute_reply": "2021-04-16T19:35:27.109567Z"
    }
   },
   "outputs": [],
   "source": [
    "likelihood1 = table.loc[12]"
   ]
  },
  {
   "cell_type": "markdown",
   "metadata": {},
   "source": [
    "`loc` selects a row from the `DataFrame`.\n",
    "The row with index 12 contains the probability of 12 correct identifications for each hypothetical value of `num_sensitive`.\n",
    "And that's exactly the likelihood we need to do a Bayesian update.\n",
    "\n",
    "I'll use a uniform prior, which implies that I would be equally surprised by any value of `num_sensitive`:"
   ]
  },
  {
   "cell_type": "code",
   "execution_count": 61,
   "metadata": {
    "execution": {
     "iopub.execute_input": "2021-04-16T19:35:27.113201Z",
     "iopub.status.busy": "2021-04-16T19:35:27.112749Z",
     "iopub.status.idle": "2021-04-16T19:35:27.115326Z",
     "shell.execute_reply": "2021-04-16T19:35:27.114769Z"
    }
   },
   "outputs": [
    {
     "data": {
      "text/plain": [
       "36"
      ]
     },
     "execution_count": 61,
     "metadata": {},
     "output_type": "execute_result"
    }
   ],
   "source": [
    "hypos = np.arange(n+1)\n",
    "prior = Pmf(1, hypos)\n",
    "prior.normalize()"
   ]
  },
  {
   "cell_type": "markdown",
   "metadata": {},
   "source": [
    "And here's the update:\n"
   ]
  },
  {
   "cell_type": "code",
   "execution_count": 62,
   "metadata": {
    "execution": {
     "iopub.execute_input": "2021-04-16T19:35:27.119898Z",
     "iopub.status.busy": "2021-04-16T19:35:27.119367Z",
     "iopub.status.idle": "2021-04-16T19:35:27.127041Z",
     "shell.execute_reply": "2021-04-16T19:35:27.126620Z"
    },
    "tags": []
   },
   "outputs": [
    {
     "data": {
      "text/plain": [
       "0.013207615690597588"
      ]
     },
     "execution_count": 62,
     "metadata": {},
     "output_type": "execute_result"
    }
   ],
   "source": [
    "posterior1 = prior * likelihood1\n",
    "posterior1.normalize()"
   ]
  },
  {
   "cell_type": "markdown",
   "metadata": {},
   "source": [
    "For comparison, I also compute the posterior for another possible outcome, 20 correct identifications."
   ]
  },
  {
   "cell_type": "code",
   "execution_count": 103,
   "metadata": {
    "execution": {
     "iopub.execute_input": "2021-04-16T19:35:27.132181Z",
     "iopub.status.busy": "2021-04-16T19:35:27.131596Z",
     "iopub.status.idle": "2021-04-16T19:35:27.133996Z",
     "shell.execute_reply": "2021-04-16T19:35:27.134357Z"
    },
    "tags": []
   },
   "outputs": [
    {
     "data": {
      "text/plain": [
       "0.04949624934968716"
      ]
     },
     "execution_count": 103,
     "metadata": {},
     "output_type": "execute_result"
    }
   ],
   "source": [
    "likelihood2 = table.loc[20]\n",
    "posterior2 = prior * likelihood2\n",
    "posterior2.normalize()"
   ]
  },
  {
   "cell_type": "markdown",
   "metadata": {},
   "source": [
    "The following figure shows posterior distributions of `num_sensitive` based on the actual data, 12 correct identifications, and the other possible outcome, 20 correct identifications."
   ]
  },
  {
   "cell_type": "code",
   "execution_count": 104,
   "metadata": {
    "execution": {
     "iopub.execute_input": "2021-04-16T19:35:27.180198Z",
     "iopub.status.busy": "2021-04-16T19:35:27.174890Z",
     "iopub.status.idle": "2021-04-16T19:35:27.299021Z",
     "shell.execute_reply": "2021-04-16T19:35:27.298634Z"
    },
    "tags": []
   },
   "outputs": [
    {
     "data": {
      "image/png": "[encoded data removed]",
      "text/plain": [
       "<Figure size 640x480 with 1 Axes>"
      ]
     },
     "metadata": {},
     "output_type": "display_data"
    }
   ],
   "source": [
    "posterior1.plot(label='posterior with 12 correct', color='C4')\n",
    "posterior2.plot(label='posterior with 20 correct', color='C1')\n",
    "\n",
    "decorate(xlabel='Number of sensitive subjects',\n",
    "         ylabel='PMF',\n",
    "         title='Posterior distributions')"
   ]
  },
  {
   "cell_type": "markdown",
   "metadata": {},
   "source": [
    "With 12 correct identifications, the most likely conclusion is that none of the subjects are sensitive to gluten.\n",
    "If there had been 20 correct identifications, the most likely conclusion would be that 11-12 of the subjects were sensitive."
   ]
  },
  {
   "cell_type": "code",
   "execution_count": 105,
   "metadata": {
    "execution": {
     "iopub.execute_input": "2021-04-16T19:35:27.302382Z",
     "iopub.status.busy": "2021-04-16T19:35:27.301973Z",
     "iopub.status.idle": "2021-04-16T19:35:27.306032Z",
     "shell.execute_reply": "2021-04-16T19:35:27.306511Z"
    }
   },
   "outputs": [
    {
     "data": {
      "text/plain": [
       "0"
      ]
     },
     "execution_count": 105,
     "metadata": {},
     "output_type": "execute_result"
    }
   ],
   "source": [
    "posterior1.max_prob()"
   ]
  },
  {
   "cell_type": "code",
   "execution_count": 106,
   "metadata": {
    "execution": {
     "iopub.execute_input": "2021-04-16T19:35:27.310142Z",
     "iopub.status.busy": "2021-04-16T19:35:27.309624Z",
     "iopub.status.idle": "2021-04-16T19:35:27.311979Z",
     "shell.execute_reply": "2021-04-16T19:35:27.312474Z"
    }
   },
   "outputs": [
    {
     "data": {
      "text/plain": [
       "11"
      ]
     },
     "execution_count": 106,
     "metadata": {},
     "output_type": "execute_result"
    }
   ],
   "source": [
    "posterior2.max_prob()"
   ]
  },
  {
   "cell_type": "markdown",
   "metadata": {},
   "source": [
    "## Summary\n",
    "\n",
    "This chapter presents two topics that are almost unrelated except that they make the title of the chapter catchy.\n",
    "\n",
    "The first part of the chapter is about Bayes's Rule, evidence, and how we can quantify the strength of evidence using a likelihood ratio or Bayes factor.\n",
    "\n",
    "The second part is about `add_dist`, which computes the distribution of a sum.\n",
    "We can use this function to solve forward and inverse problems; that is, given the parameters of a system, we can compute the distribution of the data or, given the data, we can compute the distribution of the parameters.\n",
    "\n",
    "In the next chapter, we'll compute distributions for minimums and maximums, and use them to solve more Bayesian problems.\n",
    "But first you might want to work on these exercises."
   ]
  },
  {
   "cell_type": "markdown",
   "metadata": {},
   "source": [
    "## Exercises"
   ]
  },
  {
   "cell_type": "markdown",
   "metadata": {},
   "source": [
    "**Exercise:** Let's use Bayes's Rule to solve the Elvis problem from <<_Distributions>>:\n",
    "\n",
    "> Elvis Presley had a twin brother who died at birth. What is the probability that Elvis was an identical twin?\n",
    "\n",
    "In 1935, about 2/3 of twins were fraternal and 1/3 were identical.\n",
    "The question contains two pieces of information we can use to update this prior.\n",
    "\n",
    "* First, Elvis's twin was also male, which is more likely if they were identical twins, with a likelihood ratio of 2.\n",
    "\n",
    "* Also, Elvis's twin died at birth, which is more likely if they were identical twins, with a likelihood ratio of 1.25.\n",
    "\n",
    "If you are curious about where those numbers come from, I wrote [a blog post about it](https://www.allendowney.com/blog/2020/01/28/the-elvis-problem-revisited)."
   ]
  },
  {
   "cell_type": "code",
   "execution_count": 120,
   "metadata": {
    "execution": {
     "iopub.execute_input": "2021-04-16T19:35:27.315665Z",
     "iopub.status.busy": "2021-04-16T19:35:27.315244Z",
     "iopub.status.idle": "2021-04-16T19:35:27.317350Z",
     "shell.execute_reply": "2021-04-16T19:35:27.317875Z"
    }
   },
   "outputs": [
    {
     "data": {
      "text/plain": [
       "0.5555555555555555"
      ]
     },
     "execution_count": 120,
     "metadata": {},
     "output_type": "execute_result"
    }
   ],
   "source": [
    "# Solution goes here\n",
    "hypos = ['identical', 'not identical']\n",
    "prior = Pmf([1/3, 2/3], hypos)\n",
    "\n",
    "prior\n",
    "\n",
    "# D = \"Elvis had a twin brother who died at birth\"\n",
    "# A -> Elvis had identical twin brother\n",
    "# B -> Elvis had a non identical twin brother\n",
    "\n",
    "# P(\"Elvis had a twin brother\"| identical twin brother) = 1\n",
    "# P(\"Elvis had a twin brother\"| non identical twin brother) = 0.5\n",
    "# likelihood_ratio = P(\"Elvis had a twin brother\"| identical twin brother) / P(\"Elvis had a twin brother\"| non identical twin brother) = 2\n",
    "# like1:\n",
    "    # likeA = 1\n",
    "    # likeB = 0.5\n",
    "# like2: 1.25\n",
    "\n",
    "\n",
    "prob(odds(1/3) * (likeA/likeB) * 1.25)"
   ]
  },
  {
   "cell_type": "markdown",
   "metadata": {},
   "source": [
    "**Exercise:** The following is an [interview question that appeared on glassdoor.com](https://www.glassdoor.com/Interview/You-re-about-to-get-on-a-plane-to-Seattle-You-want-to-know-if-you-should-bring-an-umbrella-You-call-3-random-friends-of-y-QTN_519262.htm), attributed to Facebook:\n",
    "\n",
    "> You're about to get on a plane to Seattle. You want to know if you should bring an umbrella. You call 3 random friends of yours who live there and ask each independently if it's raining. Each of your friends has a 2/3 chance of telling you the truth and a 1/3 chance of messing with you by lying. All 3 friends tell you that \"Yes\" it is raining. What is the probability that it's actually raining in Seattle?\n",
    "\n",
    "Use Bayes's Rule to solve this problem.  As a prior you can assume that it rains in Seattle about 10% of the time.\n",
    "\n",
    "This question causes some confusion about the differences between Bayesian and frequentist interpretations of probability; if you are curious about this point, [I wrote a blog article about it](http://allendowney.blogspot.com/2016/09/bayess-theorem-is-not-optional.html)."
   ]
  },
  {
   "cell_type": "code",
   "execution_count": 128,
   "metadata": {
    "execution": {
     "iopub.execute_input": "2021-04-16T19:35:27.332446Z",
     "iopub.status.busy": "2021-04-16T19:35:27.331910Z",
     "iopub.status.idle": "2021-04-16T19:35:27.333826Z",
     "shell.execute_reply": "2021-04-16T19:35:27.334261Z"
    }
   },
   "outputs": [
    {
     "data": {
      "text/plain": [
       "0.4705882352941177"
      ]
     },
     "execution_count": 128,
     "metadata": {},
     "output_type": "execute_result"
    }
   ],
   "source": [
    "# Solution goes here\n",
    "# likelihood\n",
    "# likeA: P(Y Y Y| rain) = 2/3 * 2/3 * 2/3 = 8/27\n",
    "# likeB: P(Y Y Y| no rain) = 1/3 * 1/3 * 1/3 = 1/27\n",
    "odds((1/10)) * ((8/27)/(1/27))\n",
    "\n",
    "prior_odds = odds(1/10)\n",
    "\n",
    "# likelihood ratios P(Y|rain)/P(Y|no rain) = (2/3)/(1/3) = 2\n",
    "posterior_odds = prior_odds * 2 * 2 * 2\n",
    "posterior_odds\n",
    "prob(posterior_odds)"
   ]
  },
  {
   "cell_type": "markdown",
   "metadata": {},
   "source": [
    "**Exercise:** [According to the CDC](https://www.cdc.gov/tobacco/data_statistics/fact_sheets/health_effects/effects_cig_smoking), people who smoke are about 25 times more likely to develop lung cancer than nonsmokers.\n",
    "\n",
    "[Also according to the CDC](https://www.cdc.gov/tobacco/data_statistics/fact_sheets/adult_data/cig_smoking/index.htm), about 14\\% of adults in the U.S. are smokers.\n",
    "If you learn that someone has lung cancer, what is the probability they are a smoker?"
   ]
  },
  {
   "cell_type": "code",
   "execution_count": 132,
   "metadata": {
    "execution": {
     "iopub.execute_input": "2021-04-16T19:35:27.350794Z",
     "iopub.status.busy": "2021-04-16T19:35:27.350217Z",
     "iopub.status.idle": "2021-04-16T19:35:27.352716Z",
     "shell.execute_reply": "2021-04-16T19:35:27.352226Z"
    }
   },
   "outputs": [
    {
     "data": {
      "text/plain": [
       "0.8027522935779816"
      ]
     },
     "execution_count": 132,
     "metadata": {},
     "output_type": "execute_result"
    }
   ],
   "source": [
    "# Solution goes here\n",
    "# D = \"X has lung cancer\"\n",
    "# Q: P(smoker|D)\n",
    "\n",
    "like_smoker = 25\n",
    "like_non_smoker = 1\n",
    "prior_odds = odds(0.14)\n",
    "posterior_odds = prior_odds * like_smoker / like_non_smoker\n",
    "prob(posterior_odds)\n",
    "\n",
    "# likelihood_ratio\n",
    "# likeA = P(\"X has lung cancer\"| smoker)\n",
    "# likeB = P(\"X has lung cancer\"| non_smoker)\n",
    "# ratio = 25"
   ]
  },
  {
   "cell_type": "markdown",
   "metadata": {},
   "source": [
    "**Exercise:** In *Dungeons & Dragons*, the amount of damage a goblin can withstand is the sum of two six-sided dice. The amount of damage you inflict with a short sword is determined by rolling one six-sided die.\n",
    "A goblin is defeated if the total damage you inflict is greater than or equal to the amount it can withstand.\n",
    "\n",
    "Suppose you are fighting a goblin and you have already inflicted 3 points of damage. What is your probability of defeating the goblin with your next successful attack?\n",
    "\n",
    "Hint: You can use `Pmf.sub_dist` to subtract a constant amount, like 3, from a `Pmf`."
   ]
  },
  {
   "cell_type": "code",
   "execution_count": 152,
   "metadata": {
    "execution": {
     "iopub.execute_input": "2021-04-16T19:35:27.370205Z",
     "iopub.status.busy": "2021-04-16T19:35:27.369557Z",
     "iopub.status.idle": "2021-04-16T19:35:27.371649Z",
     "shell.execute_reply": "2021-04-16T19:35:27.371182Z"
    }
   },
   "outputs": [
    {
     "data": {
      "image/png": "[encoded data removed]",
      "text/plain": [
       "<Figure size 640x480 with 1 Axes>"
      ]
     },
     "metadata": {},
     "output_type": "display_data"
    }
   ],
   "source": [
    "# Solution goes here\n",
    "hp = Pmf.add_dist(die, die)\n",
    "hp = hp.sub_dist(3)\n",
    "hp[hp.qs<=0] = 0\n",
    "hp.normalize()\n",
    "hp.bar()"
   ]
  },
  {
   "cell_type": "code",
   "execution_count": 153,
   "metadata": {},
   "outputs": [
    {
     "data": {
      "image/png": "[encoded data removed]",
      "text/plain": [
       "<Figure size 640x480 with 1 Axes>"
      ]
     },
     "metadata": {},
     "output_type": "display_data"
    }
   ],
   "source": [
    "damage = die\n",
    "damage.bar()"
   ]
  },
  {
   "cell_type": "code",
   "execution_count": 164,
   "metadata": {},
   "outputs": [
    {
     "data": {
      "image/png": "[encoded data removed]",
      "text/plain": [
       "<Figure size 640x480 with 1 Axes>"
      ]
     },
     "metadata": {},
     "output_type": "display_data"
    }
   ],
   "source": [
    "hp.bar(label = 'Hitpoints')\n",
    "damage.plot(color = 'C3', label='Damage')\n",
    "decorate_dice('The Goblin Problem')"
   ]
  },
  {
   "cell_type": "code",
   "execution_count": 154,
   "metadata": {
    "execution": {
     "iopub.execute_input": "2021-04-16T19:35:27.375761Z",
     "iopub.status.busy": "2021-04-16T19:35:27.375251Z",
     "iopub.status.idle": "2021-04-16T19:35:27.377911Z",
     "shell.execute_reply": "2021-04-16T19:35:27.377227Z"
    }
   },
   "outputs": [
    {
     "data": {
      "image/png": "[encoded data removed]",
      "text/plain": [
       "<Figure size 640x480 with 1 Axes>"
      ]
     },
     "metadata": {},
     "output_type": "display_data"
    }
   ],
   "source": [
    "hp_final = hp.sub_dist(damage)\n",
    "hp_final.bar()"
   ]
  },
  {
   "cell_type": "code",
   "execution_count": 155,
   "metadata": {},
   "outputs": [
    {
     "data": {
      "text/plain": [
       "0.4545454545454545"
      ]
     },
     "execution_count": 155,
     "metadata": {},
     "output_type": "execute_result"
    }
   ],
   "source": [
    "# Solution goes here\n",
    "hp_final[hp_final.qs<=0].sum()"
   ]
  },
  {
   "cell_type": "code",
   "execution_count": 156,
   "metadata": {},
   "outputs": [
    {
     "data": {
      "text/plain": [
       "0.4545454545454545"
      ]
     },
     "execution_count": 156,
     "metadata": {},
     "output_type": "execute_result"
    }
   ],
   "source": [
    "# Solution goes here\n",
    "hp_final.prob_le(0)"
   ]
  },
  {
   "cell_type": "markdown",
   "metadata": {},
   "source": [
    "**Exercise:** Suppose I have a box with a 6-sided die, an 8-sided die, and a 12-sided die.\n",
    "I choose one of the dice at random, roll it twice, multiply the outcomes, and report that the product is 12.\n",
    "What is the probability that I chose the 8-sided die?\n",
    "\n",
    "Hint: `Pmf` provides a function called `mul_dist` that takes two `Pmf` objects and returns a `Pmf` that represents the distribution of the product."
   ]
  },
  {
   "cell_type": "code",
   "execution_count": 183,
   "metadata": {
    "execution": {
     "iopub.execute_input": "2021-04-16T19:35:27.559242Z",
     "iopub.status.busy": "2021-04-16T19:35:27.558669Z",
     "iopub.status.idle": "2021-04-16T19:35:27.560621Z",
     "shell.execute_reply": "2021-04-16T19:35:27.561052Z"
    }
   },
   "outputs": [
    {
     "data": {
      "text/plain": [
       "0.2903225806451613"
      ]
     },
     "execution_count": 183,
     "metadata": {},
     "output_type": "execute_result"
    },
    {
     "data": {
      "image/png": "[encoded data removed]",
      "text/plain": [
       "<Figure size 640x480 with 1 Axes>"
      ]
     },
     "metadata": {},
     "output_type": "display_data"
    }
   ],
   "source": [
    "# Solution goes here\n",
    "d6 = make_die(6)\n",
    "d8 = make_die(8)\n",
    "d12 = make_die(12)\n",
    "\n",
    "# D = product is 12\n",
    "prior_odds = odds(1/3)\n",
    "\n",
    "prior = Pmf([1/3, 1/3, 1/3], [6, 8, 12])\n",
    "\n",
    "likelihood = pd.DataFrame()\n",
    "likelihood[12] = Pmf.mul_dist(d12, d12)\n",
    "likelihood[8] = Pmf.mul_dist(d8, d8)\n",
    "likelihood[6] = Pmf.mul_dist(d6, d6)\n",
    "likelihood = likelihood.fillna(0.0)\n",
    "\n",
    "\n",
    "\n",
    "posterior = prior * likelihood.loc[12]\n",
    "posterior.normalize()\n",
    "posterior.bar()\n",
    "\n",
    "posterior(8)\n",
    "\n",
    "# likelihood = P(d x d = 12| d = d6) "
   ]
  },
  {
   "cell_type": "code",
   "execution_count": 184,
   "metadata": {},
   "outputs": [
    {
     "data": {
      "text/html": [
       "<div>\n",
       "<style scoped>\n",
       "    .dataframe tbody tr th:only-of-type {\n",
       "        vertical-align: middle;\n",
       "    }\n",
       "\n",
       "    .dataframe tbody tr th {\n",
       "        vertical-align: top;\n",
       "    }\n",
       "\n",
       "    .dataframe thead th {\n",
       "        text-align: right;\n",
       "    }\n",
       "</style>\n",
       "<table border=\"1\" class=\"dataframe\">\n",
       "  <thead>\n",
       "    <tr style=\"text-align: right;\">\n",
       "      <th></th>\n",
       "      <th>12</th>\n",
       "      <th>8</th>\n",
       "      <th>6</th>\n",
       "    </tr>\n",
       "  </thead>\n",
       "  <tbody>\n",
       "    <tr>\n",
       "      <th>1</th>\n",
       "      <td>0.006944</td>\n",
       "      <td>0.015625</td>\n",
       "      <td>0.027778</td>\n",
       "    </tr>\n",
       "    <tr>\n",
       "      <th>2</th>\n",
       "      <td>0.013889</td>\n",
       "      <td>0.031250</td>\n",
       "      <td>0.055556</td>\n",
       "    </tr>\n",
       "    <tr>\n",
       "      <th>3</th>\n",
       "      <td>0.013889</td>\n",
       "      <td>0.031250</td>\n",
       "      <td>0.055556</td>\n",
       "    </tr>\n",
       "    <tr>\n",
       "      <th>4</th>\n",
       "      <td>0.020833</td>\n",
       "      <td>0.046875</td>\n",
       "      <td>0.083333</td>\n",
       "    </tr>\n",
       "    <tr>\n",
       "      <th>5</th>\n",
       "      <td>0.013889</td>\n",
       "      <td>0.031250</td>\n",
       "      <td>0.055556</td>\n",
       "    </tr>\n",
       "    <tr>\n",
       "      <th>6</th>\n",
       "      <td>0.027778</td>\n",
       "      <td>0.062500</td>\n",
       "      <td>0.111111</td>\n",
       "    </tr>\n",
       "    <tr>\n",
       "      <th>7</th>\n",
       "      <td>0.013889</td>\n",
       "      <td>0.031250</td>\n",
       "      <td>0.000000</td>\n",
       "    </tr>\n",
       "    <tr>\n",
       "      <th>8</th>\n",
       "      <td>0.027778</td>\n",
       "      <td>0.062500</td>\n",
       "      <td>0.055556</td>\n",
       "    </tr>\n",
       "    <tr>\n",
       "      <th>9</th>\n",
       "      <td>0.020833</td>\n",
       "      <td>0.015625</td>\n",
       "      <td>0.027778</td>\n",
       "    </tr>\n",
       "    <tr>\n",
       "      <th>10</th>\n",
       "      <td>0.027778</td>\n",
       "      <td>0.031250</td>\n",
       "      <td>0.055556</td>\n",
       "    </tr>\n",
       "    <tr>\n",
       "      <th>11</th>\n",
       "      <td>0.013889</td>\n",
       "      <td>0.000000</td>\n",
       "      <td>0.000000</td>\n",
       "    </tr>\n",
       "    <tr>\n",
       "      <th>12</th>\n",
       "      <td>0.041667</td>\n",
       "      <td>0.062500</td>\n",
       "      <td>0.111111</td>\n",
       "    </tr>\n",
       "    <tr>\n",
       "      <th>14</th>\n",
       "      <td>0.013889</td>\n",
       "      <td>0.031250</td>\n",
       "      <td>0.000000</td>\n",
       "    </tr>\n",
       "    <tr>\n",
       "      <th>15</th>\n",
       "      <td>0.013889</td>\n",
       "      <td>0.031250</td>\n",
       "      <td>0.055556</td>\n",
       "    </tr>\n",
       "    <tr>\n",
       "      <th>16</th>\n",
       "      <td>0.020833</td>\n",
       "      <td>0.046875</td>\n",
       "      <td>0.027778</td>\n",
       "    </tr>\n",
       "    <tr>\n",
       "      <th>18</th>\n",
       "      <td>0.027778</td>\n",
       "      <td>0.031250</td>\n",
       "      <td>0.055556</td>\n",
       "    </tr>\n",
       "    <tr>\n",
       "      <th>20</th>\n",
       "      <td>0.027778</td>\n",
       "      <td>0.031250</td>\n",
       "      <td>0.055556</td>\n",
       "    </tr>\n",
       "    <tr>\n",
       "      <th>21</th>\n",
       "      <td>0.013889</td>\n",
       "      <td>0.031250</td>\n",
       "      <td>0.000000</td>\n",
       "    </tr>\n",
       "    <tr>\n",
       "      <th>22</th>\n",
       "      <td>0.013889</td>\n",
       "      <td>0.000000</td>\n",
       "      <td>0.000000</td>\n",
       "    </tr>\n",
       "    <tr>\n",
       "      <th>24</th>\n",
       "      <td>0.041667</td>\n",
       "      <td>0.062500</td>\n",
       "      <td>0.055556</td>\n",
       "    </tr>\n",
       "    <tr>\n",
       "      <th>25</th>\n",
       "      <td>0.006944</td>\n",
       "      <td>0.015625</td>\n",
       "      <td>0.027778</td>\n",
       "    </tr>\n",
       "    <tr>\n",
       "      <th>27</th>\n",
       "      <td>0.013889</td>\n",
       "      <td>0.000000</td>\n",
       "      <td>0.000000</td>\n",
       "    </tr>\n",
       "    <tr>\n",
       "      <th>28</th>\n",
       "      <td>0.013889</td>\n",
       "      <td>0.031250</td>\n",
       "      <td>0.000000</td>\n",
       "    </tr>\n",
       "    <tr>\n",
       "      <th>30</th>\n",
       "      <td>0.027778</td>\n",
       "      <td>0.031250</td>\n",
       "      <td>0.055556</td>\n",
       "    </tr>\n",
       "    <tr>\n",
       "      <th>32</th>\n",
       "      <td>0.013889</td>\n",
       "      <td>0.031250</td>\n",
       "      <td>0.000000</td>\n",
       "    </tr>\n",
       "    <tr>\n",
       "      <th>33</th>\n",
       "      <td>0.013889</td>\n",
       "      <td>0.000000</td>\n",
       "      <td>0.000000</td>\n",
       "    </tr>\n",
       "    <tr>\n",
       "      <th>35</th>\n",
       "      <td>0.013889</td>\n",
       "      <td>0.031250</td>\n",
       "      <td>0.000000</td>\n",
       "    </tr>\n",
       "    <tr>\n",
       "      <th>36</th>\n",
       "      <td>0.034722</td>\n",
       "      <td>0.015625</td>\n",
       "      <td>0.027778</td>\n",
       "    </tr>\n",
       "    <tr>\n",
       "      <th>40</th>\n",
       "      <td>0.027778</td>\n",
       "      <td>0.031250</td>\n",
       "      <td>0.000000</td>\n",
       "    </tr>\n",
       "    <tr>\n",
       "      <th>42</th>\n",
       "      <td>0.013889</td>\n",
       "      <td>0.031250</td>\n",
       "      <td>0.000000</td>\n",
       "    </tr>\n",
       "    <tr>\n",
       "      <th>44</th>\n",
       "      <td>0.013889</td>\n",
       "      <td>0.000000</td>\n",
       "      <td>0.000000</td>\n",
       "    </tr>\n",
       "    <tr>\n",
       "      <th>45</th>\n",
       "      <td>0.013889</td>\n",
       "      <td>0.000000</td>\n",
       "      <td>0.000000</td>\n",
       "    </tr>\n",
       "    <tr>\n",
       "      <th>48</th>\n",
       "      <td>0.027778</td>\n",
       "      <td>0.031250</td>\n",
       "      <td>0.000000</td>\n",
       "    </tr>\n",
       "    <tr>\n",
       "      <th>49</th>\n",
       "      <td>0.006944</td>\n",
       "      <td>0.015625</td>\n",
       "      <td>0.000000</td>\n",
       "    </tr>\n",
       "    <tr>\n",
       "      <th>50</th>\n",
       "      <td>0.013889</td>\n",
       "      <td>0.000000</td>\n",
       "      <td>0.000000</td>\n",
       "    </tr>\n",
       "    <tr>\n",
       "      <th>54</th>\n",
       "      <td>0.013889</td>\n",
       "      <td>0.000000</td>\n",
       "      <td>0.000000</td>\n",
       "    </tr>\n",
       "    <tr>\n",
       "      <th>55</th>\n",
       "      <td>0.013889</td>\n",
       "      <td>0.000000</td>\n",
       "      <td>0.000000</td>\n",
       "    </tr>\n",
       "    <tr>\n",
       "      <th>56</th>\n",
       "      <td>0.013889</td>\n",
       "      <td>0.031250</td>\n",
       "      <td>0.000000</td>\n",
       "    </tr>\n",
       "    <tr>\n",
       "      <th>60</th>\n",
       "      <td>0.027778</td>\n",
       "      <td>0.000000</td>\n",
       "      <td>0.000000</td>\n",
       "    </tr>\n",
       "    <tr>\n",
       "      <th>63</th>\n",
       "      <td>0.013889</td>\n",
       "      <td>0.000000</td>\n",
       "      <td>0.000000</td>\n",
       "    </tr>\n",
       "    <tr>\n",
       "      <th>64</th>\n",
       "      <td>0.006944</td>\n",
       "      <td>0.015625</td>\n",
       "      <td>0.000000</td>\n",
       "    </tr>\n",
       "    <tr>\n",
       "      <th>66</th>\n",
       "      <td>0.013889</td>\n",
       "      <td>0.000000</td>\n",
       "      <td>0.000000</td>\n",
       "    </tr>\n",
       "    <tr>\n",
       "      <th>70</th>\n",
       "      <td>0.013889</td>\n",
       "      <td>0.000000</td>\n",
       "      <td>0.000000</td>\n",
       "    </tr>\n",
       "    <tr>\n",
       "      <th>72</th>\n",
       "      <td>0.027778</td>\n",
       "      <td>0.000000</td>\n",
       "      <td>0.000000</td>\n",
       "    </tr>\n",
       "    <tr>\n",
       "      <th>77</th>\n",
       "      <td>0.013889</td>\n",
       "      <td>0.000000</td>\n",
       "      <td>0.000000</td>\n",
       "    </tr>\n",
       "    <tr>\n",
       "      <th>80</th>\n",
       "      <td>0.013889</td>\n",
       "      <td>0.000000</td>\n",
       "      <td>0.000000</td>\n",
       "    </tr>\n",
       "    <tr>\n",
       "      <th>81</th>\n",
       "      <td>0.006944</td>\n",
       "      <td>0.000000</td>\n",
       "      <td>0.000000</td>\n",
       "    </tr>\n",
       "    <tr>\n",
       "      <th>84</th>\n",
       "      <td>0.013889</td>\n",
       "      <td>0.000000</td>\n",
       "      <td>0.000000</td>\n",
       "    </tr>\n",
       "    <tr>\n",
       "      <th>88</th>\n",
       "      <td>0.013889</td>\n",
       "      <td>0.000000</td>\n",
       "      <td>0.000000</td>\n",
       "    </tr>\n",
       "    <tr>\n",
       "      <th>90</th>\n",
       "      <td>0.013889</td>\n",
       "      <td>0.000000</td>\n",
       "      <td>0.000000</td>\n",
       "    </tr>\n",
       "    <tr>\n",
       "      <th>96</th>\n",
       "      <td>0.013889</td>\n",
       "      <td>0.000000</td>\n",
       "      <td>0.000000</td>\n",
       "    </tr>\n",
       "    <tr>\n",
       "      <th>99</th>\n",
       "      <td>0.013889</td>\n",
       "      <td>0.000000</td>\n",
       "      <td>0.000000</td>\n",
       "    </tr>\n",
       "    <tr>\n",
       "      <th>100</th>\n",
       "      <td>0.006944</td>\n",
       "      <td>0.000000</td>\n",
       "      <td>0.000000</td>\n",
       "    </tr>\n",
       "    <tr>\n",
       "      <th>108</th>\n",
       "      <td>0.013889</td>\n",
       "      <td>0.000000</td>\n",
       "      <td>0.000000</td>\n",
       "    </tr>\n",
       "    <tr>\n",
       "      <th>110</th>\n",
       "      <td>0.013889</td>\n",
       "      <td>0.000000</td>\n",
       "      <td>0.000000</td>\n",
       "    </tr>\n",
       "    <tr>\n",
       "      <th>120</th>\n",
       "      <td>0.013889</td>\n",
       "      <td>0.000000</td>\n",
       "      <td>0.000000</td>\n",
       "    </tr>\n",
       "    <tr>\n",
       "      <th>121</th>\n",
       "      <td>0.006944</td>\n",
       "      <td>0.000000</td>\n",
       "      <td>0.000000</td>\n",
       "    </tr>\n",
       "    <tr>\n",
       "      <th>132</th>\n",
       "      <td>0.013889</td>\n",
       "      <td>0.000000</td>\n",
       "      <td>0.000000</td>\n",
       "    </tr>\n",
       "    <tr>\n",
       "      <th>144</th>\n",
       "      <td>0.006944</td>\n",
       "      <td>0.000000</td>\n",
       "      <td>0.000000</td>\n",
       "    </tr>\n",
       "  </tbody>\n",
       "</table>\n",
       "</div>"
      ],
      "text/plain": [
       "           12        8         6 \n",
       "1    0.006944  0.015625  0.027778\n",
       "2    0.013889  0.031250  0.055556\n",
       "3    0.013889  0.031250  0.055556\n",
       "4    0.020833  0.046875  0.083333\n",
       "5    0.013889  0.031250  0.055556\n",
       "6    0.027778  0.062500  0.111111\n",
       "7    0.013889  0.031250  0.000000\n",
       "8    0.027778  0.062500  0.055556\n",
       "9    0.020833  0.015625  0.027778\n",
       "10   0.027778  0.031250  0.055556\n",
       "11   0.013889  0.000000  0.000000\n",
       "12   0.041667  0.062500  0.111111\n",
       "14   0.013889  0.031250  0.000000\n",
       "15   0.013889  0.031250  0.055556\n",
       "16   0.020833  0.046875  0.027778\n",
       "18   0.027778  0.031250  0.055556\n",
       "20   0.027778  0.031250  0.055556\n",
       "21   0.013889  0.031250  0.000000\n",
       "22   0.013889  0.000000  0.000000\n",
       "24   0.041667  0.062500  0.055556\n",
       "25   0.006944  0.015625  0.027778\n",
       "27   0.013889  0.000000  0.000000\n",
       "28   0.013889  0.031250  0.000000\n",
       "30   0.027778  0.031250  0.055556\n",
       "32   0.013889  0.031250  0.000000\n",
       "33   0.013889  0.000000  0.000000\n",
       "35   0.013889  0.031250  0.000000\n",
       "36   0.034722  0.015625  0.027778\n",
       "40   0.027778  0.031250  0.000000\n",
       "42   0.013889  0.031250  0.000000\n",
       "44   0.013889  0.000000  0.000000\n",
       "45   0.013889  0.000000  0.000000\n",
       "48   0.027778  0.031250  0.000000\n",
       "49   0.006944  0.015625  0.000000\n",
       "50   0.013889  0.000000  0.000000\n",
       "54   0.013889  0.000000  0.000000\n",
       "55   0.013889  0.000000  0.000000\n",
       "56   0.013889  0.031250  0.000000\n",
       "60   0.027778  0.000000  0.000000\n",
       "63   0.013889  0.000000  0.000000\n",
       "64   0.006944  0.015625  0.000000\n",
       "66   0.013889  0.000000  0.000000\n",
       "70   0.013889  0.000000  0.000000\n",
       "72   0.027778  0.000000  0.000000\n",
       "77   0.013889  0.000000  0.000000\n",
       "80   0.013889  0.000000  0.000000\n",
       "81   0.006944  0.000000  0.000000\n",
       "84   0.013889  0.000000  0.000000\n",
       "88   0.013889  0.000000  0.000000\n",
       "90   0.013889  0.000000  0.000000\n",
       "96   0.013889  0.000000  0.000000\n",
       "99   0.013889  0.000000  0.000000\n",
       "100  0.006944  0.000000  0.000000\n",
       "108  0.013889  0.000000  0.000000\n",
       "110  0.013889  0.000000  0.000000\n",
       "120  0.013889  0.000000  0.000000\n",
       "121  0.006944  0.000000  0.000000\n",
       "132  0.013889  0.000000  0.000000\n",
       "144  0.006944  0.000000  0.000000"
      ]
     },
     "execution_count": 184,
     "metadata": {},
     "output_type": "execute_result"
    }
   ],
   "source": [
    "likelihood"
   ]
  },
  {
   "cell_type": "markdown",
   "metadata": {},
   "source": [
    "**Exercise:** *Betrayal at House on the Hill* is a strategy game in which characters with different attributes explore a haunted house.  Depending on their attributes, the characters roll different numbers of dice.  For example, if attempting a task that depends on knowledge, Professor Longfellow rolls 5 dice, Madame Zostra rolls 4, and Ox Bellows rolls 3.  Each die yields 0, 1, or 2 with equal probability.  \n",
    "\n",
    "If a randomly chosen character attempts a task three times and rolls a total of 3 on the first attempt, 4 on the second, and 5 on the third, which character do you think it was?"
   ]
  },
  {
   "cell_type": "code",
   "execution_count": null,
   "metadata": {
    "execution": {
     "iopub.execute_input": "2021-04-16T19:35:27.599975Z",
     "iopub.status.busy": "2021-04-16T19:35:27.599314Z",
     "iopub.status.idle": "2021-04-16T19:35:27.602133Z",
     "shell.execute_reply": "2021-04-16T19:35:27.602555Z"
    }
   },
   "outputs": [],
   "source": [
    "# Solution goes here\n"
   ]
  },
  {
   "cell_type": "code",
   "execution_count": null,
   "metadata": {
    "execution": {
     "iopub.execute_input": "2021-04-16T19:35:27.614916Z",
     "iopub.status.busy": "2021-04-16T19:35:27.614014Z",
     "iopub.status.idle": "2021-04-16T19:35:27.619438Z",
     "shell.execute_reply": "2021-04-16T19:35:27.619807Z"
    }
   },
   "outputs": [],
   "source": [
    "# Solution goes here"
   ]
  },
  {
   "cell_type": "code",
   "execution_count": null,
   "metadata": {
    "execution": {
     "iopub.execute_input": "2021-04-16T19:35:27.623276Z",
     "iopub.status.busy": "2021-04-16T19:35:27.622677Z",
     "iopub.status.idle": "2021-04-16T19:35:27.624942Z",
     "shell.execute_reply": "2021-04-16T19:35:27.625311Z"
    }
   },
   "outputs": [],
   "source": [
    "# Solution goes here"
   ]
  },
  {
   "cell_type": "code",
   "execution_count": null,
   "metadata": {
    "execution": {
     "iopub.execute_input": "2021-04-16T19:35:27.629708Z",
     "iopub.status.busy": "2021-04-16T19:35:27.629052Z",
     "iopub.status.idle": "2021-04-16T19:35:27.632391Z",
     "shell.execute_reply": "2021-04-16T19:35:27.631917Z"
    }
   },
   "outputs": [],
   "source": [
    "# Solution goes here"
   ]
  },
  {
   "cell_type": "code",
   "execution_count": null,
   "metadata": {
    "execution": {
     "iopub.execute_input": "2021-04-16T19:35:27.639970Z",
     "iopub.status.busy": "2021-04-16T19:35:27.639171Z",
     "iopub.status.idle": "2021-04-16T19:35:27.642148Z",
     "shell.execute_reply": "2021-04-16T19:35:27.642611Z"
    }
   },
   "outputs": [],
   "source": [
    "# Solution goes here"
   ]
  },
  {
   "cell_type": "code",
   "execution_count": null,
   "metadata": {
    "execution": {
     "iopub.execute_input": "2021-04-16T19:35:27.652015Z",
     "iopub.status.busy": "2021-04-16T19:35:27.651434Z",
     "iopub.status.idle": "2021-04-16T19:35:27.653898Z",
     "shell.execute_reply": "2021-04-16T19:35:27.654265Z"
    }
   },
   "outputs": [],
   "source": [
    "# Solution goes here"
   ]
  },
  {
   "cell_type": "code",
   "execution_count": null,
   "metadata": {
    "execution": {
     "iopub.execute_input": "2021-04-16T19:35:27.660241Z",
     "iopub.status.busy": "2021-04-16T19:35:27.659730Z",
     "iopub.status.idle": "2021-04-16T19:35:27.662465Z",
     "shell.execute_reply": "2021-04-16T19:35:27.662071Z"
    }
   },
   "outputs": [],
   "source": [
    "# Solution goes here"
   ]
  },
  {
   "cell_type": "markdown",
   "metadata": {},
   "source": [
    "**Exercise:** There are 538 members of the United States Congress. Suppose we audit their investment portfolios and find that 312 of them out-perform the market.\n",
    "Let's assume that an honest member of Congress has only a 50% chance of out-performing the market, but a dishonest member who trades on inside information has a 90% chance.  How many members of Congress are honest?"
   ]
  },
  {
   "cell_type": "code",
   "execution_count": 204,
   "metadata": {
    "execution": {
     "iopub.execute_input": "2021-04-16T19:35:27.667020Z",
     "iopub.status.busy": "2021-04-16T19:35:27.666574Z",
     "iopub.status.idle": "2021-04-16T19:35:29.234154Z",
     "shell.execute_reply": "2021-04-16T19:35:29.233711Z"
    }
   },
   "outputs": [
    {
     "name": "stderr",
     "output_type": "stream",
     "text": [
      "/tmp/ipykernel_38573/134449255.py:18: PerformanceWarning: DataFrame is highly fragmented.  This is usually the result of calling `frame.insert` many times, which has poor performance.  Consider joining all columns at once using pd.concat(axis=1) instead. To get a de-fragmented frame, use `newframe = frame.copy()`\n",
      "  likelihood[n_honest] = total_outperform\n",
      "/tmp/ipykernel_38573/134449255.py:18: PerformanceWarning: DataFrame is highly fragmented.  This is usually the result of calling `frame.insert` many times, which has poor performance.  Consider joining all columns at once using pd.concat(axis=1) instead. To get a de-fragmented frame, use `newframe = frame.copy()`\n",
      "  likelihood[n_honest] = total_outperform\n",
      "/tmp/ipykernel_38573/134449255.py:18: PerformanceWarning: DataFrame is highly fragmented.  This is usually the result of calling `frame.insert` many times, which has poor performance.  Consider joining all columns at once using pd.concat(axis=1) instead. To get a de-fragmented frame, use `newframe = frame.copy()`\n",
      "  likelihood[n_honest] = total_outperform\n",
      "/tmp/ipykernel_38573/134449255.py:18: PerformanceWarning: DataFrame is highly fragmented.  This is usually the result of calling `frame.insert` many times, which has poor performance.  Consider joining all columns at once using pd.concat(axis=1) instead. To get a de-fragmented frame, use `newframe = frame.copy()`\n",
      "  likelihood[n_honest] = total_outperform\n",
      "/tmp/ipykernel_38573/134449255.py:18: PerformanceWarning: DataFrame is highly fragmented.  This is usually the result of calling `frame.insert` many times, which has poor performance.  Consider joining all columns at once using pd.concat(axis=1) instead. To get a de-fragmented frame, use `newframe = frame.copy()`\n",
      "  likelihood[n_honest] = total_outperform\n",
      "/tmp/ipykernel_38573/134449255.py:18: PerformanceWarning: DataFrame is highly fragmented.  This is usually the result of calling `frame.insert` many times, which has poor performance.  Consider joining all columns at once using pd.concat(axis=1) instead. To get a de-fragmented frame, use `newframe = frame.copy()`\n",
      "  likelihood[n_honest] = total_outperform\n",
      "/tmp/ipykernel_38573/134449255.py:18: PerformanceWarning: DataFrame is highly fragmented.  This is usually the result of calling `frame.insert` many times, which has poor performance.  Consider joining all columns at once using pd.concat(axis=1) instead. To get a de-fragmented frame, use `newframe = frame.copy()`\n",
      "  likelihood[n_honest] = total_outperform\n",
      "/tmp/ipykernel_38573/134449255.py:18: PerformanceWarning: DataFrame is highly fragmented.  This is usually the result of calling `frame.insert` many times, which has poor performance.  Consider joining all columns at once using pd.concat(axis=1) instead. To get a de-fragmented frame, use `newframe = frame.copy()`\n",
      "  likelihood[n_honest] = total_outperform\n",
      "/tmp/ipykernel_38573/134449255.py:18: PerformanceWarning: DataFrame is highly fragmented.  This is usually the result of calling `frame.insert` many times, which has poor performance.  Consider joining all columns at once using pd.concat(axis=1) instead. To get a de-fragmented frame, use `newframe = frame.copy()`\n",
      "  likelihood[n_honest] = total_outperform\n",
      "/tmp/ipykernel_38573/134449255.py:18: PerformanceWarning: DataFrame is highly fragmented.  This is usually the result of calling `frame.insert` many times, which has poor performance.  Consider joining all columns at once using pd.concat(axis=1) instead. To get a de-fragmented frame, use `newframe = frame.copy()`\n",
      "  likelihood[n_honest] = total_outperform\n",
      "/tmp/ipykernel_38573/134449255.py:18: PerformanceWarning: DataFrame is highly fragmented.  This is usually the result of calling `frame.insert` many times, which has poor performance.  Consider joining all columns at once using pd.concat(axis=1) instead. To get a de-fragmented frame, use `newframe = frame.copy()`\n",
      "  likelihood[n_honest] = total_outperform\n",
      "/tmp/ipykernel_38573/134449255.py:18: PerformanceWarning: DataFrame is highly fragmented.  This is usually the result of calling `frame.insert` many times, which has poor performance.  Consider joining all columns at once using pd.concat(axis=1) instead. To get a de-fragmented frame, use `newframe = frame.copy()`\n",
      "  likelihood[n_honest] = total_outperform\n",
      "/tmp/ipykernel_38573/134449255.py:18: PerformanceWarning: DataFrame is highly fragmented.  This is usually the result of calling `frame.insert` many times, which has poor performance.  Consider joining all columns at once using pd.concat(axis=1) instead. To get a de-fragmented frame, use `newframe = frame.copy()`\n",
      "  likelihood[n_honest] = total_outperform\n",
      "/tmp/ipykernel_38573/134449255.py:18: PerformanceWarning: DataFrame is highly fragmented.  This is usually the result of calling `frame.insert` many times, which has poor performance.  Consider joining all columns at once using pd.concat(axis=1) instead. To get a de-fragmented frame, use `newframe = frame.copy()`\n",
      "  likelihood[n_honest] = total_outperform\n",
      "/tmp/ipykernel_38573/134449255.py:18: PerformanceWarning: DataFrame is highly fragmented.  This is usually the result of calling `frame.insert` many times, which has poor performance.  Consider joining all columns at once using pd.concat(axis=1) instead. To get a de-fragmented frame, use `newframe = frame.copy()`\n",
      "  likelihood[n_honest] = total_outperform\n",
      "/tmp/ipykernel_38573/134449255.py:18: PerformanceWarning: DataFrame is highly fragmented.  This is usually the result of calling `frame.insert` many times, which has poor performance.  Consider joining all columns at once using pd.concat(axis=1) instead. To get a de-fragmented frame, use `newframe = frame.copy()`\n",
      "  likelihood[n_honest] = total_outperform\n",
      "/tmp/ipykernel_38573/134449255.py:18: PerformanceWarning: DataFrame is highly fragmented.  This is usually the result of calling `frame.insert` many times, which has poor performance.  Consider joining all columns at once using pd.concat(axis=1) instead. To get a de-fragmented frame, use `newframe = frame.copy()`\n",
      "  likelihood[n_honest] = total_outperform\n",
      "/tmp/ipykernel_38573/134449255.py:18: PerformanceWarning: DataFrame is highly fragmented.  This is usually the result of calling `frame.insert` many times, which has poor performance.  Consider joining all columns at once using pd.concat(axis=1) instead. To get a de-fragmented frame, use `newframe = frame.copy()`\n",
      "  likelihood[n_honest] = total_outperform\n",
      "/tmp/ipykernel_38573/134449255.py:18: PerformanceWarning: DataFrame is highly fragmented.  This is usually the result of calling `frame.insert` many times, which has poor performance.  Consider joining all columns at once using pd.concat(axis=1) instead. To get a de-fragmented frame, use `newframe = frame.copy()`\n",
      "  likelihood[n_honest] = total_outperform\n",
      "/tmp/ipykernel_38573/134449255.py:18: PerformanceWarning: DataFrame is highly fragmented.  This is usually the result of calling `frame.insert` many times, which has poor performance.  Consider joining all columns at once using pd.concat(axis=1) instead. To get a de-fragmented frame, use `newframe = frame.copy()`\n",
      "  likelihood[n_honest] = total_outperform\n",
      "/tmp/ipykernel_38573/134449255.py:18: PerformanceWarning: DataFrame is highly fragmented.  This is usually the result of calling `frame.insert` many times, which has poor performance.  Consider joining all columns at once using pd.concat(axis=1) instead. To get a de-fragmented frame, use `newframe = frame.copy()`\n",
      "  likelihood[n_honest] = total_outperform\n",
      "/tmp/ipykernel_38573/134449255.py:18: PerformanceWarning: DataFrame is highly fragmented.  This is usually the result of calling `frame.insert` many times, which has poor performance.  Consider joining all columns at once using pd.concat(axis=1) instead. To get a de-fragmented frame, use `newframe = frame.copy()`\n",
      "  likelihood[n_honest] = total_outperform\n",
      "/tmp/ipykernel_38573/134449255.py:18: PerformanceWarning: DataFrame is highly fragmented.  This is usually the result of calling `frame.insert` many times, which has poor performance.  Consider joining all columns at once using pd.concat(axis=1) instead. To get a de-fragmented frame, use `newframe = frame.copy()`\n",
      "  likelihood[n_honest] = total_outperform\n",
      "/tmp/ipykernel_38573/134449255.py:18: PerformanceWarning: DataFrame is highly fragmented.  This is usually the result of calling `frame.insert` many times, which has poor performance.  Consider joining all columns at once using pd.concat(axis=1) instead. To get a de-fragmented frame, use `newframe = frame.copy()`\n",
      "  likelihood[n_honest] = total_outperform\n",
      "/tmp/ipykernel_38573/134449255.py:18: PerformanceWarning: DataFrame is highly fragmented.  This is usually the result of calling `frame.insert` many times, which has poor performance.  Consider joining all columns at once using pd.concat(axis=1) instead. To get a de-fragmented frame, use `newframe = frame.copy()`\n",
      "  likelihood[n_honest] = total_outperform\n",
      "/tmp/ipykernel_38573/134449255.py:18: PerformanceWarning: DataFrame is highly fragmented.  This is usually the result of calling `frame.insert` many times, which has poor performance.  Consider joining all columns at once using pd.concat(axis=1) instead. To get a de-fragmented frame, use `newframe = frame.copy()`\n",
      "  likelihood[n_honest] = total_outperform\n",
      "/tmp/ipykernel_38573/134449255.py:18: PerformanceWarning: DataFrame is highly fragmented.  This is usually the result of calling `frame.insert` many times, which has poor performance.  Consider joining all columns at once using pd.concat(axis=1) instead. To get a de-fragmented frame, use `newframe = frame.copy()`\n",
      "  likelihood[n_honest] = total_outperform\n",
      "/tmp/ipykernel_38573/134449255.py:18: PerformanceWarning: DataFrame is highly fragmented.  This is usually the result of calling `frame.insert` many times, which has poor performance.  Consider joining all columns at once using pd.concat(axis=1) instead. To get a de-fragmented frame, use `newframe = frame.copy()`\n",
      "  likelihood[n_honest] = total_outperform\n",
      "/tmp/ipykernel_38573/134449255.py:18: PerformanceWarning: DataFrame is highly fragmented.  This is usually the result of calling `frame.insert` many times, which has poor performance.  Consider joining all columns at once using pd.concat(axis=1) instead. To get a de-fragmented frame, use `newframe = frame.copy()`\n",
      "  likelihood[n_honest] = total_outperform\n",
      "/tmp/ipykernel_38573/134449255.py:18: PerformanceWarning: DataFrame is highly fragmented.  This is usually the result of calling `frame.insert` many times, which has poor performance.  Consider joining all columns at once using pd.concat(axis=1) instead. To get a de-fragmented frame, use `newframe = frame.copy()`\n",
      "  likelihood[n_honest] = total_outperform\n",
      "/tmp/ipykernel_38573/134449255.py:18: PerformanceWarning: DataFrame is highly fragmented.  This is usually the result of calling `frame.insert` many times, which has poor performance.  Consider joining all columns at once using pd.concat(axis=1) instead. To get a de-fragmented frame, use `newframe = frame.copy()`\n",
      "  likelihood[n_honest] = total_outperform\n",
      "/tmp/ipykernel_38573/134449255.py:18: PerformanceWarning: DataFrame is highly fragmented.  This is usually the result of calling `frame.insert` many times, which has poor performance.  Consider joining all columns at once using pd.concat(axis=1) instead. To get a de-fragmented frame, use `newframe = frame.copy()`\n",
      "  likelihood[n_honest] = total_outperform\n",
      "/tmp/ipykernel_38573/134449255.py:18: PerformanceWarning: DataFrame is highly fragmented.  This is usually the result of calling `frame.insert` many times, which has poor performance.  Consider joining all columns at once using pd.concat(axis=1) instead. To get a de-fragmented frame, use `newframe = frame.copy()`\n",
      "  likelihood[n_honest] = total_outperform\n",
      "/tmp/ipykernel_38573/134449255.py:18: PerformanceWarning: DataFrame is highly fragmented.  This is usually the result of calling `frame.insert` many times, which has poor performance.  Consider joining all columns at once using pd.concat(axis=1) instead. To get a de-fragmented frame, use `newframe = frame.copy()`\n",
      "  likelihood[n_honest] = total_outperform\n",
      "/tmp/ipykernel_38573/134449255.py:18: PerformanceWarning: DataFrame is highly fragmented.  This is usually the result of calling `frame.insert` many times, which has poor performance.  Consider joining all columns at once using pd.concat(axis=1) instead. To get a de-fragmented frame, use `newframe = frame.copy()`\n",
      "  likelihood[n_honest] = total_outperform\n",
      "/tmp/ipykernel_38573/134449255.py:18: PerformanceWarning: DataFrame is highly fragmented.  This is usually the result of calling `frame.insert` many times, which has poor performance.  Consider joining all columns at once using pd.concat(axis=1) instead. To get a de-fragmented frame, use `newframe = frame.copy()`\n",
      "  likelihood[n_honest] = total_outperform\n",
      "/tmp/ipykernel_38573/134449255.py:18: PerformanceWarning: DataFrame is highly fragmented.  This is usually the result of calling `frame.insert` many times, which has poor performance.  Consider joining all columns at once using pd.concat(axis=1) instead. To get a de-fragmented frame, use `newframe = frame.copy()`\n",
      "  likelihood[n_honest] = total_outperform\n",
      "/tmp/ipykernel_38573/134449255.py:18: PerformanceWarning: DataFrame is highly fragmented.  This is usually the result of calling `frame.insert` many times, which has poor performance.  Consider joining all columns at once using pd.concat(axis=1) instead. To get a de-fragmented frame, use `newframe = frame.copy()`\n",
      "  likelihood[n_honest] = total_outperform\n",
      "/tmp/ipykernel_38573/134449255.py:18: PerformanceWarning: DataFrame is highly fragmented.  This is usually the result of calling `frame.insert` many times, which has poor performance.  Consider joining all columns at once using pd.concat(axis=1) instead. To get a de-fragmented frame, use `newframe = frame.copy()`\n",
      "  likelihood[n_honest] = total_outperform\n",
      "/tmp/ipykernel_38573/134449255.py:18: PerformanceWarning: DataFrame is highly fragmented.  This is usually the result of calling `frame.insert` many times, which has poor performance.  Consider joining all columns at once using pd.concat(axis=1) instead. To get a de-fragmented frame, use `newframe = frame.copy()`\n",
      "  likelihood[n_honest] = total_outperform\n",
      "/tmp/ipykernel_38573/134449255.py:18: PerformanceWarning: DataFrame is highly fragmented.  This is usually the result of calling `frame.insert` many times, which has poor performance.  Consider joining all columns at once using pd.concat(axis=1) instead. To get a de-fragmented frame, use `newframe = frame.copy()`\n",
      "  likelihood[n_honest] = total_outperform\n",
      "/tmp/ipykernel_38573/134449255.py:18: PerformanceWarning: DataFrame is highly fragmented.  This is usually the result of calling `frame.insert` many times, which has poor performance.  Consider joining all columns at once using pd.concat(axis=1) instead. To get a de-fragmented frame, use `newframe = frame.copy()`\n",
      "  likelihood[n_honest] = total_outperform\n",
      "/tmp/ipykernel_38573/134449255.py:18: PerformanceWarning: DataFrame is highly fragmented.  This is usually the result of calling `frame.insert` many times, which has poor performance.  Consider joining all columns at once using pd.concat(axis=1) instead. To get a de-fragmented frame, use `newframe = frame.copy()`\n",
      "  likelihood[n_honest] = total_outperform\n",
      "/tmp/ipykernel_38573/134449255.py:18: PerformanceWarning: DataFrame is highly fragmented.  This is usually the result of calling `frame.insert` many times, which has poor performance.  Consider joining all columns at once using pd.concat(axis=1) instead. To get a de-fragmented frame, use `newframe = frame.copy()`\n",
      "  likelihood[n_honest] = total_outperform\n",
      "/tmp/ipykernel_38573/134449255.py:18: PerformanceWarning: DataFrame is highly fragmented.  This is usually the result of calling `frame.insert` many times, which has poor performance.  Consider joining all columns at once using pd.concat(axis=1) instead. To get a de-fragmented frame, use `newframe = frame.copy()`\n",
      "  likelihood[n_honest] = total_outperform\n",
      "/tmp/ipykernel_38573/134449255.py:18: PerformanceWarning: DataFrame is highly fragmented.  This is usually the result of calling `frame.insert` many times, which has poor performance.  Consider joining all columns at once using pd.concat(axis=1) instead. To get a de-fragmented frame, use `newframe = frame.copy()`\n",
      "  likelihood[n_honest] = total_outperform\n",
      "/tmp/ipykernel_38573/134449255.py:18: PerformanceWarning: DataFrame is highly fragmented.  This is usually the result of calling `frame.insert` many times, which has poor performance.  Consider joining all columns at once using pd.concat(axis=1) instead. To get a de-fragmented frame, use `newframe = frame.copy()`\n",
      "  likelihood[n_honest] = total_outperform\n",
      "/tmp/ipykernel_38573/134449255.py:18: PerformanceWarning: DataFrame is highly fragmented.  This is usually the result of calling `frame.insert` many times, which has poor performance.  Consider joining all columns at once using pd.concat(axis=1) instead. To get a de-fragmented frame, use `newframe = frame.copy()`\n",
      "  likelihood[n_honest] = total_outperform\n",
      "/tmp/ipykernel_38573/134449255.py:18: PerformanceWarning: DataFrame is highly fragmented.  This is usually the result of calling `frame.insert` many times, which has poor performance.  Consider joining all columns at once using pd.concat(axis=1) instead. To get a de-fragmented frame, use `newframe = frame.copy()`\n",
      "  likelihood[n_honest] = total_outperform\n",
      "/tmp/ipykernel_38573/134449255.py:18: PerformanceWarning: DataFrame is highly fragmented.  This is usually the result of calling `frame.insert` many times, which has poor performance.  Consider joining all columns at once using pd.concat(axis=1) instead. To get a de-fragmented frame, use `newframe = frame.copy()`\n",
      "  likelihood[n_honest] = total_outperform\n",
      "/tmp/ipykernel_38573/134449255.py:18: PerformanceWarning: DataFrame is highly fragmented.  This is usually the result of calling `frame.insert` many times, which has poor performance.  Consider joining all columns at once using pd.concat(axis=1) instead. To get a de-fragmented frame, use `newframe = frame.copy()`\n",
      "  likelihood[n_honest] = total_outperform\n",
      "/tmp/ipykernel_38573/134449255.py:18: PerformanceWarning: DataFrame is highly fragmented.  This is usually the result of calling `frame.insert` many times, which has poor performance.  Consider joining all columns at once using pd.concat(axis=1) instead. To get a de-fragmented frame, use `newframe = frame.copy()`\n",
      "  likelihood[n_honest] = total_outperform\n",
      "/tmp/ipykernel_38573/134449255.py:18: PerformanceWarning: DataFrame is highly fragmented.  This is usually the result of calling `frame.insert` many times, which has poor performance.  Consider joining all columns at once using pd.concat(axis=1) instead. To get a de-fragmented frame, use `newframe = frame.copy()`\n",
      "  likelihood[n_honest] = total_outperform\n",
      "/tmp/ipykernel_38573/134449255.py:18: PerformanceWarning: DataFrame is highly fragmented.  This is usually the result of calling `frame.insert` many times, which has poor performance.  Consider joining all columns at once using pd.concat(axis=1) instead. To get a de-fragmented frame, use `newframe = frame.copy()`\n",
      "  likelihood[n_honest] = total_outperform\n",
      "/tmp/ipykernel_38573/134449255.py:18: PerformanceWarning: DataFrame is highly fragmented.  This is usually the result of calling `frame.insert` many times, which has poor performance.  Consider joining all columns at once using pd.concat(axis=1) instead. To get a de-fragmented frame, use `newframe = frame.copy()`\n",
      "  likelihood[n_honest] = total_outperform\n",
      "/tmp/ipykernel_38573/134449255.py:18: PerformanceWarning: DataFrame is highly fragmented.  This is usually the result of calling `frame.insert` many times, which has poor performance.  Consider joining all columns at once using pd.concat(axis=1) instead. To get a de-fragmented frame, use `newframe = frame.copy()`\n",
      "  likelihood[n_honest] = total_outperform\n",
      "/tmp/ipykernel_38573/134449255.py:18: PerformanceWarning: DataFrame is highly fragmented.  This is usually the result of calling `frame.insert` many times, which has poor performance.  Consider joining all columns at once using pd.concat(axis=1) instead. To get a de-fragmented frame, use `newframe = frame.copy()`\n",
      "  likelihood[n_honest] = total_outperform\n",
      "/tmp/ipykernel_38573/134449255.py:18: PerformanceWarning: DataFrame is highly fragmented.  This is usually the result of calling `frame.insert` many times, which has poor performance.  Consider joining all columns at once using pd.concat(axis=1) instead. To get a de-fragmented frame, use `newframe = frame.copy()`\n",
      "  likelihood[n_honest] = total_outperform\n",
      "/tmp/ipykernel_38573/134449255.py:18: PerformanceWarning: DataFrame is highly fragmented.  This is usually the result of calling `frame.insert` many times, which has poor performance.  Consider joining all columns at once using pd.concat(axis=1) instead. To get a de-fragmented frame, use `newframe = frame.copy()`\n",
      "  likelihood[n_honest] = total_outperform\n",
      "/tmp/ipykernel_38573/134449255.py:18: PerformanceWarning: DataFrame is highly fragmented.  This is usually the result of calling `frame.insert` many times, which has poor performance.  Consider joining all columns at once using pd.concat(axis=1) instead. To get a de-fragmented frame, use `newframe = frame.copy()`\n",
      "  likelihood[n_honest] = total_outperform\n",
      "/tmp/ipykernel_38573/134449255.py:18: PerformanceWarning: DataFrame is highly fragmented.  This is usually the result of calling `frame.insert` many times, which has poor performance.  Consider joining all columns at once using pd.concat(axis=1) instead. To get a de-fragmented frame, use `newframe = frame.copy()`\n",
      "  likelihood[n_honest] = total_outperform\n",
      "/tmp/ipykernel_38573/134449255.py:18: PerformanceWarning: DataFrame is highly fragmented.  This is usually the result of calling `frame.insert` many times, which has poor performance.  Consider joining all columns at once using pd.concat(axis=1) instead. To get a de-fragmented frame, use `newframe = frame.copy()`\n",
      "  likelihood[n_honest] = total_outperform\n",
      "/tmp/ipykernel_38573/134449255.py:18: PerformanceWarning: DataFrame is highly fragmented.  This is usually the result of calling `frame.insert` many times, which has poor performance.  Consider joining all columns at once using pd.concat(axis=1) instead. To get a de-fragmented frame, use `newframe = frame.copy()`\n",
      "  likelihood[n_honest] = total_outperform\n",
      "/tmp/ipykernel_38573/134449255.py:18: PerformanceWarning: DataFrame is highly fragmented.  This is usually the result of calling `frame.insert` many times, which has poor performance.  Consider joining all columns at once using pd.concat(axis=1) instead. To get a de-fragmented frame, use `newframe = frame.copy()`\n",
      "  likelihood[n_honest] = total_outperform\n",
      "/tmp/ipykernel_38573/134449255.py:18: PerformanceWarning: DataFrame is highly fragmented.  This is usually the result of calling `frame.insert` many times, which has poor performance.  Consider joining all columns at once using pd.concat(axis=1) instead. To get a de-fragmented frame, use `newframe = frame.copy()`\n",
      "  likelihood[n_honest] = total_outperform\n",
      "/tmp/ipykernel_38573/134449255.py:18: PerformanceWarning: DataFrame is highly fragmented.  This is usually the result of calling `frame.insert` many times, which has poor performance.  Consider joining all columns at once using pd.concat(axis=1) instead. To get a de-fragmented frame, use `newframe = frame.copy()`\n",
      "  likelihood[n_honest] = total_outperform\n",
      "/tmp/ipykernel_38573/134449255.py:18: PerformanceWarning: DataFrame is highly fragmented.  This is usually the result of calling `frame.insert` many times, which has poor performance.  Consider joining all columns at once using pd.concat(axis=1) instead. To get a de-fragmented frame, use `newframe = frame.copy()`\n",
      "  likelihood[n_honest] = total_outperform\n",
      "/tmp/ipykernel_38573/134449255.py:18: PerformanceWarning: DataFrame is highly fragmented.  This is usually the result of calling `frame.insert` many times, which has poor performance.  Consider joining all columns at once using pd.concat(axis=1) instead. To get a de-fragmented frame, use `newframe = frame.copy()`\n",
      "  likelihood[n_honest] = total_outperform\n",
      "/tmp/ipykernel_38573/134449255.py:18: PerformanceWarning: DataFrame is highly fragmented.  This is usually the result of calling `frame.insert` many times, which has poor performance.  Consider joining all columns at once using pd.concat(axis=1) instead. To get a de-fragmented frame, use `newframe = frame.copy()`\n",
      "  likelihood[n_honest] = total_outperform\n",
      "/tmp/ipykernel_38573/134449255.py:18: PerformanceWarning: DataFrame is highly fragmented.  This is usually the result of calling `frame.insert` many times, which has poor performance.  Consider joining all columns at once using pd.concat(axis=1) instead. To get a de-fragmented frame, use `newframe = frame.copy()`\n",
      "  likelihood[n_honest] = total_outperform\n",
      "/tmp/ipykernel_38573/134449255.py:18: PerformanceWarning: DataFrame is highly fragmented.  This is usually the result of calling `frame.insert` many times, which has poor performance.  Consider joining all columns at once using pd.concat(axis=1) instead. To get a de-fragmented frame, use `newframe = frame.copy()`\n",
      "  likelihood[n_honest] = total_outperform\n",
      "/tmp/ipykernel_38573/134449255.py:18: PerformanceWarning: DataFrame is highly fragmented.  This is usually the result of calling `frame.insert` many times, which has poor performance.  Consider joining all columns at once using pd.concat(axis=1) instead. To get a de-fragmented frame, use `newframe = frame.copy()`\n",
      "  likelihood[n_honest] = total_outperform\n",
      "/tmp/ipykernel_38573/134449255.py:18: PerformanceWarning: DataFrame is highly fragmented.  This is usually the result of calling `frame.insert` many times, which has poor performance.  Consider joining all columns at once using pd.concat(axis=1) instead. To get a de-fragmented frame, use `newframe = frame.copy()`\n",
      "  likelihood[n_honest] = total_outperform\n",
      "/tmp/ipykernel_38573/134449255.py:18: PerformanceWarning: DataFrame is highly fragmented.  This is usually the result of calling `frame.insert` many times, which has poor performance.  Consider joining all columns at once using pd.concat(axis=1) instead. To get a de-fragmented frame, use `newframe = frame.copy()`\n",
      "  likelihood[n_honest] = total_outperform\n",
      "/tmp/ipykernel_38573/134449255.py:18: PerformanceWarning: DataFrame is highly fragmented.  This is usually the result of calling `frame.insert` many times, which has poor performance.  Consider joining all columns at once using pd.concat(axis=1) instead. To get a de-fragmented frame, use `newframe = frame.copy()`\n",
      "  likelihood[n_honest] = total_outperform\n",
      "/tmp/ipykernel_38573/134449255.py:18: PerformanceWarning: DataFrame is highly fragmented.  This is usually the result of calling `frame.insert` many times, which has poor performance.  Consider joining all columns at once using pd.concat(axis=1) instead. To get a de-fragmented frame, use `newframe = frame.copy()`\n",
      "  likelihood[n_honest] = total_outperform\n",
      "/tmp/ipykernel_38573/134449255.py:18: PerformanceWarning: DataFrame is highly fragmented.  This is usually the result of calling `frame.insert` many times, which has poor performance.  Consider joining all columns at once using pd.concat(axis=1) instead. To get a de-fragmented frame, use `newframe = frame.copy()`\n",
      "  likelihood[n_honest] = total_outperform\n",
      "/tmp/ipykernel_38573/134449255.py:18: PerformanceWarning: DataFrame is highly fragmented.  This is usually the result of calling `frame.insert` many times, which has poor performance.  Consider joining all columns at once using pd.concat(axis=1) instead. To get a de-fragmented frame, use `newframe = frame.copy()`\n",
      "  likelihood[n_honest] = total_outperform\n",
      "/tmp/ipykernel_38573/134449255.py:18: PerformanceWarning: DataFrame is highly fragmented.  This is usually the result of calling `frame.insert` many times, which has poor performance.  Consider joining all columns at once using pd.concat(axis=1) instead. To get a de-fragmented frame, use `newframe = frame.copy()`\n",
      "  likelihood[n_honest] = total_outperform\n",
      "/tmp/ipykernel_38573/134449255.py:18: PerformanceWarning: DataFrame is highly fragmented.  This is usually the result of calling `frame.insert` many times, which has poor performance.  Consider joining all columns at once using pd.concat(axis=1) instead. To get a de-fragmented frame, use `newframe = frame.copy()`\n",
      "  likelihood[n_honest] = total_outperform\n",
      "/tmp/ipykernel_38573/134449255.py:18: PerformanceWarning: DataFrame is highly fragmented.  This is usually the result of calling `frame.insert` many times, which has poor performance.  Consider joining all columns at once using pd.concat(axis=1) instead. To get a de-fragmented frame, use `newframe = frame.copy()`\n",
      "  likelihood[n_honest] = total_outperform\n",
      "/tmp/ipykernel_38573/134449255.py:18: PerformanceWarning: DataFrame is highly fragmented.  This is usually the result of calling `frame.insert` many times, which has poor performance.  Consider joining all columns at once using pd.concat(axis=1) instead. To get a de-fragmented frame, use `newframe = frame.copy()`\n",
      "  likelihood[n_honest] = total_outperform\n",
      "/tmp/ipykernel_38573/134449255.py:18: PerformanceWarning: DataFrame is highly fragmented.  This is usually the result of calling `frame.insert` many times, which has poor performance.  Consider joining all columns at once using pd.concat(axis=1) instead. To get a de-fragmented frame, use `newframe = frame.copy()`\n",
      "  likelihood[n_honest] = total_outperform\n",
      "/tmp/ipykernel_38573/134449255.py:18: PerformanceWarning: DataFrame is highly fragmented.  This is usually the result of calling `frame.insert` many times, which has poor performance.  Consider joining all columns at once using pd.concat(axis=1) instead. To get a de-fragmented frame, use `newframe = frame.copy()`\n",
      "  likelihood[n_honest] = total_outperform\n",
      "/tmp/ipykernel_38573/134449255.py:18: PerformanceWarning: DataFrame is highly fragmented.  This is usually the result of calling `frame.insert` many times, which has poor performance.  Consider joining all columns at once using pd.concat(axis=1) instead. To get a de-fragmented frame, use `newframe = frame.copy()`\n",
      "  likelihood[n_honest] = total_outperform\n",
      "/tmp/ipykernel_38573/134449255.py:18: PerformanceWarning: DataFrame is highly fragmented.  This is usually the result of calling `frame.insert` many times, which has poor performance.  Consider joining all columns at once using pd.concat(axis=1) instead. To get a de-fragmented frame, use `newframe = frame.copy()`\n",
      "  likelihood[n_honest] = total_outperform\n",
      "/tmp/ipykernel_38573/134449255.py:18: PerformanceWarning: DataFrame is highly fragmented.  This is usually the result of calling `frame.insert` many times, which has poor performance.  Consider joining all columns at once using pd.concat(axis=1) instead. To get a de-fragmented frame, use `newframe = frame.copy()`\n",
      "  likelihood[n_honest] = total_outperform\n",
      "/tmp/ipykernel_38573/134449255.py:18: PerformanceWarning: DataFrame is highly fragmented.  This is usually the result of calling `frame.insert` many times, which has poor performance.  Consider joining all columns at once using pd.concat(axis=1) instead. To get a de-fragmented frame, use `newframe = frame.copy()`\n",
      "  likelihood[n_honest] = total_outperform\n",
      "/tmp/ipykernel_38573/134449255.py:18: PerformanceWarning: DataFrame is highly fragmented.  This is usually the result of calling `frame.insert` many times, which has poor performance.  Consider joining all columns at once using pd.concat(axis=1) instead. To get a de-fragmented frame, use `newframe = frame.copy()`\n",
      "  likelihood[n_honest] = total_outperform\n",
      "/tmp/ipykernel_38573/134449255.py:18: PerformanceWarning: DataFrame is highly fragmented.  This is usually the result of calling `frame.insert` many times, which has poor performance.  Consider joining all columns at once using pd.concat(axis=1) instead. To get a de-fragmented frame, use `newframe = frame.copy()`\n",
      "  likelihood[n_honest] = total_outperform\n",
      "/tmp/ipykernel_38573/134449255.py:18: PerformanceWarning: DataFrame is highly fragmented.  This is usually the result of calling `frame.insert` many times, which has poor performance.  Consider joining all columns at once using pd.concat(axis=1) instead. To get a de-fragmented frame, use `newframe = frame.copy()`\n",
      "  likelihood[n_honest] = total_outperform\n",
      "/tmp/ipykernel_38573/134449255.py:18: PerformanceWarning: DataFrame is highly fragmented.  This is usually the result of calling `frame.insert` many times, which has poor performance.  Consider joining all columns at once using pd.concat(axis=1) instead. To get a de-fragmented frame, use `newframe = frame.copy()`\n",
      "  likelihood[n_honest] = total_outperform\n",
      "/tmp/ipykernel_38573/134449255.py:18: PerformanceWarning: DataFrame is highly fragmented.  This is usually the result of calling `frame.insert` many times, which has poor performance.  Consider joining all columns at once using pd.concat(axis=1) instead. To get a de-fragmented frame, use `newframe = frame.copy()`\n",
      "  likelihood[n_honest] = total_outperform\n",
      "/tmp/ipykernel_38573/134449255.py:18: PerformanceWarning: DataFrame is highly fragmented.  This is usually the result of calling `frame.insert` many times, which has poor performance.  Consider joining all columns at once using pd.concat(axis=1) instead. To get a de-fragmented frame, use `newframe = frame.copy()`\n",
      "  likelihood[n_honest] = total_outperform\n",
      "/tmp/ipykernel_38573/134449255.py:18: PerformanceWarning: DataFrame is highly fragmented.  This is usually the result of calling `frame.insert` many times, which has poor performance.  Consider joining all columns at once using pd.concat(axis=1) instead. To get a de-fragmented frame, use `newframe = frame.copy()`\n",
      "  likelihood[n_honest] = total_outperform\n",
      "/tmp/ipykernel_38573/134449255.py:18: PerformanceWarning: DataFrame is highly fragmented.  This is usually the result of calling `frame.insert` many times, which has poor performance.  Consider joining all columns at once using pd.concat(axis=1) instead. To get a de-fragmented frame, use `newframe = frame.copy()`\n",
      "  likelihood[n_honest] = total_outperform\n",
      "/tmp/ipykernel_38573/134449255.py:18: PerformanceWarning: DataFrame is highly fragmented.  This is usually the result of calling `frame.insert` many times, which has poor performance.  Consider joining all columns at once using pd.concat(axis=1) instead. To get a de-fragmented frame, use `newframe = frame.copy()`\n",
      "  likelihood[n_honest] = total_outperform\n",
      "/tmp/ipykernel_38573/134449255.py:18: PerformanceWarning: DataFrame is highly fragmented.  This is usually the result of calling `frame.insert` many times, which has poor performance.  Consider joining all columns at once using pd.concat(axis=1) instead. To get a de-fragmented frame, use `newframe = frame.copy()`\n",
      "  likelihood[n_honest] = total_outperform\n",
      "/tmp/ipykernel_38573/134449255.py:18: PerformanceWarning: DataFrame is highly fragmented.  This is usually the result of calling `frame.insert` many times, which has poor performance.  Consider joining all columns at once using pd.concat(axis=1) instead. To get a de-fragmented frame, use `newframe = frame.copy()`\n",
      "  likelihood[n_honest] = total_outperform\n",
      "/tmp/ipykernel_38573/134449255.py:18: PerformanceWarning: DataFrame is highly fragmented.  This is usually the result of calling `frame.insert` many times, which has poor performance.  Consider joining all columns at once using pd.concat(axis=1) instead. To get a de-fragmented frame, use `newframe = frame.copy()`\n",
      "  likelihood[n_honest] = total_outperform\n",
      "/tmp/ipykernel_38573/134449255.py:18: PerformanceWarning: DataFrame is highly fragmented.  This is usually the result of calling `frame.insert` many times, which has poor performance.  Consider joining all columns at once using pd.concat(axis=1) instead. To get a de-fragmented frame, use `newframe = frame.copy()`\n",
      "  likelihood[n_honest] = total_outperform\n",
      "/tmp/ipykernel_38573/134449255.py:18: PerformanceWarning: DataFrame is highly fragmented.  This is usually the result of calling `frame.insert` many times, which has poor performance.  Consider joining all columns at once using pd.concat(axis=1) instead. To get a de-fragmented frame, use `newframe = frame.copy()`\n",
      "  likelihood[n_honest] = total_outperform\n",
      "/tmp/ipykernel_38573/134449255.py:18: PerformanceWarning: DataFrame is highly fragmented.  This is usually the result of calling `frame.insert` many times, which has poor performance.  Consider joining all columns at once using pd.concat(axis=1) instead. To get a de-fragmented frame, use `newframe = frame.copy()`\n",
      "  likelihood[n_honest] = total_outperform\n",
      "/tmp/ipykernel_38573/134449255.py:18: PerformanceWarning: DataFrame is highly fragmented.  This is usually the result of calling `frame.insert` many times, which has poor performance.  Consider joining all columns at once using pd.concat(axis=1) instead. To get a de-fragmented frame, use `newframe = frame.copy()`\n",
      "  likelihood[n_honest] = total_outperform\n",
      "/tmp/ipykernel_38573/134449255.py:18: PerformanceWarning: DataFrame is highly fragmented.  This is usually the result of calling `frame.insert` many times, which has poor performance.  Consider joining all columns at once using pd.concat(axis=1) instead. To get a de-fragmented frame, use `newframe = frame.copy()`\n",
      "  likelihood[n_honest] = total_outperform\n",
      "/tmp/ipykernel_38573/134449255.py:18: PerformanceWarning: DataFrame is highly fragmented.  This is usually the result of calling `frame.insert` many times, which has poor performance.  Consider joining all columns at once using pd.concat(axis=1) instead. To get a de-fragmented frame, use `newframe = frame.copy()`\n",
      "  likelihood[n_honest] = total_outperform\n",
      "/tmp/ipykernel_38573/134449255.py:18: PerformanceWarning: DataFrame is highly fragmented.  This is usually the result of calling `frame.insert` many times, which has poor performance.  Consider joining all columns at once using pd.concat(axis=1) instead. To get a de-fragmented frame, use `newframe = frame.copy()`\n",
      "  likelihood[n_honest] = total_outperform\n",
      "/tmp/ipykernel_38573/134449255.py:18: PerformanceWarning: DataFrame is highly fragmented.  This is usually the result of calling `frame.insert` many times, which has poor performance.  Consider joining all columns at once using pd.concat(axis=1) instead. To get a de-fragmented frame, use `newframe = frame.copy()`\n",
      "  likelihood[n_honest] = total_outperform\n",
      "/tmp/ipykernel_38573/134449255.py:18: PerformanceWarning: DataFrame is highly fragmented.  This is usually the result of calling `frame.insert` many times, which has poor performance.  Consider joining all columns at once using pd.concat(axis=1) instead. To get a de-fragmented frame, use `newframe = frame.copy()`\n",
      "  likelihood[n_honest] = total_outperform\n",
      "/tmp/ipykernel_38573/134449255.py:18: PerformanceWarning: DataFrame is highly fragmented.  This is usually the result of calling `frame.insert` many times, which has poor performance.  Consider joining all columns at once using pd.concat(axis=1) instead. To get a de-fragmented frame, use `newframe = frame.copy()`\n",
      "  likelihood[n_honest] = total_outperform\n",
      "/tmp/ipykernel_38573/134449255.py:18: PerformanceWarning: DataFrame is highly fragmented.  This is usually the result of calling `frame.insert` many times, which has poor performance.  Consider joining all columns at once using pd.concat(axis=1) instead. To get a de-fragmented frame, use `newframe = frame.copy()`\n",
      "  likelihood[n_honest] = total_outperform\n",
      "/tmp/ipykernel_38573/134449255.py:18: PerformanceWarning: DataFrame is highly fragmented.  This is usually the result of calling `frame.insert` many times, which has poor performance.  Consider joining all columns at once using pd.concat(axis=1) instead. To get a de-fragmented frame, use `newframe = frame.copy()`\n",
      "  likelihood[n_honest] = total_outperform\n",
      "/tmp/ipykernel_38573/134449255.py:18: PerformanceWarning: DataFrame is highly fragmented.  This is usually the result of calling `frame.insert` many times, which has poor performance.  Consider joining all columns at once using pd.concat(axis=1) instead. To get a de-fragmented frame, use `newframe = frame.copy()`\n",
      "  likelihood[n_honest] = total_outperform\n",
      "/tmp/ipykernel_38573/134449255.py:18: PerformanceWarning: DataFrame is highly fragmented.  This is usually the result of calling `frame.insert` many times, which has poor performance.  Consider joining all columns at once using pd.concat(axis=1) instead. To get a de-fragmented frame, use `newframe = frame.copy()`\n",
      "  likelihood[n_honest] = total_outperform\n",
      "/tmp/ipykernel_38573/134449255.py:18: PerformanceWarning: DataFrame is highly fragmented.  This is usually the result of calling `frame.insert` many times, which has poor performance.  Consider joining all columns at once using pd.concat(axis=1) instead. To get a de-fragmented frame, use `newframe = frame.copy()`\n",
      "  likelihood[n_honest] = total_outperform\n",
      "/tmp/ipykernel_38573/134449255.py:18: PerformanceWarning: DataFrame is highly fragmented.  This is usually the result of calling `frame.insert` many times, which has poor performance.  Consider joining all columns at once using pd.concat(axis=1) instead. To get a de-fragmented frame, use `newframe = frame.copy()`\n",
      "  likelihood[n_honest] = total_outperform\n",
      "/tmp/ipykernel_38573/134449255.py:18: PerformanceWarning: DataFrame is highly fragmented.  This is usually the result of calling `frame.insert` many times, which has poor performance.  Consider joining all columns at once using pd.concat(axis=1) instead. To get a de-fragmented frame, use `newframe = frame.copy()`\n",
      "  likelihood[n_honest] = total_outperform\n",
      "/tmp/ipykernel_38573/134449255.py:18: PerformanceWarning: DataFrame is highly fragmented.  This is usually the result of calling `frame.insert` many times, which has poor performance.  Consider joining all columns at once using pd.concat(axis=1) instead. To get a de-fragmented frame, use `newframe = frame.copy()`\n",
      "  likelihood[n_honest] = total_outperform\n",
      "/tmp/ipykernel_38573/134449255.py:18: PerformanceWarning: DataFrame is highly fragmented.  This is usually the result of calling `frame.insert` many times, which has poor performance.  Consider joining all columns at once using pd.concat(axis=1) instead. To get a de-fragmented frame, use `newframe = frame.copy()`\n",
      "  likelihood[n_honest] = total_outperform\n",
      "/tmp/ipykernel_38573/134449255.py:18: PerformanceWarning: DataFrame is highly fragmented.  This is usually the result of calling `frame.insert` many times, which has poor performance.  Consider joining all columns at once using pd.concat(axis=1) instead. To get a de-fragmented frame, use `newframe = frame.copy()`\n",
      "  likelihood[n_honest] = total_outperform\n",
      "/tmp/ipykernel_38573/134449255.py:18: PerformanceWarning: DataFrame is highly fragmented.  This is usually the result of calling `frame.insert` many times, which has poor performance.  Consider joining all columns at once using pd.concat(axis=1) instead. To get a de-fragmented frame, use `newframe = frame.copy()`\n",
      "  likelihood[n_honest] = total_outperform\n",
      "/tmp/ipykernel_38573/134449255.py:18: PerformanceWarning: DataFrame is highly fragmented.  This is usually the result of calling `frame.insert` many times, which has poor performance.  Consider joining all columns at once using pd.concat(axis=1) instead. To get a de-fragmented frame, use `newframe = frame.copy()`\n",
      "  likelihood[n_honest] = total_outperform\n",
      "/tmp/ipykernel_38573/134449255.py:18: PerformanceWarning: DataFrame is highly fragmented.  This is usually the result of calling `frame.insert` many times, which has poor performance.  Consider joining all columns at once using pd.concat(axis=1) instead. To get a de-fragmented frame, use `newframe = frame.copy()`\n",
      "  likelihood[n_honest] = total_outperform\n",
      "/tmp/ipykernel_38573/134449255.py:18: PerformanceWarning: DataFrame is highly fragmented.  This is usually the result of calling `frame.insert` many times, which has poor performance.  Consider joining all columns at once using pd.concat(axis=1) instead. To get a de-fragmented frame, use `newframe = frame.copy()`\n",
      "  likelihood[n_honest] = total_outperform\n",
      "/tmp/ipykernel_38573/134449255.py:18: PerformanceWarning: DataFrame is highly fragmented.  This is usually the result of calling `frame.insert` many times, which has poor performance.  Consider joining all columns at once using pd.concat(axis=1) instead. To get a de-fragmented frame, use `newframe = frame.copy()`\n",
      "  likelihood[n_honest] = total_outperform\n",
      "/tmp/ipykernel_38573/134449255.py:18: PerformanceWarning: DataFrame is highly fragmented.  This is usually the result of calling `frame.insert` many times, which has poor performance.  Consider joining all columns at once using pd.concat(axis=1) instead. To get a de-fragmented frame, use `newframe = frame.copy()`\n",
      "  likelihood[n_honest] = total_outperform\n",
      "/tmp/ipykernel_38573/134449255.py:18: PerformanceWarning: DataFrame is highly fragmented.  This is usually the result of calling `frame.insert` many times, which has poor performance.  Consider joining all columns at once using pd.concat(axis=1) instead. To get a de-fragmented frame, use `newframe = frame.copy()`\n",
      "  likelihood[n_honest] = total_outperform\n",
      "/tmp/ipykernel_38573/134449255.py:18: PerformanceWarning: DataFrame is highly fragmented.  This is usually the result of calling `frame.insert` many times, which has poor performance.  Consider joining all columns at once using pd.concat(axis=1) instead. To get a de-fragmented frame, use `newframe = frame.copy()`\n",
      "  likelihood[n_honest] = total_outperform\n",
      "/tmp/ipykernel_38573/134449255.py:18: PerformanceWarning: DataFrame is highly fragmented.  This is usually the result of calling `frame.insert` many times, which has poor performance.  Consider joining all columns at once using pd.concat(axis=1) instead. To get a de-fragmented frame, use `newframe = frame.copy()`\n",
      "  likelihood[n_honest] = total_outperform\n",
      "/tmp/ipykernel_38573/134449255.py:18: PerformanceWarning: DataFrame is highly fragmented.  This is usually the result of calling `frame.insert` many times, which has poor performance.  Consider joining all columns at once using pd.concat(axis=1) instead. To get a de-fragmented frame, use `newframe = frame.copy()`\n",
      "  likelihood[n_honest] = total_outperform\n",
      "/tmp/ipykernel_38573/134449255.py:18: PerformanceWarning: DataFrame is highly fragmented.  This is usually the result of calling `frame.insert` many times, which has poor performance.  Consider joining all columns at once using pd.concat(axis=1) instead. To get a de-fragmented frame, use `newframe = frame.copy()`\n",
      "  likelihood[n_honest] = total_outperform\n",
      "/tmp/ipykernel_38573/134449255.py:18: PerformanceWarning: DataFrame is highly fragmented.  This is usually the result of calling `frame.insert` many times, which has poor performance.  Consider joining all columns at once using pd.concat(axis=1) instead. To get a de-fragmented frame, use `newframe = frame.copy()`\n",
      "  likelihood[n_honest] = total_outperform\n",
      "/tmp/ipykernel_38573/134449255.py:18: PerformanceWarning: DataFrame is highly fragmented.  This is usually the result of calling `frame.insert` many times, which has poor performance.  Consider joining all columns at once using pd.concat(axis=1) instead. To get a de-fragmented frame, use `newframe = frame.copy()`\n",
      "  likelihood[n_honest] = total_outperform\n",
      "/tmp/ipykernel_38573/134449255.py:18: PerformanceWarning: DataFrame is highly fragmented.  This is usually the result of calling `frame.insert` many times, which has poor performance.  Consider joining all columns at once using pd.concat(axis=1) instead. To get a de-fragmented frame, use `newframe = frame.copy()`\n",
      "  likelihood[n_honest] = total_outperform\n",
      "/tmp/ipykernel_38573/134449255.py:18: PerformanceWarning: DataFrame is highly fragmented.  This is usually the result of calling `frame.insert` many times, which has poor performance.  Consider joining all columns at once using pd.concat(axis=1) instead. To get a de-fragmented frame, use `newframe = frame.copy()`\n",
      "  likelihood[n_honest] = total_outperform\n",
      "/tmp/ipykernel_38573/134449255.py:18: PerformanceWarning: DataFrame is highly fragmented.  This is usually the result of calling `frame.insert` many times, which has poor performance.  Consider joining all columns at once using pd.concat(axis=1) instead. To get a de-fragmented frame, use `newframe = frame.copy()`\n",
      "  likelihood[n_honest] = total_outperform\n",
      "/tmp/ipykernel_38573/134449255.py:18: PerformanceWarning: DataFrame is highly fragmented.  This is usually the result of calling `frame.insert` many times, which has poor performance.  Consider joining all columns at once using pd.concat(axis=1) instead. To get a de-fragmented frame, use `newframe = frame.copy()`\n",
      "  likelihood[n_honest] = total_outperform\n",
      "/tmp/ipykernel_38573/134449255.py:18: PerformanceWarning: DataFrame is highly fragmented.  This is usually the result of calling `frame.insert` many times, which has poor performance.  Consider joining all columns at once using pd.concat(axis=1) instead. To get a de-fragmented frame, use `newframe = frame.copy()`\n",
      "  likelihood[n_honest] = total_outperform\n",
      "/tmp/ipykernel_38573/134449255.py:18: PerformanceWarning: DataFrame is highly fragmented.  This is usually the result of calling `frame.insert` many times, which has poor performance.  Consider joining all columns at once using pd.concat(axis=1) instead. To get a de-fragmented frame, use `newframe = frame.copy()`\n",
      "  likelihood[n_honest] = total_outperform\n",
      "/tmp/ipykernel_38573/134449255.py:18: PerformanceWarning: DataFrame is highly fragmented.  This is usually the result of calling `frame.insert` many times, which has poor performance.  Consider joining all columns at once using pd.concat(axis=1) instead. To get a de-fragmented frame, use `newframe = frame.copy()`\n",
      "  likelihood[n_honest] = total_outperform\n",
      "/tmp/ipykernel_38573/134449255.py:18: PerformanceWarning: DataFrame is highly fragmented.  This is usually the result of calling `frame.insert` many times, which has poor performance.  Consider joining all columns at once using pd.concat(axis=1) instead. To get a de-fragmented frame, use `newframe = frame.copy()`\n",
      "  likelihood[n_honest] = total_outperform\n",
      "/tmp/ipykernel_38573/134449255.py:18: PerformanceWarning: DataFrame is highly fragmented.  This is usually the result of calling `frame.insert` many times, which has poor performance.  Consider joining all columns at once using pd.concat(axis=1) instead. To get a de-fragmented frame, use `newframe = frame.copy()`\n",
      "  likelihood[n_honest] = total_outperform\n",
      "/tmp/ipykernel_38573/134449255.py:18: PerformanceWarning: DataFrame is highly fragmented.  This is usually the result of calling `frame.insert` many times, which has poor performance.  Consider joining all columns at once using pd.concat(axis=1) instead. To get a de-fragmented frame, use `newframe = frame.copy()`\n",
      "  likelihood[n_honest] = total_outperform\n",
      "/tmp/ipykernel_38573/134449255.py:18: PerformanceWarning: DataFrame is highly fragmented.  This is usually the result of calling `frame.insert` many times, which has poor performance.  Consider joining all columns at once using pd.concat(axis=1) instead. To get a de-fragmented frame, use `newframe = frame.copy()`\n",
      "  likelihood[n_honest] = total_outperform\n",
      "/tmp/ipykernel_38573/134449255.py:18: PerformanceWarning: DataFrame is highly fragmented.  This is usually the result of calling `frame.insert` many times, which has poor performance.  Consider joining all columns at once using pd.concat(axis=1) instead. To get a de-fragmented frame, use `newframe = frame.copy()`\n",
      "  likelihood[n_honest] = total_outperform\n",
      "/tmp/ipykernel_38573/134449255.py:18: PerformanceWarning: DataFrame is highly fragmented.  This is usually the result of calling `frame.insert` many times, which has poor performance.  Consider joining all columns at once using pd.concat(axis=1) instead. To get a de-fragmented frame, use `newframe = frame.copy()`\n",
      "  likelihood[n_honest] = total_outperform\n",
      "/tmp/ipykernel_38573/134449255.py:18: PerformanceWarning: DataFrame is highly fragmented.  This is usually the result of calling `frame.insert` many times, which has poor performance.  Consider joining all columns at once using pd.concat(axis=1) instead. To get a de-fragmented frame, use `newframe = frame.copy()`\n",
      "  likelihood[n_honest] = total_outperform\n",
      "/tmp/ipykernel_38573/134449255.py:18: PerformanceWarning: DataFrame is highly fragmented.  This is usually the result of calling `frame.insert` many times, which has poor performance.  Consider joining all columns at once using pd.concat(axis=1) instead. To get a de-fragmented frame, use `newframe = frame.copy()`\n",
      "  likelihood[n_honest] = total_outperform\n",
      "/tmp/ipykernel_38573/134449255.py:18: PerformanceWarning: DataFrame is highly fragmented.  This is usually the result of calling `frame.insert` many times, which has poor performance.  Consider joining all columns at once using pd.concat(axis=1) instead. To get a de-fragmented frame, use `newframe = frame.copy()`\n",
      "  likelihood[n_honest] = total_outperform\n",
      "/tmp/ipykernel_38573/134449255.py:18: PerformanceWarning: DataFrame is highly fragmented.  This is usually the result of calling `frame.insert` many times, which has poor performance.  Consider joining all columns at once using pd.concat(axis=1) instead. To get a de-fragmented frame, use `newframe = frame.copy()`\n",
      "  likelihood[n_honest] = total_outperform\n",
      "/tmp/ipykernel_38573/134449255.py:18: PerformanceWarning: DataFrame is highly fragmented.  This is usually the result of calling `frame.insert` many times, which has poor performance.  Consider joining all columns at once using pd.concat(axis=1) instead. To get a de-fragmented frame, use `newframe = frame.copy()`\n",
      "  likelihood[n_honest] = total_outperform\n",
      "/tmp/ipykernel_38573/134449255.py:18: PerformanceWarning: DataFrame is highly fragmented.  This is usually the result of calling `frame.insert` many times, which has poor performance.  Consider joining all columns at once using pd.concat(axis=1) instead. To get a de-fragmented frame, use `newframe = frame.copy()`\n",
      "  likelihood[n_honest] = total_outperform\n",
      "/tmp/ipykernel_38573/134449255.py:18: PerformanceWarning: DataFrame is highly fragmented.  This is usually the result of calling `frame.insert` many times, which has poor performance.  Consider joining all columns at once using pd.concat(axis=1) instead. To get a de-fragmented frame, use `newframe = frame.copy()`\n",
      "  likelihood[n_honest] = total_outperform\n",
      "/tmp/ipykernel_38573/134449255.py:18: PerformanceWarning: DataFrame is highly fragmented.  This is usually the result of calling `frame.insert` many times, which has poor performance.  Consider joining all columns at once using pd.concat(axis=1) instead. To get a de-fragmented frame, use `newframe = frame.copy()`\n",
      "  likelihood[n_honest] = total_outperform\n",
      "/tmp/ipykernel_38573/134449255.py:18: PerformanceWarning: DataFrame is highly fragmented.  This is usually the result of calling `frame.insert` many times, which has poor performance.  Consider joining all columns at once using pd.concat(axis=1) instead. To get a de-fragmented frame, use `newframe = frame.copy()`\n",
      "  likelihood[n_honest] = total_outperform\n",
      "/tmp/ipykernel_38573/134449255.py:18: PerformanceWarning: DataFrame is highly fragmented.  This is usually the result of calling `frame.insert` many times, which has poor performance.  Consider joining all columns at once using pd.concat(axis=1) instead. To get a de-fragmented frame, use `newframe = frame.copy()`\n",
      "  likelihood[n_honest] = total_outperform\n",
      "/tmp/ipykernel_38573/134449255.py:18: PerformanceWarning: DataFrame is highly fragmented.  This is usually the result of calling `frame.insert` many times, which has poor performance.  Consider joining all columns at once using pd.concat(axis=1) instead. To get a de-fragmented frame, use `newframe = frame.copy()`\n",
      "  likelihood[n_honest] = total_outperform\n",
      "/tmp/ipykernel_38573/134449255.py:18: PerformanceWarning: DataFrame is highly fragmented.  This is usually the result of calling `frame.insert` many times, which has poor performance.  Consider joining all columns at once using pd.concat(axis=1) instead. To get a de-fragmented frame, use `newframe = frame.copy()`\n",
      "  likelihood[n_honest] = total_outperform\n",
      "/tmp/ipykernel_38573/134449255.py:18: PerformanceWarning: DataFrame is highly fragmented.  This is usually the result of calling `frame.insert` many times, which has poor performance.  Consider joining all columns at once using pd.concat(axis=1) instead. To get a de-fragmented frame, use `newframe = frame.copy()`\n",
      "  likelihood[n_honest] = total_outperform\n",
      "/tmp/ipykernel_38573/134449255.py:18: PerformanceWarning: DataFrame is highly fragmented.  This is usually the result of calling `frame.insert` many times, which has poor performance.  Consider joining all columns at once using pd.concat(axis=1) instead. To get a de-fragmented frame, use `newframe = frame.copy()`\n",
      "  likelihood[n_honest] = total_outperform\n",
      "/tmp/ipykernel_38573/134449255.py:18: PerformanceWarning: DataFrame is highly fragmented.  This is usually the result of calling `frame.insert` many times, which has poor performance.  Consider joining all columns at once using pd.concat(axis=1) instead. To get a de-fragmented frame, use `newframe = frame.copy()`\n",
      "  likelihood[n_honest] = total_outperform\n",
      "/tmp/ipykernel_38573/134449255.py:18: PerformanceWarning: DataFrame is highly fragmented.  This is usually the result of calling `frame.insert` many times, which has poor performance.  Consider joining all columns at once using pd.concat(axis=1) instead. To get a de-fragmented frame, use `newframe = frame.copy()`\n",
      "  likelihood[n_honest] = total_outperform\n",
      "/tmp/ipykernel_38573/134449255.py:18: PerformanceWarning: DataFrame is highly fragmented.  This is usually the result of calling `frame.insert` many times, which has poor performance.  Consider joining all columns at once using pd.concat(axis=1) instead. To get a de-fragmented frame, use `newframe = frame.copy()`\n",
      "  likelihood[n_honest] = total_outperform\n",
      "/tmp/ipykernel_38573/134449255.py:18: PerformanceWarning: DataFrame is highly fragmented.  This is usually the result of calling `frame.insert` many times, which has poor performance.  Consider joining all columns at once using pd.concat(axis=1) instead. To get a de-fragmented frame, use `newframe = frame.copy()`\n",
      "  likelihood[n_honest] = total_outperform\n",
      "/tmp/ipykernel_38573/134449255.py:18: PerformanceWarning: DataFrame is highly fragmented.  This is usually the result of calling `frame.insert` many times, which has poor performance.  Consider joining all columns at once using pd.concat(axis=1) instead. To get a de-fragmented frame, use `newframe = frame.copy()`\n",
      "  likelihood[n_honest] = total_outperform\n",
      "/tmp/ipykernel_38573/134449255.py:18: PerformanceWarning: DataFrame is highly fragmented.  This is usually the result of calling `frame.insert` many times, which has poor performance.  Consider joining all columns at once using pd.concat(axis=1) instead. To get a de-fragmented frame, use `newframe = frame.copy()`\n",
      "  likelihood[n_honest] = total_outperform\n",
      "/tmp/ipykernel_38573/134449255.py:18: PerformanceWarning: DataFrame is highly fragmented.  This is usually the result of calling `frame.insert` many times, which has poor performance.  Consider joining all columns at once using pd.concat(axis=1) instead. To get a de-fragmented frame, use `newframe = frame.copy()`\n",
      "  likelihood[n_honest] = total_outperform\n",
      "/tmp/ipykernel_38573/134449255.py:18: PerformanceWarning: DataFrame is highly fragmented.  This is usually the result of calling `frame.insert` many times, which has poor performance.  Consider joining all columns at once using pd.concat(axis=1) instead. To get a de-fragmented frame, use `newframe = frame.copy()`\n",
      "  likelihood[n_honest] = total_outperform\n",
      "/tmp/ipykernel_38573/134449255.py:18: PerformanceWarning: DataFrame is highly fragmented.  This is usually the result of calling `frame.insert` many times, which has poor performance.  Consider joining all columns at once using pd.concat(axis=1) instead. To get a de-fragmented frame, use `newframe = frame.copy()`\n",
      "  likelihood[n_honest] = total_outperform\n",
      "/tmp/ipykernel_38573/134449255.py:18: PerformanceWarning: DataFrame is highly fragmented.  This is usually the result of calling `frame.insert` many times, which has poor performance.  Consider joining all columns at once using pd.concat(axis=1) instead. To get a de-fragmented frame, use `newframe = frame.copy()`\n",
      "  likelihood[n_honest] = total_outperform\n",
      "/tmp/ipykernel_38573/134449255.py:18: PerformanceWarning: DataFrame is highly fragmented.  This is usually the result of calling `frame.insert` many times, which has poor performance.  Consider joining all columns at once using pd.concat(axis=1) instead. To get a de-fragmented frame, use `newframe = frame.copy()`\n",
      "  likelihood[n_honest] = total_outperform\n",
      "/tmp/ipykernel_38573/134449255.py:18: PerformanceWarning: DataFrame is highly fragmented.  This is usually the result of calling `frame.insert` many times, which has poor performance.  Consider joining all columns at once using pd.concat(axis=1) instead. To get a de-fragmented frame, use `newframe = frame.copy()`\n",
      "  likelihood[n_honest] = total_outperform\n",
      "/tmp/ipykernel_38573/134449255.py:18: PerformanceWarning: DataFrame is highly fragmented.  This is usually the result of calling `frame.insert` many times, which has poor performance.  Consider joining all columns at once using pd.concat(axis=1) instead. To get a de-fragmented frame, use `newframe = frame.copy()`\n",
      "  likelihood[n_honest] = total_outperform\n",
      "/tmp/ipykernel_38573/134449255.py:18: PerformanceWarning: DataFrame is highly fragmented.  This is usually the result of calling `frame.insert` many times, which has poor performance.  Consider joining all columns at once using pd.concat(axis=1) instead. To get a de-fragmented frame, use `newframe = frame.copy()`\n",
      "  likelihood[n_honest] = total_outperform\n",
      "/tmp/ipykernel_38573/134449255.py:18: PerformanceWarning: DataFrame is highly fragmented.  This is usually the result of calling `frame.insert` many times, which has poor performance.  Consider joining all columns at once using pd.concat(axis=1) instead. To get a de-fragmented frame, use `newframe = frame.copy()`\n",
      "  likelihood[n_honest] = total_outperform\n",
      "/tmp/ipykernel_38573/134449255.py:18: PerformanceWarning: DataFrame is highly fragmented.  This is usually the result of calling `frame.insert` many times, which has poor performance.  Consider joining all columns at once using pd.concat(axis=1) instead. To get a de-fragmented frame, use `newframe = frame.copy()`\n",
      "  likelihood[n_honest] = total_outperform\n",
      "/tmp/ipykernel_38573/134449255.py:18: PerformanceWarning: DataFrame is highly fragmented.  This is usually the result of calling `frame.insert` many times, which has poor performance.  Consider joining all columns at once using pd.concat(axis=1) instead. To get a de-fragmented frame, use `newframe = frame.copy()`\n",
      "  likelihood[n_honest] = total_outperform\n",
      "/tmp/ipykernel_38573/134449255.py:18: PerformanceWarning: DataFrame is highly fragmented.  This is usually the result of calling `frame.insert` many times, which has poor performance.  Consider joining all columns at once using pd.concat(axis=1) instead. To get a de-fragmented frame, use `newframe = frame.copy()`\n",
      "  likelihood[n_honest] = total_outperform\n",
      "/tmp/ipykernel_38573/134449255.py:18: PerformanceWarning: DataFrame is highly fragmented.  This is usually the result of calling `frame.insert` many times, which has poor performance.  Consider joining all columns at once using pd.concat(axis=1) instead. To get a de-fragmented frame, use `newframe = frame.copy()`\n",
      "  likelihood[n_honest] = total_outperform\n",
      "/tmp/ipykernel_38573/134449255.py:18: PerformanceWarning: DataFrame is highly fragmented.  This is usually the result of calling `frame.insert` many times, which has poor performance.  Consider joining all columns at once using pd.concat(axis=1) instead. To get a de-fragmented frame, use `newframe = frame.copy()`\n",
      "  likelihood[n_honest] = total_outperform\n",
      "/tmp/ipykernel_38573/134449255.py:18: PerformanceWarning: DataFrame is highly fragmented.  This is usually the result of calling `frame.insert` many times, which has poor performance.  Consider joining all columns at once using pd.concat(axis=1) instead. To get a de-fragmented frame, use `newframe = frame.copy()`\n",
      "  likelihood[n_honest] = total_outperform\n",
      "/tmp/ipykernel_38573/134449255.py:18: PerformanceWarning: DataFrame is highly fragmented.  This is usually the result of calling `frame.insert` many times, which has poor performance.  Consider joining all columns at once using pd.concat(axis=1) instead. To get a de-fragmented frame, use `newframe = frame.copy()`\n",
      "  likelihood[n_honest] = total_outperform\n",
      "/tmp/ipykernel_38573/134449255.py:18: PerformanceWarning: DataFrame is highly fragmented.  This is usually the result of calling `frame.insert` many times, which has poor performance.  Consider joining all columns at once using pd.concat(axis=1) instead. To get a de-fragmented frame, use `newframe = frame.copy()`\n",
      "  likelihood[n_honest] = total_outperform\n",
      "/tmp/ipykernel_38573/134449255.py:18: PerformanceWarning: DataFrame is highly fragmented.  This is usually the result of calling `frame.insert` many times, which has poor performance.  Consider joining all columns at once using pd.concat(axis=1) instead. To get a de-fragmented frame, use `newframe = frame.copy()`\n",
      "  likelihood[n_honest] = total_outperform\n",
      "/tmp/ipykernel_38573/134449255.py:18: PerformanceWarning: DataFrame is highly fragmented.  This is usually the result of calling `frame.insert` many times, which has poor performance.  Consider joining all columns at once using pd.concat(axis=1) instead. To get a de-fragmented frame, use `newframe = frame.copy()`\n",
      "  likelihood[n_honest] = total_outperform\n",
      "/tmp/ipykernel_38573/134449255.py:18: PerformanceWarning: DataFrame is highly fragmented.  This is usually the result of calling `frame.insert` many times, which has poor performance.  Consider joining all columns at once using pd.concat(axis=1) instead. To get a de-fragmented frame, use `newframe = frame.copy()`\n",
      "  likelihood[n_honest] = total_outperform\n",
      "/tmp/ipykernel_38573/134449255.py:18: PerformanceWarning: DataFrame is highly fragmented.  This is usually the result of calling `frame.insert` many times, which has poor performance.  Consider joining all columns at once using pd.concat(axis=1) instead. To get a de-fragmented frame, use `newframe = frame.copy()`\n",
      "  likelihood[n_honest] = total_outperform\n",
      "/tmp/ipykernel_38573/134449255.py:18: PerformanceWarning: DataFrame is highly fragmented.  This is usually the result of calling `frame.insert` many times, which has poor performance.  Consider joining all columns at once using pd.concat(axis=1) instead. To get a de-fragmented frame, use `newframe = frame.copy()`\n",
      "  likelihood[n_honest] = total_outperform\n",
      "/tmp/ipykernel_38573/134449255.py:18: PerformanceWarning: DataFrame is highly fragmented.  This is usually the result of calling `frame.insert` many times, which has poor performance.  Consider joining all columns at once using pd.concat(axis=1) instead. To get a de-fragmented frame, use `newframe = frame.copy()`\n",
      "  likelihood[n_honest] = total_outperform\n",
      "/tmp/ipykernel_38573/134449255.py:18: PerformanceWarning: DataFrame is highly fragmented.  This is usually the result of calling `frame.insert` many times, which has poor performance.  Consider joining all columns at once using pd.concat(axis=1) instead. To get a de-fragmented frame, use `newframe = frame.copy()`\n",
      "  likelihood[n_honest] = total_outperform\n",
      "/tmp/ipykernel_38573/134449255.py:18: PerformanceWarning: DataFrame is highly fragmented.  This is usually the result of calling `frame.insert` many times, which has poor performance.  Consider joining all columns at once using pd.concat(axis=1) instead. To get a de-fragmented frame, use `newframe = frame.copy()`\n",
      "  likelihood[n_honest] = total_outperform\n",
      "/tmp/ipykernel_38573/134449255.py:18: PerformanceWarning: DataFrame is highly fragmented.  This is usually the result of calling `frame.insert` many times, which has poor performance.  Consider joining all columns at once using pd.concat(axis=1) instead. To get a de-fragmented frame, use `newframe = frame.copy()`\n",
      "  likelihood[n_honest] = total_outperform\n",
      "/tmp/ipykernel_38573/134449255.py:18: PerformanceWarning: DataFrame is highly fragmented.  This is usually the result of calling `frame.insert` many times, which has poor performance.  Consider joining all columns at once using pd.concat(axis=1) instead. To get a de-fragmented frame, use `newframe = frame.copy()`\n",
      "  likelihood[n_honest] = total_outperform\n",
      "/tmp/ipykernel_38573/134449255.py:18: PerformanceWarning: DataFrame is highly fragmented.  This is usually the result of calling `frame.insert` many times, which has poor performance.  Consider joining all columns at once using pd.concat(axis=1) instead. To get a de-fragmented frame, use `newframe = frame.copy()`\n",
      "  likelihood[n_honest] = total_outperform\n",
      "/tmp/ipykernel_38573/134449255.py:18: PerformanceWarning: DataFrame is highly fragmented.  This is usually the result of calling `frame.insert` many times, which has poor performance.  Consider joining all columns at once using pd.concat(axis=1) instead. To get a de-fragmented frame, use `newframe = frame.copy()`\n",
      "  likelihood[n_honest] = total_outperform\n",
      "/tmp/ipykernel_38573/134449255.py:18: PerformanceWarning: DataFrame is highly fragmented.  This is usually the result of calling `frame.insert` many times, which has poor performance.  Consider joining all columns at once using pd.concat(axis=1) instead. To get a de-fragmented frame, use `newframe = frame.copy()`\n",
      "  likelihood[n_honest] = total_outperform\n",
      "/tmp/ipykernel_38573/134449255.py:18: PerformanceWarning: DataFrame is highly fragmented.  This is usually the result of calling `frame.insert` many times, which has poor performance.  Consider joining all columns at once using pd.concat(axis=1) instead. To get a de-fragmented frame, use `newframe = frame.copy()`\n",
      "  likelihood[n_honest] = total_outperform\n",
      "/tmp/ipykernel_38573/134449255.py:18: PerformanceWarning: DataFrame is highly fragmented.  This is usually the result of calling `frame.insert` many times, which has poor performance.  Consider joining all columns at once using pd.concat(axis=1) instead. To get a de-fragmented frame, use `newframe = frame.copy()`\n",
      "  likelihood[n_honest] = total_outperform\n",
      "/tmp/ipykernel_38573/134449255.py:18: PerformanceWarning: DataFrame is highly fragmented.  This is usually the result of calling `frame.insert` many times, which has poor performance.  Consider joining all columns at once using pd.concat(axis=1) instead. To get a de-fragmented frame, use `newframe = frame.copy()`\n",
      "  likelihood[n_honest] = total_outperform\n",
      "/tmp/ipykernel_38573/134449255.py:18: PerformanceWarning: DataFrame is highly fragmented.  This is usually the result of calling `frame.insert` many times, which has poor performance.  Consider joining all columns at once using pd.concat(axis=1) instead. To get a de-fragmented frame, use `newframe = frame.copy()`\n",
      "  likelihood[n_honest] = total_outperform\n",
      "/tmp/ipykernel_38573/134449255.py:18: PerformanceWarning: DataFrame is highly fragmented.  This is usually the result of calling `frame.insert` many times, which has poor performance.  Consider joining all columns at once using pd.concat(axis=1) instead. To get a de-fragmented frame, use `newframe = frame.copy()`\n",
      "  likelihood[n_honest] = total_outperform\n",
      "/tmp/ipykernel_38573/134449255.py:18: PerformanceWarning: DataFrame is highly fragmented.  This is usually the result of calling `frame.insert` many times, which has poor performance.  Consider joining all columns at once using pd.concat(axis=1) instead. To get a de-fragmented frame, use `newframe = frame.copy()`\n",
      "  likelihood[n_honest] = total_outperform\n",
      "/tmp/ipykernel_38573/134449255.py:18: PerformanceWarning: DataFrame is highly fragmented.  This is usually the result of calling `frame.insert` many times, which has poor performance.  Consider joining all columns at once using pd.concat(axis=1) instead. To get a de-fragmented frame, use `newframe = frame.copy()`\n",
      "  likelihood[n_honest] = total_outperform\n",
      "/tmp/ipykernel_38573/134449255.py:18: PerformanceWarning: DataFrame is highly fragmented.  This is usually the result of calling `frame.insert` many times, which has poor performance.  Consider joining all columns at once using pd.concat(axis=1) instead. To get a de-fragmented frame, use `newframe = frame.copy()`\n",
      "  likelihood[n_honest] = total_outperform\n",
      "/tmp/ipykernel_38573/134449255.py:18: PerformanceWarning: DataFrame is highly fragmented.  This is usually the result of calling `frame.insert` many times, which has poor performance.  Consider joining all columns at once using pd.concat(axis=1) instead. To get a de-fragmented frame, use `newframe = frame.copy()`\n",
      "  likelihood[n_honest] = total_outperform\n",
      "/tmp/ipykernel_38573/134449255.py:18: PerformanceWarning: DataFrame is highly fragmented.  This is usually the result of calling `frame.insert` many times, which has poor performance.  Consider joining all columns at once using pd.concat(axis=1) instead. To get a de-fragmented frame, use `newframe = frame.copy()`\n",
      "  likelihood[n_honest] = total_outperform\n",
      "/tmp/ipykernel_38573/134449255.py:18: PerformanceWarning: DataFrame is highly fragmented.  This is usually the result of calling `frame.insert` many times, which has poor performance.  Consider joining all columns at once using pd.concat(axis=1) instead. To get a de-fragmented frame, use `newframe = frame.copy()`\n",
      "  likelihood[n_honest] = total_outperform\n",
      "/tmp/ipykernel_38573/134449255.py:18: PerformanceWarning: DataFrame is highly fragmented.  This is usually the result of calling `frame.insert` many times, which has poor performance.  Consider joining all columns at once using pd.concat(axis=1) instead. To get a de-fragmented frame, use `newframe = frame.copy()`\n",
      "  likelihood[n_honest] = total_outperform\n",
      "/tmp/ipykernel_38573/134449255.py:18: PerformanceWarning: DataFrame is highly fragmented.  This is usually the result of calling `frame.insert` many times, which has poor performance.  Consider joining all columns at once using pd.concat(axis=1) instead. To get a de-fragmented frame, use `newframe = frame.copy()`\n",
      "  likelihood[n_honest] = total_outperform\n",
      "/tmp/ipykernel_38573/134449255.py:18: PerformanceWarning: DataFrame is highly fragmented.  This is usually the result of calling `frame.insert` many times, which has poor performance.  Consider joining all columns at once using pd.concat(axis=1) instead. To get a de-fragmented frame, use `newframe = frame.copy()`\n",
      "  likelihood[n_honest] = total_outperform\n",
      "/tmp/ipykernel_38573/134449255.py:18: PerformanceWarning: DataFrame is highly fragmented.  This is usually the result of calling `frame.insert` many times, which has poor performance.  Consider joining all columns at once using pd.concat(axis=1) instead. To get a de-fragmented frame, use `newframe = frame.copy()`\n",
      "  likelihood[n_honest] = total_outperform\n",
      "/tmp/ipykernel_38573/134449255.py:18: PerformanceWarning: DataFrame is highly fragmented.  This is usually the result of calling `frame.insert` many times, which has poor performance.  Consider joining all columns at once using pd.concat(axis=1) instead. To get a de-fragmented frame, use `newframe = frame.copy()`\n",
      "  likelihood[n_honest] = total_outperform\n",
      "/tmp/ipykernel_38573/134449255.py:18: PerformanceWarning: DataFrame is highly fragmented.  This is usually the result of calling `frame.insert` many times, which has poor performance.  Consider joining all columns at once using pd.concat(axis=1) instead. To get a de-fragmented frame, use `newframe = frame.copy()`\n",
      "  likelihood[n_honest] = total_outperform\n",
      "/tmp/ipykernel_38573/134449255.py:18: PerformanceWarning: DataFrame is highly fragmented.  This is usually the result of calling `frame.insert` many times, which has poor performance.  Consider joining all columns at once using pd.concat(axis=1) instead. To get a de-fragmented frame, use `newframe = frame.copy()`\n",
      "  likelihood[n_honest] = total_outperform\n",
      "/tmp/ipykernel_38573/134449255.py:18: PerformanceWarning: DataFrame is highly fragmented.  This is usually the result of calling `frame.insert` many times, which has poor performance.  Consider joining all columns at once using pd.concat(axis=1) instead. To get a de-fragmented frame, use `newframe = frame.copy()`\n",
      "  likelihood[n_honest] = total_outperform\n",
      "/tmp/ipykernel_38573/134449255.py:18: PerformanceWarning: DataFrame is highly fragmented.  This is usually the result of calling `frame.insert` many times, which has poor performance.  Consider joining all columns at once using pd.concat(axis=1) instead. To get a de-fragmented frame, use `newframe = frame.copy()`\n",
      "  likelihood[n_honest] = total_outperform\n",
      "/tmp/ipykernel_38573/134449255.py:18: PerformanceWarning: DataFrame is highly fragmented.  This is usually the result of calling `frame.insert` many times, which has poor performance.  Consider joining all columns at once using pd.concat(axis=1) instead. To get a de-fragmented frame, use `newframe = frame.copy()`\n",
      "  likelihood[n_honest] = total_outperform\n",
      "/tmp/ipykernel_38573/134449255.py:18: PerformanceWarning: DataFrame is highly fragmented.  This is usually the result of calling `frame.insert` many times, which has poor performance.  Consider joining all columns at once using pd.concat(axis=1) instead. To get a de-fragmented frame, use `newframe = frame.copy()`\n",
      "  likelihood[n_honest] = total_outperform\n",
      "/tmp/ipykernel_38573/134449255.py:18: PerformanceWarning: DataFrame is highly fragmented.  This is usually the result of calling `frame.insert` many times, which has poor performance.  Consider joining all columns at once using pd.concat(axis=1) instead. To get a de-fragmented frame, use `newframe = frame.copy()`\n",
      "  likelihood[n_honest] = total_outperform\n",
      "/tmp/ipykernel_38573/134449255.py:18: PerformanceWarning: DataFrame is highly fragmented.  This is usually the result of calling `frame.insert` many times, which has poor performance.  Consider joining all columns at once using pd.concat(axis=1) instead. To get a de-fragmented frame, use `newframe = frame.copy()`\n",
      "  likelihood[n_honest] = total_outperform\n",
      "/tmp/ipykernel_38573/134449255.py:18: PerformanceWarning: DataFrame is highly fragmented.  This is usually the result of calling `frame.insert` many times, which has poor performance.  Consider joining all columns at once using pd.concat(axis=1) instead. To get a de-fragmented frame, use `newframe = frame.copy()`\n",
      "  likelihood[n_honest] = total_outperform\n",
      "/tmp/ipykernel_38573/134449255.py:18: PerformanceWarning: DataFrame is highly fragmented.  This is usually the result of calling `frame.insert` many times, which has poor performance.  Consider joining all columns at once using pd.concat(axis=1) instead. To get a de-fragmented frame, use `newframe = frame.copy()`\n",
      "  likelihood[n_honest] = total_outperform\n",
      "/tmp/ipykernel_38573/134449255.py:18: PerformanceWarning: DataFrame is highly fragmented.  This is usually the result of calling `frame.insert` many times, which has poor performance.  Consider joining all columns at once using pd.concat(axis=1) instead. To get a de-fragmented frame, use `newframe = frame.copy()`\n",
      "  likelihood[n_honest] = total_outperform\n",
      "/tmp/ipykernel_38573/134449255.py:18: PerformanceWarning: DataFrame is highly fragmented.  This is usually the result of calling `frame.insert` many times, which has poor performance.  Consider joining all columns at once using pd.concat(axis=1) instead. To get a de-fragmented frame, use `newframe = frame.copy()`\n",
      "  likelihood[n_honest] = total_outperform\n",
      "/tmp/ipykernel_38573/134449255.py:18: PerformanceWarning: DataFrame is highly fragmented.  This is usually the result of calling `frame.insert` many times, which has poor performance.  Consider joining all columns at once using pd.concat(axis=1) instead. To get a de-fragmented frame, use `newframe = frame.copy()`\n",
      "  likelihood[n_honest] = total_outperform\n",
      "/tmp/ipykernel_38573/134449255.py:18: PerformanceWarning: DataFrame is highly fragmented.  This is usually the result of calling `frame.insert` many times, which has poor performance.  Consider joining all columns at once using pd.concat(axis=1) instead. To get a de-fragmented frame, use `newframe = frame.copy()`\n",
      "  likelihood[n_honest] = total_outperform\n",
      "/tmp/ipykernel_38573/134449255.py:18: PerformanceWarning: DataFrame is highly fragmented.  This is usually the result of calling `frame.insert` many times, which has poor performance.  Consider joining all columns at once using pd.concat(axis=1) instead. To get a de-fragmented frame, use `newframe = frame.copy()`\n",
      "  likelihood[n_honest] = total_outperform\n",
      "/tmp/ipykernel_38573/134449255.py:18: PerformanceWarning: DataFrame is highly fragmented.  This is usually the result of calling `frame.insert` many times, which has poor performance.  Consider joining all columns at once using pd.concat(axis=1) instead. To get a de-fragmented frame, use `newframe = frame.copy()`\n",
      "  likelihood[n_honest] = total_outperform\n",
      "/tmp/ipykernel_38573/134449255.py:18: PerformanceWarning: DataFrame is highly fragmented.  This is usually the result of calling `frame.insert` many times, which has poor performance.  Consider joining all columns at once using pd.concat(axis=1) instead. To get a de-fragmented frame, use `newframe = frame.copy()`\n",
      "  likelihood[n_honest] = total_outperform\n",
      "/tmp/ipykernel_38573/134449255.py:18: PerformanceWarning: DataFrame is highly fragmented.  This is usually the result of calling `frame.insert` many times, which has poor performance.  Consider joining all columns at once using pd.concat(axis=1) instead. To get a de-fragmented frame, use `newframe = frame.copy()`\n",
      "  likelihood[n_honest] = total_outperform\n",
      "/tmp/ipykernel_38573/134449255.py:18: PerformanceWarning: DataFrame is highly fragmented.  This is usually the result of calling `frame.insert` many times, which has poor performance.  Consider joining all columns at once using pd.concat(axis=1) instead. To get a de-fragmented frame, use `newframe = frame.copy()`\n",
      "  likelihood[n_honest] = total_outperform\n",
      "/tmp/ipykernel_38573/134449255.py:18: PerformanceWarning: DataFrame is highly fragmented.  This is usually the result of calling `frame.insert` many times, which has poor performance.  Consider joining all columns at once using pd.concat(axis=1) instead. To get a de-fragmented frame, use `newframe = frame.copy()`\n",
      "  likelihood[n_honest] = total_outperform\n",
      "/tmp/ipykernel_38573/134449255.py:18: PerformanceWarning: DataFrame is highly fragmented.  This is usually the result of calling `frame.insert` many times, which has poor performance.  Consider joining all columns at once using pd.concat(axis=1) instead. To get a de-fragmented frame, use `newframe = frame.copy()`\n",
      "  likelihood[n_honest] = total_outperform\n",
      "/tmp/ipykernel_38573/134449255.py:18: PerformanceWarning: DataFrame is highly fragmented.  This is usually the result of calling `frame.insert` many times, which has poor performance.  Consider joining all columns at once using pd.concat(axis=1) instead. To get a de-fragmented frame, use `newframe = frame.copy()`\n",
      "  likelihood[n_honest] = total_outperform\n",
      "/tmp/ipykernel_38573/134449255.py:18: PerformanceWarning: DataFrame is highly fragmented.  This is usually the result of calling `frame.insert` many times, which has poor performance.  Consider joining all columns at once using pd.concat(axis=1) instead. To get a de-fragmented frame, use `newframe = frame.copy()`\n",
      "  likelihood[n_honest] = total_outperform\n",
      "/tmp/ipykernel_38573/134449255.py:18: PerformanceWarning: DataFrame is highly fragmented.  This is usually the result of calling `frame.insert` many times, which has poor performance.  Consider joining all columns at once using pd.concat(axis=1) instead. To get a de-fragmented frame, use `newframe = frame.copy()`\n",
      "  likelihood[n_honest] = total_outperform\n",
      "/tmp/ipykernel_38573/134449255.py:18: PerformanceWarning: DataFrame is highly fragmented.  This is usually the result of calling `frame.insert` many times, which has poor performance.  Consider joining all columns at once using pd.concat(axis=1) instead. To get a de-fragmented frame, use `newframe = frame.copy()`\n",
      "  likelihood[n_honest] = total_outperform\n",
      "/tmp/ipykernel_38573/134449255.py:18: PerformanceWarning: DataFrame is highly fragmented.  This is usually the result of calling `frame.insert` many times, which has poor performance.  Consider joining all columns at once using pd.concat(axis=1) instead. To get a de-fragmented frame, use `newframe = frame.copy()`\n",
      "  likelihood[n_honest] = total_outperform\n",
      "/tmp/ipykernel_38573/134449255.py:18: PerformanceWarning: DataFrame is highly fragmented.  This is usually the result of calling `frame.insert` many times, which has poor performance.  Consider joining all columns at once using pd.concat(axis=1) instead. To get a de-fragmented frame, use `newframe = frame.copy()`\n",
      "  likelihood[n_honest] = total_outperform\n",
      "/tmp/ipykernel_38573/134449255.py:18: PerformanceWarning: DataFrame is highly fragmented.  This is usually the result of calling `frame.insert` many times, which has poor performance.  Consider joining all columns at once using pd.concat(axis=1) instead. To get a de-fragmented frame, use `newframe = frame.copy()`\n",
      "  likelihood[n_honest] = total_outperform\n",
      "/tmp/ipykernel_38573/134449255.py:18: PerformanceWarning: DataFrame is highly fragmented.  This is usually the result of calling `frame.insert` many times, which has poor performance.  Consider joining all columns at once using pd.concat(axis=1) instead. To get a de-fragmented frame, use `newframe = frame.copy()`\n",
      "  likelihood[n_honest] = total_outperform\n",
      "/tmp/ipykernel_38573/134449255.py:18: PerformanceWarning: DataFrame is highly fragmented.  This is usually the result of calling `frame.insert` many times, which has poor performance.  Consider joining all columns at once using pd.concat(axis=1) instead. To get a de-fragmented frame, use `newframe = frame.copy()`\n",
      "  likelihood[n_honest] = total_outperform\n",
      "/tmp/ipykernel_38573/134449255.py:18: PerformanceWarning: DataFrame is highly fragmented.  This is usually the result of calling `frame.insert` many times, which has poor performance.  Consider joining all columns at once using pd.concat(axis=1) instead. To get a de-fragmented frame, use `newframe = frame.copy()`\n",
      "  likelihood[n_honest] = total_outperform\n",
      "/tmp/ipykernel_38573/134449255.py:18: PerformanceWarning: DataFrame is highly fragmented.  This is usually the result of calling `frame.insert` many times, which has poor performance.  Consider joining all columns at once using pd.concat(axis=1) instead. To get a de-fragmented frame, use `newframe = frame.copy()`\n",
      "  likelihood[n_honest] = total_outperform\n",
      "/tmp/ipykernel_38573/134449255.py:18: PerformanceWarning: DataFrame is highly fragmented.  This is usually the result of calling `frame.insert` many times, which has poor performance.  Consider joining all columns at once using pd.concat(axis=1) instead. To get a de-fragmented frame, use `newframe = frame.copy()`\n",
      "  likelihood[n_honest] = total_outperform\n",
      "/tmp/ipykernel_38573/134449255.py:18: PerformanceWarning: DataFrame is highly fragmented.  This is usually the result of calling `frame.insert` many times, which has poor performance.  Consider joining all columns at once using pd.concat(axis=1) instead. To get a de-fragmented frame, use `newframe = frame.copy()`\n",
      "  likelihood[n_honest] = total_outperform\n",
      "/tmp/ipykernel_38573/134449255.py:18: PerformanceWarning: DataFrame is highly fragmented.  This is usually the result of calling `frame.insert` many times, which has poor performance.  Consider joining all columns at once using pd.concat(axis=1) instead. To get a de-fragmented frame, use `newframe = frame.copy()`\n",
      "  likelihood[n_honest] = total_outperform\n",
      "/tmp/ipykernel_38573/134449255.py:18: PerformanceWarning: DataFrame is highly fragmented.  This is usually the result of calling `frame.insert` many times, which has poor performance.  Consider joining all columns at once using pd.concat(axis=1) instead. To get a de-fragmented frame, use `newframe = frame.copy()`\n",
      "  likelihood[n_honest] = total_outperform\n",
      "/tmp/ipykernel_38573/134449255.py:18: PerformanceWarning: DataFrame is highly fragmented.  This is usually the result of calling `frame.insert` many times, which has poor performance.  Consider joining all columns at once using pd.concat(axis=1) instead. To get a de-fragmented frame, use `newframe = frame.copy()`\n",
      "  likelihood[n_honest] = total_outperform\n",
      "/tmp/ipykernel_38573/134449255.py:18: PerformanceWarning: DataFrame is highly fragmented.  This is usually the result of calling `frame.insert` many times, which has poor performance.  Consider joining all columns at once using pd.concat(axis=1) instead. To get a de-fragmented frame, use `newframe = frame.copy()`\n",
      "  likelihood[n_honest] = total_outperform\n",
      "/tmp/ipykernel_38573/134449255.py:18: PerformanceWarning: DataFrame is highly fragmented.  This is usually the result of calling `frame.insert` many times, which has poor performance.  Consider joining all columns at once using pd.concat(axis=1) instead. To get a de-fragmented frame, use `newframe = frame.copy()`\n",
      "  likelihood[n_honest] = total_outperform\n",
      "/tmp/ipykernel_38573/134449255.py:18: PerformanceWarning: DataFrame is highly fragmented.  This is usually the result of calling `frame.insert` many times, which has poor performance.  Consider joining all columns at once using pd.concat(axis=1) instead. To get a de-fragmented frame, use `newframe = frame.copy()`\n",
      "  likelihood[n_honest] = total_outperform\n",
      "/tmp/ipykernel_38573/134449255.py:18: PerformanceWarning: DataFrame is highly fragmented.  This is usually the result of calling `frame.insert` many times, which has poor performance.  Consider joining all columns at once using pd.concat(axis=1) instead. To get a de-fragmented frame, use `newframe = frame.copy()`\n",
      "  likelihood[n_honest] = total_outperform\n",
      "/tmp/ipykernel_38573/134449255.py:18: PerformanceWarning: DataFrame is highly fragmented.  This is usually the result of calling `frame.insert` many times, which has poor performance.  Consider joining all columns at once using pd.concat(axis=1) instead. To get a de-fragmented frame, use `newframe = frame.copy()`\n",
      "  likelihood[n_honest] = total_outperform\n",
      "/tmp/ipykernel_38573/134449255.py:18: PerformanceWarning: DataFrame is highly fragmented.  This is usually the result of calling `frame.insert` many times, which has poor performance.  Consider joining all columns at once using pd.concat(axis=1) instead. To get a de-fragmented frame, use `newframe = frame.copy()`\n",
      "  likelihood[n_honest] = total_outperform\n",
      "/tmp/ipykernel_38573/134449255.py:18: PerformanceWarning: DataFrame is highly fragmented.  This is usually the result of calling `frame.insert` many times, which has poor performance.  Consider joining all columns at once using pd.concat(axis=1) instead. To get a de-fragmented frame, use `newframe = frame.copy()`\n",
      "  likelihood[n_honest] = total_outperform\n",
      "/tmp/ipykernel_38573/134449255.py:18: PerformanceWarning: DataFrame is highly fragmented.  This is usually the result of calling `frame.insert` many times, which has poor performance.  Consider joining all columns at once using pd.concat(axis=1) instead. To get a de-fragmented frame, use `newframe = frame.copy()`\n",
      "  likelihood[n_honest] = total_outperform\n",
      "/tmp/ipykernel_38573/134449255.py:18: PerformanceWarning: DataFrame is highly fragmented.  This is usually the result of calling `frame.insert` many times, which has poor performance.  Consider joining all columns at once using pd.concat(axis=1) instead. To get a de-fragmented frame, use `newframe = frame.copy()`\n",
      "  likelihood[n_honest] = total_outperform\n",
      "/tmp/ipykernel_38573/134449255.py:18: PerformanceWarning: DataFrame is highly fragmented.  This is usually the result of calling `frame.insert` many times, which has poor performance.  Consider joining all columns at once using pd.concat(axis=1) instead. To get a de-fragmented frame, use `newframe = frame.copy()`\n",
      "  likelihood[n_honest] = total_outperform\n",
      "/tmp/ipykernel_38573/134449255.py:18: PerformanceWarning: DataFrame is highly fragmented.  This is usually the result of calling `frame.insert` many times, which has poor performance.  Consider joining all columns at once using pd.concat(axis=1) instead. To get a de-fragmented frame, use `newframe = frame.copy()`\n",
      "  likelihood[n_honest] = total_outperform\n",
      "/tmp/ipykernel_38573/134449255.py:18: PerformanceWarning: DataFrame is highly fragmented.  This is usually the result of calling `frame.insert` many times, which has poor performance.  Consider joining all columns at once using pd.concat(axis=1) instead. To get a de-fragmented frame, use `newframe = frame.copy()`\n",
      "  likelihood[n_honest] = total_outperform\n",
      "/tmp/ipykernel_38573/134449255.py:18: PerformanceWarning: DataFrame is highly fragmented.  This is usually the result of calling `frame.insert` many times, which has poor performance.  Consider joining all columns at once using pd.concat(axis=1) instead. To get a de-fragmented frame, use `newframe = frame.copy()`\n",
      "  likelihood[n_honest] = total_outperform\n",
      "/tmp/ipykernel_38573/134449255.py:18: PerformanceWarning: DataFrame is highly fragmented.  This is usually the result of calling `frame.insert` many times, which has poor performance.  Consider joining all columns at once using pd.concat(axis=1) instead. To get a de-fragmented frame, use `newframe = frame.copy()`\n",
      "  likelihood[n_honest] = total_outperform\n",
      "/tmp/ipykernel_38573/134449255.py:18: PerformanceWarning: DataFrame is highly fragmented.  This is usually the result of calling `frame.insert` many times, which has poor performance.  Consider joining all columns at once using pd.concat(axis=1) instead. To get a de-fragmented frame, use `newframe = frame.copy()`\n",
      "  likelihood[n_honest] = total_outperform\n",
      "/tmp/ipykernel_38573/134449255.py:18: PerformanceWarning: DataFrame is highly fragmented.  This is usually the result of calling `frame.insert` many times, which has poor performance.  Consider joining all columns at once using pd.concat(axis=1) instead. To get a de-fragmented frame, use `newframe = frame.copy()`\n",
      "  likelihood[n_honest] = total_outperform\n",
      "/tmp/ipykernel_38573/134449255.py:18: PerformanceWarning: DataFrame is highly fragmented.  This is usually the result of calling `frame.insert` many times, which has poor performance.  Consider joining all columns at once using pd.concat(axis=1) instead. To get a de-fragmented frame, use `newframe = frame.copy()`\n",
      "  likelihood[n_honest] = total_outperform\n",
      "/tmp/ipykernel_38573/134449255.py:18: PerformanceWarning: DataFrame is highly fragmented.  This is usually the result of calling `frame.insert` many times, which has poor performance.  Consider joining all columns at once using pd.concat(axis=1) instead. To get a de-fragmented frame, use `newframe = frame.copy()`\n",
      "  likelihood[n_honest] = total_outperform\n",
      "/tmp/ipykernel_38573/134449255.py:18: PerformanceWarning: DataFrame is highly fragmented.  This is usually the result of calling `frame.insert` many times, which has poor performance.  Consider joining all columns at once using pd.concat(axis=1) instead. To get a de-fragmented frame, use `newframe = frame.copy()`\n",
      "  likelihood[n_honest] = total_outperform\n",
      "/tmp/ipykernel_38573/134449255.py:18: PerformanceWarning: DataFrame is highly fragmented.  This is usually the result of calling `frame.insert` many times, which has poor performance.  Consider joining all columns at once using pd.concat(axis=1) instead. To get a de-fragmented frame, use `newframe = frame.copy()`\n",
      "  likelihood[n_honest] = total_outperform\n",
      "/tmp/ipykernel_38573/134449255.py:18: PerformanceWarning: DataFrame is highly fragmented.  This is usually the result of calling `frame.insert` many times, which has poor performance.  Consider joining all columns at once using pd.concat(axis=1) instead. To get a de-fragmented frame, use `newframe = frame.copy()`\n",
      "  likelihood[n_honest] = total_outperform\n",
      "/tmp/ipykernel_38573/134449255.py:18: PerformanceWarning: DataFrame is highly fragmented.  This is usually the result of calling `frame.insert` many times, which has poor performance.  Consider joining all columns at once using pd.concat(axis=1) instead. To get a de-fragmented frame, use `newframe = frame.copy()`\n",
      "  likelihood[n_honest] = total_outperform\n",
      "/tmp/ipykernel_38573/134449255.py:18: PerformanceWarning: DataFrame is highly fragmented.  This is usually the result of calling `frame.insert` many times, which has poor performance.  Consider joining all columns at once using pd.concat(axis=1) instead. To get a de-fragmented frame, use `newframe = frame.copy()`\n",
      "  likelihood[n_honest] = total_outperform\n",
      "/tmp/ipykernel_38573/134449255.py:18: PerformanceWarning: DataFrame is highly fragmented.  This is usually the result of calling `frame.insert` many times, which has poor performance.  Consider joining all columns at once using pd.concat(axis=1) instead. To get a de-fragmented frame, use `newframe = frame.copy()`\n",
      "  likelihood[n_honest] = total_outperform\n",
      "/tmp/ipykernel_38573/134449255.py:18: PerformanceWarning: DataFrame is highly fragmented.  This is usually the result of calling `frame.insert` many times, which has poor performance.  Consider joining all columns at once using pd.concat(axis=1) instead. To get a de-fragmented frame, use `newframe = frame.copy()`\n",
      "  likelihood[n_honest] = total_outperform\n",
      "/tmp/ipykernel_38573/134449255.py:18: PerformanceWarning: DataFrame is highly fragmented.  This is usually the result of calling `frame.insert` many times, which has poor performance.  Consider joining all columns at once using pd.concat(axis=1) instead. To get a de-fragmented frame, use `newframe = frame.copy()`\n",
      "  likelihood[n_honest] = total_outperform\n",
      "/tmp/ipykernel_38573/134449255.py:18: PerformanceWarning: DataFrame is highly fragmented.  This is usually the result of calling `frame.insert` many times, which has poor performance.  Consider joining all columns at once using pd.concat(axis=1) instead. To get a de-fragmented frame, use `newframe = frame.copy()`\n",
      "  likelihood[n_honest] = total_outperform\n",
      "/tmp/ipykernel_38573/134449255.py:18: PerformanceWarning: DataFrame is highly fragmented.  This is usually the result of calling `frame.insert` many times, which has poor performance.  Consider joining all columns at once using pd.concat(axis=1) instead. To get a de-fragmented frame, use `newframe = frame.copy()`\n",
      "  likelihood[n_honest] = total_outperform\n",
      "/tmp/ipykernel_38573/134449255.py:18: PerformanceWarning: DataFrame is highly fragmented.  This is usually the result of calling `frame.insert` many times, which has poor performance.  Consider joining all columns at once using pd.concat(axis=1) instead. To get a de-fragmented frame, use `newframe = frame.copy()`\n",
      "  likelihood[n_honest] = total_outperform\n",
      "/tmp/ipykernel_38573/134449255.py:18: PerformanceWarning: DataFrame is highly fragmented.  This is usually the result of calling `frame.insert` many times, which has poor performance.  Consider joining all columns at once using pd.concat(axis=1) instead. To get a de-fragmented frame, use `newframe = frame.copy()`\n",
      "  likelihood[n_honest] = total_outperform\n",
      "/tmp/ipykernel_38573/134449255.py:18: PerformanceWarning: DataFrame is highly fragmented.  This is usually the result of calling `frame.insert` many times, which has poor performance.  Consider joining all columns at once using pd.concat(axis=1) instead. To get a de-fragmented frame, use `newframe = frame.copy()`\n",
      "  likelihood[n_honest] = total_outperform\n",
      "/tmp/ipykernel_38573/134449255.py:18: PerformanceWarning: DataFrame is highly fragmented.  This is usually the result of calling `frame.insert` many times, which has poor performance.  Consider joining all columns at once using pd.concat(axis=1) instead. To get a de-fragmented frame, use `newframe = frame.copy()`\n",
      "  likelihood[n_honest] = total_outperform\n",
      "/tmp/ipykernel_38573/134449255.py:18: PerformanceWarning: DataFrame is highly fragmented.  This is usually the result of calling `frame.insert` many times, which has poor performance.  Consider joining all columns at once using pd.concat(axis=1) instead. To get a de-fragmented frame, use `newframe = frame.copy()`\n",
      "  likelihood[n_honest] = total_outperform\n",
      "/tmp/ipykernel_38573/134449255.py:18: PerformanceWarning: DataFrame is highly fragmented.  This is usually the result of calling `frame.insert` many times, which has poor performance.  Consider joining all columns at once using pd.concat(axis=1) instead. To get a de-fragmented frame, use `newframe = frame.copy()`\n",
      "  likelihood[n_honest] = total_outperform\n",
      "/tmp/ipykernel_38573/134449255.py:18: PerformanceWarning: DataFrame is highly fragmented.  This is usually the result of calling `frame.insert` many times, which has poor performance.  Consider joining all columns at once using pd.concat(axis=1) instead. To get a de-fragmented frame, use `newframe = frame.copy()`\n",
      "  likelihood[n_honest] = total_outperform\n",
      "/tmp/ipykernel_38573/134449255.py:18: PerformanceWarning: DataFrame is highly fragmented.  This is usually the result of calling `frame.insert` many times, which has poor performance.  Consider joining all columns at once using pd.concat(axis=1) instead. To get a de-fragmented frame, use `newframe = frame.copy()`\n",
      "  likelihood[n_honest] = total_outperform\n",
      "/tmp/ipykernel_38573/134449255.py:18: PerformanceWarning: DataFrame is highly fragmented.  This is usually the result of calling `frame.insert` many times, which has poor performance.  Consider joining all columns at once using pd.concat(axis=1) instead. To get a de-fragmented frame, use `newframe = frame.copy()`\n",
      "  likelihood[n_honest] = total_outperform\n",
      "/tmp/ipykernel_38573/134449255.py:18: PerformanceWarning: DataFrame is highly fragmented.  This is usually the result of calling `frame.insert` many times, which has poor performance.  Consider joining all columns at once using pd.concat(axis=1) instead. To get a de-fragmented frame, use `newframe = frame.copy()`\n",
      "  likelihood[n_honest] = total_outperform\n",
      "/tmp/ipykernel_38573/134449255.py:18: PerformanceWarning: DataFrame is highly fragmented.  This is usually the result of calling `frame.insert` many times, which has poor performance.  Consider joining all columns at once using pd.concat(axis=1) instead. To get a de-fragmented frame, use `newframe = frame.copy()`\n",
      "  likelihood[n_honest] = total_outperform\n",
      "/tmp/ipykernel_38573/134449255.py:18: PerformanceWarning: DataFrame is highly fragmented.  This is usually the result of calling `frame.insert` many times, which has poor performance.  Consider joining all columns at once using pd.concat(axis=1) instead. To get a de-fragmented frame, use `newframe = frame.copy()`\n",
      "  likelihood[n_honest] = total_outperform\n",
      "/tmp/ipykernel_38573/134449255.py:18: PerformanceWarning: DataFrame is highly fragmented.  This is usually the result of calling `frame.insert` many times, which has poor performance.  Consider joining all columns at once using pd.concat(axis=1) instead. To get a de-fragmented frame, use `newframe = frame.copy()`\n",
      "  likelihood[n_honest] = total_outperform\n",
      "/tmp/ipykernel_38573/134449255.py:18: PerformanceWarning: DataFrame is highly fragmented.  This is usually the result of calling `frame.insert` many times, which has poor performance.  Consider joining all columns at once using pd.concat(axis=1) instead. To get a de-fragmented frame, use `newframe = frame.copy()`\n",
      "  likelihood[n_honest] = total_outperform\n",
      "/tmp/ipykernel_38573/134449255.py:18: PerformanceWarning: DataFrame is highly fragmented.  This is usually the result of calling `frame.insert` many times, which has poor performance.  Consider joining all columns at once using pd.concat(axis=1) instead. To get a de-fragmented frame, use `newframe = frame.copy()`\n",
      "  likelihood[n_honest] = total_outperform\n",
      "/tmp/ipykernel_38573/134449255.py:18: PerformanceWarning: DataFrame is highly fragmented.  This is usually the result of calling `frame.insert` many times, which has poor performance.  Consider joining all columns at once using pd.concat(axis=1) instead. To get a de-fragmented frame, use `newframe = frame.copy()`\n",
      "  likelihood[n_honest] = total_outperform\n",
      "/tmp/ipykernel_38573/134449255.py:18: PerformanceWarning: DataFrame is highly fragmented.  This is usually the result of calling `frame.insert` many times, which has poor performance.  Consider joining all columns at once using pd.concat(axis=1) instead. To get a de-fragmented frame, use `newframe = frame.copy()`\n",
      "  likelihood[n_honest] = total_outperform\n",
      "/tmp/ipykernel_38573/134449255.py:18: PerformanceWarning: DataFrame is highly fragmented.  This is usually the result of calling `frame.insert` many times, which has poor performance.  Consider joining all columns at once using pd.concat(axis=1) instead. To get a de-fragmented frame, use `newframe = frame.copy()`\n",
      "  likelihood[n_honest] = total_outperform\n",
      "/tmp/ipykernel_38573/134449255.py:18: PerformanceWarning: DataFrame is highly fragmented.  This is usually the result of calling `frame.insert` many times, which has poor performance.  Consider joining all columns at once using pd.concat(axis=1) instead. To get a de-fragmented frame, use `newframe = frame.copy()`\n",
      "  likelihood[n_honest] = total_outperform\n",
      "/tmp/ipykernel_38573/134449255.py:18: PerformanceWarning: DataFrame is highly fragmented.  This is usually the result of calling `frame.insert` many times, which has poor performance.  Consider joining all columns at once using pd.concat(axis=1) instead. To get a de-fragmented frame, use `newframe = frame.copy()`\n",
      "  likelihood[n_honest] = total_outperform\n",
      "/tmp/ipykernel_38573/134449255.py:18: PerformanceWarning: DataFrame is highly fragmented.  This is usually the result of calling `frame.insert` many times, which has poor performance.  Consider joining all columns at once using pd.concat(axis=1) instead. To get a de-fragmented frame, use `newframe = frame.copy()`\n",
      "  likelihood[n_honest] = total_outperform\n",
      "/tmp/ipykernel_38573/134449255.py:18: PerformanceWarning: DataFrame is highly fragmented.  This is usually the result of calling `frame.insert` many times, which has poor performance.  Consider joining all columns at once using pd.concat(axis=1) instead. To get a de-fragmented frame, use `newframe = frame.copy()`\n",
      "  likelihood[n_honest] = total_outperform\n",
      "/tmp/ipykernel_38573/134449255.py:18: PerformanceWarning: DataFrame is highly fragmented.  This is usually the result of calling `frame.insert` many times, which has poor performance.  Consider joining all columns at once using pd.concat(axis=1) instead. To get a de-fragmented frame, use `newframe = frame.copy()`\n",
      "  likelihood[n_honest] = total_outperform\n",
      "/tmp/ipykernel_38573/134449255.py:18: PerformanceWarning: DataFrame is highly fragmented.  This is usually the result of calling `frame.insert` many times, which has poor performance.  Consider joining all columns at once using pd.concat(axis=1) instead. To get a de-fragmented frame, use `newframe = frame.copy()`\n",
      "  likelihood[n_honest] = total_outperform\n",
      "/tmp/ipykernel_38573/134449255.py:18: PerformanceWarning: DataFrame is highly fragmented.  This is usually the result of calling `frame.insert` many times, which has poor performance.  Consider joining all columns at once using pd.concat(axis=1) instead. To get a de-fragmented frame, use `newframe = frame.copy()`\n",
      "  likelihood[n_honest] = total_outperform\n",
      "/tmp/ipykernel_38573/134449255.py:18: PerformanceWarning: DataFrame is highly fragmented.  This is usually the result of calling `frame.insert` many times, which has poor performance.  Consider joining all columns at once using pd.concat(axis=1) instead. To get a de-fragmented frame, use `newframe = frame.copy()`\n",
      "  likelihood[n_honest] = total_outperform\n",
      "/tmp/ipykernel_38573/134449255.py:18: PerformanceWarning: DataFrame is highly fragmented.  This is usually the result of calling `frame.insert` many times, which has poor performance.  Consider joining all columns at once using pd.concat(axis=1) instead. To get a de-fragmented frame, use `newframe = frame.copy()`\n",
      "  likelihood[n_honest] = total_outperform\n",
      "/tmp/ipykernel_38573/134449255.py:18: PerformanceWarning: DataFrame is highly fragmented.  This is usually the result of calling `frame.insert` many times, which has poor performance.  Consider joining all columns at once using pd.concat(axis=1) instead. To get a de-fragmented frame, use `newframe = frame.copy()`\n",
      "  likelihood[n_honest] = total_outperform\n",
      "/tmp/ipykernel_38573/134449255.py:18: PerformanceWarning: DataFrame is highly fragmented.  This is usually the result of calling `frame.insert` many times, which has poor performance.  Consider joining all columns at once using pd.concat(axis=1) instead. To get a de-fragmented frame, use `newframe = frame.copy()`\n",
      "  likelihood[n_honest] = total_outperform\n",
      "/tmp/ipykernel_38573/134449255.py:18: PerformanceWarning: DataFrame is highly fragmented.  This is usually the result of calling `frame.insert` many times, which has poor performance.  Consider joining all columns at once using pd.concat(axis=1) instead. To get a de-fragmented frame, use `newframe = frame.copy()`\n",
      "  likelihood[n_honest] = total_outperform\n",
      "/tmp/ipykernel_38573/134449255.py:18: PerformanceWarning: DataFrame is highly fragmented.  This is usually the result of calling `frame.insert` many times, which has poor performance.  Consider joining all columns at once using pd.concat(axis=1) instead. To get a de-fragmented frame, use `newframe = frame.copy()`\n",
      "  likelihood[n_honest] = total_outperform\n",
      "/tmp/ipykernel_38573/134449255.py:18: PerformanceWarning: DataFrame is highly fragmented.  This is usually the result of calling `frame.insert` many times, which has poor performance.  Consider joining all columns at once using pd.concat(axis=1) instead. To get a de-fragmented frame, use `newframe = frame.copy()`\n",
      "  likelihood[n_honest] = total_outperform\n",
      "/tmp/ipykernel_38573/134449255.py:18: PerformanceWarning: DataFrame is highly fragmented.  This is usually the result of calling `frame.insert` many times, which has poor performance.  Consider joining all columns at once using pd.concat(axis=1) instead. To get a de-fragmented frame, use `newframe = frame.copy()`\n",
      "  likelihood[n_honest] = total_outperform\n",
      "/tmp/ipykernel_38573/134449255.py:18: PerformanceWarning: DataFrame is highly fragmented.  This is usually the result of calling `frame.insert` many times, which has poor performance.  Consider joining all columns at once using pd.concat(axis=1) instead. To get a de-fragmented frame, use `newframe = frame.copy()`\n",
      "  likelihood[n_honest] = total_outperform\n",
      "/tmp/ipykernel_38573/134449255.py:18: PerformanceWarning: DataFrame is highly fragmented.  This is usually the result of calling `frame.insert` many times, which has poor performance.  Consider joining all columns at once using pd.concat(axis=1) instead. To get a de-fragmented frame, use `newframe = frame.copy()`\n",
      "  likelihood[n_honest] = total_outperform\n",
      "/tmp/ipykernel_38573/134449255.py:18: PerformanceWarning: DataFrame is highly fragmented.  This is usually the result of calling `frame.insert` many times, which has poor performance.  Consider joining all columns at once using pd.concat(axis=1) instead. To get a de-fragmented frame, use `newframe = frame.copy()`\n",
      "  likelihood[n_honest] = total_outperform\n",
      "/tmp/ipykernel_38573/134449255.py:18: PerformanceWarning: DataFrame is highly fragmented.  This is usually the result of calling `frame.insert` many times, which has poor performance.  Consider joining all columns at once using pd.concat(axis=1) instead. To get a de-fragmented frame, use `newframe = frame.copy()`\n",
      "  likelihood[n_honest] = total_outperform\n",
      "/tmp/ipykernel_38573/134449255.py:18: PerformanceWarning: DataFrame is highly fragmented.  This is usually the result of calling `frame.insert` many times, which has poor performance.  Consider joining all columns at once using pd.concat(axis=1) instead. To get a de-fragmented frame, use `newframe = frame.copy()`\n",
      "  likelihood[n_honest] = total_outperform\n",
      "/tmp/ipykernel_38573/134449255.py:18: PerformanceWarning: DataFrame is highly fragmented.  This is usually the result of calling `frame.insert` many times, which has poor performance.  Consider joining all columns at once using pd.concat(axis=1) instead. To get a de-fragmented frame, use `newframe = frame.copy()`\n",
      "  likelihood[n_honest] = total_outperform\n",
      "/tmp/ipykernel_38573/134449255.py:18: PerformanceWarning: DataFrame is highly fragmented.  This is usually the result of calling `frame.insert` many times, which has poor performance.  Consider joining all columns at once using pd.concat(axis=1) instead. To get a de-fragmented frame, use `newframe = frame.copy()`\n",
      "  likelihood[n_honest] = total_outperform\n",
      "/tmp/ipykernel_38573/134449255.py:18: PerformanceWarning: DataFrame is highly fragmented.  This is usually the result of calling `frame.insert` many times, which has poor performance.  Consider joining all columns at once using pd.concat(axis=1) instead. To get a de-fragmented frame, use `newframe = frame.copy()`\n",
      "  likelihood[n_honest] = total_outperform\n",
      "/tmp/ipykernel_38573/134449255.py:18: PerformanceWarning: DataFrame is highly fragmented.  This is usually the result of calling `frame.insert` many times, which has poor performance.  Consider joining all columns at once using pd.concat(axis=1) instead. To get a de-fragmented frame, use `newframe = frame.copy()`\n",
      "  likelihood[n_honest] = total_outperform\n",
      "/tmp/ipykernel_38573/134449255.py:18: PerformanceWarning: DataFrame is highly fragmented.  This is usually the result of calling `frame.insert` many times, which has poor performance.  Consider joining all columns at once using pd.concat(axis=1) instead. To get a de-fragmented frame, use `newframe = frame.copy()`\n",
      "  likelihood[n_honest] = total_outperform\n",
      "/tmp/ipykernel_38573/134449255.py:18: PerformanceWarning: DataFrame is highly fragmented.  This is usually the result of calling `frame.insert` many times, which has poor performance.  Consider joining all columns at once using pd.concat(axis=1) instead. To get a de-fragmented frame, use `newframe = frame.copy()`\n",
      "  likelihood[n_honest] = total_outperform\n",
      "/tmp/ipykernel_38573/134449255.py:18: PerformanceWarning: DataFrame is highly fragmented.  This is usually the result of calling `frame.insert` many times, which has poor performance.  Consider joining all columns at once using pd.concat(axis=1) instead. To get a de-fragmented frame, use `newframe = frame.copy()`\n",
      "  likelihood[n_honest] = total_outperform\n",
      "/tmp/ipykernel_38573/134449255.py:18: PerformanceWarning: DataFrame is highly fragmented.  This is usually the result of calling `frame.insert` many times, which has poor performance.  Consider joining all columns at once using pd.concat(axis=1) instead. To get a de-fragmented frame, use `newframe = frame.copy()`\n",
      "  likelihood[n_honest] = total_outperform\n",
      "/tmp/ipykernel_38573/134449255.py:18: PerformanceWarning: DataFrame is highly fragmented.  This is usually the result of calling `frame.insert` many times, which has poor performance.  Consider joining all columns at once using pd.concat(axis=1) instead. To get a de-fragmented frame, use `newframe = frame.copy()`\n",
      "  likelihood[n_honest] = total_outperform\n",
      "/tmp/ipykernel_38573/134449255.py:18: PerformanceWarning: DataFrame is highly fragmented.  This is usually the result of calling `frame.insert` many times, which has poor performance.  Consider joining all columns at once using pd.concat(axis=1) instead. To get a de-fragmented frame, use `newframe = frame.copy()`\n",
      "  likelihood[n_honest] = total_outperform\n",
      "/tmp/ipykernel_38573/134449255.py:18: PerformanceWarning: DataFrame is highly fragmented.  This is usually the result of calling `frame.insert` many times, which has poor performance.  Consider joining all columns at once using pd.concat(axis=1) instead. To get a de-fragmented frame, use `newframe = frame.copy()`\n",
      "  likelihood[n_honest] = total_outperform\n",
      "/tmp/ipykernel_38573/134449255.py:18: PerformanceWarning: DataFrame is highly fragmented.  This is usually the result of calling `frame.insert` many times, which has poor performance.  Consider joining all columns at once using pd.concat(axis=1) instead. To get a de-fragmented frame, use `newframe = frame.copy()`\n",
      "  likelihood[n_honest] = total_outperform\n",
      "/tmp/ipykernel_38573/134449255.py:18: PerformanceWarning: DataFrame is highly fragmented.  This is usually the result of calling `frame.insert` many times, which has poor performance.  Consider joining all columns at once using pd.concat(axis=1) instead. To get a de-fragmented frame, use `newframe = frame.copy()`\n",
      "  likelihood[n_honest] = total_outperform\n",
      "/tmp/ipykernel_38573/134449255.py:18: PerformanceWarning: DataFrame is highly fragmented.  This is usually the result of calling `frame.insert` many times, which has poor performance.  Consider joining all columns at once using pd.concat(axis=1) instead. To get a de-fragmented frame, use `newframe = frame.copy()`\n",
      "  likelihood[n_honest] = total_outperform\n",
      "/tmp/ipykernel_38573/134449255.py:18: PerformanceWarning: DataFrame is highly fragmented.  This is usually the result of calling `frame.insert` many times, which has poor performance.  Consider joining all columns at once using pd.concat(axis=1) instead. To get a de-fragmented frame, use `newframe = frame.copy()`\n",
      "  likelihood[n_honest] = total_outperform\n",
      "/tmp/ipykernel_38573/134449255.py:18: PerformanceWarning: DataFrame is highly fragmented.  This is usually the result of calling `frame.insert` many times, which has poor performance.  Consider joining all columns at once using pd.concat(axis=1) instead. To get a de-fragmented frame, use `newframe = frame.copy()`\n",
      "  likelihood[n_honest] = total_outperform\n",
      "/tmp/ipykernel_38573/134449255.py:18: PerformanceWarning: DataFrame is highly fragmented.  This is usually the result of calling `frame.insert` many times, which has poor performance.  Consider joining all columns at once using pd.concat(axis=1) instead. To get a de-fragmented frame, use `newframe = frame.copy()`\n",
      "  likelihood[n_honest] = total_outperform\n",
      "/tmp/ipykernel_38573/134449255.py:18: PerformanceWarning: DataFrame is highly fragmented.  This is usually the result of calling `frame.insert` many times, which has poor performance.  Consider joining all columns at once using pd.concat(axis=1) instead. To get a de-fragmented frame, use `newframe = frame.copy()`\n",
      "  likelihood[n_honest] = total_outperform\n",
      "/tmp/ipykernel_38573/134449255.py:18: PerformanceWarning: DataFrame is highly fragmented.  This is usually the result of calling `frame.insert` many times, which has poor performance.  Consider joining all columns at once using pd.concat(axis=1) instead. To get a de-fragmented frame, use `newframe = frame.copy()`\n",
      "  likelihood[n_honest] = total_outperform\n",
      "/tmp/ipykernel_38573/134449255.py:18: PerformanceWarning: DataFrame is highly fragmented.  This is usually the result of calling `frame.insert` many times, which has poor performance.  Consider joining all columns at once using pd.concat(axis=1) instead. To get a de-fragmented frame, use `newframe = frame.copy()`\n",
      "  likelihood[n_honest] = total_outperform\n",
      "/tmp/ipykernel_38573/134449255.py:18: PerformanceWarning: DataFrame is highly fragmented.  This is usually the result of calling `frame.insert` many times, which has poor performance.  Consider joining all columns at once using pd.concat(axis=1) instead. To get a de-fragmented frame, use `newframe = frame.copy()`\n",
      "  likelihood[n_honest] = total_outperform\n",
      "/tmp/ipykernel_38573/134449255.py:18: PerformanceWarning: DataFrame is highly fragmented.  This is usually the result of calling `frame.insert` many times, which has poor performance.  Consider joining all columns at once using pd.concat(axis=1) instead. To get a de-fragmented frame, use `newframe = frame.copy()`\n",
      "  likelihood[n_honest] = total_outperform\n",
      "/tmp/ipykernel_38573/134449255.py:18: PerformanceWarning: DataFrame is highly fragmented.  This is usually the result of calling `frame.insert` many times, which has poor performance.  Consider joining all columns at once using pd.concat(axis=1) instead. To get a de-fragmented frame, use `newframe = frame.copy()`\n",
      "  likelihood[n_honest] = total_outperform\n",
      "/tmp/ipykernel_38573/134449255.py:18: PerformanceWarning: DataFrame is highly fragmented.  This is usually the result of calling `frame.insert` many times, which has poor performance.  Consider joining all columns at once using pd.concat(axis=1) instead. To get a de-fragmented frame, use `newframe = frame.copy()`\n",
      "  likelihood[n_honest] = total_outperform\n",
      "/tmp/ipykernel_38573/134449255.py:18: PerformanceWarning: DataFrame is highly fragmented.  This is usually the result of calling `frame.insert` many times, which has poor performance.  Consider joining all columns at once using pd.concat(axis=1) instead. To get a de-fragmented frame, use `newframe = frame.copy()`\n",
      "  likelihood[n_honest] = total_outperform\n",
      "/tmp/ipykernel_38573/134449255.py:18: PerformanceWarning: DataFrame is highly fragmented.  This is usually the result of calling `frame.insert` many times, which has poor performance.  Consider joining all columns at once using pd.concat(axis=1) instead. To get a de-fragmented frame, use `newframe = frame.copy()`\n",
      "  likelihood[n_honest] = total_outperform\n",
      "/tmp/ipykernel_38573/134449255.py:18: PerformanceWarning: DataFrame is highly fragmented.  This is usually the result of calling `frame.insert` many times, which has poor performance.  Consider joining all columns at once using pd.concat(axis=1) instead. To get a de-fragmented frame, use `newframe = frame.copy()`\n",
      "  likelihood[n_honest] = total_outperform\n",
      "/tmp/ipykernel_38573/134449255.py:18: PerformanceWarning: DataFrame is highly fragmented.  This is usually the result of calling `frame.insert` many times, which has poor performance.  Consider joining all columns at once using pd.concat(axis=1) instead. To get a de-fragmented frame, use `newframe = frame.copy()`\n",
      "  likelihood[n_honest] = total_outperform\n",
      "/tmp/ipykernel_38573/134449255.py:18: PerformanceWarning: DataFrame is highly fragmented.  This is usually the result of calling `frame.insert` many times, which has poor performance.  Consider joining all columns at once using pd.concat(axis=1) instead. To get a de-fragmented frame, use `newframe = frame.copy()`\n",
      "  likelihood[n_honest] = total_outperform\n",
      "/tmp/ipykernel_38573/134449255.py:18: PerformanceWarning: DataFrame is highly fragmented.  This is usually the result of calling `frame.insert` many times, which has poor performance.  Consider joining all columns at once using pd.concat(axis=1) instead. To get a de-fragmented frame, use `newframe = frame.copy()`\n",
      "  likelihood[n_honest] = total_outperform\n",
      "/tmp/ipykernel_38573/134449255.py:18: PerformanceWarning: DataFrame is highly fragmented.  This is usually the result of calling `frame.insert` many times, which has poor performance.  Consider joining all columns at once using pd.concat(axis=1) instead. To get a de-fragmented frame, use `newframe = frame.copy()`\n",
      "  likelihood[n_honest] = total_outperform\n",
      "/tmp/ipykernel_38573/134449255.py:18: PerformanceWarning: DataFrame is highly fragmented.  This is usually the result of calling `frame.insert` many times, which has poor performance.  Consider joining all columns at once using pd.concat(axis=1) instead. To get a de-fragmented frame, use `newframe = frame.copy()`\n",
      "  likelihood[n_honest] = total_outperform\n",
      "/tmp/ipykernel_38573/134449255.py:18: PerformanceWarning: DataFrame is highly fragmented.  This is usually the result of calling `frame.insert` many times, which has poor performance.  Consider joining all columns at once using pd.concat(axis=1) instead. To get a de-fragmented frame, use `newframe = frame.copy()`\n",
      "  likelihood[n_honest] = total_outperform\n",
      "/tmp/ipykernel_38573/134449255.py:18: PerformanceWarning: DataFrame is highly fragmented.  This is usually the result of calling `frame.insert` many times, which has poor performance.  Consider joining all columns at once using pd.concat(axis=1) instead. To get a de-fragmented frame, use `newframe = frame.copy()`\n",
      "  likelihood[n_honest] = total_outperform\n",
      "/tmp/ipykernel_38573/134449255.py:18: PerformanceWarning: DataFrame is highly fragmented.  This is usually the result of calling `frame.insert` many times, which has poor performance.  Consider joining all columns at once using pd.concat(axis=1) instead. To get a de-fragmented frame, use `newframe = frame.copy()`\n",
      "  likelihood[n_honest] = total_outperform\n",
      "/tmp/ipykernel_38573/134449255.py:18: PerformanceWarning: DataFrame is highly fragmented.  This is usually the result of calling `frame.insert` many times, which has poor performance.  Consider joining all columns at once using pd.concat(axis=1) instead. To get a de-fragmented frame, use `newframe = frame.copy()`\n",
      "  likelihood[n_honest] = total_outperform\n",
      "/tmp/ipykernel_38573/134449255.py:18: PerformanceWarning: DataFrame is highly fragmented.  This is usually the result of calling `frame.insert` many times, which has poor performance.  Consider joining all columns at once using pd.concat(axis=1) instead. To get a de-fragmented frame, use `newframe = frame.copy()`\n",
      "  likelihood[n_honest] = total_outperform\n",
      "/tmp/ipykernel_38573/134449255.py:18: PerformanceWarning: DataFrame is highly fragmented.  This is usually the result of calling `frame.insert` many times, which has poor performance.  Consider joining all columns at once using pd.concat(axis=1) instead. To get a de-fragmented frame, use `newframe = frame.copy()`\n",
      "  likelihood[n_honest] = total_outperform\n",
      "/tmp/ipykernel_38573/134449255.py:18: PerformanceWarning: DataFrame is highly fragmented.  This is usually the result of calling `frame.insert` many times, which has poor performance.  Consider joining all columns at once using pd.concat(axis=1) instead. To get a de-fragmented frame, use `newframe = frame.copy()`\n",
      "  likelihood[n_honest] = total_outperform\n",
      "/tmp/ipykernel_38573/134449255.py:18: PerformanceWarning: DataFrame is highly fragmented.  This is usually the result of calling `frame.insert` many times, which has poor performance.  Consider joining all columns at once using pd.concat(axis=1) instead. To get a de-fragmented frame, use `newframe = frame.copy()`\n",
      "  likelihood[n_honest] = total_outperform\n",
      "/tmp/ipykernel_38573/134449255.py:18: PerformanceWarning: DataFrame is highly fragmented.  This is usually the result of calling `frame.insert` many times, which has poor performance.  Consider joining all columns at once using pd.concat(axis=1) instead. To get a de-fragmented frame, use `newframe = frame.copy()`\n",
      "  likelihood[n_honest] = total_outperform\n",
      "/tmp/ipykernel_38573/134449255.py:18: PerformanceWarning: DataFrame is highly fragmented.  This is usually the result of calling `frame.insert` many times, which has poor performance.  Consider joining all columns at once using pd.concat(axis=1) instead. To get a de-fragmented frame, use `newframe = frame.copy()`\n",
      "  likelihood[n_honest] = total_outperform\n",
      "/tmp/ipykernel_38573/134449255.py:18: PerformanceWarning: DataFrame is highly fragmented.  This is usually the result of calling `frame.insert` many times, which has poor performance.  Consider joining all columns at once using pd.concat(axis=1) instead. To get a de-fragmented frame, use `newframe = frame.copy()`\n",
      "  likelihood[n_honest] = total_outperform\n",
      "/tmp/ipykernel_38573/134449255.py:18: PerformanceWarning: DataFrame is highly fragmented.  This is usually the result of calling `frame.insert` many times, which has poor performance.  Consider joining all columns at once using pd.concat(axis=1) instead. To get a de-fragmented frame, use `newframe = frame.copy()`\n",
      "  likelihood[n_honest] = total_outperform\n",
      "/tmp/ipykernel_38573/134449255.py:18: PerformanceWarning: DataFrame is highly fragmented.  This is usually the result of calling `frame.insert` many times, which has poor performance.  Consider joining all columns at once using pd.concat(axis=1) instead. To get a de-fragmented frame, use `newframe = frame.copy()`\n",
      "  likelihood[n_honest] = total_outperform\n",
      "/tmp/ipykernel_38573/134449255.py:18: PerformanceWarning: DataFrame is highly fragmented.  This is usually the result of calling `frame.insert` many times, which has poor performance.  Consider joining all columns at once using pd.concat(axis=1) instead. To get a de-fragmented frame, use `newframe = frame.copy()`\n",
      "  likelihood[n_honest] = total_outperform\n",
      "/tmp/ipykernel_38573/134449255.py:18: PerformanceWarning: DataFrame is highly fragmented.  This is usually the result of calling `frame.insert` many times, which has poor performance.  Consider joining all columns at once using pd.concat(axis=1) instead. To get a de-fragmented frame, use `newframe = frame.copy()`\n",
      "  likelihood[n_honest] = total_outperform\n",
      "/tmp/ipykernel_38573/134449255.py:18: PerformanceWarning: DataFrame is highly fragmented.  This is usually the result of calling `frame.insert` many times, which has poor performance.  Consider joining all columns at once using pd.concat(axis=1) instead. To get a de-fragmented frame, use `newframe = frame.copy()`\n",
      "  likelihood[n_honest] = total_outperform\n",
      "/tmp/ipykernel_38573/134449255.py:18: PerformanceWarning: DataFrame is highly fragmented.  This is usually the result of calling `frame.insert` many times, which has poor performance.  Consider joining all columns at once using pd.concat(axis=1) instead. To get a de-fragmented frame, use `newframe = frame.copy()`\n",
      "  likelihood[n_honest] = total_outperform\n",
      "/tmp/ipykernel_38573/134449255.py:18: PerformanceWarning: DataFrame is highly fragmented.  This is usually the result of calling `frame.insert` many times, which has poor performance.  Consider joining all columns at once using pd.concat(axis=1) instead. To get a de-fragmented frame, use `newframe = frame.copy()`\n",
      "  likelihood[n_honest] = total_outperform\n",
      "/tmp/ipykernel_38573/134449255.py:18: PerformanceWarning: DataFrame is highly fragmented.  This is usually the result of calling `frame.insert` many times, which has poor performance.  Consider joining all columns at once using pd.concat(axis=1) instead. To get a de-fragmented frame, use `newframe = frame.copy()`\n",
      "  likelihood[n_honest] = total_outperform\n",
      "/tmp/ipykernel_38573/134449255.py:18: PerformanceWarning: DataFrame is highly fragmented.  This is usually the result of calling `frame.insert` many times, which has poor performance.  Consider joining all columns at once using pd.concat(axis=1) instead. To get a de-fragmented frame, use `newframe = frame.copy()`\n",
      "  likelihood[n_honest] = total_outperform\n",
      "/tmp/ipykernel_38573/134449255.py:18: PerformanceWarning: DataFrame is highly fragmented.  This is usually the result of calling `frame.insert` many times, which has poor performance.  Consider joining all columns at once using pd.concat(axis=1) instead. To get a de-fragmented frame, use `newframe = frame.copy()`\n",
      "  likelihood[n_honest] = total_outperform\n",
      "/tmp/ipykernel_38573/134449255.py:18: PerformanceWarning: DataFrame is highly fragmented.  This is usually the result of calling `frame.insert` many times, which has poor performance.  Consider joining all columns at once using pd.concat(axis=1) instead. To get a de-fragmented frame, use `newframe = frame.copy()`\n",
      "  likelihood[n_honest] = total_outperform\n",
      "/tmp/ipykernel_38573/134449255.py:18: PerformanceWarning: DataFrame is highly fragmented.  This is usually the result of calling `frame.insert` many times, which has poor performance.  Consider joining all columns at once using pd.concat(axis=1) instead. To get a de-fragmented frame, use `newframe = frame.copy()`\n",
      "  likelihood[n_honest] = total_outperform\n",
      "/tmp/ipykernel_38573/134449255.py:18: PerformanceWarning: DataFrame is highly fragmented.  This is usually the result of calling `frame.insert` many times, which has poor performance.  Consider joining all columns at once using pd.concat(axis=1) instead. To get a de-fragmented frame, use `newframe = frame.copy()`\n",
      "  likelihood[n_honest] = total_outperform\n",
      "/tmp/ipykernel_38573/134449255.py:18: PerformanceWarning: DataFrame is highly fragmented.  This is usually the result of calling `frame.insert` many times, which has poor performance.  Consider joining all columns at once using pd.concat(axis=1) instead. To get a de-fragmented frame, use `newframe = frame.copy()`\n",
      "  likelihood[n_honest] = total_outperform\n",
      "/tmp/ipykernel_38573/134449255.py:18: PerformanceWarning: DataFrame is highly fragmented.  This is usually the result of calling `frame.insert` many times, which has poor performance.  Consider joining all columns at once using pd.concat(axis=1) instead. To get a de-fragmented frame, use `newframe = frame.copy()`\n",
      "  likelihood[n_honest] = total_outperform\n",
      "/tmp/ipykernel_38573/134449255.py:18: PerformanceWarning: DataFrame is highly fragmented.  This is usually the result of calling `frame.insert` many times, which has poor performance.  Consider joining all columns at once using pd.concat(axis=1) instead. To get a de-fragmented frame, use `newframe = frame.copy()`\n",
      "  likelihood[n_honest] = total_outperform\n",
      "/tmp/ipykernel_38573/134449255.py:18: PerformanceWarning: DataFrame is highly fragmented.  This is usually the result of calling `frame.insert` many times, which has poor performance.  Consider joining all columns at once using pd.concat(axis=1) instead. To get a de-fragmented frame, use `newframe = frame.copy()`\n",
      "  likelihood[n_honest] = total_outperform\n",
      "/tmp/ipykernel_38573/134449255.py:18: PerformanceWarning: DataFrame is highly fragmented.  This is usually the result of calling `frame.insert` many times, which has poor performance.  Consider joining all columns at once using pd.concat(axis=1) instead. To get a de-fragmented frame, use `newframe = frame.copy()`\n",
      "  likelihood[n_honest] = total_outperform\n",
      "/tmp/ipykernel_38573/134449255.py:18: PerformanceWarning: DataFrame is highly fragmented.  This is usually the result of calling `frame.insert` many times, which has poor performance.  Consider joining all columns at once using pd.concat(axis=1) instead. To get a de-fragmented frame, use `newframe = frame.copy()`\n",
      "  likelihood[n_honest] = total_outperform\n",
      "/tmp/ipykernel_38573/134449255.py:18: PerformanceWarning: DataFrame is highly fragmented.  This is usually the result of calling `frame.insert` many times, which has poor performance.  Consider joining all columns at once using pd.concat(axis=1) instead. To get a de-fragmented frame, use `newframe = frame.copy()`\n",
      "  likelihood[n_honest] = total_outperform\n",
      "/tmp/ipykernel_38573/134449255.py:18: PerformanceWarning: DataFrame is highly fragmented.  This is usually the result of calling `frame.insert` many times, which has poor performance.  Consider joining all columns at once using pd.concat(axis=1) instead. To get a de-fragmented frame, use `newframe = frame.copy()`\n",
      "  likelihood[n_honest] = total_outperform\n",
      "/tmp/ipykernel_38573/134449255.py:18: PerformanceWarning: DataFrame is highly fragmented.  This is usually the result of calling `frame.insert` many times, which has poor performance.  Consider joining all columns at once using pd.concat(axis=1) instead. To get a de-fragmented frame, use `newframe = frame.copy()`\n",
      "  likelihood[n_honest] = total_outperform\n",
      "/tmp/ipykernel_38573/134449255.py:18: PerformanceWarning: DataFrame is highly fragmented.  This is usually the result of calling `frame.insert` many times, which has poor performance.  Consider joining all columns at once using pd.concat(axis=1) instead. To get a de-fragmented frame, use `newframe = frame.copy()`\n",
      "  likelihood[n_honest] = total_outperform\n",
      "/tmp/ipykernel_38573/134449255.py:18: PerformanceWarning: DataFrame is highly fragmented.  This is usually the result of calling `frame.insert` many times, which has poor performance.  Consider joining all columns at once using pd.concat(axis=1) instead. To get a de-fragmented frame, use `newframe = frame.copy()`\n",
      "  likelihood[n_honest] = total_outperform\n",
      "/tmp/ipykernel_38573/134449255.py:18: PerformanceWarning: DataFrame is highly fragmented.  This is usually the result of calling `frame.insert` many times, which has poor performance.  Consider joining all columns at once using pd.concat(axis=1) instead. To get a de-fragmented frame, use `newframe = frame.copy()`\n",
      "  likelihood[n_honest] = total_outperform\n",
      "/tmp/ipykernel_38573/134449255.py:18: PerformanceWarning: DataFrame is highly fragmented.  This is usually the result of calling `frame.insert` many times, which has poor performance.  Consider joining all columns at once using pd.concat(axis=1) instead. To get a de-fragmented frame, use `newframe = frame.copy()`\n",
      "  likelihood[n_honest] = total_outperform\n",
      "/tmp/ipykernel_38573/134449255.py:18: PerformanceWarning: DataFrame is highly fragmented.  This is usually the result of calling `frame.insert` many times, which has poor performance.  Consider joining all columns at once using pd.concat(axis=1) instead. To get a de-fragmented frame, use `newframe = frame.copy()`\n",
      "  likelihood[n_honest] = total_outperform\n",
      "/tmp/ipykernel_38573/134449255.py:18: PerformanceWarning: DataFrame is highly fragmented.  This is usually the result of calling `frame.insert` many times, which has poor performance.  Consider joining all columns at once using pd.concat(axis=1) instead. To get a de-fragmented frame, use `newframe = frame.copy()`\n",
      "  likelihood[n_honest] = total_outperform\n",
      "/tmp/ipykernel_38573/134449255.py:18: PerformanceWarning: DataFrame is highly fragmented.  This is usually the result of calling `frame.insert` many times, which has poor performance.  Consider joining all columns at once using pd.concat(axis=1) instead. To get a de-fragmented frame, use `newframe = frame.copy()`\n",
      "  likelihood[n_honest] = total_outperform\n",
      "/tmp/ipykernel_38573/134449255.py:18: PerformanceWarning: DataFrame is highly fragmented.  This is usually the result of calling `frame.insert` many times, which has poor performance.  Consider joining all columns at once using pd.concat(axis=1) instead. To get a de-fragmented frame, use `newframe = frame.copy()`\n",
      "  likelihood[n_honest] = total_outperform\n",
      "/tmp/ipykernel_38573/134449255.py:18: PerformanceWarning: DataFrame is highly fragmented.  This is usually the result of calling `frame.insert` many times, which has poor performance.  Consider joining all columns at once using pd.concat(axis=1) instead. To get a de-fragmented frame, use `newframe = frame.copy()`\n",
      "  likelihood[n_honest] = total_outperform\n",
      "/tmp/ipykernel_38573/134449255.py:18: PerformanceWarning: DataFrame is highly fragmented.  This is usually the result of calling `frame.insert` many times, which has poor performance.  Consider joining all columns at once using pd.concat(axis=1) instead. To get a de-fragmented frame, use `newframe = frame.copy()`\n",
      "  likelihood[n_honest] = total_outperform\n",
      "/tmp/ipykernel_38573/134449255.py:18: PerformanceWarning: DataFrame is highly fragmented.  This is usually the result of calling `frame.insert` many times, which has poor performance.  Consider joining all columns at once using pd.concat(axis=1) instead. To get a de-fragmented frame, use `newframe = frame.copy()`\n",
      "  likelihood[n_honest] = total_outperform\n",
      "/tmp/ipykernel_38573/134449255.py:18: PerformanceWarning: DataFrame is highly fragmented.  This is usually the result of calling `frame.insert` many times, which has poor performance.  Consider joining all columns at once using pd.concat(axis=1) instead. To get a de-fragmented frame, use `newframe = frame.copy()`\n",
      "  likelihood[n_honest] = total_outperform\n",
      "/tmp/ipykernel_38573/134449255.py:18: PerformanceWarning: DataFrame is highly fragmented.  This is usually the result of calling `frame.insert` many times, which has poor performance.  Consider joining all columns at once using pd.concat(axis=1) instead. To get a de-fragmented frame, use `newframe = frame.copy()`\n",
      "  likelihood[n_honest] = total_outperform\n",
      "/tmp/ipykernel_38573/134449255.py:18: PerformanceWarning: DataFrame is highly fragmented.  This is usually the result of calling `frame.insert` many times, which has poor performance.  Consider joining all columns at once using pd.concat(axis=1) instead. To get a de-fragmented frame, use `newframe = frame.copy()`\n",
      "  likelihood[n_honest] = total_outperform\n",
      "/tmp/ipykernel_38573/134449255.py:18: PerformanceWarning: DataFrame is highly fragmented.  This is usually the result of calling `frame.insert` many times, which has poor performance.  Consider joining all columns at once using pd.concat(axis=1) instead. To get a de-fragmented frame, use `newframe = frame.copy()`\n",
      "  likelihood[n_honest] = total_outperform\n",
      "/tmp/ipykernel_38573/134449255.py:18: PerformanceWarning: DataFrame is highly fragmented.  This is usually the result of calling `frame.insert` many times, which has poor performance.  Consider joining all columns at once using pd.concat(axis=1) instead. To get a de-fragmented frame, use `newframe = frame.copy()`\n",
      "  likelihood[n_honest] = total_outperform\n",
      "/tmp/ipykernel_38573/134449255.py:18: PerformanceWarning: DataFrame is highly fragmented.  This is usually the result of calling `frame.insert` many times, which has poor performance.  Consider joining all columns at once using pd.concat(axis=1) instead. To get a de-fragmented frame, use `newframe = frame.copy()`\n",
      "  likelihood[n_honest] = total_outperform\n",
      "/tmp/ipykernel_38573/134449255.py:18: PerformanceWarning: DataFrame is highly fragmented.  This is usually the result of calling `frame.insert` many times, which has poor performance.  Consider joining all columns at once using pd.concat(axis=1) instead. To get a de-fragmented frame, use `newframe = frame.copy()`\n",
      "  likelihood[n_honest] = total_outperform\n",
      "/tmp/ipykernel_38573/134449255.py:18: PerformanceWarning: DataFrame is highly fragmented.  This is usually the result of calling `frame.insert` many times, which has poor performance.  Consider joining all columns at once using pd.concat(axis=1) instead. To get a de-fragmented frame, use `newframe = frame.copy()`\n",
      "  likelihood[n_honest] = total_outperform\n",
      "/tmp/ipykernel_38573/134449255.py:18: PerformanceWarning: DataFrame is highly fragmented.  This is usually the result of calling `frame.insert` many times, which has poor performance.  Consider joining all columns at once using pd.concat(axis=1) instead. To get a de-fragmented frame, use `newframe = frame.copy()`\n",
      "  likelihood[n_honest] = total_outperform\n",
      "/tmp/ipykernel_38573/134449255.py:18: PerformanceWarning: DataFrame is highly fragmented.  This is usually the result of calling `frame.insert` many times, which has poor performance.  Consider joining all columns at once using pd.concat(axis=1) instead. To get a de-fragmented frame, use `newframe = frame.copy()`\n",
      "  likelihood[n_honest] = total_outperform\n",
      "/tmp/ipykernel_38573/134449255.py:18: PerformanceWarning: DataFrame is highly fragmented.  This is usually the result of calling `frame.insert` many times, which has poor performance.  Consider joining all columns at once using pd.concat(axis=1) instead. To get a de-fragmented frame, use `newframe = frame.copy()`\n",
      "  likelihood[n_honest] = total_outperform\n",
      "/tmp/ipykernel_38573/134449255.py:18: PerformanceWarning: DataFrame is highly fragmented.  This is usually the result of calling `frame.insert` many times, which has poor performance.  Consider joining all columns at once using pd.concat(axis=1) instead. To get a de-fragmented frame, use `newframe = frame.copy()`\n",
      "  likelihood[n_honest] = total_outperform\n",
      "/tmp/ipykernel_38573/134449255.py:18: PerformanceWarning: DataFrame is highly fragmented.  This is usually the result of calling `frame.insert` many times, which has poor performance.  Consider joining all columns at once using pd.concat(axis=1) instead. To get a de-fragmented frame, use `newframe = frame.copy()`\n",
      "  likelihood[n_honest] = total_outperform\n",
      "/tmp/ipykernel_38573/134449255.py:18: PerformanceWarning: DataFrame is highly fragmented.  This is usually the result of calling `frame.insert` many times, which has poor performance.  Consider joining all columns at once using pd.concat(axis=1) instead. To get a de-fragmented frame, use `newframe = frame.copy()`\n",
      "  likelihood[n_honest] = total_outperform\n",
      "/tmp/ipykernel_38573/134449255.py:18: PerformanceWarning: DataFrame is highly fragmented.  This is usually the result of calling `frame.insert` many times, which has poor performance.  Consider joining all columns at once using pd.concat(axis=1) instead. To get a de-fragmented frame, use `newframe = frame.copy()`\n",
      "  likelihood[n_honest] = total_outperform\n",
      "/tmp/ipykernel_38573/134449255.py:18: PerformanceWarning: DataFrame is highly fragmented.  This is usually the result of calling `frame.insert` many times, which has poor performance.  Consider joining all columns at once using pd.concat(axis=1) instead. To get a de-fragmented frame, use `newframe = frame.copy()`\n",
      "  likelihood[n_honest] = total_outperform\n",
      "/tmp/ipykernel_38573/134449255.py:18: PerformanceWarning: DataFrame is highly fragmented.  This is usually the result of calling `frame.insert` many times, which has poor performance.  Consider joining all columns at once using pd.concat(axis=1) instead. To get a de-fragmented frame, use `newframe = frame.copy()`\n",
      "  likelihood[n_honest] = total_outperform\n",
      "/tmp/ipykernel_38573/134449255.py:18: PerformanceWarning: DataFrame is highly fragmented.  This is usually the result of calling `frame.insert` many times, which has poor performance.  Consider joining all columns at once using pd.concat(axis=1) instead. To get a de-fragmented frame, use `newframe = frame.copy()`\n",
      "  likelihood[n_honest] = total_outperform\n",
      "/tmp/ipykernel_38573/134449255.py:18: PerformanceWarning: DataFrame is highly fragmented.  This is usually the result of calling `frame.insert` many times, which has poor performance.  Consider joining all columns at once using pd.concat(axis=1) instead. To get a de-fragmented frame, use `newframe = frame.copy()`\n",
      "  likelihood[n_honest] = total_outperform\n",
      "/tmp/ipykernel_38573/134449255.py:18: PerformanceWarning: DataFrame is highly fragmented.  This is usually the result of calling `frame.insert` many times, which has poor performance.  Consider joining all columns at once using pd.concat(axis=1) instead. To get a de-fragmented frame, use `newframe = frame.copy()`\n",
      "  likelihood[n_honest] = total_outperform\n",
      "/tmp/ipykernel_38573/134449255.py:18: PerformanceWarning: DataFrame is highly fragmented.  This is usually the result of calling `frame.insert` many times, which has poor performance.  Consider joining all columns at once using pd.concat(axis=1) instead. To get a de-fragmented frame, use `newframe = frame.copy()`\n",
      "  likelihood[n_honest] = total_outperform\n",
      "/tmp/ipykernel_38573/134449255.py:18: PerformanceWarning: DataFrame is highly fragmented.  This is usually the result of calling `frame.insert` many times, which has poor performance.  Consider joining all columns at once using pd.concat(axis=1) instead. To get a de-fragmented frame, use `newframe = frame.copy()`\n",
      "  likelihood[n_honest] = total_outperform\n",
      "/tmp/ipykernel_38573/134449255.py:18: PerformanceWarning: DataFrame is highly fragmented.  This is usually the result of calling `frame.insert` many times, which has poor performance.  Consider joining all columns at once using pd.concat(axis=1) instead. To get a de-fragmented frame, use `newframe = frame.copy()`\n",
      "  likelihood[n_honest] = total_outperform\n",
      "/tmp/ipykernel_38573/134449255.py:18: PerformanceWarning: DataFrame is highly fragmented.  This is usually the result of calling `frame.insert` many times, which has poor performance.  Consider joining all columns at once using pd.concat(axis=1) instead. To get a de-fragmented frame, use `newframe = frame.copy()`\n",
      "  likelihood[n_honest] = total_outperform\n",
      "/tmp/ipykernel_38573/134449255.py:18: PerformanceWarning: DataFrame is highly fragmented.  This is usually the result of calling `frame.insert` many times, which has poor performance.  Consider joining all columns at once using pd.concat(axis=1) instead. To get a de-fragmented frame, use `newframe = frame.copy()`\n",
      "  likelihood[n_honest] = total_outperform\n",
      "/tmp/ipykernel_38573/134449255.py:18: PerformanceWarning: DataFrame is highly fragmented.  This is usually the result of calling `frame.insert` many times, which has poor performance.  Consider joining all columns at once using pd.concat(axis=1) instead. To get a de-fragmented frame, use `newframe = frame.copy()`\n",
      "  likelihood[n_honest] = total_outperform\n",
      "/tmp/ipykernel_38573/134449255.py:18: PerformanceWarning: DataFrame is highly fragmented.  This is usually the result of calling `frame.insert` many times, which has poor performance.  Consider joining all columns at once using pd.concat(axis=1) instead. To get a de-fragmented frame, use `newframe = frame.copy()`\n",
      "  likelihood[n_honest] = total_outperform\n",
      "/tmp/ipykernel_38573/134449255.py:18: PerformanceWarning: DataFrame is highly fragmented.  This is usually the result of calling `frame.insert` many times, which has poor performance.  Consider joining all columns at once using pd.concat(axis=1) instead. To get a de-fragmented frame, use `newframe = frame.copy()`\n",
      "  likelihood[n_honest] = total_outperform\n",
      "/tmp/ipykernel_38573/134449255.py:18: PerformanceWarning: DataFrame is highly fragmented.  This is usually the result of calling `frame.insert` many times, which has poor performance.  Consider joining all columns at once using pd.concat(axis=1) instead. To get a de-fragmented frame, use `newframe = frame.copy()`\n",
      "  likelihood[n_honest] = total_outperform\n",
      "/tmp/ipykernel_38573/134449255.py:18: PerformanceWarning: DataFrame is highly fragmented.  This is usually the result of calling `frame.insert` many times, which has poor performance.  Consider joining all columns at once using pd.concat(axis=1) instead. To get a de-fragmented frame, use `newframe = frame.copy()`\n",
      "  likelihood[n_honest] = total_outperform\n",
      "/tmp/ipykernel_38573/134449255.py:18: PerformanceWarning: DataFrame is highly fragmented.  This is usually the result of calling `frame.insert` many times, which has poor performance.  Consider joining all columns at once using pd.concat(axis=1) instead. To get a de-fragmented frame, use `newframe = frame.copy()`\n",
      "  likelihood[n_honest] = total_outperform\n",
      "/tmp/ipykernel_38573/134449255.py:18: PerformanceWarning: DataFrame is highly fragmented.  This is usually the result of calling `frame.insert` many times, which has poor performance.  Consider joining all columns at once using pd.concat(axis=1) instead. To get a de-fragmented frame, use `newframe = frame.copy()`\n",
      "  likelihood[n_honest] = total_outperform\n",
      "/tmp/ipykernel_38573/134449255.py:18: PerformanceWarning: DataFrame is highly fragmented.  This is usually the result of calling `frame.insert` many times, which has poor performance.  Consider joining all columns at once using pd.concat(axis=1) instead. To get a de-fragmented frame, use `newframe = frame.copy()`\n",
      "  likelihood[n_honest] = total_outperform\n",
      "/tmp/ipykernel_38573/134449255.py:18: PerformanceWarning: DataFrame is highly fragmented.  This is usually the result of calling `frame.insert` many times, which has poor performance.  Consider joining all columns at once using pd.concat(axis=1) instead. To get a de-fragmented frame, use `newframe = frame.copy()`\n",
      "  likelihood[n_honest] = total_outperform\n",
      "/tmp/ipykernel_38573/134449255.py:18: PerformanceWarning: DataFrame is highly fragmented.  This is usually the result of calling `frame.insert` many times, which has poor performance.  Consider joining all columns at once using pd.concat(axis=1) instead. To get a de-fragmented frame, use `newframe = frame.copy()`\n",
      "  likelihood[n_honest] = total_outperform\n",
      "/tmp/ipykernel_38573/134449255.py:18: PerformanceWarning: DataFrame is highly fragmented.  This is usually the result of calling `frame.insert` many times, which has poor performance.  Consider joining all columns at once using pd.concat(axis=1) instead. To get a de-fragmented frame, use `newframe = frame.copy()`\n",
      "  likelihood[n_honest] = total_outperform\n",
      "/tmp/ipykernel_38573/134449255.py:18: PerformanceWarning: DataFrame is highly fragmented.  This is usually the result of calling `frame.insert` many times, which has poor performance.  Consider joining all columns at once using pd.concat(axis=1) instead. To get a de-fragmented frame, use `newframe = frame.copy()`\n",
      "  likelihood[n_honest] = total_outperform\n",
      "/tmp/ipykernel_38573/134449255.py:18: PerformanceWarning: DataFrame is highly fragmented.  This is usually the result of calling `frame.insert` many times, which has poor performance.  Consider joining all columns at once using pd.concat(axis=1) instead. To get a de-fragmented frame, use `newframe = frame.copy()`\n",
      "  likelihood[n_honest] = total_outperform\n",
      "/tmp/ipykernel_38573/134449255.py:18: PerformanceWarning: DataFrame is highly fragmented.  This is usually the result of calling `frame.insert` many times, which has poor performance.  Consider joining all columns at once using pd.concat(axis=1) instead. To get a de-fragmented frame, use `newframe = frame.copy()`\n",
      "  likelihood[n_honest] = total_outperform\n",
      "/tmp/ipykernel_38573/134449255.py:18: PerformanceWarning: DataFrame is highly fragmented.  This is usually the result of calling `frame.insert` many times, which has poor performance.  Consider joining all columns at once using pd.concat(axis=1) instead. To get a de-fragmented frame, use `newframe = frame.copy()`\n",
      "  likelihood[n_honest] = total_outperform\n",
      "/tmp/ipykernel_38573/134449255.py:18: PerformanceWarning: DataFrame is highly fragmented.  This is usually the result of calling `frame.insert` many times, which has poor performance.  Consider joining all columns at once using pd.concat(axis=1) instead. To get a de-fragmented frame, use `newframe = frame.copy()`\n",
      "  likelihood[n_honest] = total_outperform\n",
      "/tmp/ipykernel_38573/134449255.py:18: PerformanceWarning: DataFrame is highly fragmented.  This is usually the result of calling `frame.insert` many times, which has poor performance.  Consider joining all columns at once using pd.concat(axis=1) instead. To get a de-fragmented frame, use `newframe = frame.copy()`\n",
      "  likelihood[n_honest] = total_outperform\n",
      "/tmp/ipykernel_38573/134449255.py:18: PerformanceWarning: DataFrame is highly fragmented.  This is usually the result of calling `frame.insert` many times, which has poor performance.  Consider joining all columns at once using pd.concat(axis=1) instead. To get a de-fragmented frame, use `newframe = frame.copy()`\n",
      "  likelihood[n_honest] = total_outperform\n",
      "/tmp/ipykernel_38573/134449255.py:18: PerformanceWarning: DataFrame is highly fragmented.  This is usually the result of calling `frame.insert` many times, which has poor performance.  Consider joining all columns at once using pd.concat(axis=1) instead. To get a de-fragmented frame, use `newframe = frame.copy()`\n",
      "  likelihood[n_honest] = total_outperform\n",
      "/tmp/ipykernel_38573/134449255.py:18: PerformanceWarning: DataFrame is highly fragmented.  This is usually the result of calling `frame.insert` many times, which has poor performance.  Consider joining all columns at once using pd.concat(axis=1) instead. To get a de-fragmented frame, use `newframe = frame.copy()`\n",
      "  likelihood[n_honest] = total_outperform\n",
      "/tmp/ipykernel_38573/134449255.py:18: PerformanceWarning: DataFrame is highly fragmented.  This is usually the result of calling `frame.insert` many times, which has poor performance.  Consider joining all columns at once using pd.concat(axis=1) instead. To get a de-fragmented frame, use `newframe = frame.copy()`\n",
      "  likelihood[n_honest] = total_outperform\n",
      "/tmp/ipykernel_38573/134449255.py:18: PerformanceWarning: DataFrame is highly fragmented.  This is usually the result of calling `frame.insert` many times, which has poor performance.  Consider joining all columns at once using pd.concat(axis=1) instead. To get a de-fragmented frame, use `newframe = frame.copy()`\n",
      "  likelihood[n_honest] = total_outperform\n",
      "/tmp/ipykernel_38573/134449255.py:18: PerformanceWarning: DataFrame is highly fragmented.  This is usually the result of calling `frame.insert` many times, which has poor performance.  Consider joining all columns at once using pd.concat(axis=1) instead. To get a de-fragmented frame, use `newframe = frame.copy()`\n",
      "  likelihood[n_honest] = total_outperform\n"
     ]
    }
   ],
   "source": [
    "# Solution goes here\n",
    "\n",
    "# D = 312 out of 538 members out perform the mrket\n",
    "# H = x out of 538 members of congress are honest\n",
    "\n",
    "N = 538\n",
    "hypos = range(0, N + 1)\n",
    "prior = Pmf(1, hypos)\n",
    "prior.normalize()\n",
    "\n",
    "likelihood = pd.DataFrame()\n",
    "\n",
    "for n_honest in range(0, N + 1):\n",
    "    n_dishonest = N - n_honest\n",
    "    honest_outperform = make_binomial(n_honest, 0.5)\n",
    "    dishonest_outperform = make_binomial(n_dishonest, 0.9)\n",
    "    total_outperform = Pmf.add_dist(honest_outperform, dishonest_outperform)\n",
    "    likelihood[n_honest] = total_outperform\n",
    "\n",
    "\n",
    "# D = 312 out of 538 members out perform the mrket | H = x out of 538 members of congress are honest\n",
    "\n"
   ]
  },
  {
   "cell_type": "code",
   "execution_count": 205,
   "metadata": {},
   "outputs": [
    {
     "data": {
      "text/plain": [
       "430"
      ]
     },
     "execution_count": 205,
     "metadata": {},
     "output_type": "execute_result"
    }
   ],
   "source": [
    "\n",
    "posterior = prior * likelihood.loc[312]\n",
    "posterior.normalize()\n",
    "\n",
    "posterior.max_prob()\n",
    "# posterior.normalize()\n",
    "# # posterior.plot()\n",
    "# posterior.max_prob()"
   ]
  },
  {
   "cell_type": "code",
   "execution_count": 206,
   "metadata": {},
   "outputs": [
    {
     "data": {
      "image/png": "[encoded data removed]",
      "text/plain": [
       "<Figure size 640x480 with 1 Axes>"
      ]
     },
     "metadata": {},
     "output_type": "display_data"
    }
   ],
   "source": [
    "posterior.plot(label='posterior')\n",
    "decorate(xlabel='Number of honest members of Congress',\n",
    "         ylabel='PMF')"
   ]
  },
  {
   "cell_type": "code",
   "execution_count": 207,
   "metadata": {
    "execution": {
     "iopub.execute_input": "2021-04-16T19:35:29.237941Z",
     "iopub.status.busy": "2021-04-16T19:35:29.237391Z",
     "iopub.status.idle": "2021-04-16T19:35:29.243431Z",
     "shell.execute_reply": "2021-04-16T19:35:29.242940Z"
    }
   },
   "outputs": [
    {
     "data": {
      "text/plain": [
       "431.48821145019946"
      ]
     },
     "execution_count": 207,
     "metadata": {},
     "output_type": "execute_result"
    }
   ],
   "source": [
    "# Solution goes here\n",
    "posterior.mean()"
   ]
  },
  {
   "cell_type": "code",
   "execution_count": 208,
   "metadata": {
    "execution": {
     "iopub.execute_input": "2021-04-16T19:35:29.247538Z",
     "iopub.status.busy": "2021-04-16T19:35:29.246906Z",
     "iopub.status.idle": "2021-04-16T19:35:29.249712Z",
     "shell.execute_reply": "2021-04-16T19:35:29.249309Z"
    }
   },
   "outputs": [
    {
     "data": {
      "text/plain": [
       "array([388., 477.])"
      ]
     },
     "execution_count": 208,
     "metadata": {},
     "output_type": "execute_result"
    }
   ],
   "source": [
    "# Solution goes here\n",
    "posterior.credible_interval(0.9)"
   ]
  },
  {
   "cell_type": "code",
   "execution_count": null,
   "metadata": {
    "execution": {
     "iopub.execute_input": "2021-04-16T19:35:29.253937Z",
     "iopub.status.busy": "2021-04-16T19:35:29.252471Z",
     "iopub.status.idle": "2021-04-16T19:35:29.256808Z",
     "shell.execute_reply": "2021-04-16T19:35:29.256391Z"
    }
   },
   "outputs": [],
   "source": [
    "# Solution goes here"
   ]
  },
  {
   "cell_type": "code",
   "execution_count": null,
   "metadata": {
    "execution": {
     "iopub.execute_input": "2021-04-16T19:35:29.291044Z",
     "iopub.status.busy": "2021-04-16T19:35:29.290611Z",
     "iopub.status.idle": "2021-04-16T19:35:29.403725Z",
     "shell.execute_reply": "2021-04-16T19:35:29.403346Z"
    }
   },
   "outputs": [],
   "source": [
    "# Solution goes here"
   ]
  },
  {
   "cell_type": "code",
   "execution_count": null,
   "metadata": {
    "execution": {
     "iopub.execute_input": "2021-04-16T19:35:29.407201Z",
     "iopub.status.busy": "2021-04-16T19:35:29.406723Z",
     "iopub.status.idle": "2021-04-16T19:35:29.411010Z",
     "shell.execute_reply": "2021-04-16T19:35:29.411524Z"
    }
   },
   "outputs": [],
   "source": [
    "# Solution goes here"
   ]
  },
  {
   "cell_type": "code",
   "execution_count": null,
   "metadata": {
    "execution": {
     "iopub.execute_input": "2021-04-16T19:35:29.415545Z",
     "iopub.status.busy": "2021-04-16T19:35:29.415072Z",
     "iopub.status.idle": "2021-04-16T19:35:29.420156Z",
     "shell.execute_reply": "2021-04-16T19:35:29.419744Z"
    }
   },
   "outputs": [],
   "source": [
    "# Solution goes here"
   ]
  },
  {
   "cell_type": "code",
   "execution_count": null,
   "metadata": {},
   "outputs": [],
   "source": []
  }
 ],
 "metadata": {
  "celltoolbar": "Tags",
  "kernelspec": {
   "display_name": "Python 3",
   "language": "python",
   "name": "python3"
  },
  "language_info": {
   "codemirror_mode": {
    "name": "ipython",
    "version": 3
   },
   "file_extension": ".py",
   "mimetype": "text/x-python",
   "name": "python",
   "nbconvert_exporter": "python",
   "pygments_lexer": "ipython3",
   "version": "3.8.16"
  }
 },
 "nbformat": 4,
 "nbformat_minor": 4
}
