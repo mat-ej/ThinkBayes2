{
 "cells": [
  {
   "cell_type": "markdown",
   "metadata": {},
   "source": [
    "$$\n",
    "SI(g,d) =\n",
    "\\begin{cases}\n",
    "  max(132, 1.5d) & \\text{if } g = 1, \\\\\n",
    "  -k  & \\text{if } g = 0.\n",
    "\\end{cases}\n",
    "$$"
   ]
  },
  {
   "cell_type": "code",
   "execution_count": 3,
   "metadata": {},
   "outputs": [
    {
     "name": "stdout",
     "output_type": "stream",
     "text": [
      "Solved 'd' value for p=0.5: 63.5\n"
     ]
    }
   ],
   "source": [
    "import numpy as np\n",
    "from scipy.optimize import fsolve\n",
    "\n",
    "def equation(d, p):\n",
    "    return ((max(132, 1.5 * d) * p + (-5) * (1 - p)) - d) / d\n",
    "\n",
    "# Define a wrapper function to solve for 'd' given a value of 'p'\n",
    "def solve_d(p):\n",
    "    # Provide an initial guess for the value of 'd'\n",
    "    initial_guess = 10\n",
    "    d_solution = fsolve(lambda d: equation(d, p), initial_guess)\n",
    "    return d_solution[0]\n",
    "\n",
    "# Example: Solve for 'd' when 'p' is 0.5\n",
    "p_value = 0.5\n",
    "d_solution = solve_d(p_value)\n",
    "print(f\"Solved 'd' value for p={p_value}: {d_solution}\")\n"
   ]
  }
 ],
 "metadata": {
  "kernelspec": {
   "display_name": "ThinkBayes2",
   "language": "python",
   "name": "python3"
  },
  "language_info": {
   "codemirror_mode": {
    "name": "ipython",
    "version": 3
   },
   "file_extension": ".py",
   "mimetype": "text/x-python",
   "name": "python",
   "nbconvert_exporter": "python",
   "pygments_lexer": "ipython3",
   "version": "3.8.16"
  },
  "orig_nbformat": 4
 },
 "nbformat": 4,
 "nbformat_minor": 2
}
